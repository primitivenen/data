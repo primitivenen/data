{
 "cells": [
  {
   "cell_type": "code",
   "execution_count": 1,
   "metadata": {},
   "outputs": [],
   "source": [
    "import findspark\n",
    "findspark.init('/usr/hdp/current/spark2-client')\n",
    "\n",
    "import pyspark\n",
    "import numpy as np\n",
    "import matplotlib.pyplot as plt\n",
    "import scipy.io as sio\n",
    "import math\n",
    "import seaborn as sns\n",
    "import pandas as pd\n",
    "%matplotlib inline\n",
    "from pyspark.sql.functions import lit, col, instr, expr, pow, round, bround, corr, count, mean, stddev_pop, min, max\n",
    "from pyspark.sql.functions import monotonically_increasing_id, initcap, lower, upper, ltrim, rtrim, rpad, lpad, trim\n",
    "from pyspark.sql.functions import regexp_replace, translate, regexp_extract, current_date, current_timestamp, struct\n",
    "from pyspark.sql.functions import date_add, date_sub, datediff, months_between, to_date, to_timestamp, coalesce, split, size\n",
    "from pyspark.sql.functions import array_contains, explode, udf\n",
    "from pyspark.sql import HiveContext\n",
    "from pyspark.sql import SparkSession\n",
    "from pyspark.sql.types import *\n",
    "from pyspark.sql.functions import col, when\n",
    "\n",
    "from pyspark.sql.types import StructField, StructType, StringType, IntegerType, DoubleType, FloatType, LongType"
   ]
  },
  {
   "cell_type": "code",
   "execution_count": 2,
   "metadata": {},
   "outputs": [],
   "source": [
    "def get_Spark():\n",
    "\n",
    "    conf = pyspark.SparkConf().setAll([\n",
    "        ('spark.submit.deployMode', 'client'), # deploy in yarn-client or yarn-cluster\n",
    "        ('spark.executor.memory', '10g'),       # memory allocated for each executor\n",
    "        ('spark.executor.cores', '10'),         # number of cores for each executor\n",
    "        ('spark.executor.instances', '10'),    # number of executors in total\n",
    "        ('spark.yarn.am.memory', '20g')])      # memory for spark driver (application master)\n",
    "    spark = SparkSession.builder \\\n",
    "    .master(\"yarn\") \\\n",
    "    .appName(\"sensor\") \\\n",
    "    .enableHiveSupport() \\\n",
    "    .config(conf = conf) \\\n",
    "    .getOrCreate()\n",
    "\n",
    "    return spark\n",
    "\n",
    "spark = get_Spark()\n",
    "spark_context = spark.sparkContext\n",
    "hc = HiveContext(spark_context)"
   ]
  },
  {
   "cell_type": "code",
   "execution_count": 3,
   "metadata": {},
   "outputs": [],
   "source": [
    "def hive2spark(hc, query):\n",
    "    spark_df = hc.sql(\"\"\"{}\"\"\".format(query))\n",
    "    return spark_df"
   ]
  },
  {
   "cell_type": "code",
   "execution_count": 18,
   "metadata": {
    "scrolled": true
   },
   "outputs": [
    {
     "data": {
      "text/html": [
       "<div>\n",
       "<style scoped>\n",
       "    .dataframe tbody tr th:only-of-type {\n",
       "        vertical-align: middle;\n",
       "    }\n",
       "\n",
       "    .dataframe tbody tr th {\n",
       "        vertical-align: top;\n",
       "    }\n",
       "\n",
       "    .dataframe thead th {\n",
       "        text-align: right;\n",
       "    }\n",
       "</style>\n",
       "<table border=\"1\" class=\"dataframe\">\n",
       "  <thead>\n",
       "    <tr style=\"text-align: right;\">\n",
       "      <th></th>\n",
       "      <th>vin</th>\n",
       "      <th>error_code</th>\n",
       "      <th>sensor_ids</th>\n",
       "      <th>severity_level</th>\n",
       "      <th>day</th>\n",
       "    </tr>\n",
       "  </thead>\n",
       "  <tbody>\n",
       "    <tr>\n",
       "      <th>0</th>\n",
       "      <td>LMGHP1S53J1003459</td>\n",
       "      <td>2</td>\n",
       "      <td>39</td>\n",
       "      <td>0.01</td>\n",
       "      <td>2018-12-28</td>\n",
       "    </tr>\n",
       "    <tr>\n",
       "      <th>1</th>\n",
       "      <td>LMGHP1S53J1003820</td>\n",
       "      <td>2</td>\n",
       "      <td>11|27</td>\n",
       "      <td>0.11</td>\n",
       "      <td>2018-12-28</td>\n",
       "    </tr>\n",
       "    <tr>\n",
       "      <th>2</th>\n",
       "      <td>LMGHP1S53J1003820</td>\n",
       "      <td>5</td>\n",
       "      <td>19|20</td>\n",
       "      <td>0.12</td>\n",
       "      <td>2018-12-28</td>\n",
       "    </tr>\n",
       "    <tr>\n",
       "      <th>3</th>\n",
       "      <td>LMGHP1S53J1004076</td>\n",
       "      <td>2</td>\n",
       "      <td>11|27</td>\n",
       "      <td>0.06</td>\n",
       "      <td>2018-12-28</td>\n",
       "    </tr>\n",
       "    <tr>\n",
       "      <th>4</th>\n",
       "      <td>LMGHP1S53J1004661</td>\n",
       "      <td>2</td>\n",
       "      <td>11|27</td>\n",
       "      <td>0.03</td>\n",
       "      <td>2018-12-28</td>\n",
       "    </tr>\n",
       "  </tbody>\n",
       "</table>\n",
       "</div>"
      ],
      "text/plain": [
       "                 vin  error_code sensor_ids  severity_level         day\n",
       "0  LMGHP1S53J1003459           2         39            0.01  2018-12-28\n",
       "1  LMGHP1S53J1003820           2      11|27            0.11  2018-12-28\n",
       "2  LMGHP1S53J1003820           5      19|20            0.12  2018-12-28\n",
       "3  LMGHP1S53J1004076           2      11|27            0.06  2018-12-28\n",
       "4  LMGHP1S53J1004661           2      11|27            0.03  2018-12-28"
      ]
     },
     "execution_count": 18,
     "metadata": {},
     "output_type": "execute_result"
    }
   ],
   "source": [
    "query=\"select * from a26_tsp_tbls.ge3_daily_temperature_sensor_status\" #ge3_daily_temperature_sensor_filters\n",
    "df_sensor = hc.sql(query).toPandas()\n",
    "df_sensor.head()"
   ]
  },
  {
   "cell_type": "code",
   "execution_count": 19,
   "metadata": {},
   "outputs": [
    {
     "name": "stdout",
     "output_type": "stream",
     "text": [
      "Finished in 0.0893499851227 seconds\n"
     ]
    }
   ],
   "source": [
    "import time\n",
    "stime = time.time()  \n",
    "def tidy_split(df, column, sep='|', keep=False):\n",
    "    \"\"\"\n",
    "    Split the values of a column and expand so the new DataFrame has one split\n",
    "    value per row. Filters rows where the column is missing.\n",
    "\n",
    "    Params\n",
    "    ------\n",
    "    df : pandas.DataFrame\n",
    "        dataframe with the column to split and expand\n",
    "    column : str\n",
    "        the column to split and expand\n",
    "    sep : str\n",
    "        the string used to split the column's values\n",
    "    keep : bool\n",
    "        whether to retain the presplit value as it's own row\n",
    "\n",
    "    Returns\n",
    "    -------\n",
    "    pandas.DataFrame\n",
    "        Returns a dataframe with the same columns as `df`.\n",
    "    \"\"\"\n",
    "    indexes = list()\n",
    "    new_values = list()\n",
    "    df = df.dropna(subset=[column])\n",
    "    for i, presplit in enumerate(df[column].astype(str)):\n",
    "        values = presplit.split(sep)\n",
    "        \n",
    "        if keep and len(values) > 1:\n",
    "            indexes.append(i)\n",
    "            new_values.append(presplit)\n",
    "            \n",
    "        for value in values:\n",
    "            indexes.append(i)\n",
    "            new_values.append(value)\n",
    "            \n",
    "    new_df = df.iloc[indexes, :].copy()\n",
    "    new_df[column] = new_values\n",
    "    return new_df\n",
    "df_sensor = tidy_split(df_sensor, 'sensor_ids', sep='|', keep=False)\n",
    "etime = time.time()\n",
    "print \"Finished in {} seconds\".format(etime - stime)"
   ]
  },
  {
   "cell_type": "code",
   "execution_count": 9,
   "metadata": {
    "scrolled": true
   },
   "outputs": [
    {
     "data": {
      "text/html": [
       "<div>\n",
       "<style scoped>\n",
       "    .dataframe tbody tr th:only-of-type {\n",
       "        vertical-align: middle;\n",
       "    }\n",
       "\n",
       "    .dataframe tbody tr th {\n",
       "        vertical-align: top;\n",
       "    }\n",
       "\n",
       "    .dataframe thead th {\n",
       "        text-align: right;\n",
       "    }\n",
       "</style>\n",
       "<table border=\"1\" class=\"dataframe\">\n",
       "  <thead>\n",
       "    <tr style=\"text-align: right;\">\n",
       "      <th></th>\n",
       "      <th>vin</th>\n",
       "      <th>vintype</th>\n",
       "      <th>start_day</th>\n",
       "      <th>latest_day</th>\n",
       "    </tr>\n",
       "  </thead>\n",
       "  <tbody>\n",
       "    <tr>\n",
       "      <th>0</th>\n",
       "      <td>LMGGN1S56F1000483</td>\n",
       "      <td>AG.72</td>\n",
       "      <td>2018-11-08</td>\n",
       "      <td>2019-06-24</td>\n",
       "    </tr>\n",
       "    <tr>\n",
       "      <th>1</th>\n",
       "      <td>LMGGN1S52F1001114</td>\n",
       "      <td>AG.79</td>\n",
       "      <td>2018-11-08</td>\n",
       "      <td>2019-06-24</td>\n",
       "    </tr>\n",
       "    <tr>\n",
       "      <th>2</th>\n",
       "      <td>LMGGN1S50G1001761</td>\n",
       "      <td>AG.79</td>\n",
       "      <td>2019-06-01</td>\n",
       "      <td>2019-06-23</td>\n",
       "    </tr>\n",
       "    <tr>\n",
       "      <th>3</th>\n",
       "      <td>LMGFJ1S85H1S00176</td>\n",
       "      <td>A51</td>\n",
       "      <td>2017-08-10</td>\n",
       "      <td>2018-05-07</td>\n",
       "    </tr>\n",
       "    <tr>\n",
       "      <th>4</th>\n",
       "      <td>LMGAJ1S88H1S00215</td>\n",
       "      <td>A2APHEV</td>\n",
       "      <td>2017-08-07</td>\n",
       "      <td>2019-02-16</td>\n",
       "    </tr>\n",
       "  </tbody>\n",
       "</table>\n",
       "</div>"
      ],
      "text/plain": [
       "                 vin  vintype   start_day  latest_day\n",
       "0  LMGGN1S56F1000483    AG.72  2018-11-08  2019-06-24\n",
       "1  LMGGN1S52F1001114    AG.79  2018-11-08  2019-06-24\n",
       "2  LMGGN1S50G1001761    AG.79  2019-06-01  2019-06-23\n",
       "3  LMGFJ1S85H1S00176      A51  2017-08-10  2018-05-07\n",
       "4  LMGAJ1S88H1S00215  A2APHEV  2017-08-07  2019-02-16"
      ]
     },
     "execution_count": 9,
     "metadata": {},
     "output_type": "execute_result"
    }
   ],
   "source": [
    "query=\"select * from guobiao_tsp_tbls.vintypes\"\n",
    "vintype_df = hc.sql(query).toPandas()\n",
    "vintype_df.head()"
   ]
  },
  {
   "cell_type": "code",
   "execution_count": 20,
   "metadata": {},
   "outputs": [
    {
     "data": {
      "text/html": [
       "<div>\n",
       "<style scoped>\n",
       "    .dataframe tbody tr th:only-of-type {\n",
       "        vertical-align: middle;\n",
       "    }\n",
       "\n",
       "    .dataframe tbody tr th {\n",
       "        vertical-align: top;\n",
       "    }\n",
       "\n",
       "    .dataframe thead th {\n",
       "        text-align: right;\n",
       "    }\n",
       "</style>\n",
       "<table border=\"1\" class=\"dataframe\">\n",
       "  <thead>\n",
       "    <tr style=\"text-align: right;\">\n",
       "      <th></th>\n",
       "      <th>vin</th>\n",
       "      <th>error_code</th>\n",
       "      <th>sensor_ids</th>\n",
       "      <th>severity_level</th>\n",
       "      <th>day</th>\n",
       "      <th>vintype</th>\n",
       "      <th>start_day</th>\n",
       "      <th>latest_day</th>\n",
       "    </tr>\n",
       "  </thead>\n",
       "  <tbody>\n",
       "    <tr>\n",
       "      <th>0</th>\n",
       "      <td>LMGHP1S53J1003459</td>\n",
       "      <td>2</td>\n",
       "      <td>39</td>\n",
       "      <td>0.01</td>\n",
       "      <td>2018-12-28</td>\n",
       "      <td>A5HEV</td>\n",
       "      <td>2018-02-28</td>\n",
       "      <td>2020-07-15</td>\n",
       "    </tr>\n",
       "    <tr>\n",
       "      <th>1</th>\n",
       "      <td>LMGHP1S53J1003459</td>\n",
       "      <td>2</td>\n",
       "      <td>39</td>\n",
       "      <td>0.01</td>\n",
       "      <td>2018-12-08</td>\n",
       "      <td>A5HEV</td>\n",
       "      <td>2018-02-28</td>\n",
       "      <td>2020-07-15</td>\n",
       "    </tr>\n",
       "    <tr>\n",
       "      <th>2</th>\n",
       "      <td>LMGHP1S53J1003459</td>\n",
       "      <td>2</td>\n",
       "      <td>39</td>\n",
       "      <td>0.01</td>\n",
       "      <td>2018-12-30</td>\n",
       "      <td>A5HEV</td>\n",
       "      <td>2018-02-28</td>\n",
       "      <td>2020-07-15</td>\n",
       "    </tr>\n",
       "    <tr>\n",
       "      <th>3</th>\n",
       "      <td>LMGHP1S53J1003459</td>\n",
       "      <td>2</td>\n",
       "      <td>11</td>\n",
       "      <td>0.02</td>\n",
       "      <td>2019-12-31</td>\n",
       "      <td>A5HEV</td>\n",
       "      <td>2018-02-28</td>\n",
       "      <td>2020-07-15</td>\n",
       "    </tr>\n",
       "    <tr>\n",
       "      <th>4</th>\n",
       "      <td>LMGHP1S53J1003459</td>\n",
       "      <td>2</td>\n",
       "      <td>39</td>\n",
       "      <td>0.02</td>\n",
       "      <td>2019-12-31</td>\n",
       "      <td>A5HEV</td>\n",
       "      <td>2018-02-28</td>\n",
       "      <td>2020-07-15</td>\n",
       "    </tr>\n",
       "  </tbody>\n",
       "</table>\n",
       "</div>"
      ],
      "text/plain": [
       "                 vin  error_code sensor_ids  severity_level         day  \\\n",
       "0  LMGHP1S53J1003459           2         39            0.01  2018-12-28   \n",
       "1  LMGHP1S53J1003459           2         39            0.01  2018-12-08   \n",
       "2  LMGHP1S53J1003459           2         39            0.01  2018-12-30   \n",
       "3  LMGHP1S53J1003459           2         11            0.02  2019-12-31   \n",
       "4  LMGHP1S53J1003459           2         39            0.02  2019-12-31   \n",
       "\n",
       "  vintype   start_day  latest_day  \n",
       "0   A5HEV  2018-02-28  2020-07-15  \n",
       "1   A5HEV  2018-02-28  2020-07-15  \n",
       "2   A5HEV  2018-02-28  2020-07-15  \n",
       "3   A5HEV  2018-02-28  2020-07-15  \n",
       "4   A5HEV  2018-02-28  2020-07-15  "
      ]
     },
     "execution_count": 20,
     "metadata": {},
     "output_type": "execute_result"
    }
   ],
   "source": [
    "df = pd.merge(df_sensor, vintype_df, on='vin', how='inner')\n",
    "df.head()"
   ]
  },
  {
   "cell_type": "code",
   "execution_count": 21,
   "metadata": {},
   "outputs": [
    {
     "data": {
      "text/plain": [
       "A5HEV    95305\n",
       "A75      15354\n",
       "Name: vintype, dtype: int64"
      ]
     },
     "execution_count": 21,
     "metadata": {},
     "output_type": "execute_result"
    }
   ],
   "source": [
    "df['vintype'].value_counts()"
   ]
  },
  {
   "cell_type": "code",
   "execution_count": 22,
   "metadata": {},
   "outputs": [
    {
     "data": {
      "text/html": [
       "<div>\n",
       "<style scoped>\n",
       "    .dataframe tbody tr th:only-of-type {\n",
       "        vertical-align: middle;\n",
       "    }\n",
       "\n",
       "    .dataframe tbody tr th {\n",
       "        vertical-align: top;\n",
       "    }\n",
       "\n",
       "    .dataframe thead th {\n",
       "        text-align: right;\n",
       "    }\n",
       "</style>\n",
       "<table border=\"1\" class=\"dataframe\">\n",
       "  <thead>\n",
       "    <tr style=\"text-align: right;\">\n",
       "      <th></th>\n",
       "      <th>vin</th>\n",
       "      <th>error_code</th>\n",
       "      <th>sensor_ids</th>\n",
       "      <th>severity_level</th>\n",
       "      <th>day</th>\n",
       "      <th>vintype</th>\n",
       "      <th>start_day</th>\n",
       "      <th>latest_day</th>\n",
       "    </tr>\n",
       "  </thead>\n",
       "  <tbody>\n",
       "    <tr>\n",
       "      <th>27062</th>\n",
       "      <td>LMWHP1S53J1000615</td>\n",
       "      <td>3</td>\n",
       "      <td>8</td>\n",
       "      <td>0.01</td>\n",
       "      <td>2019-12-24</td>\n",
       "      <td>A75</td>\n",
       "      <td>2018-09-11</td>\n",
       "      <td>2020-06-10</td>\n",
       "    </tr>\n",
       "    <tr>\n",
       "      <th>27063</th>\n",
       "      <td>LMWHP1S53J1000615</td>\n",
       "      <td>3</td>\n",
       "      <td>9</td>\n",
       "      <td>0.01</td>\n",
       "      <td>2019-12-24</td>\n",
       "      <td>A75</td>\n",
       "      <td>2018-09-11</td>\n",
       "      <td>2020-06-10</td>\n",
       "    </tr>\n",
       "    <tr>\n",
       "      <th>27064</th>\n",
       "      <td>LMWHP1S53J1000615</td>\n",
       "      <td>3</td>\n",
       "      <td>10</td>\n",
       "      <td>0.01</td>\n",
       "      <td>2019-12-24</td>\n",
       "      <td>A75</td>\n",
       "      <td>2018-09-11</td>\n",
       "      <td>2020-06-10</td>\n",
       "    </tr>\n",
       "    <tr>\n",
       "      <th>27065</th>\n",
       "      <td>LMWHP1S53J1000615</td>\n",
       "      <td>3</td>\n",
       "      <td>11</td>\n",
       "      <td>0.01</td>\n",
       "      <td>2019-12-24</td>\n",
       "      <td>A75</td>\n",
       "      <td>2018-09-11</td>\n",
       "      <td>2020-06-10</td>\n",
       "    </tr>\n",
       "    <tr>\n",
       "      <th>27066</th>\n",
       "      <td>LMWHP1S53J1000615</td>\n",
       "      <td>3</td>\n",
       "      <td>12</td>\n",
       "      <td>0.01</td>\n",
       "      <td>2019-12-24</td>\n",
       "      <td>A75</td>\n",
       "      <td>2018-09-11</td>\n",
       "      <td>2020-06-10</td>\n",
       "    </tr>\n",
       "  </tbody>\n",
       "</table>\n",
       "</div>"
      ],
      "text/plain": [
       "                     vin  error_code sensor_ids  severity_level         day  \\\n",
       "27062  LMWHP1S53J1000615           3          8            0.01  2019-12-24   \n",
       "27063  LMWHP1S53J1000615           3          9            0.01  2019-12-24   \n",
       "27064  LMWHP1S53J1000615           3         10            0.01  2019-12-24   \n",
       "27065  LMWHP1S53J1000615           3         11            0.01  2019-12-24   \n",
       "27066  LMWHP1S53J1000615           3         12            0.01  2019-12-24   \n",
       "\n",
       "      vintype   start_day  latest_day  \n",
       "27062     A75  2018-09-11  2020-06-10  \n",
       "27063     A75  2018-09-11  2020-06-10  \n",
       "27064     A75  2018-09-11  2020-06-10  \n",
       "27065     A75  2018-09-11  2020-06-10  \n",
       "27066     A75  2018-09-11  2020-06-10  "
      ]
     },
     "execution_count": 22,
     "metadata": {},
     "output_type": "execute_result"
    }
   ],
   "source": [
    "df_for_a75 = df[df['vintype']=='A75']\n",
    "df_for_a75.head()"
   ]
  },
  {
   "cell_type": "code",
   "execution_count": 23,
   "metadata": {},
   "outputs": [
    {
     "data": {
      "text/html": [
       "<div>\n",
       "<style scoped>\n",
       "    .dataframe tbody tr th:only-of-type {\n",
       "        vertical-align: middle;\n",
       "    }\n",
       "\n",
       "    .dataframe tbody tr th {\n",
       "        vertical-align: top;\n",
       "    }\n",
       "\n",
       "    .dataframe thead th {\n",
       "        text-align: right;\n",
       "    }\n",
       "</style>\n",
       "<table border=\"1\" class=\"dataframe\">\n",
       "  <thead>\n",
       "    <tr style=\"text-align: right;\">\n",
       "      <th></th>\n",
       "      <th>vin</th>\n",
       "      <th>error_code</th>\n",
       "      <th>sensor_ids</th>\n",
       "      <th>severity_level</th>\n",
       "      <th>day</th>\n",
       "      <th>vintype</th>\n",
       "      <th>start_day</th>\n",
       "      <th>latest_day</th>\n",
       "    </tr>\n",
       "  </thead>\n",
       "  <tbody>\n",
       "    <tr>\n",
       "      <th>0</th>\n",
       "      <td>LMGHP1S53J1003459</td>\n",
       "      <td>2</td>\n",
       "      <td>39</td>\n",
       "      <td>0.01</td>\n",
       "      <td>2018-12-28</td>\n",
       "      <td>A5HEV</td>\n",
       "      <td>2018-02-28</td>\n",
       "      <td>2020-07-15</td>\n",
       "    </tr>\n",
       "    <tr>\n",
       "      <th>1</th>\n",
       "      <td>LMGHP1S53J1003459</td>\n",
       "      <td>2</td>\n",
       "      <td>39</td>\n",
       "      <td>0.01</td>\n",
       "      <td>2018-12-08</td>\n",
       "      <td>A5HEV</td>\n",
       "      <td>2018-02-28</td>\n",
       "      <td>2020-07-15</td>\n",
       "    </tr>\n",
       "    <tr>\n",
       "      <th>2</th>\n",
       "      <td>LMGHP1S53J1003459</td>\n",
       "      <td>2</td>\n",
       "      <td>39</td>\n",
       "      <td>0.01</td>\n",
       "      <td>2018-12-30</td>\n",
       "      <td>A5HEV</td>\n",
       "      <td>2018-02-28</td>\n",
       "      <td>2020-07-15</td>\n",
       "    </tr>\n",
       "    <tr>\n",
       "      <th>3</th>\n",
       "      <td>LMGHP1S53J1003459</td>\n",
       "      <td>2</td>\n",
       "      <td>11</td>\n",
       "      <td>0.02</td>\n",
       "      <td>2019-12-31</td>\n",
       "      <td>A5HEV</td>\n",
       "      <td>2018-02-28</td>\n",
       "      <td>2020-07-15</td>\n",
       "    </tr>\n",
       "    <tr>\n",
       "      <th>4</th>\n",
       "      <td>LMGHP1S53J1003459</td>\n",
       "      <td>2</td>\n",
       "      <td>39</td>\n",
       "      <td>0.02</td>\n",
       "      <td>2019-12-31</td>\n",
       "      <td>A5HEV</td>\n",
       "      <td>2018-02-28</td>\n",
       "      <td>2020-07-15</td>\n",
       "    </tr>\n",
       "  </tbody>\n",
       "</table>\n",
       "</div>"
      ],
      "text/plain": [
       "                 vin  error_code sensor_ids  severity_level         day  \\\n",
       "0  LMGHP1S53J1003459           2         39            0.01  2018-12-28   \n",
       "1  LMGHP1S53J1003459           2         39            0.01  2018-12-08   \n",
       "2  LMGHP1S53J1003459           2         39            0.01  2018-12-30   \n",
       "3  LMGHP1S53J1003459           2         11            0.02  2019-12-31   \n",
       "4  LMGHP1S53J1003459           2         39            0.02  2019-12-31   \n",
       "\n",
       "  vintype   start_day  latest_day  \n",
       "0   A5HEV  2018-02-28  2020-07-15  \n",
       "1   A5HEV  2018-02-28  2020-07-15  \n",
       "2   A5HEV  2018-02-28  2020-07-15  \n",
       "3   A5HEV  2018-02-28  2020-07-15  \n",
       "4   A5HEV  2018-02-28  2020-07-15  "
      ]
     },
     "execution_count": 23,
     "metadata": {},
     "output_type": "execute_result"
    }
   ],
   "source": [
    "df_for_a5hev = df[df['vintype']=='A5HEV']\n",
    "df_for_a5hev.head()"
   ]
  },
  {
   "cell_type": "code",
   "execution_count": 24,
   "metadata": {},
   "outputs": [],
   "source": [
    "sensor_dist_for_a75 = df_for_a75['sensor_ids'].value_counts()"
   ]
  },
  {
   "cell_type": "code",
   "execution_count": 25,
   "metadata": {},
   "outputs": [
    {
     "data": {
      "text/plain": [
       "7     812\n",
       "8     681\n",
       "28    555\n",
       "27    554\n",
       "10    513\n",
       "Name: sensor_ids, dtype: int64"
      ]
     },
     "execution_count": 25,
     "metadata": {},
     "output_type": "execute_result"
    }
   ],
   "source": [
    "sensor_dist_for_a75.head()"
   ]
  },
  {
   "cell_type": "code",
   "execution_count": 26,
   "metadata": {},
   "outputs": [],
   "source": [
    "sensor_dist_for_a5hev = df_for_a5hev['sensor_ids'].value_counts()"
   ]
  },
  {
   "cell_type": "code",
   "execution_count": 27,
   "metadata": {},
   "outputs": [
    {
     "data": {
      "text/plain": [
       "unknown    10529\n",
       "27          7462\n",
       "39          7310\n",
       "11          6585\n",
       "15          5584\n",
       "Name: sensor_ids, dtype: int64"
      ]
     },
     "execution_count": 27,
     "metadata": {},
     "output_type": "execute_result"
    }
   ],
   "source": [
    "sensor_dist_for_a5hev.head()"
   ]
  },
  {
   "cell_type": "code",
   "execution_count": 28,
   "metadata": {},
   "outputs": [],
   "source": [
    "sensor_dist_a5hev = pd.DataFrame(sensor_dist_for_a5hev).reset_index()"
   ]
  },
  {
   "cell_type": "code",
   "execution_count": 29,
   "metadata": {},
   "outputs": [],
   "source": [
    "sensor_dist_a75 = pd.DataFrame(sensor_dist_for_a75).reset_index()"
   ]
  },
  {
   "cell_type": "code",
   "execution_count": 30,
   "metadata": {},
   "outputs": [],
   "source": [
    "sensor_dist_a5hev.columns=['sensor','count']\n",
    "sensor_dist_a75.columns=['sensor','count']"
   ]
  },
  {
   "cell_type": "code",
   "execution_count": 31,
   "metadata": {},
   "outputs": [],
   "source": [
    "sensor_dist_a5hev = sensor_dist_a5hev.sort_index()\n",
    "sensor_dist_a5hev = sensor_dist_a5hev.sort_values(['count'])\n",
    "sensor_dist_a5hev = sensor_dist_a5hev[sensor_dist_a5hev['sensor']!='unknown']\n",
    "sensor_dist_a5hev[['sensor']] = sensor_dist_a5hev[['sensor']].astype(int)"
   ]
  },
  {
   "cell_type": "code",
   "execution_count": 32,
   "metadata": {},
   "outputs": [],
   "source": [
    "sensor_dist_a75 = sensor_dist_a75.sort_index()\n",
    "sensor_dist_a75 = sensor_dist_a75.sort_values(['count'])\n",
    "sensor_dist_a75 = sensor_dist_a75[sensor_dist_a75['sensor']!='unknown']\n",
    "sensor_dist_a75[['sensor']] = sensor_dist_a75[['sensor']].astype(int)"
   ]
  },
  {
   "cell_type": "code",
   "execution_count": 33,
   "metadata": {},
   "outputs": [
    {
     "data": {
      "text/plain": [
       "[Text(0,0.5,'frequency'),\n",
       " Text(0.5,0,'sensor'),\n",
       " Text(0.5,1,'Abnormal Sensor Top Frequency (A75)')]"
      ]
     },
     "execution_count": 33,
     "metadata": {},
     "output_type": "execute_result"
    },
    {
     "data": {
      "image/png": "[encoded data removed]",
      "text/plain": [
       "<Figure size 842.4x595.44 with 1 Axes>"
      ]
     },
     "metadata": {},
     "output_type": "display_data"
    }
   ],
   "source": [
    "import seaborn as sns\n",
    "sns.set(style=\"darkgrid\")\n",
    "sns.set(rc={'figure.figsize':(11.7,8.27)})\n",
    "ax = sns.barplot(x=\"sensor\", y=\"count\", data=sensor_dist_a75)\n",
    "ax.set(xlabel='sensor', ylabel='frequency', title='Abnormal Sensor Top Frequency (A75)')"
   ]
  },
  {
   "cell_type": "code",
   "execution_count": 35,
   "metadata": {},
   "outputs": [
    {
     "data": {
      "text/plain": [
       "[Text(0,0.5,'frequency'),\n",
       " Text(0.5,0,'sensor'),\n",
       " Text(0.5,1,'Abnormal Sensor Top Frequency (A5HEV)')]"
      ]
     },
     "execution_count": 35,
     "metadata": {},
     "output_type": "execute_result"
    },
    {
     "data": {
      "image/png": "[encoded data removed]",
      "text/plain": [
       "<Figure size 842.4x595.44 with 1 Axes>"
      ]
     },
     "metadata": {},
     "output_type": "display_data"
    }
   ],
   "source": [
    "import seaborn as sns\n",
    "sns.set(style=\"darkgrid\")\n",
    "sns.set(rc={'figure.figsize':(11.7,8.27)})\n",
    "ax = sns.barplot(x=\"sensor\", y=\"count\", data=sensor_dist_a5hev)\n",
    "ax.set(xlabel='sensor', ylabel='frequency', title='Abnormal Sensor Top Frequency (A5HEV)')"
   ]
  },
  {
   "cell_type": "code",
   "execution_count": null,
   "metadata": {},
   "outputs": [],
   "source": []
  },
  {
   "cell_type": "code",
   "execution_count": 88,
   "metadata": {
    "scrolled": true
   },
   "outputs": [
    {
     "data": {
      "text/html": [
       "<div>\n",
       "<style scoped>\n",
       "    .dataframe tbody tr th:only-of-type {\n",
       "        vertical-align: middle;\n",
       "    }\n",
       "\n",
       "    .dataframe tbody tr th {\n",
       "        vertical-align: top;\n",
       "    }\n",
       "\n",
       "    .dataframe thead th {\n",
       "        text-align: right;\n",
       "    }\n",
       "</style>\n",
       "<table border=\"1\" class=\"dataframe\">\n",
       "  <thead>\n",
       "    <tr style=\"text-align: right;\">\n",
       "      <th></th>\n",
       "      <th>vin</th>\n",
       "      <th>error_code</th>\n",
       "      <th>sensor_ids</th>\n",
       "      <th>severity_level</th>\n",
       "      <th>day</th>\n",
       "    </tr>\n",
       "  </thead>\n",
       "  <tbody>\n",
       "    <tr>\n",
       "      <th>0</th>\n",
       "      <td>LNAA2AA1XK5019888</td>\n",
       "      <td>4</td>\n",
       "      <td>1</td>\n",
       "      <td>0.58</td>\n",
       "      <td>2020-06-17</td>\n",
       "    </tr>\n",
       "    <tr>\n",
       "      <th>0</th>\n",
       "      <td>LNAA2AA1XK5019888</td>\n",
       "      <td>4</td>\n",
       "      <td>2</td>\n",
       "      <td>0.58</td>\n",
       "      <td>2020-06-17</td>\n",
       "    </tr>\n",
       "    <tr>\n",
       "      <th>0</th>\n",
       "      <td>LNAA2AA1XK5019888</td>\n",
       "      <td>4</td>\n",
       "      <td>3</td>\n",
       "      <td>0.58</td>\n",
       "      <td>2020-06-17</td>\n",
       "    </tr>\n",
       "    <tr>\n",
       "      <th>0</th>\n",
       "      <td>LNAA2AA1XK5019888</td>\n",
       "      <td>4</td>\n",
       "      <td>4</td>\n",
       "      <td>0.58</td>\n",
       "      <td>2020-06-17</td>\n",
       "    </tr>\n",
       "    <tr>\n",
       "      <th>0</th>\n",
       "      <td>LNAA2AA1XK5019888</td>\n",
       "      <td>4</td>\n",
       "      <td>5</td>\n",
       "      <td>0.58</td>\n",
       "      <td>2020-06-17</td>\n",
       "    </tr>\n",
       "  </tbody>\n",
       "</table>\n",
       "</div>"
      ],
      "text/plain": [
       "                 vin  error_code sensor_ids  severity_level         day\n",
       "0  LNAA2AA1XK5019888           4          1            0.58  2020-06-17\n",
       "0  LNAA2AA1XK5019888           4          2            0.58  2020-06-17\n",
       "0  LNAA2AA1XK5019888           4          3            0.58  2020-06-17\n",
       "0  LNAA2AA1XK5019888           4          4            0.58  2020-06-17\n",
       "0  LNAA2AA1XK5019888           4          5            0.58  2020-06-17"
      ]
     },
     "execution_count": 88,
     "metadata": {},
     "output_type": "execute_result"
    }
   ],
   "source": [
    "query2=\"select * from a26_tsp_tbls.a26_daily_temperature_sensor_status\" #ge3_daily_temperature_sensor_filters\n",
    "df_sensor = hc.sql(query2).toPandas()\n",
    "df_sensor = tidy_split(df_sensor, 'sensor_ids', sep='|', keep=False)\n",
    "df_sensor.head()"
   ]
  },
  {
   "cell_type": "code",
   "execution_count": 83,
   "metadata": {
    "scrolled": true
   },
   "outputs": [
    {
     "data": {
      "text/html": [
       "<div>\n",
       "<style scoped>\n",
       "    .dataframe tbody tr th:only-of-type {\n",
       "        vertical-align: middle;\n",
       "    }\n",
       "\n",
       "    .dataframe tbody tr th {\n",
       "        vertical-align: top;\n",
       "    }\n",
       "\n",
       "    .dataframe thead th {\n",
       "        text-align: right;\n",
       "    }\n",
       "</style>\n",
       "<table border=\"1\" class=\"dataframe\">\n",
       "  <thead>\n",
       "    <tr style=\"text-align: right;\">\n",
       "      <th></th>\n",
       "      <th>vin</th>\n",
       "      <th>vintype</th>\n",
       "      <th>start_day</th>\n",
       "      <th>latest_day</th>\n",
       "    </tr>\n",
       "  </thead>\n",
       "  <tbody>\n",
       "    <tr>\n",
       "      <th>0</th>\n",
       "      <td>LNAA2AA15K5027400</td>\n",
       "      <td>A26</td>\n",
       "      <td>2019-12-11</td>\n",
       "      <td>2020-06-22</td>\n",
       "    </tr>\n",
       "    <tr>\n",
       "      <th>1</th>\n",
       "      <td>LNAA3AA16L5400412</td>\n",
       "      <td>A26</td>\n",
       "      <td>2020-06-11</td>\n",
       "      <td>2020-06-22</td>\n",
       "    </tr>\n",
       "    <tr>\n",
       "      <th>2</th>\n",
       "      <td>LNAA2AA18L5046170</td>\n",
       "      <td>A26</td>\n",
       "      <td>2020-06-18</td>\n",
       "      <td>2020-06-22</td>\n",
       "    </tr>\n",
       "    <tr>\n",
       "      <th>3</th>\n",
       "      <td>LNAA2AA19K5027318</td>\n",
       "      <td>A26</td>\n",
       "      <td>2019-12-06</td>\n",
       "      <td>2020-06-22</td>\n",
       "    </tr>\n",
       "    <tr>\n",
       "      <th>4</th>\n",
       "      <td>LNAA2AA15L5045400</td>\n",
       "      <td>A26</td>\n",
       "      <td>2020-06-03</td>\n",
       "      <td>2020-06-22</td>\n",
       "    </tr>\n",
       "  </tbody>\n",
       "</table>\n",
       "</div>"
      ],
      "text/plain": [
       "                 vin vintype   start_day  latest_day\n",
       "0  LNAA2AA15K5027400     A26  2019-12-11  2020-06-22\n",
       "1  LNAA3AA16L5400412     A26  2020-06-11  2020-06-22\n",
       "2  LNAA2AA18L5046170     A26  2020-06-18  2020-06-22\n",
       "3  LNAA2AA19K5027318     A26  2019-12-06  2020-06-22\n",
       "4  LNAA2AA15L5045400     A26  2020-06-03  2020-06-22"
      ]
     },
     "execution_count": 83,
     "metadata": {},
     "output_type": "execute_result"
    }
   ],
   "source": [
    "query=\"select * from a26_tsp_tbls.vintypes\"\n",
    "vintype_df = hc.sql(query).toPandas()\n",
    "vintype_df.head()"
   ]
  },
  {
   "cell_type": "code",
   "execution_count": 69,
   "metadata": {},
   "outputs": [
    {
     "data": {
      "text/html": [
       "<div>\n",
       "<style scoped>\n",
       "    .dataframe tbody tr th:only-of-type {\n",
       "        vertical-align: middle;\n",
       "    }\n",
       "\n",
       "    .dataframe tbody tr th {\n",
       "        vertical-align: top;\n",
       "    }\n",
       "\n",
       "    .dataframe thead th {\n",
       "        text-align: right;\n",
       "    }\n",
       "</style>\n",
       "<table border=\"1\" class=\"dataframe\">\n",
       "  <thead>\n",
       "    <tr style=\"text-align: right;\">\n",
       "      <th></th>\n",
       "      <th>vin</th>\n",
       "      <th>number_of_cells</th>\n",
       "    </tr>\n",
       "  </thead>\n",
       "  <tbody>\n",
       "    <tr>\n",
       "      <th>0</th>\n",
       "      <td>LNAA2AA16K5900488</td>\n",
       "      <td>90</td>\n",
       "    </tr>\n",
       "    <tr>\n",
       "      <th>1</th>\n",
       "      <td>LNAA2AA1XK5003125</td>\n",
       "      <td>92</td>\n",
       "    </tr>\n",
       "    <tr>\n",
       "      <th>2</th>\n",
       "      <td>LNAB1AB3XL5502855</td>\n",
       "      <td>112</td>\n",
       "    </tr>\n",
       "    <tr>\n",
       "      <th>3</th>\n",
       "      <td>LNAA2AA14K5019904</td>\n",
       "      <td>90</td>\n",
       "    </tr>\n",
       "    <tr>\n",
       "      <th>4</th>\n",
       "      <td>LNAA2AA1XK5028963</td>\n",
       "      <td>90</td>\n",
       "    </tr>\n",
       "  </tbody>\n",
       "</table>\n",
       "</div>"
      ],
      "text/plain": [
       "                 vin  number_of_cells\n",
       "0  LNAA2AA16K5900488               90\n",
       "1  LNAA2AA1XK5003125               92\n",
       "2  LNAB1AB3XL5502855              112\n",
       "3  LNAA2AA14K5019904               90\n",
       "4  LNAA2AA1XK5028963               90"
      ]
     },
     "execution_count": 69,
     "metadata": {},
     "output_type": "execute_result"
    }
   ],
   "source": [
    "query=\"select * from a26_tsp_tbls.numbers_voltage_cells\"\n",
    "number_of_cells_df = hc.sql(query).toPandas()\n",
    "number_of_cells_df.head()"
   ]
  },
  {
   "cell_type": "code",
   "execution_count": 70,
   "metadata": {},
   "outputs": [],
   "source": [
    "number_of_cells_df[\"number_of_cells\"] = number_of_cells_df[\"number_of_cells\"].astype(int)"
   ]
  },
  {
   "cell_type": "code",
   "execution_count": 71,
   "metadata": {},
   "outputs": [],
   "source": [
    "tmp = pd.merge(vintype_df.loc[vintype_df[\"vintype\"].isin(['A26','A12'])], number_of_cells_df, on='vin', how='inner')"
   ]
  },
  {
   "cell_type": "code",
   "execution_count": 72,
   "metadata": {},
   "outputs": [
    {
     "data": {
      "text/plain": [
       "A26    55842\n",
       "A12     4260\n",
       "Name: vintype, dtype: int64"
      ]
     },
     "execution_count": 72,
     "metadata": {},
     "output_type": "execute_result"
    }
   ],
   "source": [
    "tmp[\"vintype\"].value_counts()"
   ]
  },
  {
   "cell_type": "code",
   "execution_count": 73,
   "metadata": {},
   "outputs": [
    {
     "data": {
      "text/plain": [
       "vin                object\n",
       "vintype            object\n",
       "start_day          object\n",
       "latest_day         object\n",
       "number_of_cells     int64\n",
       "dtype: object"
      ]
     },
     "execution_count": 73,
     "metadata": {},
     "output_type": "execute_result"
    }
   ],
   "source": [
    "tmp.dtypes"
   ]
  },
  {
   "cell_type": "code",
   "execution_count": 74,
   "metadata": {},
   "outputs": [
    {
     "data": {
      "text/html": [
       "<div>\n",
       "<style scoped>\n",
       "    .dataframe tbody tr th:only-of-type {\n",
       "        vertical-align: middle;\n",
       "    }\n",
       "\n",
       "    .dataframe tbody tr th {\n",
       "        vertical-align: top;\n",
       "    }\n",
       "\n",
       "    .dataframe thead th {\n",
       "        text-align: right;\n",
       "    }\n",
       "</style>\n",
       "<table border=\"1\" class=\"dataframe\">\n",
       "  <thead>\n",
       "    <tr style=\"text-align: right;\">\n",
       "      <th></th>\n",
       "      <th>vin</th>\n",
       "      <th>vintype</th>\n",
       "      <th>start_day</th>\n",
       "      <th>latest_day</th>\n",
       "    </tr>\n",
       "  </thead>\n",
       "  <tbody>\n",
       "    <tr>\n",
       "      <th>0</th>\n",
       "      <td>LNAA2AA15K5027400</td>\n",
       "      <td>A26_92</td>\n",
       "      <td>2019-12-11</td>\n",
       "      <td>2020-06-22</td>\n",
       "    </tr>\n",
       "    <tr>\n",
       "      <th>1</th>\n",
       "      <td>LNAA3AA16L5400412</td>\n",
       "      <td>A26_92</td>\n",
       "      <td>2020-06-11</td>\n",
       "      <td>2020-06-22</td>\n",
       "    </tr>\n",
       "    <tr>\n",
       "      <th>2</th>\n",
       "      <td>LNAA2AA18L5046170</td>\n",
       "      <td>A26_90</td>\n",
       "      <td>2020-06-18</td>\n",
       "      <td>2020-06-22</td>\n",
       "    </tr>\n",
       "    <tr>\n",
       "      <th>3</th>\n",
       "      <td>LNAA2AA19K5027318</td>\n",
       "      <td>A26_92</td>\n",
       "      <td>2019-12-06</td>\n",
       "      <td>2020-06-22</td>\n",
       "    </tr>\n",
       "    <tr>\n",
       "      <th>4</th>\n",
       "      <td>LNAA2AA15L5045400</td>\n",
       "      <td>A26_90</td>\n",
       "      <td>2020-06-03</td>\n",
       "      <td>2020-06-22</td>\n",
       "    </tr>\n",
       "  </tbody>\n",
       "</table>\n",
       "</div>"
      ],
      "text/plain": [
       "                 vin vintype   start_day  latest_day\n",
       "0  LNAA2AA15K5027400  A26_92  2019-12-11  2020-06-22\n",
       "1  LNAA3AA16L5400412  A26_92  2020-06-11  2020-06-22\n",
       "2  LNAA2AA18L5046170  A26_90  2020-06-18  2020-06-22\n",
       "3  LNAA2AA19K5027318  A26_92  2019-12-06  2020-06-22\n",
       "4  LNAA2AA15L5045400  A26_90  2020-06-03  2020-06-22"
      ]
     },
     "execution_count": 74,
     "metadata": {},
     "output_type": "execute_result"
    }
   ],
   "source": [
    "tmp[\"number_of_cells\"] = tmp[\"number_of_cells\"].astype(str)\n",
    "tmp['vintype'] = tmp[['vintype', 'number_of_cells']].agg('_'.join, axis=1)\n",
    "tmp.drop('number_of_cells', inplace=True, axis=1)\n",
    "tmp.head()"
   ]
  },
  {
   "cell_type": "code",
   "execution_count": 75,
   "metadata": {},
   "outputs": [
    {
     "data": {
      "text/html": [
       "<div>\n",
       "<style scoped>\n",
       "    .dataframe tbody tr th:only-of-type {\n",
       "        vertical-align: middle;\n",
       "    }\n",
       "\n",
       "    .dataframe tbody tr th {\n",
       "        vertical-align: top;\n",
       "    }\n",
       "\n",
       "    .dataframe thead th {\n",
       "        text-align: right;\n",
       "    }\n",
       "</style>\n",
       "<table border=\"1\" class=\"dataframe\">\n",
       "  <thead>\n",
       "    <tr style=\"text-align: right;\">\n",
       "      <th></th>\n",
       "      <th>vin</th>\n",
       "      <th>vintype</th>\n",
       "      <th>start_day</th>\n",
       "      <th>latest_day</th>\n",
       "    </tr>\n",
       "  </thead>\n",
       "  <tbody>\n",
       "    <tr>\n",
       "      <th>0</th>\n",
       "      <td>LNAA2AA15K5027400</td>\n",
       "      <td>A26_92</td>\n",
       "      <td>2019-12-11</td>\n",
       "      <td>2020-06-22</td>\n",
       "    </tr>\n",
       "    <tr>\n",
       "      <th>1</th>\n",
       "      <td>LNAA3AA16L5400412</td>\n",
       "      <td>A26_92</td>\n",
       "      <td>2020-06-11</td>\n",
       "      <td>2020-06-22</td>\n",
       "    </tr>\n",
       "    <tr>\n",
       "      <th>2</th>\n",
       "      <td>LNAA2AA18L5046170</td>\n",
       "      <td>A26_90</td>\n",
       "      <td>2020-06-18</td>\n",
       "      <td>2020-06-22</td>\n",
       "    </tr>\n",
       "    <tr>\n",
       "      <th>3</th>\n",
       "      <td>LNAA2AA19K5027318</td>\n",
       "      <td>A26_92</td>\n",
       "      <td>2019-12-06</td>\n",
       "      <td>2020-06-22</td>\n",
       "    </tr>\n",
       "    <tr>\n",
       "      <th>4</th>\n",
       "      <td>LNAA2AA15L5045400</td>\n",
       "      <td>A26_90</td>\n",
       "      <td>2020-06-03</td>\n",
       "      <td>2020-06-22</td>\n",
       "    </tr>\n",
       "  </tbody>\n",
       "</table>\n",
       "</div>"
      ],
      "text/plain": [
       "                 vin vintype   start_day  latest_day\n",
       "0  LNAA2AA15K5027400  A26_92  2019-12-11  2020-06-22\n",
       "1  LNAA3AA16L5400412  A26_92  2020-06-11  2020-06-22\n",
       "2  LNAA2AA18L5046170  A26_90  2020-06-18  2020-06-22\n",
       "3  LNAA2AA19K5027318  A26_92  2019-12-06  2020-06-22\n",
       "4  LNAA2AA15L5045400  A26_90  2020-06-03  2020-06-22"
      ]
     },
     "execution_count": 75,
     "metadata": {},
     "output_type": "execute_result"
    }
   ],
   "source": [
    "tmp.head()"
   ]
  },
  {
   "cell_type": "code",
   "execution_count": 76,
   "metadata": {},
   "outputs": [
    {
     "data": {
      "text/plain": [
       "A26_92     37051\n",
       "A26_90     18758\n",
       "A12_112     3363\n",
       "A12_88       895\n",
       "A26_102       33\n",
       "A12_96         2\n",
       "Name: vintype, dtype: int64"
      ]
     },
     "execution_count": 76,
     "metadata": {},
     "output_type": "execute_result"
    }
   ],
   "source": [
    "tmp['vintype'].value_counts()"
   ]
  },
  {
   "cell_type": "code",
   "execution_count": 82,
   "metadata": {},
   "outputs": [
    {
     "data": {
      "text/plain": [
       "A26     55842\n",
       "A12      4260\n",
       "NONE      220\n",
       "Name: vintype, dtype: int64"
      ]
     },
     "execution_count": 82,
     "metadata": {},
     "output_type": "execute_result"
    }
   ],
   "source": [
    "vintype_df['vintype'].value_counts()"
   ]
  },
  {
   "cell_type": "code",
   "execution_count": null,
   "metadata": {},
   "outputs": [],
   "source": [
    "not2612_df = vintype_df.loc[~vintype_df.vintype.isin(['A26','A12'])]"
   ]
  },
  {
   "cell_type": "code",
   "execution_count": 85,
   "metadata": {},
   "outputs": [
    {
     "data": {
      "text/html": [
       "<div>\n",
       "<style scoped>\n",
       "    .dataframe tbody tr th:only-of-type {\n",
       "        vertical-align: middle;\n",
       "    }\n",
       "\n",
       "    .dataframe tbody tr th {\n",
       "        vertical-align: top;\n",
       "    }\n",
       "\n",
       "    .dataframe thead th {\n",
       "        text-align: right;\n",
       "    }\n",
       "</style>\n",
       "<table border=\"1\" class=\"dataframe\">\n",
       "  <thead>\n",
       "    <tr style=\"text-align: right;\">\n",
       "      <th></th>\n",
       "      <th>vin</th>\n",
       "      <th>vintype</th>\n",
       "      <th>start_day</th>\n",
       "      <th>latest_day</th>\n",
       "    </tr>\n",
       "  </thead>\n",
       "  <tbody>\n",
       "    <tr>\n",
       "      <th>0</th>\n",
       "      <td>LNAA2AA15K5027400</td>\n",
       "      <td>A26_92</td>\n",
       "      <td>2019-12-11</td>\n",
       "      <td>2020-06-22</td>\n",
       "    </tr>\n",
       "    <tr>\n",
       "      <th>1</th>\n",
       "      <td>LNAA3AA16L5400412</td>\n",
       "      <td>A26_92</td>\n",
       "      <td>2020-06-11</td>\n",
       "      <td>2020-06-22</td>\n",
       "    </tr>\n",
       "    <tr>\n",
       "      <th>2</th>\n",
       "      <td>LNAA2AA18L5046170</td>\n",
       "      <td>A26_90</td>\n",
       "      <td>2020-06-18</td>\n",
       "      <td>2020-06-22</td>\n",
       "    </tr>\n",
       "    <tr>\n",
       "      <th>3</th>\n",
       "      <td>LNAA2AA19K5027318</td>\n",
       "      <td>A26_92</td>\n",
       "      <td>2019-12-06</td>\n",
       "      <td>2020-06-22</td>\n",
       "    </tr>\n",
       "    <tr>\n",
       "      <th>4</th>\n",
       "      <td>LNAA2AA15L5045400</td>\n",
       "      <td>A26_90</td>\n",
       "      <td>2020-06-03</td>\n",
       "      <td>2020-06-22</td>\n",
       "    </tr>\n",
       "  </tbody>\n",
       "</table>\n",
       "</div>"
      ],
      "text/plain": [
       "                 vin vintype   start_day  latest_day\n",
       "0  LNAA2AA15K5027400  A26_92  2019-12-11  2020-06-22\n",
       "1  LNAA3AA16L5400412  A26_92  2020-06-11  2020-06-22\n",
       "2  LNAA2AA18L5046170  A26_90  2020-06-18  2020-06-22\n",
       "3  LNAA2AA19K5027318  A26_92  2019-12-06  2020-06-22\n",
       "4  LNAA2AA15L5045400  A26_90  2020-06-03  2020-06-22"
      ]
     },
     "execution_count": 85,
     "metadata": {},
     "output_type": "execute_result"
    }
   ],
   "source": [
    "vintype_df = tmp\n",
    "vintype_df.head()"
   ]
  },
  {
   "cell_type": "code",
   "execution_count": 86,
   "metadata": {},
   "outputs": [
    {
     "data": {
      "text/plain": [
       "A26_92     37051\n",
       "A26_90     18758\n",
       "A12_112     3363\n",
       "A12_88       895\n",
       "A26_102       33\n",
       "A12_96         2\n",
       "Name: vintype, dtype: int64"
      ]
     },
     "execution_count": 86,
     "metadata": {},
     "output_type": "execute_result"
    }
   ],
   "source": [
    "vintype_df['vintype'].value_counts()"
   ]
  },
  {
   "cell_type": "code",
   "execution_count": 89,
   "metadata": {},
   "outputs": [
    {
     "data": {
      "text/html": [
       "<div>\n",
       "<style scoped>\n",
       "    .dataframe tbody tr th:only-of-type {\n",
       "        vertical-align: middle;\n",
       "    }\n",
       "\n",
       "    .dataframe tbody tr th {\n",
       "        vertical-align: top;\n",
       "    }\n",
       "\n",
       "    .dataframe thead th {\n",
       "        text-align: right;\n",
       "    }\n",
       "</style>\n",
       "<table border=\"1\" class=\"dataframe\">\n",
       "  <thead>\n",
       "    <tr style=\"text-align: right;\">\n",
       "      <th></th>\n",
       "      <th>vin</th>\n",
       "      <th>error_code</th>\n",
       "      <th>sensor_ids</th>\n",
       "      <th>severity_level</th>\n",
       "      <th>day</th>\n",
       "      <th>vintype</th>\n",
       "      <th>start_day</th>\n",
       "      <th>latest_day</th>\n",
       "    </tr>\n",
       "  </thead>\n",
       "  <tbody>\n",
       "    <tr>\n",
       "      <th>0</th>\n",
       "      <td>LNAA2AA1XK5019888</td>\n",
       "      <td>4</td>\n",
       "      <td>1</td>\n",
       "      <td>0.58</td>\n",
       "      <td>2020-06-17</td>\n",
       "      <td>A26_90</td>\n",
       "      <td>2019-10-24</td>\n",
       "      <td>2020-07-13</td>\n",
       "    </tr>\n",
       "    <tr>\n",
       "      <th>1</th>\n",
       "      <td>LNAA2AA1XK5019888</td>\n",
       "      <td>4</td>\n",
       "      <td>2</td>\n",
       "      <td>0.58</td>\n",
       "      <td>2020-06-17</td>\n",
       "      <td>A26_90</td>\n",
       "      <td>2019-10-24</td>\n",
       "      <td>2020-07-13</td>\n",
       "    </tr>\n",
       "    <tr>\n",
       "      <th>2</th>\n",
       "      <td>LNAA2AA1XK5019888</td>\n",
       "      <td>4</td>\n",
       "      <td>3</td>\n",
       "      <td>0.58</td>\n",
       "      <td>2020-06-17</td>\n",
       "      <td>A26_90</td>\n",
       "      <td>2019-10-24</td>\n",
       "      <td>2020-07-13</td>\n",
       "    </tr>\n",
       "    <tr>\n",
       "      <th>3</th>\n",
       "      <td>LNAA2AA1XK5019888</td>\n",
       "      <td>4</td>\n",
       "      <td>4</td>\n",
       "      <td>0.58</td>\n",
       "      <td>2020-06-17</td>\n",
       "      <td>A26_90</td>\n",
       "      <td>2019-10-24</td>\n",
       "      <td>2020-07-13</td>\n",
       "    </tr>\n",
       "    <tr>\n",
       "      <th>4</th>\n",
       "      <td>LNAA2AA1XK5019888</td>\n",
       "      <td>4</td>\n",
       "      <td>5</td>\n",
       "      <td>0.58</td>\n",
       "      <td>2020-06-17</td>\n",
       "      <td>A26_90</td>\n",
       "      <td>2019-10-24</td>\n",
       "      <td>2020-07-13</td>\n",
       "    </tr>\n",
       "  </tbody>\n",
       "</table>\n",
       "</div>"
      ],
      "text/plain": [
       "                 vin  error_code sensor_ids  severity_level         day  \\\n",
       "0  LNAA2AA1XK5019888           4          1            0.58  2020-06-17   \n",
       "1  LNAA2AA1XK5019888           4          2            0.58  2020-06-17   \n",
       "2  LNAA2AA1XK5019888           4          3            0.58  2020-06-17   \n",
       "3  LNAA2AA1XK5019888           4          4            0.58  2020-06-17   \n",
       "4  LNAA2AA1XK5019888           4          5            0.58  2020-06-17   \n",
       "\n",
       "  vintype   start_day  latest_day  \n",
       "0  A26_90  2019-10-24  2020-07-13  \n",
       "1  A26_90  2019-10-24  2020-07-13  \n",
       "2  A26_90  2019-10-24  2020-07-13  \n",
       "3  A26_90  2019-10-24  2020-07-13  \n",
       "4  A26_90  2019-10-24  2020-07-13  "
      ]
     },
     "execution_count": 89,
     "metadata": {},
     "output_type": "execute_result"
    }
   ],
   "source": [
    "df = pd.merge(df_sensor, vintype_df, on='vin', how='inner')\n",
    "df.head()"
   ]
  },
  {
   "cell_type": "code",
   "execution_count": 90,
   "metadata": {},
   "outputs": [
    {
     "data": {
      "text/plain": [
       "A26_90     10965\n",
       "A12_88     10589\n",
       "A26_92      5132\n",
       "A12_112     1192\n",
       "A26_102        1\n",
       "Name: vintype, dtype: int64"
      ]
     },
     "execution_count": 90,
     "metadata": {},
     "output_type": "execute_result"
    }
   ],
   "source": [
    "df['vintype'].value_counts()"
   ]
  },
  {
   "cell_type": "code",
   "execution_count": 91,
   "metadata": {},
   "outputs": [
    {
     "data": {
      "text/html": [
       "<div>\n",
       "<style scoped>\n",
       "    .dataframe tbody tr th:only-of-type {\n",
       "        vertical-align: middle;\n",
       "    }\n",
       "\n",
       "    .dataframe tbody tr th {\n",
       "        vertical-align: top;\n",
       "    }\n",
       "\n",
       "    .dataframe thead th {\n",
       "        text-align: right;\n",
       "    }\n",
       "</style>\n",
       "<table border=\"1\" class=\"dataframe\">\n",
       "  <thead>\n",
       "    <tr style=\"text-align: right;\">\n",
       "      <th></th>\n",
       "      <th>vin</th>\n",
       "      <th>error_code</th>\n",
       "      <th>sensor_ids</th>\n",
       "      <th>severity_level</th>\n",
       "      <th>day</th>\n",
       "      <th>vintype</th>\n",
       "      <th>start_day</th>\n",
       "      <th>latest_day</th>\n",
       "    </tr>\n",
       "  </thead>\n",
       "  <tbody>\n",
       "    <tr>\n",
       "      <th>0</th>\n",
       "      <td>LNAA2AA1XK5019888</td>\n",
       "      <td>4</td>\n",
       "      <td>1</td>\n",
       "      <td>0.58</td>\n",
       "      <td>2020-06-17</td>\n",
       "      <td>A26_90</td>\n",
       "      <td>2019-10-24</td>\n",
       "      <td>2020-07-13</td>\n",
       "    </tr>\n",
       "    <tr>\n",
       "      <th>1</th>\n",
       "      <td>LNAA2AA1XK5019888</td>\n",
       "      <td>4</td>\n",
       "      <td>2</td>\n",
       "      <td>0.58</td>\n",
       "      <td>2020-06-17</td>\n",
       "      <td>A26_90</td>\n",
       "      <td>2019-10-24</td>\n",
       "      <td>2020-07-13</td>\n",
       "    </tr>\n",
       "    <tr>\n",
       "      <th>2</th>\n",
       "      <td>LNAA2AA1XK5019888</td>\n",
       "      <td>4</td>\n",
       "      <td>3</td>\n",
       "      <td>0.58</td>\n",
       "      <td>2020-06-17</td>\n",
       "      <td>A26_90</td>\n",
       "      <td>2019-10-24</td>\n",
       "      <td>2020-07-13</td>\n",
       "    </tr>\n",
       "    <tr>\n",
       "      <th>3</th>\n",
       "      <td>LNAA2AA1XK5019888</td>\n",
       "      <td>4</td>\n",
       "      <td>4</td>\n",
       "      <td>0.58</td>\n",
       "      <td>2020-06-17</td>\n",
       "      <td>A26_90</td>\n",
       "      <td>2019-10-24</td>\n",
       "      <td>2020-07-13</td>\n",
       "    </tr>\n",
       "    <tr>\n",
       "      <th>4</th>\n",
       "      <td>LNAA2AA1XK5019888</td>\n",
       "      <td>4</td>\n",
       "      <td>5</td>\n",
       "      <td>0.58</td>\n",
       "      <td>2020-06-17</td>\n",
       "      <td>A26_90</td>\n",
       "      <td>2019-10-24</td>\n",
       "      <td>2020-07-13</td>\n",
       "    </tr>\n",
       "  </tbody>\n",
       "</table>\n",
       "</div>"
      ],
      "text/plain": [
       "                 vin  error_code sensor_ids  severity_level         day  \\\n",
       "0  LNAA2AA1XK5019888           4          1            0.58  2020-06-17   \n",
       "1  LNAA2AA1XK5019888           4          2            0.58  2020-06-17   \n",
       "2  LNAA2AA1XK5019888           4          3            0.58  2020-06-17   \n",
       "3  LNAA2AA1XK5019888           4          4            0.58  2020-06-17   \n",
       "4  LNAA2AA1XK5019888           4          5            0.58  2020-06-17   \n",
       "\n",
       "  vintype   start_day  latest_day  \n",
       "0  A26_90  2019-10-24  2020-07-13  \n",
       "1  A26_90  2019-10-24  2020-07-13  \n",
       "2  A26_90  2019-10-24  2020-07-13  \n",
       "3  A26_90  2019-10-24  2020-07-13  \n",
       "4  A26_90  2019-10-24  2020-07-13  "
      ]
     },
     "execution_count": 91,
     "metadata": {},
     "output_type": "execute_result"
    }
   ],
   "source": [
    "df_for_a26_90 = df[df['vintype']=='A26_90']\n",
    "df_for_a26_90.head()"
   ]
  },
  {
   "cell_type": "code",
   "execution_count": 92,
   "metadata": {},
   "outputs": [
    {
     "data": {
      "text/html": [
       "<div>\n",
       "<style scoped>\n",
       "    .dataframe tbody tr th:only-of-type {\n",
       "        vertical-align: middle;\n",
       "    }\n",
       "\n",
       "    .dataframe tbody tr th {\n",
       "        vertical-align: top;\n",
       "    }\n",
       "\n",
       "    .dataframe thead th {\n",
       "        text-align: right;\n",
       "    }\n",
       "</style>\n",
       "<table border=\"1\" class=\"dataframe\">\n",
       "  <thead>\n",
       "    <tr style=\"text-align: right;\">\n",
       "      <th></th>\n",
       "      <th>vin</th>\n",
       "      <th>error_code</th>\n",
       "      <th>sensor_ids</th>\n",
       "      <th>severity_level</th>\n",
       "      <th>day</th>\n",
       "      <th>vintype</th>\n",
       "      <th>start_day</th>\n",
       "      <th>latest_day</th>\n",
       "    </tr>\n",
       "  </thead>\n",
       "  <tbody>\n",
       "    <tr>\n",
       "      <th>298</th>\n",
       "      <td>LNAB2AB20L5502884</td>\n",
       "      <td>1</td>\n",
       "      <td>unknown</td>\n",
       "      <td>0.21</td>\n",
       "      <td>2020-06-17</td>\n",
       "      <td>A12_88</td>\n",
       "      <td>2020-04-17</td>\n",
       "      <td>2020-07-13</td>\n",
       "    </tr>\n",
       "    <tr>\n",
       "      <th>299</th>\n",
       "      <td>LNAB2AB20L5502884</td>\n",
       "      <td>1</td>\n",
       "      <td>unknown</td>\n",
       "      <td>0.21</td>\n",
       "      <td>2020-06-12</td>\n",
       "      <td>A12_88</td>\n",
       "      <td>2020-04-17</td>\n",
       "      <td>2020-07-13</td>\n",
       "    </tr>\n",
       "    <tr>\n",
       "      <th>300</th>\n",
       "      <td>LNAB2AB20L5502884</td>\n",
       "      <td>1</td>\n",
       "      <td>unknown</td>\n",
       "      <td>0.21</td>\n",
       "      <td>2020-06-18</td>\n",
       "      <td>A12_88</td>\n",
       "      <td>2020-04-17</td>\n",
       "      <td>2020-07-13</td>\n",
       "    </tr>\n",
       "    <tr>\n",
       "      <th>301</th>\n",
       "      <td>LNAB2AB20L5502884</td>\n",
       "      <td>1</td>\n",
       "      <td>unknown</td>\n",
       "      <td>0.21</td>\n",
       "      <td>2020-06-14</td>\n",
       "      <td>A12_88</td>\n",
       "      <td>2020-04-17</td>\n",
       "      <td>2020-07-13</td>\n",
       "    </tr>\n",
       "    <tr>\n",
       "      <th>302</th>\n",
       "      <td>LNAB2AB20L5502884</td>\n",
       "      <td>1</td>\n",
       "      <td>unknown</td>\n",
       "      <td>0.21</td>\n",
       "      <td>2020-06-22</td>\n",
       "      <td>A12_88</td>\n",
       "      <td>2020-04-17</td>\n",
       "      <td>2020-07-13</td>\n",
       "    </tr>\n",
       "  </tbody>\n",
       "</table>\n",
       "</div>"
      ],
      "text/plain": [
       "                   vin  error_code sensor_ids  severity_level         day  \\\n",
       "298  LNAB2AB20L5502884           1    unknown            0.21  2020-06-17   \n",
       "299  LNAB2AB20L5502884           1    unknown            0.21  2020-06-12   \n",
       "300  LNAB2AB20L5502884           1    unknown            0.21  2020-06-18   \n",
       "301  LNAB2AB20L5502884           1    unknown            0.21  2020-06-14   \n",
       "302  LNAB2AB20L5502884           1    unknown            0.21  2020-06-22   \n",
       "\n",
       "    vintype   start_day  latest_day  \n",
       "298  A12_88  2020-04-17  2020-07-13  \n",
       "299  A12_88  2020-04-17  2020-07-13  \n",
       "300  A12_88  2020-04-17  2020-07-13  \n",
       "301  A12_88  2020-04-17  2020-07-13  \n",
       "302  A12_88  2020-04-17  2020-07-13  "
      ]
     },
     "execution_count": 92,
     "metadata": {},
     "output_type": "execute_result"
    }
   ],
   "source": [
    "df_for_a12_88 = df[df['vintype']=='A12_88']\n",
    "df_for_a12_88.head()"
   ]
  },
  {
   "cell_type": "code",
   "execution_count": 93,
   "metadata": {},
   "outputs": [
    {
     "data": {
      "text/html": [
       "<div>\n",
       "<style scoped>\n",
       "    .dataframe tbody tr th:only-of-type {\n",
       "        vertical-align: middle;\n",
       "    }\n",
       "\n",
       "    .dataframe tbody tr th {\n",
       "        vertical-align: top;\n",
       "    }\n",
       "\n",
       "    .dataframe thead th {\n",
       "        text-align: right;\n",
       "    }\n",
       "</style>\n",
       "<table border=\"1\" class=\"dataframe\">\n",
       "  <thead>\n",
       "    <tr style=\"text-align: right;\">\n",
       "      <th></th>\n",
       "      <th>vin</th>\n",
       "      <th>error_code</th>\n",
       "      <th>sensor_ids</th>\n",
       "      <th>severity_level</th>\n",
       "      <th>day</th>\n",
       "      <th>vintype</th>\n",
       "      <th>start_day</th>\n",
       "      <th>latest_day</th>\n",
       "    </tr>\n",
       "  </thead>\n",
       "  <tbody>\n",
       "    <tr>\n",
       "      <th>96</th>\n",
       "      <td>LNAA2AA20K5000985</td>\n",
       "      <td>1</td>\n",
       "      <td>unknown</td>\n",
       "      <td>0.44</td>\n",
       "      <td>2020-06-17</td>\n",
       "      <td>A26_92</td>\n",
       "      <td>2019-06-19</td>\n",
       "      <td>2020-07-13</td>\n",
       "    </tr>\n",
       "    <tr>\n",
       "      <th>97</th>\n",
       "      <td>LNAA2AA20K5000985</td>\n",
       "      <td>5</td>\n",
       "      <td>7</td>\n",
       "      <td>0.80</td>\n",
       "      <td>2020-06-14</td>\n",
       "      <td>A26_92</td>\n",
       "      <td>2019-06-19</td>\n",
       "      <td>2020-07-13</td>\n",
       "    </tr>\n",
       "    <tr>\n",
       "      <th>98</th>\n",
       "      <td>LNAA2AA20K5000985</td>\n",
       "      <td>5</td>\n",
       "      <td>8</td>\n",
       "      <td>0.80</td>\n",
       "      <td>2020-06-14</td>\n",
       "      <td>A26_92</td>\n",
       "      <td>2019-06-19</td>\n",
       "      <td>2020-07-13</td>\n",
       "    </tr>\n",
       "    <tr>\n",
       "      <th>99</th>\n",
       "      <td>LNAA2AA20K5000985</td>\n",
       "      <td>5</td>\n",
       "      <td>7</td>\n",
       "      <td>0.64</td>\n",
       "      <td>2020-06-13</td>\n",
       "      <td>A26_92</td>\n",
       "      <td>2019-06-19</td>\n",
       "      <td>2020-07-13</td>\n",
       "    </tr>\n",
       "    <tr>\n",
       "      <th>100</th>\n",
       "      <td>LNAA2AA20K5000985</td>\n",
       "      <td>5</td>\n",
       "      <td>8</td>\n",
       "      <td>0.64</td>\n",
       "      <td>2020-06-13</td>\n",
       "      <td>A26_92</td>\n",
       "      <td>2019-06-19</td>\n",
       "      <td>2020-07-13</td>\n",
       "    </tr>\n",
       "  </tbody>\n",
       "</table>\n",
       "</div>"
      ],
      "text/plain": [
       "                   vin  error_code sensor_ids  severity_level         day  \\\n",
       "96   LNAA2AA20K5000985           1    unknown            0.44  2020-06-17   \n",
       "97   LNAA2AA20K5000985           5          7            0.80  2020-06-14   \n",
       "98   LNAA2AA20K5000985           5          8            0.80  2020-06-14   \n",
       "99   LNAA2AA20K5000985           5          7            0.64  2020-06-13   \n",
       "100  LNAA2AA20K5000985           5          8            0.64  2020-06-13   \n",
       "\n",
       "    vintype   start_day  latest_day  \n",
       "96   A26_92  2019-06-19  2020-07-13  \n",
       "97   A26_92  2019-06-19  2020-07-13  \n",
       "98   A26_92  2019-06-19  2020-07-13  \n",
       "99   A26_92  2019-06-19  2020-07-13  \n",
       "100  A26_92  2019-06-19  2020-07-13  "
      ]
     },
     "execution_count": 93,
     "metadata": {},
     "output_type": "execute_result"
    }
   ],
   "source": [
    "df_for_a26_92 = df[df['vintype']=='A26_92']\n",
    "df_for_a26_92.head()"
   ]
  },
  {
   "cell_type": "code",
   "execution_count": 94,
   "metadata": {},
   "outputs": [],
   "source": [
    "sensor_dist_for_a26_90 = df_for_a26_90['sensor_ids'].value_counts()"
   ]
  },
  {
   "cell_type": "code",
   "execution_count": 95,
   "metadata": {},
   "outputs": [
    {
     "data": {
      "text/plain": [
       "28    412\n",
       "27    411\n",
       "1     409\n",
       "2     406\n",
       "8     401\n",
       "Name: sensor_ids, dtype: int64"
      ]
     },
     "execution_count": 95,
     "metadata": {},
     "output_type": "execute_result"
    }
   ],
   "source": [
    "sensor_dist_for_a26_90.head()"
   ]
  },
  {
   "cell_type": "code",
   "execution_count": 96,
   "metadata": {},
   "outputs": [],
   "source": [
    "sensor_dist_for_a12_88 = df_for_a12_88['sensor_ids'].value_counts()"
   ]
  },
  {
   "cell_type": "code",
   "execution_count": 97,
   "metadata": {},
   "outputs": [],
   "source": [
    "sensor_dist_for_a26_92 = df_for_a12_88['sensor_ids'].value_counts()"
   ]
  },
  {
   "cell_type": "code",
   "execution_count": 98,
   "metadata": {},
   "outputs": [],
   "source": [
    "sensor_dist_a26_90 = pd.DataFrame(sensor_dist_for_a26_90).reset_index()"
   ]
  },
  {
   "cell_type": "code",
   "execution_count": 99,
   "metadata": {},
   "outputs": [],
   "source": [
    "sensor_dist_a12_88 = pd.DataFrame(sensor_dist_for_a12_88).reset_index()"
   ]
  },
  {
   "cell_type": "code",
   "execution_count": 100,
   "metadata": {},
   "outputs": [],
   "source": [
    "sensor_dist_a26_92 = pd.DataFrame(sensor_dist_for_a26_92).reset_index()"
   ]
  },
  {
   "cell_type": "code",
   "execution_count": 101,
   "metadata": {},
   "outputs": [],
   "source": [
    "sensor_dist_a26_90.columns=['sensor','count']\n",
    "sensor_dist_a12_88.columns=['sensor','count']\n",
    "sensor_dist_a26_92.columns=['sensor','count']"
   ]
  },
  {
   "cell_type": "code",
   "execution_count": 102,
   "metadata": {},
   "outputs": [],
   "source": [
    "sensor_dist_a26_90 = sensor_dist_a26_90.sort_index()\n",
    "sensor_dist_a26_90 = sensor_dist_a26_90.sort_values(['count'])\n",
    "sensor_dist_a26_90 = sensor_dist_a26_90[sensor_dist_a26_90['sensor']!='unknown']\n",
    "sensor_dist_a26_90[['sensor']] = sensor_dist_a26_90[['sensor']].astype(int)"
   ]
  },
  {
   "cell_type": "code",
   "execution_count": 103,
   "metadata": {},
   "outputs": [],
   "source": [
    "sensor_dist_a12_88 = sensor_dist_a12_88.sort_index()\n",
    "sensor_dist_a12_88 = sensor_dist_a12_88.sort_values(['count'])\n",
    "sensor_dist_a12_88 = sensor_dist_a12_88[sensor_dist_a12_88['sensor']!='unknown']\n",
    "sensor_dist_a12_88[['sensor']] = sensor_dist_a12_88[['sensor']].astype(int)"
   ]
  },
  {
   "cell_type": "code",
   "execution_count": 104,
   "metadata": {},
   "outputs": [],
   "source": [
    "sensor_dist_a26_92 = sensor_dist_a26_92.sort_index()\n",
    "sensor_dist_a26_92 = sensor_dist_a26_92.sort_values(['count'])\n",
    "sensor_dist_a26_92 = sensor_dist_a26_92[sensor_dist_a26_92['sensor']!='unknown']\n",
    "sensor_dist_a26_92[['sensor']] = sensor_dist_a26_92[['sensor']].astype(int)"
   ]
  },
  {
   "cell_type": "code",
   "execution_count": 107,
   "metadata": {},
   "outputs": [
    {
     "data": {
      "text/plain": [
       "[Text(0,0.5,'frequency'),\n",
       " Text(0.5,0,'sensor'),\n",
       " Text(0.5,1,'Abnormal Sensor Top Frequency (A26_90)')]"
      ]
     },
     "execution_count": 107,
     "metadata": {},
     "output_type": "execute_result"
    },
    {
     "data": {
      "image/png": "[encoded data removed]",
      "text/plain": [
       "<Figure size 842.4x595.44 with 1 Axes>"
      ]
     },
     "metadata": {},
     "output_type": "display_data"
    }
   ],
   "source": [
    "import seaborn as sns\n",
    "sns.set(style=\"darkgrid\")\n",
    "sns.set(rc={'figure.figsize':(11.7,8.27)})\n",
    "ax = sns.barplot(x=\"sensor\", y=\"count\", data=sensor_dist_a26_90)\n",
    "ax.set(xlabel='sensor', ylabel='frequency', title='Abnormal Sensor Top Frequency (A26_90)')"
   ]
  },
  {
   "cell_type": "code",
   "execution_count": 108,
   "metadata": {},
   "outputs": [
    {
     "data": {
      "text/plain": [
       "[Text(0,0.5,'frequency'),\n",
       " Text(0.5,0,'sensor'),\n",
       " Text(0.5,1,'Abnormal Sensor Top Frequency (A12_88)')]"
      ]
     },
     "execution_count": 108,
     "metadata": {},
     "output_type": "execute_result"
    },
    {
     "data": {
      "image/png": "[encoded data removed]",
      "text/plain": [
       "<Figure size 842.4x595.44 with 1 Axes>"
      ]
     },
     "metadata": {},
     "output_type": "display_data"
    }
   ],
   "source": [
    "import seaborn as sns\n",
    "sns.set(style=\"darkgrid\")\n",
    "sns.set(rc={'figure.figsize':(11.7,8.27)})\n",
    "ax = sns.barplot(x=\"sensor\", y=\"count\", data=sensor_dist_a12_88)\n",
    "ax.set(xlabel='sensor', ylabel='frequency', title='Abnormal Sensor Top Frequency (A12_88)')"
   ]
  },
  {
   "cell_type": "code",
   "execution_count": 109,
   "metadata": {},
   "outputs": [
    {
     "data": {
      "text/plain": [
       "[Text(0,0.5,'frequency'),\n",
       " Text(0.5,0,'sensor'),\n",
       " Text(0.5,1,'Abnormal Sensor Top Frequency (A26_92)')]"
      ]
     },
     "execution_count": 109,
     "metadata": {},
     "output_type": "execute_result"
    },
    {
     "data": {
      "image/png": "[encoded data removed]",
      "text/plain": [
       "<Figure size 842.4x595.44 with 1 Axes>"
      ]
     },
     "metadata": {},
     "output_type": "display_data"
    }
   ],
   "source": [
    "import seaborn as sns\n",
    "sns.set(style=\"darkgrid\")\n",
    "sns.set(rc={'figure.figsize':(11.7,8.27)})\n",
    "ax = sns.barplot(x=\"sensor\", y=\"count\", data=sensor_dist_a26_92)\n",
    "ax.set(xlabel='sensor', ylabel='frequency', title='Abnormal Sensor Top Frequency (A26_92)')"
   ]
  },
  {
   "cell_type": "code",
   "execution_count": null,
   "metadata": {},
   "outputs": [],
   "source": []
  }
 ],
 "metadata": {
  "kernelspec": {
   "display_name": "Python 2",
   "language": "python",
   "name": "python2"
  },
  "language_info": {
   "codemirror_mode": {
    "name": "ipython",
    "version": 2
   },
   "file_extension": ".py",
   "mimetype": "text/x-python",
   "name": "python",
   "nbconvert_exporter": "python",
   "pygments_lexer": "ipython2",
   "version": "2.7.5"
  }
 },
 "nbformat": 4,
 "nbformat_minor": 2
}
