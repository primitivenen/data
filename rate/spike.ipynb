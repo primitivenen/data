{
 "cells": [
  {
   "cell_type": "code",
   "execution_count": 2,
   "metadata": {},
   "outputs": [],
   "source": [
    "import pandas as pd\n",
    "import glob"
   ]
  },
  {
   "cell_type": "code",
   "execution_count": 3,
   "metadata": {},
   "outputs": [],
   "source": [
    "path = '/name-node-raid/raw_temperature_voltage_readings/final_data/A5HEV' "
   ]
  },
  {
   "cell_type": "code",
   "execution_count": 4,
   "metadata": {},
   "outputs": [],
   "source": [
    "files_20190901 = glob.glob(path + \"/temp_and_volt_final_data_90_40_20190901*\")"
   ]
  },
  {
   "cell_type": "code",
   "execution_count": 5,
   "metadata": {},
   "outputs": [
    {
     "name": "stdout",
     "output_type": "stream",
     "text": [
      "Read 966540 records from file /name-node-raid/raw_temperature_voltage_readings/final_data/A5HEV/temp_and_volt_final_data_90_40_20190901_part1.csv.gz\n",
      "Read 931253 records from file /name-node-raid/raw_temperature_voltage_readings/final_data/A5HEV/temp_and_volt_final_data_90_40_20190901_part3.csv.gz\n",
      "Read 961179 records from file /name-node-raid/raw_temperature_voltage_readings/final_data/A5HEV/temp_and_volt_final_data_90_40_20190901_part2.csv.gz\n",
      "Read 840241 records from file /name-node-raid/raw_temperature_voltage_readings/final_data/A5HEV/temp_and_volt_final_data_90_40_20190901_part5.csv.gz\n",
      "Read 361602 records from file /name-node-raid/raw_temperature_voltage_readings/final_data/A5HEV/temp_and_volt_final_data_90_40_20190901_part8.csv.gz\n",
      "Read 906585 records from file /name-node-raid/raw_temperature_voltage_readings/final_data/A5HEV/temp_and_volt_final_data_90_40_20190901_part6.csv.gz\n",
      "Read 967924 records from file /name-node-raid/raw_temperature_voltage_readings/final_data/A5HEV/temp_and_volt_final_data_90_40_20190901_part4.csv.gz\n",
      "Read 875176 records from file /name-node-raid/raw_temperature_voltage_readings/final_data/A5HEV/temp_and_volt_final_data_90_40_20190901_part7.csv.gz\n"
     ]
    }
   ],
   "source": [
    "all_li_20190901 = []\n",
    "for filename in files_20190901:\n",
    "    df_temp = pd.read_csv(filename, index_col=None, header=0)\n",
    "    print('Read {} records from file {}'.format(len(df_temp), filename))\n",
    "    all_li_20190901.append(df_temp)"
   ]
  },
  {
   "cell_type": "code",
   "execution_count": 6,
   "metadata": {},
   "outputs": [],
   "source": [
    "frame_all_20190901 = pd.concat(all_li_20190901, axis=0, ignore_index=True)"
   ]
  },
  {
   "cell_type": "code",
   "execution_count": 7,
   "metadata": {},
   "outputs": [],
   "source": [
    "frame_all_20190901 = frame_all_20190901.drop(['veh_curr'], axis=1)"
   ]
  },
  {
   "cell_type": "code",
   "execution_count": 8,
   "metadata": {},
   "outputs": [
    {
     "data": {
      "text/plain": [
       "Index([u'vin', u'ts', u'temp_1', u'temp_2', u'temp_3', u'temp_4', u'temp_5',\n",
       "       u'temp_6', u'temp_7', u'temp_8',\n",
       "       ...\n",
       "       u'volt_81', u'volt_82', u'volt_83', u'volt_84', u'volt_85', u'volt_86',\n",
       "       u'volt_87', u'volt_88', u'volt_89', u'volt_90'],\n",
       "      dtype='object', length=132)"
      ]
     },
     "execution_count": 8,
     "metadata": {},
     "output_type": "execute_result"
    }
   ],
   "source": [
    "frame_all_20190901.columns"
   ]
  },
  {
   "cell_type": "code",
   "execution_count": 9,
   "metadata": {},
   "outputs": [],
   "source": [
    "voltage_list = [\"volt_\" + str(s) for s in range(1,91)]"
   ]
  },
  {
   "cell_type": "code",
   "execution_count": 10,
   "metadata": {},
   "outputs": [],
   "source": [
    "frame_all_20190901 = frame_all_20190901.drop(voltage_list, axis=1)"
   ]
  },
  {
   "cell_type": "code",
   "execution_count": 11,
   "metadata": {},
   "outputs": [
    {
     "data": {
      "text/html": [
       "<div>\n",
       "<style scoped>\n",
       "    .dataframe tbody tr th:only-of-type {\n",
       "        vertical-align: middle;\n",
       "    }\n",
       "\n",
       "    .dataframe tbody tr th {\n",
       "        vertical-align: top;\n",
       "    }\n",
       "\n",
       "    .dataframe thead th {\n",
       "        text-align: right;\n",
       "    }\n",
       "</style>\n",
       "<table border=\"1\" class=\"dataframe\">\n",
       "  <thead>\n",
       "    <tr style=\"text-align: right;\">\n",
       "      <th></th>\n",
       "      <th>vin</th>\n",
       "      <th>ts</th>\n",
       "      <th>temp_1</th>\n",
       "      <th>temp_2</th>\n",
       "      <th>temp_3</th>\n",
       "      <th>temp_4</th>\n",
       "      <th>temp_5</th>\n",
       "      <th>temp_6</th>\n",
       "      <th>temp_7</th>\n",
       "      <th>temp_8</th>\n",
       "      <th>...</th>\n",
       "      <th>temp_31</th>\n",
       "      <th>temp_32</th>\n",
       "      <th>temp_33</th>\n",
       "      <th>temp_34</th>\n",
       "      <th>temp_35</th>\n",
       "      <th>temp_36</th>\n",
       "      <th>temp_37</th>\n",
       "      <th>temp_38</th>\n",
       "      <th>temp_39</th>\n",
       "      <th>temp_40</th>\n",
       "    </tr>\n",
       "  </thead>\n",
       "  <tbody>\n",
       "    <tr>\n",
       "      <th>0</th>\n",
       "      <td>LMGHP1S53H1001012</td>\n",
       "      <td>1567267205000</td>\n",
       "      <td>23.0</td>\n",
       "      <td>24.0</td>\n",
       "      <td>24.0</td>\n",
       "      <td>24.0</td>\n",
       "      <td>24.0</td>\n",
       "      <td>24.0</td>\n",
       "      <td>24.0</td>\n",
       "      <td>24.0</td>\n",
       "      <td>...</td>\n",
       "      <td>24.0</td>\n",
       "      <td>24.0</td>\n",
       "      <td>23.0</td>\n",
       "      <td>24.0</td>\n",
       "      <td>24.0</td>\n",
       "      <td>24.0</td>\n",
       "      <td>24.0</td>\n",
       "      <td>24.0</td>\n",
       "      <td>24.0</td>\n",
       "      <td>24.0</td>\n",
       "    </tr>\n",
       "    <tr>\n",
       "      <th>1</th>\n",
       "      <td>LMGHP1S53H1000295</td>\n",
       "      <td>1567267205000</td>\n",
       "      <td>31.0</td>\n",
       "      <td>31.0</td>\n",
       "      <td>31.0</td>\n",
       "      <td>31.0</td>\n",
       "      <td>31.0</td>\n",
       "      <td>31.0</td>\n",
       "      <td>31.0</td>\n",
       "      <td>31.0</td>\n",
       "      <td>...</td>\n",
       "      <td>31.0</td>\n",
       "      <td>31.0</td>\n",
       "      <td>31.0</td>\n",
       "      <td>31.0</td>\n",
       "      <td>31.0</td>\n",
       "      <td>31.0</td>\n",
       "      <td>31.0</td>\n",
       "      <td>31.0</td>\n",
       "      <td>31.0</td>\n",
       "      <td>31.0</td>\n",
       "    </tr>\n",
       "    <tr>\n",
       "      <th>2</th>\n",
       "      <td>LMWHP1S2XJ1000097</td>\n",
       "      <td>1567267205000</td>\n",
       "      <td>31.0</td>\n",
       "      <td>30.0</td>\n",
       "      <td>30.0</td>\n",
       "      <td>30.0</td>\n",
       "      <td>29.0</td>\n",
       "      <td>30.0</td>\n",
       "      <td>30.0</td>\n",
       "      <td>29.0</td>\n",
       "      <td>...</td>\n",
       "      <td>30.0</td>\n",
       "      <td>30.0</td>\n",
       "      <td>30.0</td>\n",
       "      <td>30.0</td>\n",
       "      <td>30.0</td>\n",
       "      <td>29.0</td>\n",
       "      <td>29.0</td>\n",
       "      <td>30.0</td>\n",
       "      <td>30.0</td>\n",
       "      <td>29.0</td>\n",
       "    </tr>\n",
       "    <tr>\n",
       "      <th>3</th>\n",
       "      <td>LMWHP1S24J1000001</td>\n",
       "      <td>1567267205000</td>\n",
       "      <td>29.0</td>\n",
       "      <td>29.0</td>\n",
       "      <td>28.0</td>\n",
       "      <td>29.0</td>\n",
       "      <td>29.0</td>\n",
       "      <td>29.0</td>\n",
       "      <td>29.0</td>\n",
       "      <td>29.0</td>\n",
       "      <td>...</td>\n",
       "      <td>29.0</td>\n",
       "      <td>30.0</td>\n",
       "      <td>30.0</td>\n",
       "      <td>29.0</td>\n",
       "      <td>29.0</td>\n",
       "      <td>29.0</td>\n",
       "      <td>29.0</td>\n",
       "      <td>29.0</td>\n",
       "      <td>29.0</td>\n",
       "      <td>29.0</td>\n",
       "    </tr>\n",
       "    <tr>\n",
       "      <th>4</th>\n",
       "      <td>LMGHP1S52J1003341</td>\n",
       "      <td>1567267205000</td>\n",
       "      <td>31.0</td>\n",
       "      <td>31.0</td>\n",
       "      <td>31.0</td>\n",
       "      <td>31.0</td>\n",
       "      <td>31.0</td>\n",
       "      <td>31.0</td>\n",
       "      <td>31.0</td>\n",
       "      <td>31.0</td>\n",
       "      <td>...</td>\n",
       "      <td>31.0</td>\n",
       "      <td>31.0</td>\n",
       "      <td>31.0</td>\n",
       "      <td>31.0</td>\n",
       "      <td>31.0</td>\n",
       "      <td>31.0</td>\n",
       "      <td>31.0</td>\n",
       "      <td>31.0</td>\n",
       "      <td>31.0</td>\n",
       "      <td>31.0</td>\n",
       "    </tr>\n",
       "  </tbody>\n",
       "</table>\n",
       "<p>5 rows × 42 columns</p>\n",
       "</div>"
      ],
      "text/plain": [
       "                 vin             ts  temp_1  temp_2  temp_3  temp_4  temp_5  \\\n",
       "0  LMGHP1S53H1001012  1567267205000    23.0    24.0    24.0    24.0    24.0   \n",
       "1  LMGHP1S53H1000295  1567267205000    31.0    31.0    31.0    31.0    31.0   \n",
       "2  LMWHP1S2XJ1000097  1567267205000    31.0    30.0    30.0    30.0    29.0   \n",
       "3  LMWHP1S24J1000001  1567267205000    29.0    29.0    28.0    29.0    29.0   \n",
       "4  LMGHP1S52J1003341  1567267205000    31.0    31.0    31.0    31.0    31.0   \n",
       "\n",
       "   temp_6  temp_7  temp_8   ...     temp_31  temp_32  temp_33  temp_34  \\\n",
       "0    24.0    24.0    24.0   ...        24.0     24.0     23.0     24.0   \n",
       "1    31.0    31.0    31.0   ...        31.0     31.0     31.0     31.0   \n",
       "2    30.0    30.0    29.0   ...        30.0     30.0     30.0     30.0   \n",
       "3    29.0    29.0    29.0   ...        29.0     30.0     30.0     29.0   \n",
       "4    31.0    31.0    31.0   ...        31.0     31.0     31.0     31.0   \n",
       "\n",
       "   temp_35  temp_36  temp_37  temp_38  temp_39  temp_40  \n",
       "0     24.0     24.0     24.0     24.0     24.0     24.0  \n",
       "1     31.0     31.0     31.0     31.0     31.0     31.0  \n",
       "2     30.0     29.0     29.0     30.0     30.0     29.0  \n",
       "3     29.0     29.0     29.0     29.0     29.0     29.0  \n",
       "4     31.0     31.0     31.0     31.0     31.0     31.0  \n",
       "\n",
       "[5 rows x 42 columns]"
      ]
     },
     "execution_count": 11,
     "metadata": {},
     "output_type": "execute_result"
    }
   ],
   "source": [
    "frame_all_20190901.head()"
   ]
  },
  {
   "cell_type": "code",
   "execution_count": 12,
   "metadata": {},
   "outputs": [],
   "source": [
    "temp_20190901 = frame_all_20190901.drop(['vin', 'ts'], axis=1)"
   ]
  },
  {
   "cell_type": "code",
   "execution_count": 13,
   "metadata": {},
   "outputs": [],
   "source": [
    "import itertools as it\n",
    "temp_20190901_df = pd.DataFrame(sorted(it.chain(*temp_20190901.values)))"
   ]
  },
  {
   "cell_type": "code",
   "execution_count": 14,
   "metadata": {},
   "outputs": [
    {
     "data": {
      "text/html": [
       "<div>\n",
       "<style scoped>\n",
       "    .dataframe tbody tr th:only-of-type {\n",
       "        vertical-align: middle;\n",
       "    }\n",
       "\n",
       "    .dataframe tbody tr th {\n",
       "        vertical-align: top;\n",
       "    }\n",
       "\n",
       "    .dataframe thead th {\n",
       "        text-align: right;\n",
       "    }\n",
       "</style>\n",
       "<table border=\"1\" class=\"dataframe\">\n",
       "  <thead>\n",
       "    <tr style=\"text-align: right;\">\n",
       "      <th></th>\n",
       "      <th>0</th>\n",
       "    </tr>\n",
       "  </thead>\n",
       "  <tbody>\n",
       "    <tr>\n",
       "      <th>count</th>\n",
       "      <td>2.723749e+08</td>\n",
       "    </tr>\n",
       "    <tr>\n",
       "      <th>mean</th>\n",
       "      <td>2.894675e+01</td>\n",
       "    </tr>\n",
       "    <tr>\n",
       "      <th>std</th>\n",
       "      <td>2.524635e+00</td>\n",
       "    </tr>\n",
       "    <tr>\n",
       "      <th>min</th>\n",
       "      <td>-4.000000e+01</td>\n",
       "    </tr>\n",
       "    <tr>\n",
       "      <th>25%</th>\n",
       "      <td>2.800000e+01</td>\n",
       "    </tr>\n",
       "    <tr>\n",
       "      <th>50%</th>\n",
       "      <td>2.900000e+01</td>\n",
       "    </tr>\n",
       "    <tr>\n",
       "      <th>75%</th>\n",
       "      <td>3.100000e+01</td>\n",
       "    </tr>\n",
       "    <tr>\n",
       "      <th>max</th>\n",
       "      <td>2.060000e+02</td>\n",
       "    </tr>\n",
       "  </tbody>\n",
       "</table>\n",
       "</div>"
      ],
      "text/plain": [
       "                  0\n",
       "count  2.723749e+08\n",
       "mean   2.894675e+01\n",
       "std    2.524635e+00\n",
       "min   -4.000000e+01\n",
       "25%    2.800000e+01\n",
       "50%    2.900000e+01\n",
       "75%    3.100000e+01\n",
       "max    2.060000e+02"
      ]
     },
     "execution_count": 14,
     "metadata": {},
     "output_type": "execute_result"
    }
   ],
   "source": [
    "temp_20190901_df.describe()"
   ]
  },
  {
   "cell_type": "code",
   "execution_count": 15,
   "metadata": {},
   "outputs": [],
   "source": [
    "temp_20190901_df.columns=['temp']"
   ]
  },
  {
   "cell_type": "code",
   "execution_count": 17,
   "metadata": {},
   "outputs": [],
   "source": [
    "temp_20190901_df.to_csv(\"temp_20190901_df.csv\")"
   ]
  },
  {
   "cell_type": "code",
   "execution_count": 18,
   "metadata": {},
   "outputs": [],
   "source": [
    "import seaborn as sns"
   ]
  },
  {
   "cell_type": "code",
   "execution_count": 24,
   "metadata": {},
   "outputs": [
    {
     "data": {
      "image/png": "[encoded data removed]",
      "text/plain": [
       "<Figure size 432x288 with 1 Axes>"
      ]
     },
     "metadata": {},
     "output_type": "display_data"
    }
   ],
   "source": [
    "import numpy as np\n",
    "import matplotlib.pyplot as plt\n",
    "\n",
    "bins = np.linspace(0, 250, 50)\n",
    "\n",
    "fig, axs = plt.subplots()\n",
    "\n",
    "axs.hist(temp_20190901_df['temp'], label = 'temp', bins=bins, alpha=0.5)\n",
    "\n",
    "#plt.yscale('log')\n",
    "sns.despine()"
   ]
  },
  {
   "cell_type": "code",
   "execution_count": null,
   "metadata": {},
   "outputs": [],
   "source": []
  },
  {
   "cell_type": "code",
   "execution_count": null,
   "metadata": {},
   "outputs": [],
   "source": []
  },
  {
   "cell_type": "code",
   "execution_count": 3,
   "metadata": {},
   "outputs": [],
   "source": [
    "import time\n",
    "import sys\n",
    "\n",
    "import findspark\n",
    "findspark.init('/usr/hdp/current/spark2-client')\n",
    "\n",
    "import pyspark\n",
    "from pyspark.sql.functions import col\n",
    "\n",
    "from sys import path\n",
    "path.insert(0, '/home/prod/git/common/collect_raw_data_utils')\n",
    "from data_collection import *\n",
    "path.insert(0, '/home/prod/git/common/pyspark_utils')\n",
    "from get_spark import get_spark\n",
    "SPARK_CONFIG_LIST = [\n",
    "    ('spark.app.name', 'name'),           # spark job name\n",
    "    ('spark.yarn.queue', 'dev'),                          # for production code, use 'prod', else use 'dev'\n",
    "    ('spark.master', 'yarn'),                              # choose between 'yarn', 'local', or 'local[*]'\n",
    "    ('spark.submit.deployMode', 'client'),                 # 'client' or 'cluster' mode\n",
    "    ('spark.yarn.am.memory', '10g'),  #20                      # memory for spark driver (application master), for client mode\n",
    "    ('spark.executor.memory', '10g'),       #20                # memory for each executor\n",
    "    ('spark.executor.cores', '5'),                         # max number of cores each executor can use (means number of tasks)\n",
    "    ('spark.executor.instances', '10'),  #20                  # max number of executors\n",
    "]\n",
    "\n",
    "\n",
    "spark = get_spark(SPARK_CONFIG_LIST)\n",
    "sc = spark.sparkContext\n",
    "\n",
    "hc = HiveContext(sc)"
   ]
  },
  {
   "cell_type": "code",
   "execution_count": 4,
   "metadata": {},
   "outputs": [],
   "source": [
    "def convert_ts_to_datetime(ts_series):\n",
    "    \"\"\"\n",
    "    This function converts timestamps into datetime objects\n",
    "\n",
    "    Parameters\n",
    "    ----------\n",
    "    ts_series : Pandas Series of timestamps\n",
    "\n",
    "    Returns\n",
    "    ----------\n",
    "    datetime_series : Pandas Series of strings of datetimes\n",
    "\n",
    "    Notes\n",
    "    -----\n",
    "    This function can accept these ts units: s, ms, us, ns\n",
    "    \"\"\"\n",
    "\n",
    "    available_units = {19:'ns', 16:'us', 13:'ms', 10:'s'}\n",
    "    time_zone = 'Asia/Hong_Kong'\n",
    "\n",
    "    def _epoch_time_converter(t):\n",
    "        t = str(t)\n",
    "        if len(t) in available_units.keys():\n",
    "            unit = available_units[len(t)]\n",
    "        else:\n",
    "            raise AttributeError('{} is not in valid epoch time format'.format(t))\n",
    "        return pd.to_datetime(t, unit=unit, utc=True).tz_convert(time_zone)\n",
    "\n",
    "    digits = ts_series.astype(str).str.len()\n",
    "    # only one unit of ts is in the whole series,\n",
    "    # so use vectorized method to convert\n",
    "    if len(digits.unique()) == 1:\n",
    "        if digits.iloc[0] in available_units.keys():\n",
    "            unit_of_ts = available_units[digits.iloc[0]]\n",
    "            datetime_series = pd.to_datetime(ts_series, unit=unit_of_ts, \n",
    "                                             utc=True).dt.tz_convert(time_zone)\n",
    "        else:\n",
    "            raise AttributeError('input ts is not in valid epoch time format')\n",
    "\n",
    "    # several units of ts found,\n",
    "    # has to convert to datetime using apply (i.e., one row at a time)\n",
    "    else:\n",
    "        datetime_series = ts_series.apply(_epoch_time_converter)\n",
    "\n",
    "    return datetime_series"
   ]
  },
  {
   "cell_type": "code",
   "execution_count": 5,
   "metadata": {},
   "outputs": [],
   "source": [
    "num_cells = 90\n",
    "num_modules = 40\n",
    "vintype = ['A5HEV']\n",
    "sel_col = ['day', 'vin', 'ts']\n",
    "#sel_col += [\"veh_curr\", \"veh_charge_st\", \"esd_sc_temp_list\", \"esd_sc_volt_list\"]\n",
    "sel_col += [\"esd_sc_temp_list\"]"
   ]
  },
  {
   "cell_type": "code",
   "execution_count": 41,
   "metadata": {},
   "outputs": [],
   "source": [
    "vins = []\n",
    "date_to_check = '20191202'"
   ]
  },
  {
   "cell_type": "code",
   "execution_count": 42,
   "metadata": {},
   "outputs": [],
   "source": [
    "import pyspark.sql.functions as F\n",
    "\n",
    "schema = \"day string, vin string\"\n",
    "schema += \", veh_charge_st short, veh_soc short, veh_volt float\"\n",
    "schema += \", veh_insulation int,  veh_curr float, min_volt float, max_volt float\"\n",
    "schema += \", min_temp int, max_temp int, delta_volt float, temp_mean float\"\n",
    "\n",
    "@F.pandas_udf(schema, F.PandasUDFType.GROUPED_MAP)\n",
    "def filters(pdf):\n",
    "    pdf.dropna(how=\"any\", inplace=True)\n",
    "    filter_conds = pdf.min_temp >= 65\n",
    "    filter_conds = (filter_conds) or (pdf.min_temp <= -40)\n",
    "    filter_conds = (filter_conds) or (pdf.max_temp >= 100)\n",
    "    filter_conds = (filter_conds) or (pdf.max_temp <= -20)\n",
    "    \n",
    "    return pdf.loc[filter_conds, :]"
   ]
  },
  {
   "cell_type": "code",
   "execution_count": 43,
   "metadata": {},
   "outputs": [],
   "source": [
    "import pyspark.sql.functions as F\n",
    "\n",
    "def read_data(date_to_check):\n",
    "    raw_spark_df = get_raw_records_in_spark(hc, \n",
    "                                        vin_types=vintype,\n",
    "                                       vins=vins,\n",
    "                                        record_times=date_to_check, \n",
    "                                        sel_cols=sel_col, \n",
    "                                        nrows_to_print=None)\n",
    "    print(\"Get raw records in spark done!\")\n",
    "    raw_spark_df = raw_spark_df.repartition(1000, \"vin\")\n",
    "\n",
    "    casted_columns = ['day', 'vin', col('ts').cast(\"long\").alias('ts'), 'record_time',\n",
    "                   # col(\"veh_curr\").cast(\"float\").alias(\"veh_curr\"),\n",
    "                   #  col(\"veh_odo\").cast(\"float\").alias(\"veh_odo\"),\n",
    "                   #  col(\"veh_charge_st\").cast(\"short\").alias(\"veh_charge_st\"),\n",
    "                   #  col(\"veh_st\").cast(\"int\").alias(\"veh_st\"),\n",
    "                   \"esd_sc_temp_list\", \n",
    "                   #\"esd_sc_volt_list\", \n",
    "                   ]\n",
    "    raw_spark_df = raw_spark_df.select(*casted_columns)\n",
    "    print(\"Select columns done!\")\n",
    "    \n",
    "    raw_spark_df = convert_signal_str_to_col_use_spark(\n",
    "        raw_spark_df,\n",
    "        cols_split_dict={\n",
    "            'esd_sc_temp_list':(\"temp\", num_modules, \"\\|\", \"int\"),\n",
    "          #  'esd_sc_volt_list':(\"volt\", num_cells, \"\\|\", \"float\")\n",
    "        },\n",
    "        #other_cols=[c for c in raw_spark_df.columns if c not in [\"esd_sc_temp_list\", \"esd_sc_volt_list\"]]\n",
    "        other_cols=[c for c in raw_spark_df.columns if c not in [\"esd_sc_temp_list\"]]\n",
    "    )\n",
    "    print(\"Split columns done!\")\n",
    "    \n",
    "    raw_spark_df = raw_spark_df.withColumn('min_temp', F.least(*[col(\"temp_\" + str(i+1)) for i in range(num_modules)]))\n",
    "    raw_spark_df = raw_spark_df.withColumn('max_temp', F.greatest(*[col(\"temp_\" + str(i+1)) for i in range(num_modules)]))\n",
    "\n",
    "    drop_cols = [\"temp_\" + str(i+1) for i in range(num_modules)]\n",
    "    drop_cols += ['ts', 'record_time']\n",
    "    raw_spark_df = raw_spark_df.drop(*drop_cols)    \n",
    "    print(\"Drop columns done!\")\n",
    "    #raw_spark_df = raw_spark_df.groupby(['day', 'vin']).apply(filters)\n",
    "    \n",
    "    raw_spark_df = raw_spark_df.filter((raw_spark_df['min_temp'] >= 65) | (raw_spark_df['min_temp'] <= -40) | (raw_spark_df['max_temp'] >= 100) | (raw_spark_df['max_temp'] <= -20))\n",
    "    print(\"Filtering done!\")\n",
    "                 \n",
    "    #return raw_spark_df.toPandas()\n",
    "    return raw_spark_df"
   ]
  },
  {
   "cell_type": "code",
   "execution_count": 44,
   "metadata": {},
   "outputs": [
    {
     "name": "stdout",
     "output_type": "stream",
     "text": [
      "submitting query \n",
      "SELECT day, vin, ts, esd_sc_temp_list FROM \n",
      "guobiao_tsp_tbls.guobiao_raw_orc\n",
      "WHERE vintype = 'A5HEV'\n",
      "AND day = '20191202'\n",
      "ORDER BY vin, ts\n",
      "Get raw records in spark done!\n",
      "Select columns done!\n",
      "Split columns done!\n",
      "Drop columns done!\n",
      "Filtering done!\n"
     ]
    }
   ],
   "source": [
    "df = read_data(date_to_check)"
   ]
  },
  {
   "cell_type": "code",
   "execution_count": 45,
   "metadata": {},
   "outputs": [
    {
     "name": "stdout",
     "output_type": "stream",
     "text": [
      "Finished in 1212.60083699 seconds\n"
     ]
    }
   ],
   "source": [
    "#df.coalesce(1).write.csv(\"/data/home/burst_20191116.csv\")\n",
    "stime = time.time()\n",
    "df.toPandas().to_csv(\"burst_20191202.csv\")\n",
    "etime = time.time()\n",
    "print \"Finished in {} seconds\".format(etime - stime)"
   ]
  },
  {
   "cell_type": "code",
   "execution_count": null,
   "metadata": {},
   "outputs": [],
   "source": []
  }
 ],
 "metadata": {
  "kernelspec": {
   "display_name": "Python 2",
   "language": "python",
   "name": "python2"
  },
  "language_info": {
   "codemirror_mode": {
    "name": "ipython",
    "version": 2
   },
   "file_extension": ".py",
   "mimetype": "text/x-python",
   "name": "python",
   "nbconvert_exporter": "python",
   "pygments_lexer": "ipython2",
   "version": "2.7.5"
  }
 },
 "nbformat": 4,
 "nbformat_minor": 2
}
