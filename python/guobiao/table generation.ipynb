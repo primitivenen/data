{
 "cells": [
  {
   "cell_type": "code",
   "execution_count": 1,
   "metadata": {},
   "outputs": [],
   "source": [
    "import findspark\n",
    "findspark.init('/usr/hdp/current/spark2-client')\n",
    "\n",
    "import pyspark\n",
    "from pyspark.sql.functions import lit, col, instr, expr, pow, round, bround, corr, count, mean, stddev_pop, min, max\n",
    "from pyspark.sql.functions import monotonically_increasing_id, initcap, lower, upper, ltrim, rtrim, rpad, lpad, trim\n",
    "from pyspark.sql.functions import regexp_replace, translate, regexp_extract, current_date, current_timestamp, struct\n",
    "from pyspark.sql.functions import date_add, date_sub, datediff, months_between, to_date, to_timestamp, coalesce, split, size\n",
    "from pyspark.sql.functions import array_contains, explode, udf\n",
    "from pyspark.sql import HiveContext\n",
    "from pyspark.sql import SparkSession\n",
    "from pyspark.sql.types import *\n",
    "from pyspark.sql.functions import col, when\n",
    "\n",
    "from pyspark.sql.types import StructField, StructType, StringType, IntegerType, DoubleType, FloatType, LongType\n",
    "\n",
    "from datetime import datetime,timedelta"
   ]
  },
  {
   "cell_type": "code",
   "execution_count": 2,
   "metadata": {},
   "outputs": [],
   "source": [
    "def get_Spark():\n",
    "\n",
    "    conf = pyspark.SparkConf().setAll([\n",
    "        ('spark.submit.deployMode', 'client'), # deploy in yarn-client or yarn-cluster\n",
    "        ('spark.executor.memory', '8g'),       # memory allocated for each executor\n",
    "        ('spark.executor.cores', '3'),         # number of cores for each executor\n",
    "        ('spark.executor.instances', '10'),    # number of executors in total\n",
    "        ('spark.yarn.am.memory', '10g')])      # memory for spark driver (application master)\n",
    "    spark = SparkSession.builder \\\n",
    "    .master(\"yarn\") \\\n",
    "    .appName(\"table_generation\") \\\n",
    "    .enableHiveSupport() \\\n",
    "    .config(conf = conf) \\\n",
    "    .getOrCreate()\n",
    "\n",
    "    return spark\n",
    "\n",
    "spark = get_Spark()\n",
    "spark_context = spark.sparkContext\n",
    "hc = HiveContext(spark_context)"
   ]
  },
  {
   "cell_type": "code",
   "execution_count": 3,
   "metadata": {},
   "outputs": [],
   "source": [
    "def hive2spark(hc, query):\n",
    "    spark_df = hc.sql(\"\"\"{}\"\"\".format(query))\n",
    "    return spark_df"
   ]
  },
  {
   "cell_type": "code",
   "execution_count": 4,
   "metadata": {},
   "outputs": [],
   "source": [
    "query = \"\"\"select * from guobiao_tsp_tbls.charging\"\"\"  "
   ]
  },
  {
   "cell_type": "code",
   "execution_count": 5,
   "metadata": {},
   "outputs": [],
   "source": [
    "df1 = hive2spark(hc, query)"
   ]
  },
  {
   "cell_type": "code",
   "execution_count": 6,
   "metadata": {},
   "outputs": [
    {
     "data": {
      "text/plain": [
       "Row(ah_throughput=Decimal('24.0'), battery_temp_diff_mean=Decimal('1.1'), battery_temp_diff_p1=Decimal('1.0'), battery_temp_diff_p99=Decimal('2.0'), battery_temp_diff_std=Decimal('0.3'), battery_temp_max=32, battery_temp_mean=Decimal('30.8'), battery_temp_min=30, cell_volt_diff_mean=Decimal('0.0192'), cell_volt_diff_p1=Decimal('0.0180'), cell_volt_diff_p99=Decimal('0.0210'), cell_volt_diff_std=Decimal('0.0008'), cell_volt_max=Decimal('4.071'), cell_volt_mean=Decimal('3.9708'), cell_volt_min=Decimal('3.862'), count_records=590, delta_soc=19, duration=Decimal('1.639'), end_soc=87, end_time=datetime.datetime(2019, 7, 18, 23, 59, 55), end_ts=1563465595000, kwh_throughput=Decimal('9.5'), mean_latitude=Decimal('28.8059'), mean_longitude=Decimal('113.0365'), normalized_ah_throughput=Decimal('126.4'), normalized_duration=Decimal('8.626'), normalized_kwh_throughput=Decimal('49.9'), start_soc=68, start_time=datetime.datetime(2019, 7, 18, 22, 21, 45), start_ts=1563459705000, veh_curr_mean=Decimal('-14.7'), veh_curr_p1=Decimal('-15.0'), veh_curr_p99=Decimal('-14.0'), veh_curr_std=Decimal('0.3'), vin=u'LMWHP1S56J1000480', day=datetime.date(2019, 7, 18))"
      ]
     },
     "execution_count": 6,
     "metadata": {},
     "output_type": "execute_result"
    }
   ],
   "source": [
    "df1.head()"
   ]
  },
  {
   "cell_type": "code",
   "execution_count": 7,
   "metadata": {},
   "outputs": [
    {
     "name": "stdout",
     "output_type": "stream",
     "text": [
      "+-------------+----------------------+--------------------+---------------------+---------------------+----------------+-----------------+----------------+-------------------+-----------------+------------------+------------------+-------------+--------------+-------------+-------------+---------+--------+-------+-------------------+-------------+--------------+-------------+--------------+------------------------+-------------------+-------------------------+---------+-------------------+-------------+-------------+-----------+------------+------------+-----------------+----------+\n",
      "|ah_throughput|battery_temp_diff_mean|battery_temp_diff_p1|battery_temp_diff_p99|battery_temp_diff_std|battery_temp_max|battery_temp_mean|battery_temp_min|cell_volt_diff_mean|cell_volt_diff_p1|cell_volt_diff_p99|cell_volt_diff_std|cell_volt_max|cell_volt_mean|cell_volt_min|count_records|delta_soc|duration|end_soc|           end_time|       end_ts|kwh_throughput|mean_latitude|mean_longitude|normalized_ah_throughput|normalized_duration|normalized_kwh_throughput|start_soc|         start_time|     start_ts|veh_curr_mean|veh_curr_p1|veh_curr_p99|veh_curr_std|              vin|       day|\n",
      "+-------------+----------------------+--------------------+---------------------+---------------------+----------------+-----------------+----------------+-------------------+-----------------+------------------+------------------+-------------+--------------+-------------+-------------+---------+--------+-------+-------------------+-------------+--------------+-------------+--------------+------------------------+-------------------+-------------------------+---------+-------------------+-------------+-------------+-----------+------------+------------+-----------------+----------+\n",
      "|         24.0|                   1.1|                 1.0|                  2.0|                  0.3|              32|             30.8|              30|             0.0192|           0.0180|            0.0210|            0.0008|        4.071|        3.9708|        3.862|          590|       19|   1.639|     87|2019-07-18 23:59:55|1563465595000|           9.5|      28.8059|      113.0365|                   126.4|              8.626|                     49.9|       68|2019-07-18 22:21:45|1563459705000|        -14.7|      -15.0|       -14.0|         0.3|LMWHP1S56J1000480|2019-07-18|\n",
      "|         41.4|                   4.0|                 3.0|                  5.0|                  0.5|              42|             36.9|              31|             0.0298|           0.0220|            0.0410|            0.0079|        4.137|        4.0139|        3.814|          201|       32|   0.558|     91|2019-07-18 13:46:25|1563428785000|          16.4|      23.0666|      113.2979|                   129.3|              1.745|                     51.3|       59|2019-07-18 13:13:05|1563426785000|        -74.3|     -115.0|       -43.5|        34.5|LMWHP1S26K1009249|2019-07-18|\n",
      "|         93.4|                   2.9|                 1.0|                  4.0|                  0.8|              41|             34.8|              26|             0.0305|           0.0220|            0.0400|            0.0073|        4.254|        3.9870|        3.675|          427|       68|   1.186|     98|2019-07-18 06:21:45|1563402105000|          36.5|      23.2663|      113.2424|                   137.3|              1.744|                     53.6|       30|2019-07-18 05:10:45|1563397845000|        -79.0|     -115.5|       -41.1|        34.2|LMWHP1S26K1009249|2019-07-18|\n",
      "|         68.6|                   4.2|                 3.0|                  5.0|                  0.8|              36|             34.9|              30|               null|             null|              null|              null|         null|          null|         null|         3931|       58|  10.919|     98|2019-07-18 05:20:25|1563398425000|         449.6|      23.1622|      113.4962|                   118.3|             18.827|                    775.1|       40|2019-07-17 18:25:25|1563359125000|         -6.3|       -7.5|        -5.5|         0.4|LMGHP1S59J1003417|2019-07-18|\n",
      "|        108.6|                   4.0|                 2.0|                  5.0|                  0.7|              42|             36.0|              29|             0.0393|           0.0319|            0.0520|            0.0058|        4.255|        3.9406|        3.614|          492|       82|   1.369|    100|2019-07-18 15:03:15|1563433395000|          41.9|      23.1434|      113.1937|                   132.4|              1.670|                     51.1|       18|2019-07-18 13:41:15|1563428475000|        -79.8|     -107.0|       -44.0|        30.3|LMWHP1S24K1006463|2019-07-18|\n",
      "+-------------+----------------------+--------------------+---------------------+---------------------+----------------+-----------------+----------------+-------------------+-----------------+------------------+------------------+-------------+--------------+-------------+-------------+---------+--------+-------+-------------------+-------------+--------------+-------------+--------------+------------------------+-------------------+-------------------------+---------+-------------------+-------------+-------------+-----------+------------+------------+-----------------+----------+\n",
      "only showing top 5 rows\n",
      "\n"
     ]
    }
   ],
   "source": [
    "df1.show(5)"
   ]
  },
  {
   "cell_type": "code",
   "execution_count": 8,
   "metadata": {},
   "outputs": [],
   "source": [
    "df2 = df1.select(\"day\",\"vin\",\"start_time\",\"end_time\",\"duration\")"
   ]
  },
  {
   "cell_type": "code",
   "execution_count": 9,
   "metadata": {},
   "outputs": [],
   "source": [
    "from pyspark.sql import functions as F"
   ]
  },
  {
   "cell_type": "code",
   "execution_count": 10,
   "metadata": {},
   "outputs": [],
   "source": [
    "df2 = df2.withColumn(\"month\",F.trunc(\"day\",\"month\"))\n",
    "df2 = df2.drop(\"day\")"
   ]
  },
  {
   "cell_type": "code",
   "execution_count": 11,
   "metadata": {},
   "outputs": [
    {
     "name": "stdout",
     "output_type": "stream",
     "text": [
      "+-----------------+-------------------+-------------------+--------+----------+\n",
      "|              vin|         start_time|           end_time|duration|     month|\n",
      "+-----------------+-------------------+-------------------+--------+----------+\n",
      "|LMWHP1S56J1000480|2019-07-18 22:21:45|2019-07-18 23:59:55|   1.639|2019-07-01|\n",
      "|LMWHP1S26K1009249|2019-07-18 13:13:05|2019-07-18 13:46:25|   0.558|2019-07-01|\n",
      "|LMWHP1S26K1009249|2019-07-18 05:10:45|2019-07-18 06:21:45|   1.186|2019-07-01|\n",
      "|LMGHP1S59J1003417|2019-07-17 18:25:25|2019-07-18 05:20:25|  10.919|2019-07-01|\n",
      "|LMWHP1S24K1006463|2019-07-18 13:41:15|2019-07-18 15:03:15|   1.369|2019-07-01|\n",
      "+-----------------+-------------------+-------------------+--------+----------+\n",
      "only showing top 5 rows\n",
      "\n"
     ]
    }
   ],
   "source": [
    "df2.show(5)"
   ]
  },
  {
   "cell_type": "code",
   "execution_count": null,
   "metadata": {},
   "outputs": [],
   "source": []
  },
  {
   "cell_type": "code",
   "execution_count": 12,
   "metadata": {},
   "outputs": [
    {
     "name": "stdout",
     "output_type": "stream",
     "text": [
      "+----------+-----------------+------------------------+\n",
      "|     month|              vin|total_duration_per_month|\n",
      "+----------+-----------------+------------------------+\n",
      "|2019-07-01|LMWHP1S29K1009617|                  37.472|\n",
      "|2019-07-01|LMGHP1S50J1002690|                  22.642|\n",
      "|2019-07-01|LMGAJ1S24H1000945|                  27.234|\n",
      "|2019-07-01|LMWHP1S86K1006811|                 147.487|\n",
      "|2019-07-01|LMWHP1S80K1006142|                  41.394|\n",
      "+----------+-----------------+------------------------+\n",
      "only showing top 5 rows\n",
      "\n"
     ]
    }
   ],
   "source": [
    "df3 = df2.groupBy(\"month\",\"vin\").agg(expr(\"sum(duration)\").alias(\"total_duration_per_month\"))\n",
    "df3.show(5)"
   ]
  },
  {
   "cell_type": "code",
   "execution_count": 13,
   "metadata": {},
   "outputs": [
    {
     "data": {
      "text/plain": [
       "Row(month=datetime.date(2019, 5, 1), vin=u'LMWHP1S80J1002705', total_duration_per_month=Decimal('105.386'))"
      ]
     },
     "execution_count": 13,
     "metadata": {},
     "output_type": "execute_result"
    }
   ],
   "source": [
    "df3.head()"
   ]
  },
  {
   "cell_type": "code",
   "execution_count": 14,
   "metadata": {},
   "outputs": [
    {
     "name": "stdout",
     "output_type": "stream",
     "text": [
      "+----------+-----------------+-----+\n",
      "|     month|              vin|count|\n",
      "+----------+-----------------+-----+\n",
      "|2019-04-01|LMGFJ1S50H1000764|   44|\n",
      "|2019-04-01|LMWHP1S81J1003913|   27|\n",
      "|2019-04-01|LMGAJ1S83J1011736|   28|\n",
      "|2019-04-01|LMWHP1S29J1000107|   73|\n",
      "|2019-04-01|LMWHP1S8XJ1001366|   14|\n",
      "+----------+-----------------+-----+\n",
      "only showing top 5 rows\n",
      "\n"
     ]
    }
   ],
   "source": [
    "df4 = df2.groupBy(\"month\",\"vin\").count()\n",
    "df4.show(5)"
   ]
  },
  {
   "cell_type": "code",
   "execution_count": 15,
   "metadata": {},
   "outputs": [
    {
     "data": {
      "text/plain": [
       "Row(month=datetime.date(2019, 6, 1), vin=u'LMWHP1S89J1001424', count=4)"
      ]
     },
     "execution_count": 15,
     "metadata": {},
     "output_type": "execute_result"
    }
   ],
   "source": [
    "df4.head()"
   ]
  },
  {
   "cell_type": "code",
   "execution_count": 16,
   "metadata": {},
   "outputs": [],
   "source": [
    "df = df3.alias(\"a\").join(df4.alias(\"b\"),(df3.vin == df4.vin) & (df3.month == df4.month))\\\n",
    ".select(\"a.vin\",\"a.month\",\"a.total_duration_per_month\",\"b.count\")\n",
    "df = df.withColumnRenamed(\"count\",\"charging_count\")"
   ]
  },
  {
   "cell_type": "code",
   "execution_count": 17,
   "metadata": {},
   "outputs": [
    {
     "name": "stdout",
     "output_type": "stream",
     "text": [
      "+-----------------+----------+------------------------+--------------+\n",
      "|              vin|     month|total_duration_per_month|charging_count|\n",
      "+-----------------+----------+------------------------+--------------+\n",
      "|LMGAJ1S20H1000487|2017-10-01|                   6.397|             2|\n",
      "|LMGAJ1S20H1000604|2018-03-01|                  11.930|             7|\n",
      "|LMGAJ1S20H1001140|2018-07-01|                   0.825|             1|\n",
      "|LMGAJ1S20H1001493|2019-04-01|                  11.481|             9|\n",
      "|LMGAJ1S20J1002438|2019-02-01|                  65.267|            32|\n",
      "+-----------------+----------+------------------------+--------------+\n",
      "only showing top 5 rows\n",
      "\n"
     ]
    }
   ],
   "source": [
    "df.show(5)"
   ]
  },
  {
   "cell_type": "code",
   "execution_count": 18,
   "metadata": {},
   "outputs": [],
   "source": [
    "df = df.withColumn(\"average_charging_duration_per_month\",(F.col(\"total_duration_per_month\") / F.col(\"charging_count\")))"
   ]
  },
  {
   "cell_type": "code",
   "execution_count": 19,
   "metadata": {},
   "outputs": [
    {
     "name": "stdout",
     "output_type": "stream",
     "text": [
      "+-----------------+----------+------------------------+--------------+-----------------------------------+\n",
      "|              vin|     month|total_duration_per_month|charging_count|average_charging_duration_per_month|\n",
      "+-----------------+----------+------------------------+--------------+-----------------------------------+\n",
      "|LMGAJ1S20H1000487|2017-10-01|                   6.397|             2|               3.198500000000000...|\n",
      "|LMGAJ1S20H1000604|2018-03-01|                  11.930|             7|               1.704285714285714...|\n",
      "|LMGAJ1S20H1001140|2018-07-01|                   0.825|             1|               0.825000000000000...|\n",
      "|LMGAJ1S20H1001493|2019-04-01|                  11.481|             9|               1.275666666666666...|\n",
      "|LMGAJ1S20J1002438|2019-02-01|                  65.267|            32|               2.039593750000000...|\n",
      "+-----------------+----------+------------------------+--------------+-----------------------------------+\n",
      "only showing top 5 rows\n",
      "\n"
     ]
    }
   ],
   "source": [
    "df.show(5)"
   ]
  },
  {
   "cell_type": "code",
   "execution_count": 20,
   "metadata": {},
   "outputs": [],
   "source": [
    "query2 = \"\"\"select * from ubi.guobiao_trip_complete\"\"\"  \n",
    "df5 = hive2spark(hc, query2)"
   ]
  },
  {
   "cell_type": "code",
   "execution_count": 21,
   "metadata": {},
   "outputs": [
    {
     "data": {
      "text/plain": [
       "Row(vin=u'LMGAJ1S20H1000005', start_loc_lat=31.0247, start_loc_lon=121.699626, start_time=datetime.datetime(2019, 4, 14, 8, 57, 45), start_day=u'20190414', end_loc_lat=31.024209, end_loc_lon=121.699399, end_time=datetime.datetime(2019, 4, 14, 8, 58, 55), distance=1.0, duration=1.1666666666666667)"
      ]
     },
     "execution_count": 21,
     "metadata": {},
     "output_type": "execute_result"
    }
   ],
   "source": [
    "df5.head()"
   ]
  },
  {
   "cell_type": "code",
   "execution_count": 22,
   "metadata": {},
   "outputs": [],
   "source": [
    "df5 = df5.select(F.to_date(F.unix_timestamp(\"start_day\",'yyyyMMdd').cast('timestamp')).alias('day'),\"vin\",\"distance\",\"duration\")"
   ]
  },
  {
   "cell_type": "code",
   "execution_count": 23,
   "metadata": {},
   "outputs": [
    {
     "name": "stdout",
     "output_type": "stream",
     "text": [
      "+----------+-----------------+--------+------------------+\n",
      "|       day|              vin|distance|          duration|\n",
      "+----------+-----------------+--------+------------------+\n",
      "|2019-04-14|LMGAJ1S20H1000005|     1.0|1.1666666666666667|\n",
      "|2019-04-16|LMGAJ1S20H1000148|     1.0| 4.666666666666667|\n",
      "+----------+-----------------+--------+------------------+\n",
      "only showing top 2 rows\n",
      "\n"
     ]
    }
   ],
   "source": [
    "df5.show(2)"
   ]
  },
  {
   "cell_type": "code",
   "execution_count": 24,
   "metadata": {},
   "outputs": [],
   "source": [
    "df5 = df5.withColumn(\"month\",F.trunc(\"day\",\"month\"))\n",
    "df5 = df5.drop(\"day\")"
   ]
  },
  {
   "cell_type": "code",
   "execution_count": 25,
   "metadata": {},
   "outputs": [
    {
     "name": "stdout",
     "output_type": "stream",
     "text": [
      "+-----------------+--------+------------------+----------+\n",
      "|              vin|distance|          duration|     month|\n",
      "+-----------------+--------+------------------+----------+\n",
      "|LMGAJ1S20H1000005|     1.0|1.1666666666666667|2019-04-01|\n",
      "|LMGAJ1S20H1000148|     1.0| 4.666666666666667|2019-04-01|\n",
      "+-----------------+--------+------------------+----------+\n",
      "only showing top 2 rows\n",
      "\n"
     ]
    }
   ],
   "source": [
    "df5.show(2)"
   ]
  },
  {
   "cell_type": "code",
   "execution_count": 26,
   "metadata": {},
   "outputs": [
    {
     "name": "stdout",
     "output_type": "stream",
     "text": [
      "+----------+-----------------+-----------------------------+\n",
      "|     month|              vin|total_trip_duration_per_month|\n",
      "+----------+-----------------+-----------------------------+\n",
      "|2018-12-01|LMGAJ1S24J1007013|           1792.9999999999998|\n",
      "|2018-12-01|LMGAJ1S27J1004378|           2470.8333333333335|\n",
      "|2018-12-01|LMGAJ1S28J1002557|            3779.166666666667|\n",
      "|2018-12-01|LMGAJ1S29J1002888|            4914.166666666666|\n",
      "|2018-12-01|LMGAJ1S88J1003101|           1884.6666666666663|\n",
      "+----------+-----------------+-----------------------------+\n",
      "only showing top 5 rows\n",
      "\n"
     ]
    }
   ],
   "source": [
    "df6 = df5.groupBy(\"month\",\"vin\").agg(expr(\"sum(duration)\").alias(\"total_trip_duration_per_month\"))\n",
    "df6.show(5)"
   ]
  },
  {
   "cell_type": "code",
   "execution_count": 27,
   "metadata": {},
   "outputs": [
    {
     "name": "stdout",
     "output_type": "stream",
     "text": [
      "+----------+-----------------+-----+\n",
      "|     month|              vin|count|\n",
      "+----------+-----------------+-----+\n",
      "|2019-04-01|LMWHP1S29J1000107|  185|\n",
      "|2019-04-01|LMWHP1S51J1004744|   46|\n",
      "|2019-04-01|LMWHP1S52K1007458|   81|\n",
      "|2019-04-01|LMWHP1S55J1000566|   49|\n",
      "|2019-04-01|LMWHP1S81J1001210|   69|\n",
      "+----------+-----------------+-----+\n",
      "only showing top 5 rows\n",
      "\n"
     ]
    }
   ],
   "source": [
    "df7 = df5.groupBy(\"month\",\"vin\").count()\n",
    "df7.show(5)"
   ]
  },
  {
   "cell_type": "code",
   "execution_count": 28,
   "metadata": {},
   "outputs": [
    {
     "name": "stdout",
     "output_type": "stream",
     "text": [
      "+-----------------+----------+-----------------------------+-----+\n",
      "|              vin|     month|total_trip_duration_per_month|count|\n",
      "+-----------------+----------+-----------------------------+-----+\n",
      "|LMGAJ1S20H1000487|2017-10-01|                       1336.0|   28|\n",
      "|LMGAJ1S20H1000487|2019-03-01|           1020.3333333333335|   16|\n",
      "|LMGAJ1S20H1000604|2018-03-01|            835.8333333333333|   15|\n",
      "|LMGAJ1S20H1001140|2018-07-01|                       2463.0|   62|\n",
      "|LMGAJ1S20H1001493|2019-04-01|            2187.166666666667|   44|\n",
      "+-----------------+----------+-----------------------------+-----+\n",
      "only showing top 5 rows\n",
      "\n"
     ]
    }
   ],
   "source": [
    "df_trip = df6.alias(\"a\").join(df7.alias(\"b\"),(df6.vin == df7.vin) & (df6.month == df7.month))\\\n",
    ".select(\"a.vin\",\"a.month\",\"a.total_trip_duration_per_month\",\"b.count\")\n",
    "df_trip.show(5)"
   ]
  },
  {
   "cell_type": "code",
   "execution_count": 29,
   "metadata": {},
   "outputs": [
    {
     "name": "stdout",
     "output_type": "stream",
     "text": [
      "+-----------------+----------+-----------------------------+----------+\n",
      "|              vin|     month|total_trip_duration_per_month|trip_count|\n",
      "+-----------------+----------+-----------------------------+----------+\n",
      "|LMGAJ1S20H1000487|2017-10-01|                       1336.0|        28|\n",
      "|LMGAJ1S20H1000487|2019-03-01|           1020.3333333333334|        16|\n",
      "|LMGAJ1S20H1000604|2018-03-01|            835.8333333333334|        15|\n",
      "|LMGAJ1S20H1001140|2018-07-01|           2463.0000000000005|        62|\n",
      "|LMGAJ1S20H1001493|2019-04-01|           2187.1666666666665|        44|\n",
      "+-----------------+----------+-----------------------------+----------+\n",
      "only showing top 5 rows\n",
      "\n"
     ]
    }
   ],
   "source": [
    "df_trip = df_trip.withColumnRenamed(\"count\",\"trip_count\")\n",
    "df_trip.show(5)"
   ]
  },
  {
   "cell_type": "code",
   "execution_count": 42,
   "metadata": {},
   "outputs": [],
   "source": [
    "df_trip = df_trip.withColumn(\"average_trip_duration_per_month\",(F.col(\"total_trip_duration_per_month\") / F.col(\"trip_count\")))\n",
    "#df_trip.show(5)"
   ]
  },
  {
   "cell_type": "code",
   "execution_count": 43,
   "metadata": {},
   "outputs": [
    {
     "name": "stdout",
     "output_type": "stream",
     "text": [
      "+-----------------+----------+-----------------------------------+------------------------+--------------+----------+------------------------------+--------------------------+\n",
      "|              vin|     month|average_charging_duration_per_month|total_duration_per_month|charging_count|trip_count|average_trip_minutes_per_month|total_trip_hours_per_month|\n",
      "+-----------------+----------+-----------------------------------+------------------------+--------------+----------+------------------------------+--------------------------+\n",
      "|LMGAJ1S20H1000487|2017-10-01|                               3.20|                   6.397|             2|        28|                            47|                     22.27|\n",
      "|LMGAJ1S20H1000604|2018-03-01|                               1.70|                  11.930|             7|        15|                            55|                     13.93|\n",
      "|LMGAJ1S20H1001140|2018-07-01|                               0.83|                   0.825|             1|        62|                            39|                     41.05|\n",
      "|LMGAJ1S20H1001493|2019-04-01|                               1.28|                  11.481|             9|        44|                            49|                     36.45|\n",
      "|LMGAJ1S20J1002438|2019-02-01|                               2.04|                  65.267|            32|        59|                            37|                     37.28|\n",
      "+-----------------+----------+-----------------------------------+------------------------+--------------+----------+------------------------------+--------------------------+\n",
      "only showing top 5 rows\n",
      "\n"
     ]
    }
   ],
   "source": [
    "mydf = df.alias(\"a\").join(df_trip.alias(\"b\"),(df.vin == df_trip.vin) & (df.month == df_trip.month))\\\n",
    ".select(\"a.vin\",\"a.month\",\"a.average_charging_duration_per_month\",\"a.total_duration_per_month\",\\\n",
    "        \"a.charging_count\",\"b.total_trip_duration_per_month\",\"b.trip_count\",\"b.average_trip_duration_per_month\")\n",
    "mydf = mydf.withColumn(\"total_trip_hours_per_month\",F.col(\"total_trip_duration_per_month\")/60.0)\n",
    "#mydf.show(5)\n",
    "mydf = mydf.select(\"vin\",\"month\",expr(\"round(average_charging_duration_per_month,2)\").alias(\"average_charging_duration_per_month\"),\"total_duration_per_month\",\\\n",
    "        \"charging_count\",\"trip_count\",expr(\"int(average_trip_duration_per_month)\").alias(\"average_trip_minutes_per_month\"),\\\n",
    "            expr(\"round(total_trip_hours_per_month,2)\").alias(\"total_trip_hours_per_month\"))\n",
    "mydf.show(5)"
   ]
  },
  {
   "cell_type": "code",
   "execution_count": 44,
   "metadata": {},
   "outputs": [
    {
     "name": "stdout",
     "output_type": "stream",
     "text": [
      "+-----------------+----------+--------------------------------+------------------------------+--------------+----------+------------------------------+--------------------------+\n",
      "|              vin|     month|average_charging_hours_per_month|total_charging_hours_per_month|charging_count|trip_count|average_trip_minutes_per_month|total_trip_hours_per_month|\n",
      "+-----------------+----------+--------------------------------+------------------------------+--------------+----------+------------------------------+--------------------------+\n",
      "|LMGAJ1S20H1000487|2017-10-01|                            3.20|                         6.397|             2|        28|                            47|                     22.27|\n",
      "|LMGAJ1S20H1000604|2018-03-01|                            1.70|                        11.930|             7|        15|                            55|                     13.93|\n",
      "|LMGAJ1S20H1001140|2018-07-01|                            0.83|                         0.825|             1|        62|                            39|                     41.05|\n",
      "|LMGAJ1S20H1001493|2019-04-01|                            1.28|                        11.481|             9|        44|                            49|                     36.45|\n",
      "|LMGAJ1S20J1002438|2019-02-01|                            2.04|                        65.267|            32|        59|                            37|                     37.28|\n",
      "+-----------------+----------+--------------------------------+------------------------------+--------------+----------+------------------------------+--------------------------+\n",
      "only showing top 5 rows\n",
      "\n"
     ]
    }
   ],
   "source": [
    "mydf = mydf.withColumnRenamed(\"total_duration_per_month\",\"total_charging_hours_per_month\")\n",
    "mydf = mydf.withColumnRenamed(\"average_charging_duration_per_month\",\"average_charging_hours_per_month\")\n",
    "#mydf = mydf.withColumnRenamed(\"average_trip_duration_per_month\",\"average_trip_minutes_per_month\")\n",
    "#mydf = mydf.withColumnRenamed(\"total_trip_duration_per_month\",\"total_trip_minutes_per_month\")\n",
    "mydf.show(5)"
   ]
  },
  {
   "cell_type": "code",
   "execution_count": null,
   "metadata": {},
   "outputs": [
    {
     "name": "stdout",
     "output_type": "stream",
     "text": [
      "CREATE TABLE guobiao_tsp_tbls.monthly_trip_and_charging_statistics AS SELECT vin,month,\n",
      "    average_charging_hours_per_month,total_charging_hours_per_month,charging_count,total_trip_hours_per_month,\n",
      "    trip_count,average_trip_minutes_per_month\n",
      "    FROM trip_charging_info\n"
     ]
    }
   ],
   "source": [
    "cols = [when(~col(x).isin(\"NULL\", \"NA\", \"NaN\",\"\"), col(x)).alias(x) for x in mydf.columns]\n",
    "mydf = mydf.select(*cols)\n",
    "mydf.registerTempTable('trip_charging_info')\n",
    "sql_cmd = \"\"\"CREATE TABLE guobiao_tsp_tbls.monthly_trip_and_charging_statistics AS SELECT vin,month,\n",
    "    average_charging_hours_per_month,total_charging_hours_per_month,charging_count,total_trip_hours_per_month,\n",
    "    trip_count,average_trip_minutes_per_month\n",
    "    FROM trip_charging_info\"\"\"\n",
    "print(sql_cmd)\n",
    "hc.sql(sql_cmd)\n",
    "print('Table monthly_trip_and_charging_statistics creation done.')"
   ]
  },
  {
   "cell_type": "code",
   "execution_count": null,
   "metadata": {},
   "outputs": [],
   "source": []
  }
 ],
 "metadata": {
  "kernelspec": {
   "display_name": "Python 2",
   "language": "python",
   "name": "python2"
  },
  "language_info": {
   "codemirror_mode": {
    "name": "ipython",
    "version": 2
   },
   "file_extension": ".py",
   "mimetype": "text/x-python",
   "name": "python",
   "nbconvert_exporter": "python",
   "pygments_lexer": "ipython2",
   "version": "2.7.5"
  }
 },
 "nbformat": 4,
 "nbformat_minor": 2
}
