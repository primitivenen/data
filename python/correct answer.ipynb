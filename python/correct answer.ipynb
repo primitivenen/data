{
 "cells": [
  {
   "cell_type": "code",
   "execution_count": null,
   "metadata": {
    "collapsed": false,
    "deletable": true,
    "editable": true
   },
   "outputs": [],
   "source": []
  },
  {
   "cell_type": "code",
   "execution_count": 5,
   "metadata": {
    "collapsed": true,
    "deletable": true,
    "editable": true
   },
   "outputs": [],
   "source": []
  },
  {
   "cell_type": "code",
   "execution_count": 22,
   "metadata": {
    "collapsed": false,
    "deletable": true,
    "editable": true
   },
   "outputs": [
    {
     "name": "stdout",
     "output_type": "stream",
     "text": [
      "[0 0 0 0 1 1 1 1 1 0 0 1 1 0 0 0 0 0 1 1 0 1 1 0 0 1 1 0 1 1 1 1 1 1 1 0 1\n",
      " 0 1 1 0 1 1 1 1 1 1 0 0 0 0 1 1 1 0 0 0 0 1 1 1 1 1 0 1 1 0 0 1 0 0 1 0 0\n",
      " 1 1 0 0 0 1 1 1 1 0 0 0 1 1 0 1 1 1 1 1 1 1 0 0 1 1 1 1 0 0 0 1 1 1 0 1 1\n",
      " 1 1 0 0 0 1 1 0 1 1 1 1 1 0 0 0 0 1 1 0 0 1 1 0 0 1 1 1 0 1 1 1 0 0 1 1 0\n",
      " 0 1 0 0 1 1 0 0 1 0 1 1 0 1 0 1 1 1 0 1 1 1 1 0 0 1 1 0 1 0 0 1 1 0 0 1 0\n",
      " 1 0 1 0 0 0 0 1 1 1 1 1 0 0 0 1 0 1 0 0 1 1 0 1 1 1 0 1 0 1 0 0 0 1 0 1 1\n",
      " 0 1 1 0 1 1 1 1 0 1 1 1 1 0 0 1 0 0 1 0 0 0 1 1 1 0 1 0 1 0 1 0 1 0 0 0 0\n",
      " 0 1 1 1 0 1 1 0 1 1 1 1 1 1 0 0 0 1 1 1 0 1 0 1 1 1 0 1 0 1 0 0 0 1 0 0 0\n",
      " 1 1 1]\n"
     ]
    }
   ],
   "source": [
    "from sklearn import datasets\n",
    "from sklearn.cluster import KMeans\n",
    "import matplotlib.pyplot as plt \n",
    "import pandas as pd\n",
    "import numpy as np\n",
    "\n",
    "data=pd.read_csv(\"C:\\Users\\Wan Chen\\Desktop\\one_of_these_vectors.csv\")\n",
    "model=KMeans(n_clusters=2,random_state=1)\n",
    "kk=model.fit(data)\n",
    "labels=model.predict(data)\n",
    "clusters=labels.tolist()\n",
    "print(labels)"
   ]
  },
  {
   "cell_type": "code",
   "execution_count": null,
   "metadata": {
    "collapsed": false,
    "deletable": true,
    "editable": true
   },
   "outputs": [],
   "source": []
  },
  {
   "cell_type": "code",
   "execution_count": null,
   "metadata": {
    "collapsed": false,
    "deletable": true,
    "editable": true
   },
   "outputs": [],
   "source": []
  },
  {
   "cell_type": "code",
   "execution_count": 53,
   "metadata": {
    "collapsed": false,
    "deletable": true,
    "editable": true
   },
   "outputs": [
    {
     "name": "stdout",
     "output_type": "stream",
     "text": [
      "290\n"
     ]
    },
    {
     "data": {
      "image/png": "[encoded data removed]",
      "text/plain": [
       "<matplotlib.figure.Figure at 0xd496ef0>"
      ]
     },
     "metadata": {},
     "output_type": "display_data"
    }
   ],
   "source": [
    "import math\n",
    "with open(\"C:\\Users\\Wan Chen\\Desktop\\one_of_these_vectors.csv\") as f:\n",
    "    ans=[]\n",
    "    mean=[0.0, 0.0, 0.0, 0.0, 0.0, 0.0]\n",
    "    line=\"\"\n",
    "    for lines in f.readlines():\n",
    "        li=[]\n",
    "        num=lines.split(',')\n",
    "        sum=0\n",
    "        ave=0\n",
    "        i=0\n",
    "        for str in num:\n",
    "            li.append(str)\n",
    "            mean[i]+=float(str)\n",
    "            i=i+1\n",
    "        ans.append(li)\n",
    "        \n",
    "    max=0\n",
    "    outlier=-1\n",
    "    d=[]\n",
    "    for i in range(300):\n",
    "        dis=0.0\n",
    "        for j in range(6):\n",
    "            dis+=math.pow(float(ans[i][j])-mean[j] / 300,2) \n",
    "            d.append(dis)\n",
    "        if dis > max:\n",
    "            max = dis\n",
    "            outlier = i\n",
    "    \n",
    "    print(outlier)\n",
    "import matplotlib.mlab as mlab\n",
    "import matplotlib.pyplot as plt\n",
    " \n",
    "n, bins, patches = plt.hist(d, 300, facecolor='blue', alpha=0.5)\n",
    "plt.show()\n",
    "f.close()\n"
   ]
  },
  {
   "cell_type": "code",
   "execution_count": 45,
   "metadata": {
    "collapsed": false,
    "deletable": true,
    "editable": true
   },
   "outputs": [],
   "source": [
    "import math\n",
    "\n",
    "def dotproduct(v1, v2):\n",
    "    return sum((a*b) for a, b in zip(v1, v2))\n",
    "\n",
    "def length(v):\n",
    "    return math.sqrt(dotproduct(v, v))\n",
    "\n",
    "def angle(v1, v2):\n",
    "    return math.acos(dotproduct(v1, v2) / (length(v1) * length(v2)))"
   ]
  },
  {
   "cell_type": "code",
   "execution_count": 46,
   "metadata": {
    "collapsed": true,
    "deletable": true,
    "editable": true
   },
   "outputs": [],
   "source": [
    "import numpy as np\n",
    "\n",
    "def unit_vector(vector):\n",
    "    \"\"\" Returns the unit vector of the vector.  \"\"\"\n",
    "    return vector / np.linalg.norm(vector)\n",
    "\n",
    "def angle_between(v1, v2):\n",
    "    \"\"\" Returns the angle in radians between vectors 'v1' and 'v2'::\n",
    "\n",
    "            >>> angle_between((1, 0, 0), (0, 1, 0))\n",
    "            1.5707963267948966\n",
    "            >>> angle_between((1, 0, 0), (1, 0, 0))\n",
    "            0.0\n",
    "            >>> angle_between((1, 0, 0), (-1, 0, 0))\n",
    "            3.141592653589793\n",
    "    \"\"\"\n",
    "    v1_u = unit_vector(v1)\n",
    "    v2_u = unit_vector(v2)\n",
    "    return np.arccos(np.clip(np.dot(v1_u, v2_u), -1.0, 1.0))"
   ]
  },
  {
   "cell_type": "code",
   "execution_count": 52,
   "metadata": {
    "collapsed": false,
    "deletable": true,
    "editable": true
   },
   "outputs": [
    {
     "name": "stdout",
     "output_type": "stream",
     "text": [
      "178\n"
     ]
    }
   ],
   "source": [
    "import math\n",
    "with open(\"C:\\Users\\Wan Chen\\Desktop\\one_of_these_vectors.csv\") as f:\n",
    "    ans=[]\n",
    "    mean=[0.0, 0.0, 0.0, 0.0, 0.0, 0.0]\n",
    "    line=\"\"\n",
    "    for lines in f.readlines():\n",
    "        li=[]\n",
    "        num=lines.split(',')\n",
    "        sum=0\n",
    "        ave=0\n",
    "        i=0\n",
    "        for str in num:\n",
    "            li.append(str)\n",
    "            mean[i]+=float(str)\n",
    "            i=i+1\n",
    "        ans.append(li)\n",
    "        \n",
    "    max=0\n",
    "    outlier=-1\n",
    "    d=[]\n",
    "    for i in range(300):\n",
    "        dis=0.0\n",
    "        norm1=0.0\n",
    "        norm2=0.0\n",
    "        for j in range(6):\n",
    "            norm1=float(ans[i][j])*float(ans[i][j])\n",
    "            norm2=mean[j]*mean[j]\n",
    "            dis+=float(ans[i][j])*mean[j] \n",
    "        dis=dis/(math.sqrt(norm1)*math.sqrt(norm2))\n",
    "        if dis > max:\n",
    "            max = dis\n",
    "            outlier = i\n",
    "    \n",
    "    print(outlier)\n",
    "f.close()"
   ]
  },
  {
   "cell_type": "code",
   "execution_count": 54,
   "metadata": {
    "collapsed": false,
    "deletable": true,
    "editable": true
   },
   "outputs": [
    {
     "data": {
      "text/plain": [
       "(array([ 0.00142148,  0.00746278,  0.01990074,  0.0707187 ,  0.15920592,\n",
       "         0.20575943,  0.12509036,  0.03482629,  0.00923963,  0.00390907]),\n",
       " array([-8.289233 , -6.7206902, -5.1521474, -3.5836046, -2.0150618,\n",
       "        -0.446519 ,  1.1220238,  2.6905666,  4.2591094,  5.8276522,\n",
       "         7.396195 ]))"
      ]
     },
     "execution_count": 54,
     "metadata": {},
     "output_type": "execute_result"
    }
   ],
   "source": [
    "np.histogram(data, density=True)"
   ]
  },
  {
   "cell_type": "code",
   "execution_count": 55,
   "metadata": {
    "collapsed": true,
    "deletable": true,
    "editable": true
   },
   "outputs": [],
   "source": [
    "plt.show(np.histogram(data, density=True))"
   ]
  },
  {
   "cell_type": "code",
   "execution_count": null,
   "metadata": {
    "collapsed": false,
    "deletable": true,
    "editable": true
   },
   "outputs": [],
   "source": []
  },
  {
   "cell_type": "code",
   "execution_count": 152,
   "metadata": {
    "collapsed": false,
    "deletable": true,
    "editable": true
   },
   "outputs": [],
   "source": [
    "import pandas as pd\n",
    "import numpy as np\n",
    "\n",
    "data=pd.read_csv(\"C:\\Users\\Wan Chen\\Desktop\\one_of_these_vectors.csv\",header=None)\n",
    "\n",
    "def MahalanobisDist(x):\n",
    "    \n",
    "    covariance = np.cov(x, rowvar=0)\n",
    "    inv_covariance = np.linalg.inv(covariance)\n",
    "    d_mean = np.mean(x, axis=0)\n",
    "    #print(\"d_mean is \",d_mean)\n",
    "    x_diff = np.apply_along_axis(lambda x:x - d_mean, 1, data)\n",
    "    #print(\"x_diff length is \",len(x_diff))\n",
    "    md = []\n",
    "    for i in range(len(x_diff)):\n",
    "        md.append(np.sqrt(np.dot(np.dot(np.transpose(x_diff[i]),inv_covariance),x_diff[i])))\n",
    "    return md\n"
   ]
  },
  {
   "cell_type": "code",
   "execution_count": 154,
   "metadata": {
    "collapsed": false,
    "deletable": true,
    "editable": true
   },
   "outputs": [
    {
     "name": "stdout",
     "output_type": "stream",
     "text": [
      "[[146, 17.26258625730194]]\n",
      "[1.5851017727766386, 2.0680711167068986, 2.1862843475377853, 1.5305221130773394, 3.0652670059331353, 1.769138122031195, 1.9333827875408656, 1.8440883403160995, 2.7053506202566178, 2.850526304539974, 3.6723983196778276, 2.2807827633943298, 2.717235378177508, 0.97021412601252177, 2.7749588340816835, 2.2041908069800389, 2.7066762068330705, 1.5183572772820741, 2.8354441405260911, 1.7461060131850914, 2.3570761900468913, 1.4809676423596199, 2.1225693755000288, 1.2279823678309787, 2.0897391570235286, 2.6743573498482833, 2.0517880294067457, 1.4037658611111175, 2.3335878181122358, 1.9221367388801502, 1.9065093436022482, 1.5381478352816083, 1.1470521976001258, 1.3970619354443365, 2.8639521876165013, 2.3114587074394901, 2.0327830737009465, 1.1668936773004195, 2.7115596822506491, 2.3217115255188081, 1.7117339029251466, 2.5298567119579403, 1.8107392442016987, 1.7644435904716123, 2.705103415585115, 1.6601389100884141, 2.4763310777616487, 2.4233808660907203, 1.738549711015861, 2.4323034592365929, 2.24745526250859, 1.8444902671970558, 1.9014890305254724, 2.2000341852556304, 1.5781622347905875, 2.9532102980240587, 2.1049835394994476, 2.2676815949464255, 2.4900008071382951, 1.3148505919447857, 2.5346909954989254, 1.4708559212633352, 1.4720000107591116, 1.2959391238446001, 1.5592499917681655, 0.32527959336418394, 2.3097860966851647, 2.4659657087334037, 1.2378699800717483, 1.0534021567026461, 2.1822662575712832, 2.4434072842335053, 1.6611027194416146, 1.4048989473895874, 2.2493424526895947, 1.293622866454597, 3.1268677492340884, 2.7466930757046599, 1.3303814708910424, 1.4194407740760897, 1.9139731771827497, 2.2802096174034925, 2.5133347959557009, 1.9701954067406064, 1.4908060500644533, 2.5812291523779001, 3.0213982449489691, 3.0460695954374679, 1.9845944908547064, 1.9238185751549517, 2.6934073939868575, 1.5191306140365779, 2.5225909768134414, 2.3609260619511585, 2.3944000252840567, 0.98843125057736769, 1.7567219347637597, 3.1078064678598549, 2.1520246211370169, 0.81460619174048587, 1.7335406739808807, 1.1876595964963956, 2.1349359679612996, 1.6779063428127825, 2.106050894461132, 2.4099192650070691, 2.4122325515272931, 1.1254009414829391, 1.4578298188054666, 2.0122053211735453, 1.3136047814196927, 2.4355195865128314, 3.2006494643371171, 1.32141520832302, 2.6616393745928635, 2.7813566688536286, 1.6755290491555417, 3.3326255766039607, 1.1373567455375626, 2.8677975789254182, 1.980723052527622, 1.2081234648787356, 2.5369934400751113, 1.5314445782161978, 0.93840304088577076, 2.5579128178930777, 1.5636048858411418, 2.6425972984863275, 1.7115552251216291, 1.2014789715905532, 2.136604980787566, 2.9340520026555228, 2.0407563129395374, 1.7343523378757655, 1.7592564257179912, 2.140210160351347, 2.5418061578434874, 1.9241500912525729, 2.6082131542068994, 2.5807129350358844, 1.8922305887425332, 1.2365459568497303, 1.3033996163412767, 2.3535043070114567, 1.8125357640642712, 2.7843790303833273, 17.26258625730194, 1.8541250541661483, 2.1161530356504787, 3.0919055056124072, 1.8140753054490966, 2.4866887725382254, 4.2388568513026978, 2.1428858858487749, 2.9842974279777152, 1.5683206767323707, 2.3754525978979419, 1.6157159206733605, 1.9861456147201291, 1.7552603702206864, 1.5326568285187301, 2.3574743599865746, 1.3151833372169259, 3.1644355406649991, 1.6312410637465768, 2.8703091229925732, 2.5833590934987019, 2.706170198440728, 2.3988532739679269, 3.0671339101106447, 1.7511419446661185, 2.0825767853122432, 1.9353027024491756, 2.4967815834883154, 0.55647630424783878, 2.2410422640017971, 3.2491089173246737, 2.4211799803676697, 2.6675418844874588, 1.7375677477990379, 2.0358389353988224, 2.6190630592914936, 2.0844850907514632, 3.712994921372696, 3.6842936710473899, 2.3248321441701725, 1.4863327648559053, 1.0562200706474447, 2.4962648798840421, 1.2178621476398457, 2.2289372269667456, 2.665525433920362, 2.5018406106873354, 1.9256378555232043, 1.7072018523493444, 2.2033938177924344, 1.6780800768400845, 2.4733799463643154, 2.1643096543584583, 2.1511576905954248, 2.8675325956972193, 1.3152573298994814, 3.1460517496500775, 2.1597343108804337, 3.029333203400451, 1.050710654211241, 1.4142420023227957, 2.8750699842696044, 2.3770832766755925, 1.1558640764038715, 1.8749027417660968, 1.9807805412093398, 0.76815518766979163, 2.2041200129228256, 2.1136473497668238, 2.0323520467150473, 2.5241814108490046, 2.207193415028752, 1.5158715519968113, 1.9301519497294417, 3.4433988487537275, 1.4725993791318379, 2.4933925951521676, 0.91275967536555791, 3.0700380448409499, 1.5156350588019247, 0.91128297399695712, 1.7152255309362303, 3.7438132547226677, 2.1990825301660553, 2.1736304450813453, 1.8871541316174603, 1.4472228084025358, 2.0491935844260123, 2.4495709164507105, 3.5091903287232382, 3.3339507214772688, 2.9909158178752593, 2.7767350974226925, 1.8948807066948001, 0.95885815692487419, 3.0192109423500408, 2.1547294998865323, 3.0541783223335344, 2.1615224922699428, 2.077759613624039, 1.0823664230394561, 3.4511531871888481, 2.216188934258585, 2.8191902205431756, 1.7337424087190438, 2.8051849112961711, 3.433394529791594, 1.1924198621847997, 2.0182573715591148, 2.7185680111474744, 2.8223804716769676, 2.4406194702869675, 2.1131336703032439, 2.4919987741768184, 2.3573311261801129, 1.431229127559742, 2.245609722069589, 1.9521571752221927, 2.0635558290881186, 3.3646236227090758, 1.3846087343750548, 2.7915414850328091, 1.8943954931653646, 3.5262386408774664, 2.754311171044042, 2.37539294351373, 2.89366611409553, 3.2162053581812708, 1.9585905829504136, 2.3561728229431149, 1.7142994494680976, 2.6834821213776645, 1.5370461748355815, 2.8030628570329714, 1.1595724483152032, 2.5196367118549978, 1.5068858374577401, 1.4701333886968455, 1.8547431093480873, 1.9616359279084592, 2.9929757536923112, 2.4527769149473637, 1.6577603514066943, 1.9400481984386411, 3.4418573517318367, 1.4007011856818761, 2.2566620591820055, 2.0995895912567404, 1.8484405533837069, 2.4238968594946027, 2.2859018739909129, 1.9011946266440134, 2.3981455378978089, 2.6507387708739438]\n"
     ]
    }
   ],
   "source": [
    "\n",
    "MD = MahalanobisDist(data)\n",
    "threshold = np.mean(MD) * 2 # adjust 1.5 accordingly \n",
    "outliers = []\n",
    "for i in range(len(MD)):\n",
    "    if MD[i] > threshold:\n",
    "        outliers.append([i, MD[i]]) # position of removed pair\n",
    "print(outliers)\n",
    "print(MD)\n"
   ]
  },
  {
   "cell_type": "code",
   "execution_count": 164,
   "metadata": {
    "collapsed": false,
    "deletable": true,
    "editable": true
   },
   "outputs": [
    {
     "data": {
      "image/png": "[encoded data removed]",
      "text/plain": [
       "<matplotlib.figure.Figure at 0x106f7320>"
      ]
     },
     "metadata": {},
     "output_type": "display_data"
    }
   ],
   "source": [
    "import matplotlib.pyplot as plt\n",
    "x=np.arange(0, len(MD), 1)\n",
    "plt.scatter(x,MD)\n",
    "plt.title(\"Plot of Mahalanobis distance\")\n",
    "plt.xlabel(\"Index of Data Points\")\n",
    "plt.ylabel(\"Value of Mahalanobis Distance\")\n",
    "plt.show()"
   ]
  },
  {
   "cell_type": "code",
   "execution_count": 165,
   "metadata": {
    "collapsed": false,
    "deletable": true,
    "editable": true
   },
   "outputs": [],
   "source": [
    " from scipy.stats import chisquare"
   ]
  },
  {
   "cell_type": "code",
   "execution_count": 1,
   "metadata": {
    "collapsed": false,
    "deletable": true,
    "editable": true
   },
   "outputs": [
    {
     "ename": "NameError",
     "evalue": "name 'chisquare' is not defined",
     "output_type": "error",
     "traceback": [
      "\u001b[1;31m\u001b[0m",
      "\u001b[1;31mNameError\u001b[0mTraceback (most recent call last)",
      "\u001b[1;32m<ipython-input-1-7f73f89b33ef>\u001b[0m in \u001b[0;36m<module>\u001b[1;34m()\u001b[0m\n\u001b[1;32m----> 1\u001b[1;33m \u001b[0mcs\u001b[0m\u001b[1;33m=\u001b[0m\u001b[0mchisquare\u001b[0m\u001b[1;33m(\u001b[0m\u001b[0mnp\u001b[0m\u001b[1;33m.\u001b[0m\u001b[0mtranspose\u001b[0m\u001b[1;33m(\u001b[0m\u001b[0mdata\u001b[0m\u001b[1;33m)\u001b[0m\u001b[1;33m)\u001b[0m\u001b[1;33m\u001b[0m\u001b[0m\n\u001b[0m",
      "\u001b[1;31mNameError\u001b[0m: name 'chisquare' is not defined"
     ]
    }
   ],
   "source": [
    " cs=chisquare(np.transpose(data))"
   ]
  },
  {
   "cell_type": "code",
   "execution_count": 169,
   "metadata": {
    "collapsed": false,
    "deletable": true,
    "editable": true
   },
   "outputs": [
    {
     "ename": "TypeError",
     "evalue": "'float' object is not callable",
     "output_type": "error",
     "traceback": [
      "\u001b[1;31m\u001b[0m",
      "\u001b[1;31mTypeError\u001b[0mTraceback (most recent call last)",
      "\u001b[1;32m<ipython-input-169-1d5a6173daa9>\u001b[0m in \u001b[0;36m<module>\u001b[1;34m()\u001b[0m\n\u001b[1;32m----> 1\u001b[1;33m \u001b[0mmax\u001b[0m\u001b[1;33m(\u001b[0m\u001b[0mcs\u001b[0m\u001b[1;33m)\u001b[0m\u001b[1;33m\u001b[0m\u001b[0m\n\u001b[0m",
      "\u001b[1;31mTypeError\u001b[0m: 'float' object is not callable"
     ]
    }
   ],
   "source": [
    "max(cs)"
   ]
  },
  {
   "cell_type": "code",
   "execution_count": null,
   "metadata": {
    "collapsed": true,
    "deletable": true,
    "editable": true
   },
   "outputs": [],
   "source": []
  }
 ],
 "metadata": {
  "kernelspec": {
   "display_name": "Python 2",
   "language": "python",
   "name": "python2"
  },
  "language_info": {
   "codemirror_mode": {
    "name": "ipython",
    "version": 2
   },
   "file_extension": ".py",
   "mimetype": "text/x-python",
   "name": "python",
   "nbconvert_exporter": "python",
   "pygments_lexer": "ipython2",
   "version": "2.7.13"
  }
 },
 "nbformat": 4,
 "nbformat_minor": 2
}
