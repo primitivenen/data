{
 "cells": [
  {
   "cell_type": "code",
   "execution_count": 25,
   "metadata": {},
   "outputs": [],
   "source": [
    "import geocoder\n",
    "import sys"
   ]
  },
  {
   "cell_type": "code",
   "execution_count": 2,
   "metadata": {},
   "outputs": [],
   "source": [
    "g = geocoder.gaode([23.0, 113.14],method='reverse', key='27522a3d9da8f4e80d6580c80d010d4c')"
   ]
  },
  {
   "cell_type": "code",
   "execution_count": 2,
   "metadata": {},
   "outputs": [],
   "source": [
    "import urllib2"
   ]
  },
  {
   "cell_type": "code",
   "execution_count": 4,
   "metadata": {},
   "outputs": [],
   "source": [
    "url_base = \"https://restapi.amap.com/v3/geocode/regeo?batch=true&extensions=all&radius=3000&roadlevel=0&\\\n",
    "key=27522a3d9da8f4e80d6580c80d010d4c&location=113.226,23.098\""
   ]
  },
  {
   "cell_type": "code",
   "execution_count": 5,
   "metadata": {},
   "outputs": [],
   "source": [
    "msg=urllib2.urlopen(url_base).read()"
   ]
  },
  {
   "cell_type": "code",
   "execution_count": 3,
   "metadata": {},
   "outputs": [],
   "source": [
    "#print(msg)"
   ]
  },
  {
   "cell_type": "code",
   "execution_count": 7,
   "metadata": {},
   "outputs": [],
   "source": [
    "import json\n",
    "res = json.loads(msg)"
   ]
  },
  {
   "cell_type": "code",
   "execution_count": 8,
   "metadata": {},
   "outputs": [
    {
     "name": "stdout",
     "output_type": "stream",
     "text": [
      "30\n"
     ]
    }
   ],
   "source": [
    "adds = res[u'regeocodes']\n",
    "temp = adds[0]\n",
    "ll=temp[u'pois']\n",
    "print(len(ll))"
   ]
  },
  {
   "cell_type": "code",
   "execution_count": 9,
   "metadata": {},
   "outputs": [],
   "source": [
    "from pymongo import MongoClient\n",
    "connection = MongoClient(\"mongodb://172.15.7.43:27017/admin\", username='dev', password='dev')\n",
    "db = connection.gps"
   ]
  },
  {
   "cell_type": "code",
   "execution_count": 28,
   "metadata": {},
   "outputs": [],
   "source": [
    "documents = []\n",
    "for val in ll:\n",
    "    cursor = db.pois.find({'_id': {'$eq': val[u'id']}})\n",
    "    count=0\n",
    "    for doc in cursor:\n",
    "        count+=1\n",
    "    #matches=cursor.count_documents()\n",
    "    if count==0:\n",
    "        documents.append({'_id':val[u'id'], 'poi': val})\n",
    "        print(val[u'id'])\n",
    "        print('----------end')\n",
    "if len(documents)!=0:\n",
    "    db.pois.insert_many(documents)"
   ]
  },
  {
   "cell_type": "code",
   "execution_count": 1,
   "metadata": {},
   "outputs": [],
   "source": [
    "urls = []\n",
    "url_base1 = \"https://restapi.amap.com/v3/geocode/regeo?batch=true&extensions=all&radius=3000&roadlevel=0&\\\n",
    "key=27522a3d9da8f4e80d6580c80d010d4c&location=113.226,23.098\"\n",
    "url_base2 = \"https://restapi.amap.com/v3/geocode/regeo?batch=true&extensions=all&radius=3000&roadlevel=0&\\\n",
    "key=27522a3d9da8f4e80d6580c80d010d4c&location=113.225,23.099\"\n",
    "urls.append(url_base1)\n",
    "urls.append(url_base2)"
   ]
  },
  {
   "cell_type": "code",
   "execution_count": 5,
   "metadata": {},
   "outputs": [
    {
     "name": "stdout",
     "output_type": "stream",
     "text": [
      "0---faint---https://restapi.amap.com/v3/geocode/regeo?batch=true&extensions=all&radius=3000&roadlevel=0&key=27522a3d9da8f4e80d6580c80d010d4c&location=113.226,23.098\n",
      "1---faint---https://restapi.amap.com/v3/geocode/regeo?batch=true&extensions=all&radius=3000&roadlevel=0&key=27522a3d9da8f4e80d6580c80d010d4c&location=113.225,23.099\n"
     ]
    }
   ],
   "source": [
    "for i, url in enumerate(urls):\n",
    "    print(str(i)+\"---faint---\"+str(url))"
   ]
  },
  {
   "cell_type": "code",
   "execution_count": 5,
   "metadata": {},
   "outputs": [],
   "source": [
    "with open('/home/wchen/ubi/test_' + 'loc' + '.txt', 'w') as outfile:\n",
    "    g = geocoder.gaode([23.0, 113.14], method='reverse', key='27522a3d9da8f4e80d6580c80d010d4c')\n",
    "    outfile.write('23.0' + '\\t' + '113.14' + '\\t' + g.street.encode('utf-8') + '\\n')"
   ]
  },
  {
   "cell_type": "code",
   "execution_count": 6,
   "metadata": {},
   "outputs": [
    {
     "data": {
      "text/plain": [
       "{'adcode': u'440604',\n",
       " 'address': u'\\u5e7f\\u4e1c\\u7701\\u4f5b\\u5c71\\u5e02\\u7985\\u57ce\\u533a\\u77f3\\u6e7e\\u9547\\u8857\\u9053\\u6c47\\u94f6\\u73af\\u6e56\\u56fd\\u9645\\u6c47\\u94f6\\xb7\\u73af\\u6e56\\u56fd\\u9645',\n",
       " 'city': u'\\u4f5b\\u5c71\\u5e02',\n",
       " 'country': u'\\u4e2d\\u56fd',\n",
       " 'district': u'\\u7985\\u57ce\\u533a',\n",
       " 'housenumber': u'29\\u53f7',\n",
       " 'ok': True,\n",
       " 'raw': {u'addressComponent': {u'adcode': u'440604',\n",
       "   u'building': {u'name': [], u'type': []},\n",
       "   u'businessAreas': [{u'id': u'440605',\n",
       "     u'location': u'113.14650715508004,23.04099131711229',\n",
       "     u'name': u'\\u6842\\u57ce'}],\n",
       "   u'city': u'\\u4f5b\\u5c71\\u5e02',\n",
       "   u'citycode': u'0757',\n",
       "   u'country': u'\\u4e2d\\u56fd',\n",
       "   u'district': u'\\u7985\\u57ce\\u533a',\n",
       "   u'neighborhood': {u'name': u'\\u6c47\\u94f6\\u73af\\u6e56\\u56fd\\u9645',\n",
       "    u'type': u'\\u5546\\u52a1\\u4f4f\\u5b85;\\u4f4f\\u5b85\\u533a;\\u4f4f\\u5b85\\u5c0f\\u533a'},\n",
       "   u'province': u'\\u5e7f\\u4e1c\\u7701',\n",
       "   u'streetNumber': {u'direction': u'\\u897f\\u5357',\n",
       "    u'distance': u'31.076',\n",
       "    u'location': u'113.13984,22.9997625',\n",
       "    u'number': u'29\\u53f7',\n",
       "    u'street': u'\\u6e56\\u666f\\u8def'},\n",
       "   u'towncode': u'440604010000',\n",
       "   u'township': u'\\u77f3\\u6e7e\\u9547\\u8857\\u9053'},\n",
       "  u'formatted_address': u'\\u5e7f\\u4e1c\\u7701\\u4f5b\\u5c71\\u5e02\\u7985\\u57ce\\u533a\\u77f3\\u6e7e\\u9547\\u8857\\u9053\\u6c47\\u94f6\\u73af\\u6e56\\u56fd\\u9645\\u6c47\\u94f6\\xb7\\u73af\\u6e56\\u56fd\\u9645'},\n",
       " 'state': u'\\u5e7f\\u4e1c\\u7701',\n",
       " 'status': 'OK',\n",
       " 'street': u'\\u6e56\\u666f\\u8def',\n",
       " 'towncode': u'440604010000',\n",
       " 'township': u'\\u77f3\\u6e7e\\u9547\\u8857\\u9053'}"
      ]
     },
     "execution_count": 6,
     "metadata": {},
     "output_type": "execute_result"
    }
   ],
   "source": [
    "g.json"
   ]
  },
  {
   "cell_type": "code",
   "execution_count": 12,
   "metadata": {},
   "outputs": [
    {
     "name": "stdout",
     "output_type": "stream",
     "text": [
      "湖景路\n"
     ]
    }
   ],
   "source": [
    "print(g.street)"
   ]
  },
  {
   "cell_type": "code",
   "execution_count": 4,
   "metadata": {},
   "outputs": [
    {
     "name": "stdout",
     "output_type": "stream",
     "text": [
      "<class 'geocoder.gaode_reverse.GaodeReverse'>\n"
     ]
    }
   ],
   "source": [
    "print(type(g))"
   ]
  },
  {
   "cell_type": "code",
   "execution_count": 23,
   "metadata": {},
   "outputs": [
    {
     "name": "stdout",
     "output_type": "stream",
     "text": [
      "广东省佛山市禅城区石湾镇街道汇银环湖国际汇银·环湖国际\n",
      "<type 'unicode'>\n"
     ]
    }
   ],
   "source": [
    "print (g.address)\n",
    "print (type(g.address))"
   ]
  },
  {
   "cell_type": "code",
   "execution_count": null,
   "metadata": {},
   "outputs": [],
   "source": []
  },
  {
   "cell_type": "code",
   "execution_count": null,
   "metadata": {},
   "outputs": [],
   "source": []
  }
 ],
 "metadata": {
  "kernelspec": {
   "display_name": "Python 2",
   "language": "python",
   "name": "python2"
  },
  "language_info": {
   "codemirror_mode": {
    "name": "ipython",
    "version": 2
   },
   "file_extension": ".py",
   "mimetype": "text/x-python",
   "name": "python",
   "nbconvert_exporter": "python",
   "pygments_lexer": "ipython2",
   "version": "2.7.5"
  }
 },
 "nbformat": 4,
 "nbformat_minor": 2
}
