{
 "cells": [
  {
   "cell_type": "code",
   "execution_count": 12,
   "metadata": {},
   "outputs": [
    {
     "name": "stdout",
     "output_type": "stream",
     "text": [
      "(1789, 12)\n"
     ]
    },
    {
     "data": {
      "text/html": [
       "<div>\n",
       "<style scoped>\n",
       "    .dataframe tbody tr th:only-of-type {\n",
       "        vertical-align: middle;\n",
       "    }\n",
       "\n",
       "    .dataframe tbody tr th {\n",
       "        vertical-align: top;\n",
       "    }\n",
       "\n",
       "    .dataframe thead th {\n",
       "        text-align: right;\n",
       "    }\n",
       "</style>\n",
       "<table border=\"1\" class=\"dataframe\">\n",
       "  <thead>\n",
       "    <tr style=\"text-align: right;\">\n",
       "      <th></th>\n",
       "      <th>vin</th>\n",
       "      <th>policy_no</th>\n",
       "      <th>start_date</th>\n",
       "      <th>end_date</th>\n",
       "      <th>premium</th>\n",
       "      <th>report_no</th>\n",
       "      <th>registration_no</th>\n",
       "      <th>claim_no</th>\n",
       "      <th>paid</th>\n",
       "      <th>report_date</th>\n",
       "      <th>registration_date</th>\n",
       "      <th>accident_date</th>\n",
       "    </tr>\n",
       "  </thead>\n",
       "  <tbody>\n",
       "    <tr>\n",
       "      <th>0</th>\n",
       "      <td>LMGMS1G86H1S00121</td>\n",
       "      <td>301031714401900011126</td>\n",
       "      <td>11/15/2017</td>\n",
       "      <td>2/14/2018</td>\n",
       "      <td>766.36</td>\n",
       "      <td>NaN</td>\n",
       "      <td>NaN</td>\n",
       "      <td>NaN</td>\n",
       "      <td>NaN</td>\n",
       "      <td>NaN</td>\n",
       "      <td>NaN</td>\n",
       "      <td>NaN</td>\n",
       "    </tr>\n",
       "    <tr>\n",
       "      <th>1</th>\n",
       "      <td>LMGMS1G89H1S00128</td>\n",
       "      <td>301031714401900011139</td>\n",
       "      <td>11/15/2017</td>\n",
       "      <td>3/14/2018</td>\n",
       "      <td>999.59</td>\n",
       "      <td>NaN</td>\n",
       "      <td>NaN</td>\n",
       "      <td>NaN</td>\n",
       "      <td>NaN</td>\n",
       "      <td>NaN</td>\n",
       "      <td>NaN</td>\n",
       "      <td>NaN</td>\n",
       "    </tr>\n",
       "    <tr>\n",
       "      <th>2</th>\n",
       "      <td>LMGMS1G89H1S00131</td>\n",
       "      <td>301031714401900011197</td>\n",
       "      <td>11/21/2017</td>\n",
       "      <td>2/20/2018</td>\n",
       "      <td>1700.53</td>\n",
       "      <td>NaN</td>\n",
       "      <td>NaN</td>\n",
       "      <td>NaN</td>\n",
       "      <td>NaN</td>\n",
       "      <td>NaN</td>\n",
       "      <td>NaN</td>\n",
       "      <td>NaN</td>\n",
       "    </tr>\n",
       "    <tr>\n",
       "      <th>3</th>\n",
       "      <td>LMGMS1G81H1S00138</td>\n",
       "      <td>301031714401900011277</td>\n",
       "      <td>12/4/2017</td>\n",
       "      <td>3/3/2018</td>\n",
       "      <td>1802.87</td>\n",
       "      <td>NaN</td>\n",
       "      <td>NaN</td>\n",
       "      <td>NaN</td>\n",
       "      <td>NaN</td>\n",
       "      <td>NaN</td>\n",
       "      <td>NaN</td>\n",
       "      <td>NaN</td>\n",
       "    </tr>\n",
       "    <tr>\n",
       "      <th>4</th>\n",
       "      <td>LMGMS1G80H1S00163</td>\n",
       "      <td>301031714401900011280</td>\n",
       "      <td>11/24/2017</td>\n",
       "      <td>12/24/2017</td>\n",
       "      <td>573.78</td>\n",
       "      <td>NaN</td>\n",
       "      <td>NaN</td>\n",
       "      <td>NaN</td>\n",
       "      <td>NaN</td>\n",
       "      <td>NaN</td>\n",
       "      <td>NaN</td>\n",
       "      <td>NaN</td>\n",
       "    </tr>\n",
       "  </tbody>\n",
       "</table>\n",
       "</div>"
      ],
      "text/plain": [
       "                 vin              policy_no  start_date    end_date  premium  \\\n",
       "0  LMGMS1G86H1S00121  301031714401900011126  11/15/2017   2/14/2018   766.36   \n",
       "1  LMGMS1G89H1S00128  301031714401900011139  11/15/2017   3/14/2018   999.59   \n",
       "2  LMGMS1G89H1S00131  301031714401900011197  11/21/2017   2/20/2018  1700.53   \n",
       "3  LMGMS1G81H1S00138  301031714401900011277   12/4/2017    3/3/2018  1802.87   \n",
       "4  LMGMS1G80H1S00163  301031714401900011280  11/24/2017  12/24/2017   573.78   \n",
       "\n",
       "  report_no registration_no claim_no  paid report_date registration_date  \\\n",
       "0       NaN             NaN      NaN   NaN         NaN               NaN   \n",
       "1       NaN             NaN      NaN   NaN         NaN               NaN   \n",
       "2       NaN             NaN      NaN   NaN         NaN               NaN   \n",
       "3       NaN             NaN      NaN   NaN         NaN               NaN   \n",
       "4       NaN             NaN      NaN   NaN         NaN               NaN   \n",
       "\n",
       "  accident_date  \n",
       "0           NaN  \n",
       "1           NaN  \n",
       "2           NaN  \n",
       "3           NaN  \n",
       "4           NaN  "
      ]
     },
     "execution_count": 12,
     "metadata": {},
     "output_type": "execute_result"
    }
   ],
   "source": [
    "import pandas as pd\n",
    "import scikitplot as skplt\n",
    "import matplotlib.pyplot as plt\n",
    "\n",
    "claim_data = pd.read_csv(\"claim_data.csv\", header=0)\n",
    "\n",
    "print(claim_data.shape)\n",
    "\n",
    "claim_data.head()"
   ]
  },
  {
   "cell_type": "code",
   "execution_count": 13,
   "metadata": {},
   "outputs": [
    {
     "name": "stdout",
     "output_type": "stream",
     "text": [
      "(1789, 3)\n"
     ]
    },
    {
     "data": {
      "text/html": [
       "<div>\n",
       "<style scoped>\n",
       "    .dataframe tbody tr th:only-of-type {\n",
       "        vertical-align: middle;\n",
       "    }\n",
       "\n",
       "    .dataframe tbody tr th {\n",
       "        vertical-align: top;\n",
       "    }\n",
       "\n",
       "    .dataframe thead th {\n",
       "        text-align: right;\n",
       "    }\n",
       "</style>\n",
       "<table border=\"1\" class=\"dataframe\">\n",
       "  <thead>\n",
       "    <tr style=\"text-align: right;\">\n",
       "      <th></th>\n",
       "      <th>vin</th>\n",
       "      <th>accident_date</th>\n",
       "      <th>paid</th>\n",
       "    </tr>\n",
       "  </thead>\n",
       "  <tbody>\n",
       "    <tr>\n",
       "      <th>0</th>\n",
       "      <td>LMGMS1G86H1S00121</td>\n",
       "      <td>NaN</td>\n",
       "      <td>NaN</td>\n",
       "    </tr>\n",
       "    <tr>\n",
       "      <th>1</th>\n",
       "      <td>LMGMS1G89H1S00128</td>\n",
       "      <td>NaN</td>\n",
       "      <td>NaN</td>\n",
       "    </tr>\n",
       "    <tr>\n",
       "      <th>2</th>\n",
       "      <td>LMGMS1G89H1S00131</td>\n",
       "      <td>NaN</td>\n",
       "      <td>NaN</td>\n",
       "    </tr>\n",
       "    <tr>\n",
       "      <th>3</th>\n",
       "      <td>LMGMS1G81H1S00138</td>\n",
       "      <td>NaN</td>\n",
       "      <td>NaN</td>\n",
       "    </tr>\n",
       "    <tr>\n",
       "      <th>4</th>\n",
       "      <td>LMGMS1G80H1S00163</td>\n",
       "      <td>NaN</td>\n",
       "      <td>NaN</td>\n",
       "    </tr>\n",
       "  </tbody>\n",
       "</table>\n",
       "</div>"
      ],
      "text/plain": [
       "                 vin accident_date  paid\n",
       "0  LMGMS1G86H1S00121           NaN   NaN\n",
       "1  LMGMS1G89H1S00128           NaN   NaN\n",
       "2  LMGMS1G89H1S00131           NaN   NaN\n",
       "3  LMGMS1G81H1S00138           NaN   NaN\n",
       "4  LMGMS1G80H1S00163           NaN   NaN"
      ]
     },
     "execution_count": 13,
     "metadata": {},
     "output_type": "execute_result"
    }
   ],
   "source": [
    "claim_data = claim_data[[\"vin\", \"accident_date\", \"paid\"]]\n",
    "\n",
    "print(claim_data.shape)\n",
    "\n",
    "claim_data.head()"
   ]
  },
  {
   "cell_type": "code",
   "execution_count": 14,
   "metadata": {},
   "outputs": [
    {
     "name": "stdout",
     "output_type": "stream",
     "text": [
      "(1581, 2)\n"
     ]
    },
    {
     "data": {
      "text/html": [
       "<div>\n",
       "<style scoped>\n",
       "    .dataframe tbody tr th:only-of-type {\n",
       "        vertical-align: middle;\n",
       "    }\n",
       "\n",
       "    .dataframe tbody tr th {\n",
       "        vertical-align: top;\n",
       "    }\n",
       "\n",
       "    .dataframe thead th {\n",
       "        text-align: right;\n",
       "    }\n",
       "</style>\n",
       "<table border=\"1\" class=\"dataframe\">\n",
       "  <thead>\n",
       "    <tr style=\"text-align: right;\">\n",
       "      <th></th>\n",
       "      <th>sum</th>\n",
       "      <th>count</th>\n",
       "    </tr>\n",
       "    <tr>\n",
       "      <th>vin</th>\n",
       "      <th></th>\n",
       "      <th></th>\n",
       "    </tr>\n",
       "  </thead>\n",
       "  <tbody>\n",
       "    <tr>\n",
       "      <th>LMGMS1G80H1000349</th>\n",
       "      <td>0.0</td>\n",
       "      <td>0</td>\n",
       "    </tr>\n",
       "    <tr>\n",
       "      <th>LMGMS1G80H1000366</th>\n",
       "      <td>50.0</td>\n",
       "      <td>1</td>\n",
       "    </tr>\n",
       "    <tr>\n",
       "      <th>LMGMS1G80H1S00163</th>\n",
       "      <td>0.0</td>\n",
       "      <td>0</td>\n",
       "    </tr>\n",
       "    <tr>\n",
       "      <th>LMGMS1G80H1S00177</th>\n",
       "      <td>0.0</td>\n",
       "      <td>0</td>\n",
       "    </tr>\n",
       "    <tr>\n",
       "      <th>LMGMS1G80H1S00227</th>\n",
       "      <td>0.0</td>\n",
       "      <td>0</td>\n",
       "    </tr>\n",
       "  </tbody>\n",
       "</table>\n",
       "</div>"
      ],
      "text/plain": [
       "                    sum  count\n",
       "vin                           \n",
       "LMGMS1G80H1000349   0.0      0\n",
       "LMGMS1G80H1000366  50.0      1\n",
       "LMGMS1G80H1S00163   0.0      0\n",
       "LMGMS1G80H1S00177   0.0      0\n",
       "LMGMS1G80H1S00227   0.0      0"
      ]
     },
     "execution_count": 14,
     "metadata": {},
     "output_type": "execute_result"
    }
   ],
   "source": [
    "claim_data = claim_data.groupby(\"vin\")['paid'].agg(['sum', 'count'])\n",
    "\n",
    "print(claim_data.shape)\n",
    "\n",
    "claim_data.head()"
   ]
  },
  {
   "cell_type": "code",
   "execution_count": 16,
   "metadata": {},
   "outputs": [
    {
     "name": "stdout",
     "output_type": "stream",
     "text": [
      "(1581, 2)\n"
     ]
    },
    {
     "data": {
      "text/html": [
       "<div>\n",
       "<style scoped>\n",
       "    .dataframe tbody tr th:only-of-type {\n",
       "        vertical-align: middle;\n",
       "    }\n",
       "\n",
       "    .dataframe tbody tr th {\n",
       "        vertical-align: top;\n",
       "    }\n",
       "\n",
       "    .dataframe thead th {\n",
       "        text-align: right;\n",
       "    }\n",
       "</style>\n",
       "<table border=\"1\" class=\"dataframe\">\n",
       "  <thead>\n",
       "    <tr style=\"text-align: right;\">\n",
       "      <th></th>\n",
       "      <th>payment</th>\n",
       "      <th>count</th>\n",
       "    </tr>\n",
       "    <tr>\n",
       "      <th>vin</th>\n",
       "      <th></th>\n",
       "      <th></th>\n",
       "    </tr>\n",
       "  </thead>\n",
       "  <tbody>\n",
       "    <tr>\n",
       "      <th>LMGMS1G80H1000349</th>\n",
       "      <td>0.0</td>\n",
       "      <td>0</td>\n",
       "    </tr>\n",
       "    <tr>\n",
       "      <th>LMGMS1G80H1000366</th>\n",
       "      <td>50.0</td>\n",
       "      <td>1</td>\n",
       "    </tr>\n",
       "    <tr>\n",
       "      <th>LMGMS1G80H1S00163</th>\n",
       "      <td>0.0</td>\n",
       "      <td>0</td>\n",
       "    </tr>\n",
       "    <tr>\n",
       "      <th>LMGMS1G80H1S00177</th>\n",
       "      <td>0.0</td>\n",
       "      <td>0</td>\n",
       "    </tr>\n",
       "    <tr>\n",
       "      <th>LMGMS1G80H1S00227</th>\n",
       "      <td>0.0</td>\n",
       "      <td>0</td>\n",
       "    </tr>\n",
       "  </tbody>\n",
       "</table>\n",
       "</div>"
      ],
      "text/plain": [
       "                   payment  count\n",
       "vin                              \n",
       "LMGMS1G80H1000349      0.0      0\n",
       "LMGMS1G80H1000366     50.0      1\n",
       "LMGMS1G80H1S00163      0.0      0\n",
       "LMGMS1G80H1S00177      0.0      0\n",
       "LMGMS1G80H1S00227      0.0      0"
      ]
     },
     "execution_count": 16,
     "metadata": {},
     "output_type": "execute_result"
    }
   ],
   "source": [
    "claim_new = claim_data.rename(columns={'count': 'tot_accidents'})\n",
    "claim_new = claim_data.rename(columns={'sum': 'payment'})\n",
    "#claim_new['tot_accidents'] = claim_new['tot_accidents'].apply(lambda x: x if x <= 1 else 2)\n",
    "\n",
    "print(claim_new.shape)\n",
    "\n",
    "claim_new.head()"
   ]
  },
  {
   "cell_type": "markdown",
   "metadata": {},
   "source": [
    "# Run model on ubi_stats"
   ]
  },
  {
   "cell_type": "code",
   "execution_count": 17,
   "metadata": {},
   "outputs": [
    {
     "data": {
      "text/html": [
       "<div>\n",
       "<style scoped>\n",
       "    .dataframe tbody tr th:only-of-type {\n",
       "        vertical-align: middle;\n",
       "    }\n",
       "\n",
       "    .dataframe tbody tr th {\n",
       "        vertical-align: top;\n",
       "    }\n",
       "\n",
       "    .dataframe thead th {\n",
       "        text-align: right;\n",
       "    }\n",
       "</style>\n",
       "<table border=\"1\" class=\"dataframe\">\n",
       "  <thead>\n",
       "    <tr style=\"text-align: right;\">\n",
       "      <th></th>\n",
       "      <th>ubi_stats.vin</th>\n",
       "      <th>ubi_stats.acce_count</th>\n",
       "      <th>ubi_stats.agg_break_count</th>\n",
       "      <th>ubi_stats.agg_takeoff_count</th>\n",
       "      <th>ubi_stats.decel_count</th>\n",
       "      <th>ubi_stats.distance_driven</th>\n",
       "      <th>ubi_stats.driving_hours</th>\n",
       "      <th>ubi_stats.fuel_consumption</th>\n",
       "      <th>ubi_stats.high_speed_percentage</th>\n",
       "      <th>ubi_stats.mean_acce</th>\n",
       "      <th>...</th>\n",
       "      <th>ubi_stats.entropy</th>\n",
       "      <th>ubi_stats.entropy_last_month</th>\n",
       "      <th>ubi_stats.long_distance_count</th>\n",
       "      <th>ubi_stats.night_driving_hours</th>\n",
       "      <th>ubi_stats.percent_am_peak</th>\n",
       "      <th>ubi_stats.percent_long_distance</th>\n",
       "      <th>ubi_stats.percent_night_driving</th>\n",
       "      <th>ubi_stats.percent_pm_peak</th>\n",
       "      <th>ubi_stats.pm_peak_hours</th>\n",
       "      <th>ubi_stats.day</th>\n",
       "    </tr>\n",
       "  </thead>\n",
       "  <tbody>\n",
       "    <tr>\n",
       "      <th>0</th>\n",
       "      <td>LMGMS1G86H1S00099</td>\n",
       "      <td>0.0</td>\n",
       "      <td>0.0</td>\n",
       "      <td>0.0</td>\n",
       "      <td>0.0</td>\n",
       "      <td>1.0</td>\n",
       "      <td>14.636111</td>\n",
       "      <td>0.000194</td>\n",
       "      <td>0.0</td>\n",
       "      <td>0.071335</td>\n",
       "      <td>...</td>\n",
       "      <td>0.943891</td>\n",
       "      <td>0.594390</td>\n",
       "      <td>0.0</td>\n",
       "      <td>0.0</td>\n",
       "      <td>0.263158</td>\n",
       "      <td>0.0</td>\n",
       "      <td>0.0</td>\n",
       "      <td>0.0</td>\n",
       "      <td>0.0</td>\n",
       "      <td>2017-09-26</td>\n",
       "    </tr>\n",
       "    <tr>\n",
       "      <th>1</th>\n",
       "      <td>LMGMS1G86H1S00099</td>\n",
       "      <td>0.0</td>\n",
       "      <td>0.0</td>\n",
       "      <td>0.0</td>\n",
       "      <td>0.0</td>\n",
       "      <td>0.0</td>\n",
       "      <td>6.831389</td>\n",
       "      <td>0.000000</td>\n",
       "      <td>0.0</td>\n",
       "      <td>0.066062</td>\n",
       "      <td>...</td>\n",
       "      <td>0.943891</td>\n",
       "      <td>0.489892</td>\n",
       "      <td>0.0</td>\n",
       "      <td>0.0</td>\n",
       "      <td>0.237658</td>\n",
       "      <td>0.0</td>\n",
       "      <td>0.0</td>\n",
       "      <td>0.0</td>\n",
       "      <td>0.0</td>\n",
       "      <td>2017-09-27</td>\n",
       "    </tr>\n",
       "    <tr>\n",
       "      <th>2</th>\n",
       "      <td>LMGMS1G86H1S00099</td>\n",
       "      <td>0.0</td>\n",
       "      <td>0.0</td>\n",
       "      <td>0.0</td>\n",
       "      <td>0.0</td>\n",
       "      <td>1.0</td>\n",
       "      <td>7.389444</td>\n",
       "      <td>0.000015</td>\n",
       "      <td>0.0</td>\n",
       "      <td>0.085359</td>\n",
       "      <td>...</td>\n",
       "      <td>0.943891</td>\n",
       "      <td>0.587585</td>\n",
       "      <td>0.0</td>\n",
       "      <td>0.0</td>\n",
       "      <td>0.229529</td>\n",
       "      <td>0.0</td>\n",
       "      <td>0.0</td>\n",
       "      <td>0.0</td>\n",
       "      <td>0.0</td>\n",
       "      <td>2017-09-28</td>\n",
       "    </tr>\n",
       "    <tr>\n",
       "      <th>3</th>\n",
       "      <td>LMGMS1G86H1S00099</td>\n",
       "      <td>0.0</td>\n",
       "      <td>0.0</td>\n",
       "      <td>0.0</td>\n",
       "      <td>0.0</td>\n",
       "      <td>0.0</td>\n",
       "      <td>5.529444</td>\n",
       "      <td>0.000000</td>\n",
       "      <td>0.0</td>\n",
       "      <td>0.081631</td>\n",
       "      <td>...</td>\n",
       "      <td>0.943891</td>\n",
       "      <td>0.528321</td>\n",
       "      <td>0.0</td>\n",
       "      <td>0.0</td>\n",
       "      <td>0.212777</td>\n",
       "      <td>0.0</td>\n",
       "      <td>0.0</td>\n",
       "      <td>0.0</td>\n",
       "      <td>0.0</td>\n",
       "      <td>2017-09-29</td>\n",
       "    </tr>\n",
       "    <tr>\n",
       "      <th>4</th>\n",
       "      <td>LMGMS1G89H1S00100</td>\n",
       "      <td>2.0</td>\n",
       "      <td>0.0</td>\n",
       "      <td>0.0</td>\n",
       "      <td>0.0</td>\n",
       "      <td>10.0</td>\n",
       "      <td>5.642500</td>\n",
       "      <td>0.028613</td>\n",
       "      <td>0.0</td>\n",
       "      <td>0.151694</td>\n",
       "      <td>...</td>\n",
       "      <td>8.304969</td>\n",
       "      <td>0.314494</td>\n",
       "      <td>0.0</td>\n",
       "      <td>0.0</td>\n",
       "      <td>0.408519</td>\n",
       "      <td>0.0</td>\n",
       "      <td>0.0</td>\n",
       "      <td>0.0</td>\n",
       "      <td>0.0</td>\n",
       "      <td>2017-09-30</td>\n",
       "    </tr>\n",
       "  </tbody>\n",
       "</table>\n",
       "<p>5 rows × 35 columns</p>\n",
       "</div>"
      ],
      "text/plain": [
       "       ubi_stats.vin  ubi_stats.acce_count  ubi_stats.agg_break_count  \\\n",
       "0  LMGMS1G86H1S00099                   0.0                        0.0   \n",
       "1  LMGMS1G86H1S00099                   0.0                        0.0   \n",
       "2  LMGMS1G86H1S00099                   0.0                        0.0   \n",
       "3  LMGMS1G86H1S00099                   0.0                        0.0   \n",
       "4  LMGMS1G89H1S00100                   2.0                        0.0   \n",
       "\n",
       "   ubi_stats.agg_takeoff_count  ubi_stats.decel_count  \\\n",
       "0                          0.0                    0.0   \n",
       "1                          0.0                    0.0   \n",
       "2                          0.0                    0.0   \n",
       "3                          0.0                    0.0   \n",
       "4                          0.0                    0.0   \n",
       "\n",
       "   ubi_stats.distance_driven  ubi_stats.driving_hours  \\\n",
       "0                        1.0                14.636111   \n",
       "1                        0.0                 6.831389   \n",
       "2                        1.0                 7.389444   \n",
       "3                        0.0                 5.529444   \n",
       "4                       10.0                 5.642500   \n",
       "\n",
       "   ubi_stats.fuel_consumption  ubi_stats.high_speed_percentage  \\\n",
       "0                    0.000194                              0.0   \n",
       "1                    0.000000                              0.0   \n",
       "2                    0.000015                              0.0   \n",
       "3                    0.000000                              0.0   \n",
       "4                    0.028613                              0.0   \n",
       "\n",
       "   ubi_stats.mean_acce      ...        ubi_stats.entropy  \\\n",
       "0             0.071335      ...                 0.943891   \n",
       "1             0.066062      ...                 0.943891   \n",
       "2             0.085359      ...                 0.943891   \n",
       "3             0.081631      ...                 0.943891   \n",
       "4             0.151694      ...                 8.304969   \n",
       "\n",
       "   ubi_stats.entropy_last_month  ubi_stats.long_distance_count  \\\n",
       "0                      0.594390                            0.0   \n",
       "1                      0.489892                            0.0   \n",
       "2                      0.587585                            0.0   \n",
       "3                      0.528321                            0.0   \n",
       "4                      0.314494                            0.0   \n",
       "\n",
       "   ubi_stats.night_driving_hours  ubi_stats.percent_am_peak  \\\n",
       "0                            0.0                   0.263158   \n",
       "1                            0.0                   0.237658   \n",
       "2                            0.0                   0.229529   \n",
       "3                            0.0                   0.212777   \n",
       "4                            0.0                   0.408519   \n",
       "\n",
       "   ubi_stats.percent_long_distance  ubi_stats.percent_night_driving  \\\n",
       "0                              0.0                              0.0   \n",
       "1                              0.0                              0.0   \n",
       "2                              0.0                              0.0   \n",
       "3                              0.0                              0.0   \n",
       "4                              0.0                              0.0   \n",
       "\n",
       "   ubi_stats.percent_pm_peak  ubi_stats.pm_peak_hours  ubi_stats.day  \n",
       "0                        0.0                      0.0     2017-09-26  \n",
       "1                        0.0                      0.0     2017-09-27  \n",
       "2                        0.0                      0.0     2017-09-28  \n",
       "3                        0.0                      0.0     2017-09-29  \n",
       "4                        0.0                      0.0     2017-09-30  \n",
       "\n",
       "[5 rows x 35 columns]"
      ]
     },
     "execution_count": 17,
     "metadata": {},
     "output_type": "execute_result"
    }
   ],
   "source": [
    "all_metrics_data = pd.read_csv(\"ubi_stat.csv\",sep='\\t',header=0)\n",
    "all_metrics_data.head()"
   ]
  },
  {
   "cell_type": "code",
   "execution_count": 18,
   "metadata": {},
   "outputs": [
    {
     "name": "stdout",
     "output_type": "stream",
     "text": [
      "(3047869, 34)\n"
     ]
    },
    {
     "data": {
      "text/html": [
       "<div>\n",
       "<style scoped>\n",
       "    .dataframe tbody tr th:only-of-type {\n",
       "        vertical-align: middle;\n",
       "    }\n",
       "\n",
       "    .dataframe tbody tr th {\n",
       "        vertical-align: top;\n",
       "    }\n",
       "\n",
       "    .dataframe thead th {\n",
       "        text-align: right;\n",
       "    }\n",
       "</style>\n",
       "<table border=\"1\" class=\"dataframe\">\n",
       "  <thead>\n",
       "    <tr style=\"text-align: right;\">\n",
       "      <th></th>\n",
       "      <th>ubi_stats.vin</th>\n",
       "      <th>ubi_stats.acce_count</th>\n",
       "      <th>ubi_stats.agg_break_count</th>\n",
       "      <th>ubi_stats.agg_takeoff_count</th>\n",
       "      <th>ubi_stats.decel_count</th>\n",
       "      <th>ubi_stats.distance_driven</th>\n",
       "      <th>ubi_stats.driving_hours</th>\n",
       "      <th>ubi_stats.fuel_consumption</th>\n",
       "      <th>ubi_stats.high_speed_percentage</th>\n",
       "      <th>ubi_stats.mean_acce</th>\n",
       "      <th>...</th>\n",
       "      <th>ubi_stats.am_peak_hours</th>\n",
       "      <th>ubi_stats.entropy</th>\n",
       "      <th>ubi_stats.entropy_last_month</th>\n",
       "      <th>ubi_stats.long_distance_count</th>\n",
       "      <th>ubi_stats.night_driving_hours</th>\n",
       "      <th>ubi_stats.percent_am_peak</th>\n",
       "      <th>ubi_stats.percent_long_distance</th>\n",
       "      <th>ubi_stats.percent_night_driving</th>\n",
       "      <th>ubi_stats.percent_pm_peak</th>\n",
       "      <th>ubi_stats.pm_peak_hours</th>\n",
       "    </tr>\n",
       "  </thead>\n",
       "  <tbody>\n",
       "    <tr>\n",
       "      <th>0</th>\n",
       "      <td>LMGMS1G86H1S00099</td>\n",
       "      <td>0.0</td>\n",
       "      <td>0.0</td>\n",
       "      <td>0.0</td>\n",
       "      <td>0.0</td>\n",
       "      <td>1.0</td>\n",
       "      <td>14.636111</td>\n",
       "      <td>0.000194</td>\n",
       "      <td>0.0</td>\n",
       "      <td>0.071335</td>\n",
       "      <td>...</td>\n",
       "      <td>0.906944</td>\n",
       "      <td>0.943891</td>\n",
       "      <td>0.594390</td>\n",
       "      <td>0.0</td>\n",
       "      <td>0.0</td>\n",
       "      <td>0.263158</td>\n",
       "      <td>0.0</td>\n",
       "      <td>0.0</td>\n",
       "      <td>0.0</td>\n",
       "      <td>0.0</td>\n",
       "    </tr>\n",
       "    <tr>\n",
       "      <th>1</th>\n",
       "      <td>LMGMS1G86H1S00099</td>\n",
       "      <td>0.0</td>\n",
       "      <td>0.0</td>\n",
       "      <td>0.0</td>\n",
       "      <td>0.0</td>\n",
       "      <td>0.0</td>\n",
       "      <td>6.831389</td>\n",
       "      <td>0.000000</td>\n",
       "      <td>0.0</td>\n",
       "      <td>0.066062</td>\n",
       "      <td>...</td>\n",
       "      <td>2.178333</td>\n",
       "      <td>0.943891</td>\n",
       "      <td>0.489892</td>\n",
       "      <td>0.0</td>\n",
       "      <td>0.0</td>\n",
       "      <td>0.237658</td>\n",
       "      <td>0.0</td>\n",
       "      <td>0.0</td>\n",
       "      <td>0.0</td>\n",
       "      <td>0.0</td>\n",
       "    </tr>\n",
       "    <tr>\n",
       "      <th>2</th>\n",
       "      <td>LMGMS1G86H1S00099</td>\n",
       "      <td>0.0</td>\n",
       "      <td>0.0</td>\n",
       "      <td>0.0</td>\n",
       "      <td>0.0</td>\n",
       "      <td>1.0</td>\n",
       "      <td>7.389444</td>\n",
       "      <td>0.000015</td>\n",
       "      <td>0.0</td>\n",
       "      <td>0.085359</td>\n",
       "      <td>...</td>\n",
       "      <td>3.551389</td>\n",
       "      <td>0.943891</td>\n",
       "      <td>0.587585</td>\n",
       "      <td>0.0</td>\n",
       "      <td>0.0</td>\n",
       "      <td>0.229529</td>\n",
       "      <td>0.0</td>\n",
       "      <td>0.0</td>\n",
       "      <td>0.0</td>\n",
       "      <td>0.0</td>\n",
       "    </tr>\n",
       "    <tr>\n",
       "      <th>3</th>\n",
       "      <td>LMGMS1G86H1S00099</td>\n",
       "      <td>0.0</td>\n",
       "      <td>0.0</td>\n",
       "      <td>0.0</td>\n",
       "      <td>0.0</td>\n",
       "      <td>0.0</td>\n",
       "      <td>5.529444</td>\n",
       "      <td>0.000000</td>\n",
       "      <td>0.0</td>\n",
       "      <td>0.081631</td>\n",
       "      <td>...</td>\n",
       "      <td>4.835000</td>\n",
       "      <td>0.943891</td>\n",
       "      <td>0.528321</td>\n",
       "      <td>0.0</td>\n",
       "      <td>0.0</td>\n",
       "      <td>0.212777</td>\n",
       "      <td>0.0</td>\n",
       "      <td>0.0</td>\n",
       "      <td>0.0</td>\n",
       "      <td>0.0</td>\n",
       "    </tr>\n",
       "    <tr>\n",
       "      <th>4</th>\n",
       "      <td>LMGMS1G89H1S00100</td>\n",
       "      <td>2.0</td>\n",
       "      <td>0.0</td>\n",
       "      <td>0.0</td>\n",
       "      <td>0.0</td>\n",
       "      <td>10.0</td>\n",
       "      <td>5.642500</td>\n",
       "      <td>0.028613</td>\n",
       "      <td>0.0</td>\n",
       "      <td>0.151694</td>\n",
       "      <td>...</td>\n",
       "      <td>1.955556</td>\n",
       "      <td>8.304969</td>\n",
       "      <td>0.314494</td>\n",
       "      <td>0.0</td>\n",
       "      <td>0.0</td>\n",
       "      <td>0.408519</td>\n",
       "      <td>0.0</td>\n",
       "      <td>0.0</td>\n",
       "      <td>0.0</td>\n",
       "      <td>0.0</td>\n",
       "    </tr>\n",
       "  </tbody>\n",
       "</table>\n",
       "<p>5 rows × 34 columns</p>\n",
       "</div>"
      ],
      "text/plain": [
       "       ubi_stats.vin  ubi_stats.acce_count  ubi_stats.agg_break_count  \\\n",
       "0  LMGMS1G86H1S00099                   0.0                        0.0   \n",
       "1  LMGMS1G86H1S00099                   0.0                        0.0   \n",
       "2  LMGMS1G86H1S00099                   0.0                        0.0   \n",
       "3  LMGMS1G86H1S00099                   0.0                        0.0   \n",
       "4  LMGMS1G89H1S00100                   2.0                        0.0   \n",
       "\n",
       "   ubi_stats.agg_takeoff_count  ubi_stats.decel_count  \\\n",
       "0                          0.0                    0.0   \n",
       "1                          0.0                    0.0   \n",
       "2                          0.0                    0.0   \n",
       "3                          0.0                    0.0   \n",
       "4                          0.0                    0.0   \n",
       "\n",
       "   ubi_stats.distance_driven  ubi_stats.driving_hours  \\\n",
       "0                        1.0                14.636111   \n",
       "1                        0.0                 6.831389   \n",
       "2                        1.0                 7.389444   \n",
       "3                        0.0                 5.529444   \n",
       "4                       10.0                 5.642500   \n",
       "\n",
       "   ubi_stats.fuel_consumption  ubi_stats.high_speed_percentage  \\\n",
       "0                    0.000194                              0.0   \n",
       "1                    0.000000                              0.0   \n",
       "2                    0.000015                              0.0   \n",
       "3                    0.000000                              0.0   \n",
       "4                    0.028613                              0.0   \n",
       "\n",
       "   ubi_stats.mean_acce           ...             ubi_stats.am_peak_hours  \\\n",
       "0             0.071335           ...                            0.906944   \n",
       "1             0.066062           ...                            2.178333   \n",
       "2             0.085359           ...                            3.551389   \n",
       "3             0.081631           ...                            4.835000   \n",
       "4             0.151694           ...                            1.955556   \n",
       "\n",
       "   ubi_stats.entropy  ubi_stats.entropy_last_month  \\\n",
       "0           0.943891                      0.594390   \n",
       "1           0.943891                      0.489892   \n",
       "2           0.943891                      0.587585   \n",
       "3           0.943891                      0.528321   \n",
       "4           8.304969                      0.314494   \n",
       "\n",
       "   ubi_stats.long_distance_count  ubi_stats.night_driving_hours  \\\n",
       "0                            0.0                            0.0   \n",
       "1                            0.0                            0.0   \n",
       "2                            0.0                            0.0   \n",
       "3                            0.0                            0.0   \n",
       "4                            0.0                            0.0   \n",
       "\n",
       "   ubi_stats.percent_am_peak  ubi_stats.percent_long_distance  \\\n",
       "0                   0.263158                              0.0   \n",
       "1                   0.237658                              0.0   \n",
       "2                   0.229529                              0.0   \n",
       "3                   0.212777                              0.0   \n",
       "4                   0.408519                              0.0   \n",
       "\n",
       "   ubi_stats.percent_night_driving  ubi_stats.percent_pm_peak  \\\n",
       "0                              0.0                        0.0   \n",
       "1                              0.0                        0.0   \n",
       "2                              0.0                        0.0   \n",
       "3                              0.0                        0.0   \n",
       "4                              0.0                        0.0   \n",
       "\n",
       "   ubi_stats.pm_peak_hours  \n",
       "0                      0.0  \n",
       "1                      0.0  \n",
       "2                      0.0  \n",
       "3                      0.0  \n",
       "4                      0.0  \n",
       "\n",
       "[5 rows x 34 columns]"
      ]
     },
     "execution_count": 18,
     "metadata": {},
     "output_type": "execute_result"
    }
   ],
   "source": [
    "all_metrics_data = all_metrics_data.drop([\"ubi_stats.day\"], axis=1)\n",
    "all_metrics_data.fillna(0, inplace=True)\n",
    "print(all_metrics_data.shape)\n",
    "all_metrics_data.head()"
   ]
  },
  {
   "cell_type": "code",
   "execution_count": 19,
   "metadata": {},
   "outputs": [
    {
     "name": "stdout",
     "output_type": "stream",
     "text": [
      "(27062, 34)\n"
     ]
    },
    {
     "data": {
      "text/html": [
       "<div>\n",
       "<style scoped>\n",
       "    .dataframe tbody tr th:only-of-type {\n",
       "        vertical-align: middle;\n",
       "    }\n",
       "\n",
       "    .dataframe tbody tr th {\n",
       "        vertical-align: top;\n",
       "    }\n",
       "\n",
       "    .dataframe thead th {\n",
       "        text-align: right;\n",
       "    }\n",
       "</style>\n",
       "<table border=\"1\" class=\"dataframe\">\n",
       "  <thead>\n",
       "    <tr style=\"text-align: right;\">\n",
       "      <th></th>\n",
       "      <th>ubi_stats.vin</th>\n",
       "      <th>ubi_stats.acce_count</th>\n",
       "      <th>ubi_stats.agg_break_count</th>\n",
       "      <th>ubi_stats.agg_takeoff_count</th>\n",
       "      <th>ubi_stats.decel_count</th>\n",
       "      <th>ubi_stats.distance_driven</th>\n",
       "      <th>ubi_stats.driving_hours</th>\n",
       "      <th>ubi_stats.fuel_consumption</th>\n",
       "      <th>ubi_stats.high_speed_percentage</th>\n",
       "      <th>ubi_stats.mean_acce</th>\n",
       "      <th>...</th>\n",
       "      <th>ubi_stats.am_peak_hours</th>\n",
       "      <th>ubi_stats.entropy</th>\n",
       "      <th>ubi_stats.entropy_last_month</th>\n",
       "      <th>ubi_stats.long_distance_count</th>\n",
       "      <th>ubi_stats.night_driving_hours</th>\n",
       "      <th>ubi_stats.percent_am_peak</th>\n",
       "      <th>ubi_stats.percent_long_distance</th>\n",
       "      <th>ubi_stats.percent_night_driving</th>\n",
       "      <th>ubi_stats.percent_pm_peak</th>\n",
       "      <th>ubi_stats.pm_peak_hours</th>\n",
       "    </tr>\n",
       "  </thead>\n",
       "  <tbody>\n",
       "    <tr>\n",
       "      <th>0</th>\n",
       "      <td>600VG3071H710001C</td>\n",
       "      <td>0.0</td>\n",
       "      <td>0.0</td>\n",
       "      <td>0.0</td>\n",
       "      <td>0.0</td>\n",
       "      <td>2.0</td>\n",
       "      <td>2.210694</td>\n",
       "      <td>0.000309</td>\n",
       "      <td>0.0</td>\n",
       "      <td>0.102446</td>\n",
       "      <td>...</td>\n",
       "      <td>2.333889</td>\n",
       "      <td>3.392147</td>\n",
       "      <td>0.463325</td>\n",
       "      <td>0.0</td>\n",
       "      <td>0.00</td>\n",
       "      <td>0.293058</td>\n",
       "      <td>0.000000</td>\n",
       "      <td>0.000000</td>\n",
       "      <td>0.000000</td>\n",
       "      <td>0.000000</td>\n",
       "    </tr>\n",
       "    <tr>\n",
       "      <th>1</th>\n",
       "      <td>845VG3071H5261289</td>\n",
       "      <td>0.0</td>\n",
       "      <td>0.0</td>\n",
       "      <td>0.0</td>\n",
       "      <td>0.0</td>\n",
       "      <td>1.0</td>\n",
       "      <td>1.898194</td>\n",
       "      <td>0.000103</td>\n",
       "      <td>0.0</td>\n",
       "      <td>0.132566</td>\n",
       "      <td>...</td>\n",
       "      <td>2.280000</td>\n",
       "      <td>3.100351</td>\n",
       "      <td>0.469000</td>\n",
       "      <td>0.0</td>\n",
       "      <td>0.00</td>\n",
       "      <td>0.198324</td>\n",
       "      <td>0.000000</td>\n",
       "      <td>0.000000</td>\n",
       "      <td>0.000000</td>\n",
       "      <td>0.000000</td>\n",
       "    </tr>\n",
       "    <tr>\n",
       "      <th>2</th>\n",
       "      <td>845VG3071J4190PB2</td>\n",
       "      <td>0.0</td>\n",
       "      <td>0.0</td>\n",
       "      <td>0.0</td>\n",
       "      <td>0.0</td>\n",
       "      <td>3.0</td>\n",
       "      <td>7.086944</td>\n",
       "      <td>0.003432</td>\n",
       "      <td>0.0</td>\n",
       "      <td>0.089097</td>\n",
       "      <td>...</td>\n",
       "      <td>0.560417</td>\n",
       "      <td>3.546594</td>\n",
       "      <td>1.488648</td>\n",
       "      <td>0.0</td>\n",
       "      <td>0.00</td>\n",
       "      <td>0.120585</td>\n",
       "      <td>0.000000</td>\n",
       "      <td>0.000000</td>\n",
       "      <td>0.000000</td>\n",
       "      <td>0.000000</td>\n",
       "    </tr>\n",
       "    <tr>\n",
       "      <th>3</th>\n",
       "      <td>LMGMS1G80H1000013</td>\n",
       "      <td>0.0</td>\n",
       "      <td>2.0</td>\n",
       "      <td>0.0</td>\n",
       "      <td>3.0</td>\n",
       "      <td>81.0</td>\n",
       "      <td>3.651944</td>\n",
       "      <td>2.866278</td>\n",
       "      <td>0.0</td>\n",
       "      <td>0.367570</td>\n",
       "      <td>...</td>\n",
       "      <td>13.996667</td>\n",
       "      <td>10.926558</td>\n",
       "      <td>1.222883</td>\n",
       "      <td>5.0</td>\n",
       "      <td>0.41</td>\n",
       "      <td>0.141939</td>\n",
       "      <td>0.018732</td>\n",
       "      <td>0.004991</td>\n",
       "      <td>0.044805</td>\n",
       "      <td>4.928333</td>\n",
       "    </tr>\n",
       "    <tr>\n",
       "      <th>4</th>\n",
       "      <td>LMGMS1G80H1000027</td>\n",
       "      <td>0.0</td>\n",
       "      <td>2.0</td>\n",
       "      <td>0.0</td>\n",
       "      <td>2.0</td>\n",
       "      <td>5.0</td>\n",
       "      <td>0.547778</td>\n",
       "      <td>0.171842</td>\n",
       "      <td>0.0</td>\n",
       "      <td>0.383548</td>\n",
       "      <td>...</td>\n",
       "      <td>2.928333</td>\n",
       "      <td>5.098957</td>\n",
       "      <td>0.260459</td>\n",
       "      <td>0.0</td>\n",
       "      <td>0.00</td>\n",
       "      <td>0.179932</td>\n",
       "      <td>0.000000</td>\n",
       "      <td>0.000000</td>\n",
       "      <td>0.000000</td>\n",
       "      <td>0.000000</td>\n",
       "    </tr>\n",
       "  </tbody>\n",
       "</table>\n",
       "<p>5 rows × 34 columns</p>\n",
       "</div>"
      ],
      "text/plain": [
       "       ubi_stats.vin  ubi_stats.acce_count  ubi_stats.agg_break_count  \\\n",
       "0  600VG3071H710001C                   0.0                        0.0   \n",
       "1  845VG3071H5261289                   0.0                        0.0   \n",
       "2  845VG3071J4190PB2                   0.0                        0.0   \n",
       "3  LMGMS1G80H1000013                   0.0                        2.0   \n",
       "4  LMGMS1G80H1000027                   0.0                        2.0   \n",
       "\n",
       "   ubi_stats.agg_takeoff_count  ubi_stats.decel_count  \\\n",
       "0                          0.0                    0.0   \n",
       "1                          0.0                    0.0   \n",
       "2                          0.0                    0.0   \n",
       "3                          0.0                    3.0   \n",
       "4                          0.0                    2.0   \n",
       "\n",
       "   ubi_stats.distance_driven  ubi_stats.driving_hours  \\\n",
       "0                        2.0                 2.210694   \n",
       "1                        1.0                 1.898194   \n",
       "2                        3.0                 7.086944   \n",
       "3                       81.0                 3.651944   \n",
       "4                        5.0                 0.547778   \n",
       "\n",
       "   ubi_stats.fuel_consumption  ubi_stats.high_speed_percentage  \\\n",
       "0                    0.000309                              0.0   \n",
       "1                    0.000103                              0.0   \n",
       "2                    0.003432                              0.0   \n",
       "3                    2.866278                              0.0   \n",
       "4                    0.171842                              0.0   \n",
       "\n",
       "   ubi_stats.mean_acce           ...             ubi_stats.am_peak_hours  \\\n",
       "0             0.102446           ...                            2.333889   \n",
       "1             0.132566           ...                            2.280000   \n",
       "2             0.089097           ...                            0.560417   \n",
       "3             0.367570           ...                           13.996667   \n",
       "4             0.383548           ...                            2.928333   \n",
       "\n",
       "   ubi_stats.entropy  ubi_stats.entropy_last_month  \\\n",
       "0           3.392147                      0.463325   \n",
       "1           3.100351                      0.469000   \n",
       "2           3.546594                      1.488648   \n",
       "3          10.926558                      1.222883   \n",
       "4           5.098957                      0.260459   \n",
       "\n",
       "   ubi_stats.long_distance_count  ubi_stats.night_driving_hours  \\\n",
       "0                            0.0                           0.00   \n",
       "1                            0.0                           0.00   \n",
       "2                            0.0                           0.00   \n",
       "3                            5.0                           0.41   \n",
       "4                            0.0                           0.00   \n",
       "\n",
       "   ubi_stats.percent_am_peak  ubi_stats.percent_long_distance  \\\n",
       "0                   0.293058                         0.000000   \n",
       "1                   0.198324                         0.000000   \n",
       "2                   0.120585                         0.000000   \n",
       "3                   0.141939                         0.018732   \n",
       "4                   0.179932                         0.000000   \n",
       "\n",
       "   ubi_stats.percent_night_driving  ubi_stats.percent_pm_peak  \\\n",
       "0                         0.000000                   0.000000   \n",
       "1                         0.000000                   0.000000   \n",
       "2                         0.000000                   0.000000   \n",
       "3                         0.004991                   0.044805   \n",
       "4                         0.000000                   0.000000   \n",
       "\n",
       "   ubi_stats.pm_peak_hours  \n",
       "0                 0.000000  \n",
       "1                 0.000000  \n",
       "2                 0.000000  \n",
       "3                 4.928333  \n",
       "4                 0.000000  \n",
       "\n",
       "[5 rows x 34 columns]"
      ]
     },
     "execution_count": 19,
     "metadata": {},
     "output_type": "execute_result"
    }
   ],
   "source": [
    "all_metrics_data = all_metrics_data.groupby(\"ubi_stats.vin\", as_index=False).median()\n",
    "\n",
    "print(all_metrics_data.shape)\n",
    "\n",
    "all_metrics_data.head()"
   ]
  },
  {
   "cell_type": "code",
   "execution_count": 20,
   "metadata": {},
   "outputs": [
    {
     "data": {
      "text/plain": [
       "Index([u'ubi_stats.vin', u'ubi_stats.acce_count', u'ubi_stats.agg_break_count',\n",
       "       u'ubi_stats.agg_takeoff_count', u'ubi_stats.decel_count',\n",
       "       u'ubi_stats.distance_driven', u'ubi_stats.driving_hours',\n",
       "       u'ubi_stats.fuel_consumption', u'ubi_stats.high_speed_percentage',\n",
       "       u'ubi_stats.mean_acce', u'ubi_stats.mean_decel',\n",
       "       u'ubi_stats.mean_fuel_efficiency', u'ubi_stats.median_acce',\n",
       "       u'ubi_stats.median_decel', u'ubi_stats.odo_end',\n",
       "       u'ubi_stats.speed_average', u'ubi_stats.speed_average_pos',\n",
       "       u'ubi_stats.speed_max', u'ubi_stats.speeding_count10',\n",
       "       u'ubi_stats.speeding_count20', u'ubi_stats.speeding_count30',\n",
       "       u'ubi_stats.speeding_count40', u'ubi_stats.speeding_count40_plus',\n",
       "       u'ubi_stats.turn_count', u'ubi_stats.am_peak_hours',\n",
       "       u'ubi_stats.entropy', u'ubi_stats.entropy_last_month',\n",
       "       u'ubi_stats.long_distance_count', u'ubi_stats.night_driving_hours',\n",
       "       u'ubi_stats.percent_am_peak', u'ubi_stats.percent_long_distance',\n",
       "       u'ubi_stats.percent_night_driving', u'ubi_stats.percent_pm_peak',\n",
       "       u'ubi_stats.pm_peak_hours'],\n",
       "      dtype='object')"
      ]
     },
     "execution_count": 20,
     "metadata": {},
     "output_type": "execute_result"
    }
   ],
   "source": [
    "all_metrics_data.columns"
   ]
  },
  {
   "cell_type": "markdown",
   "metadata": {},
   "source": [
    "# modfiy column name"
   ]
  },
  {
   "cell_type": "code",
   "execution_count": 21,
   "metadata": {},
   "outputs": [
    {
     "data": {
      "text/plain": [
       "\"\\ndf.columns = df.columns.str.replace('$','')\\n\""
      ]
     },
     "execution_count": 21,
     "metadata": {},
     "output_type": "execute_result"
    }
   ],
   "source": [
    "\"\"\"\n",
    "new_columns = all_metrics_data.columns.values\n",
    "new_columns[0] = 'vin'\n",
    "all_metrics_data.columns = new_columns\n",
    "\"\"\"\n",
    "\"\"\"\n",
    "df.columns = df.columns.str.replace('$','')\n",
    "\"\"\""
   ]
  },
  {
   "cell_type": "code",
   "execution_count": 22,
   "metadata": {},
   "outputs": [],
   "source": [
    "#all_metrics_data.rename(columns={'oldName1': 'newName1', 'oldName2': 'newName2'}, inplace=True)\n",
    "all_metrics_data.rename(lambda x: x[10:], axis='columns', inplace=True)"
   ]
  },
  {
   "cell_type": "code",
   "execution_count": 23,
   "metadata": {},
   "outputs": [
    {
     "data": {
      "text/plain": [
       "Index([u'vin', u'acce_count', u'agg_break_count', u'agg_takeoff_count',\n",
       "       u'decel_count', u'distance_driven', u'driving_hours',\n",
       "       u'fuel_consumption', u'high_speed_percentage', u'mean_acce',\n",
       "       u'mean_decel', u'mean_fuel_efficiency', u'median_acce', u'median_decel',\n",
       "       u'odo_end', u'speed_average', u'speed_average_pos', u'speed_max',\n",
       "       u'speeding_count10', u'speeding_count20', u'speeding_count30',\n",
       "       u'speeding_count40', u'speeding_count40_plus', u'turn_count',\n",
       "       u'am_peak_hours', u'entropy', u'entropy_last_month',\n",
       "       u'long_distance_count', u'night_driving_hours', u'percent_am_peak',\n",
       "       u'percent_long_distance', u'percent_night_driving', u'percent_pm_peak',\n",
       "       u'pm_peak_hours'],\n",
       "      dtype='object')"
      ]
     },
     "execution_count": 23,
     "metadata": {},
     "output_type": "execute_result"
    }
   ],
   "source": [
    "all_metrics_data.columns"
   ]
  },
  {
   "cell_type": "code",
   "execution_count": 24,
   "metadata": {},
   "outputs": [
    {
     "name": "stdout",
     "output_type": "stream",
     "text": [
      "(1581, 36)\n"
     ]
    },
    {
     "data": {
      "text/html": [
       "<div>\n",
       "<style scoped>\n",
       "    .dataframe tbody tr th:only-of-type {\n",
       "        vertical-align: middle;\n",
       "    }\n",
       "\n",
       "    .dataframe tbody tr th {\n",
       "        vertical-align: top;\n",
       "    }\n",
       "\n",
       "    .dataframe thead th {\n",
       "        text-align: right;\n",
       "    }\n",
       "</style>\n",
       "<table border=\"1\" class=\"dataframe\">\n",
       "  <thead>\n",
       "    <tr style=\"text-align: right;\">\n",
       "      <th></th>\n",
       "      <th>vin</th>\n",
       "      <th>acce_count</th>\n",
       "      <th>agg_break_count</th>\n",
       "      <th>agg_takeoff_count</th>\n",
       "      <th>decel_count</th>\n",
       "      <th>distance_driven</th>\n",
       "      <th>driving_hours</th>\n",
       "      <th>fuel_consumption</th>\n",
       "      <th>high_speed_percentage</th>\n",
       "      <th>mean_acce</th>\n",
       "      <th>...</th>\n",
       "      <th>entropy_last_month</th>\n",
       "      <th>long_distance_count</th>\n",
       "      <th>night_driving_hours</th>\n",
       "      <th>percent_am_peak</th>\n",
       "      <th>percent_long_distance</th>\n",
       "      <th>percent_night_driving</th>\n",
       "      <th>percent_pm_peak</th>\n",
       "      <th>pm_peak_hours</th>\n",
       "      <th>payment</th>\n",
       "      <th>count</th>\n",
       "    </tr>\n",
       "  </thead>\n",
       "  <tbody>\n",
       "    <tr>\n",
       "      <th>0</th>\n",
       "      <td>LMGMS1G80H1000349</td>\n",
       "      <td>0.0</td>\n",
       "      <td>2.0</td>\n",
       "      <td>0.0</td>\n",
       "      <td>2.0</td>\n",
       "      <td>38.0</td>\n",
       "      <td>1.694444</td>\n",
       "      <td>1.535503</td>\n",
       "      <td>0.0</td>\n",
       "      <td>0.399755</td>\n",
       "      <td>...</td>\n",
       "      <td>0.654252</td>\n",
       "      <td>2.0</td>\n",
       "      <td>1.169167</td>\n",
       "      <td>0.152846</td>\n",
       "      <td>0.007937</td>\n",
       "      <td>0.018098</td>\n",
       "      <td>0.013967</td>\n",
       "      <td>0.766944</td>\n",
       "      <td>0.0</td>\n",
       "      <td>0</td>\n",
       "    </tr>\n",
       "    <tr>\n",
       "      <th>1</th>\n",
       "      <td>LMGMS1G80H1000366</td>\n",
       "      <td>0.0</td>\n",
       "      <td>1.0</td>\n",
       "      <td>0.0</td>\n",
       "      <td>1.0</td>\n",
       "      <td>11.0</td>\n",
       "      <td>1.406667</td>\n",
       "      <td>0.151815</td>\n",
       "      <td>0.0</td>\n",
       "      <td>0.286709</td>\n",
       "      <td>...</td>\n",
       "      <td>0.378577</td>\n",
       "      <td>0.0</td>\n",
       "      <td>0.000000</td>\n",
       "      <td>0.149385</td>\n",
       "      <td>0.000000</td>\n",
       "      <td>0.000000</td>\n",
       "      <td>0.040256</td>\n",
       "      <td>1.018333</td>\n",
       "      <td>50.0</td>\n",
       "      <td>1</td>\n",
       "    </tr>\n",
       "    <tr>\n",
       "      <th>2</th>\n",
       "      <td>LMGMS1G80H1S00163</td>\n",
       "      <td>0.0</td>\n",
       "      <td>0.0</td>\n",
       "      <td>0.0</td>\n",
       "      <td>0.0</td>\n",
       "      <td>20.0</td>\n",
       "      <td>0.881944</td>\n",
       "      <td>0.797743</td>\n",
       "      <td>0.0</td>\n",
       "      <td>0.366820</td>\n",
       "      <td>...</td>\n",
       "      <td>0.392016</td>\n",
       "      <td>0.0</td>\n",
       "      <td>3.611667</td>\n",
       "      <td>0.077001</td>\n",
       "      <td>0.000000</td>\n",
       "      <td>0.099558</td>\n",
       "      <td>0.052064</td>\n",
       "      <td>1.478889</td>\n",
       "      <td>0.0</td>\n",
       "      <td>0</td>\n",
       "    </tr>\n",
       "    <tr>\n",
       "      <th>3</th>\n",
       "      <td>LMGMS1G80H1S00177</td>\n",
       "      <td>0.0</td>\n",
       "      <td>3.0</td>\n",
       "      <td>0.0</td>\n",
       "      <td>3.0</td>\n",
       "      <td>54.0</td>\n",
       "      <td>2.094444</td>\n",
       "      <td>1.980575</td>\n",
       "      <td>0.0</td>\n",
       "      <td>0.360304</td>\n",
       "      <td>...</td>\n",
       "      <td>0.574436</td>\n",
       "      <td>0.0</td>\n",
       "      <td>0.993611</td>\n",
       "      <td>0.117424</td>\n",
       "      <td>0.000000</td>\n",
       "      <td>0.026452</td>\n",
       "      <td>0.006415</td>\n",
       "      <td>0.190833</td>\n",
       "      <td>0.0</td>\n",
       "      <td>0</td>\n",
       "    </tr>\n",
       "    <tr>\n",
       "      <th>4</th>\n",
       "      <td>LMGMS1G80H1S00227</td>\n",
       "      <td>0.0</td>\n",
       "      <td>2.0</td>\n",
       "      <td>0.0</td>\n",
       "      <td>2.0</td>\n",
       "      <td>44.0</td>\n",
       "      <td>1.441667</td>\n",
       "      <td>1.933524</td>\n",
       "      <td>0.0</td>\n",
       "      <td>0.371428</td>\n",
       "      <td>...</td>\n",
       "      <td>0.458581</td>\n",
       "      <td>0.0</td>\n",
       "      <td>3.176667</td>\n",
       "      <td>0.089208</td>\n",
       "      <td>0.000000</td>\n",
       "      <td>0.130130</td>\n",
       "      <td>0.000000</td>\n",
       "      <td>0.000000</td>\n",
       "      <td>0.0</td>\n",
       "      <td>0</td>\n",
       "    </tr>\n",
       "  </tbody>\n",
       "</table>\n",
       "<p>5 rows × 36 columns</p>\n",
       "</div>"
      ],
      "text/plain": [
       "                 vin  acce_count  agg_break_count  agg_takeoff_count  \\\n",
       "0  LMGMS1G80H1000349         0.0              2.0                0.0   \n",
       "1  LMGMS1G80H1000366         0.0              1.0                0.0   \n",
       "2  LMGMS1G80H1S00163         0.0              0.0                0.0   \n",
       "3  LMGMS1G80H1S00177         0.0              3.0                0.0   \n",
       "4  LMGMS1G80H1S00227         0.0              2.0                0.0   \n",
       "\n",
       "   decel_count  distance_driven  driving_hours  fuel_consumption  \\\n",
       "0          2.0             38.0       1.694444          1.535503   \n",
       "1          1.0             11.0       1.406667          0.151815   \n",
       "2          0.0             20.0       0.881944          0.797743   \n",
       "3          3.0             54.0       2.094444          1.980575   \n",
       "4          2.0             44.0       1.441667          1.933524   \n",
       "\n",
       "   high_speed_percentage  mean_acce  ...    entropy_last_month  \\\n",
       "0                    0.0   0.399755  ...              0.654252   \n",
       "1                    0.0   0.286709  ...              0.378577   \n",
       "2                    0.0   0.366820  ...              0.392016   \n",
       "3                    0.0   0.360304  ...              0.574436   \n",
       "4                    0.0   0.371428  ...              0.458581   \n",
       "\n",
       "   long_distance_count  night_driving_hours  percent_am_peak  \\\n",
       "0                  2.0             1.169167         0.152846   \n",
       "1                  0.0             0.000000         0.149385   \n",
       "2                  0.0             3.611667         0.077001   \n",
       "3                  0.0             0.993611         0.117424   \n",
       "4                  0.0             3.176667         0.089208   \n",
       "\n",
       "   percent_long_distance  percent_night_driving  percent_pm_peak  \\\n",
       "0               0.007937               0.018098         0.013967   \n",
       "1               0.000000               0.000000         0.040256   \n",
       "2               0.000000               0.099558         0.052064   \n",
       "3               0.000000               0.026452         0.006415   \n",
       "4               0.000000               0.130130         0.000000   \n",
       "\n",
       "   pm_peak_hours  payment  count  \n",
       "0       0.766944      0.0      0  \n",
       "1       1.018333     50.0      1  \n",
       "2       1.478889      0.0      0  \n",
       "3       0.190833      0.0      0  \n",
       "4       0.000000      0.0      0  \n",
       "\n",
       "[5 rows x 36 columns]"
      ]
     },
     "execution_count": 24,
     "metadata": {},
     "output_type": "execute_result"
    }
   ],
   "source": [
    "df_all = pd.merge(all_metrics_data, claim_new, on='vin', how='inner')\n",
    "\n",
    "print(df_all.shape)\n",
    "\n",
    "df_all.head()"
   ]
  },
  {
   "cell_type": "code",
   "execution_count": 25,
   "metadata": {},
   "outputs": [
    {
     "data": {
      "text/plain": [
       "Index([u'acce_count', u'agg_break_count', u'agg_takeoff_count', u'decel_count',\n",
       "       u'distance_driven', u'driving_hours', u'fuel_consumption',\n",
       "       u'high_speed_percentage', u'mean_acce', u'mean_decel',\n",
       "       u'mean_fuel_efficiency', u'median_acce', u'median_decel', u'odo_end',\n",
       "       u'speed_average', u'speed_average_pos', u'speed_max',\n",
       "       u'speeding_count10', u'speeding_count20', u'speeding_count30',\n",
       "       u'speeding_count40', u'speeding_count40_plus', u'turn_count',\n",
       "       u'am_peak_hours', u'entropy', u'entropy_last_month',\n",
       "       u'long_distance_count', u'night_driving_hours', u'percent_am_peak',\n",
       "       u'percent_long_distance', u'percent_night_driving', u'percent_pm_peak',\n",
       "       u'pm_peak_hours', u'payment', u'count'],\n",
       "      dtype='object')"
      ]
     },
     "execution_count": 25,
     "metadata": {},
     "output_type": "execute_result"
    }
   ],
   "source": [
    "df_all.to_csv(\"metrics_and_claims.csv\", header=True, index=False)\n",
    "\n",
    "df_all = df_all.drop(\"vin\", axis=1)\n",
    "\n",
    "df_all.columns"
   ]
  },
  {
   "cell_type": "code",
   "execution_count": 26,
   "metadata": {},
   "outputs": [
    {
     "data": {
      "text/plain": [
       "acce_count               1581\n",
       "agg_break_count          1581\n",
       "agg_takeoff_count        1581\n",
       "decel_count              1581\n",
       "distance_driven          1581\n",
       "driving_hours            1581\n",
       "fuel_consumption         1581\n",
       "high_speed_percentage    1581\n",
       "mean_acce                1581\n",
       "mean_decel               1581\n",
       "mean_fuel_efficiency     1581\n",
       "median_acce              1581\n",
       "median_decel             1581\n",
       "odo_end                  1581\n",
       "speed_average            1581\n",
       "speed_average_pos        1581\n",
       "speed_max                1581\n",
       "speeding_count10         1581\n",
       "speeding_count20         1581\n",
       "speeding_count30         1581\n",
       "speeding_count40         1581\n",
       "speeding_count40_plus    1581\n",
       "turn_count               1581\n",
       "am_peak_hours            1581\n",
       "entropy                  1581\n",
       "entropy_last_month       1581\n",
       "long_distance_count      1581\n",
       "night_driving_hours      1581\n",
       "percent_am_peak          1581\n",
       "percent_long_distance    1581\n",
       "percent_night_driving    1581\n",
       "percent_pm_peak          1581\n",
       "pm_peak_hours            1581\n",
       "payment                  1581\n",
       "count                    1581\n",
       "dtype: int64"
      ]
     },
     "execution_count": 26,
     "metadata": {},
     "output_type": "execute_result"
    }
   ],
   "source": [
    "df_all.count()"
   ]
  },
  {
   "cell_type": "code",
   "execution_count": 27,
   "metadata": {},
   "outputs": [],
   "source": [
    "df_all = df_all.rename(columns={'count': 'tot_accidents'})"
   ]
  },
  {
   "cell_type": "code",
   "execution_count": 28,
   "metadata": {},
   "outputs": [
    {
     "data": {
      "text/html": [
       "<div>\n",
       "<style scoped>\n",
       "    .dataframe tbody tr th:only-of-type {\n",
       "        vertical-align: middle;\n",
       "    }\n",
       "\n",
       "    .dataframe tbody tr th {\n",
       "        vertical-align: top;\n",
       "    }\n",
       "\n",
       "    .dataframe thead th {\n",
       "        text-align: right;\n",
       "    }\n",
       "</style>\n",
       "<table border=\"1\" class=\"dataframe\">\n",
       "  <thead>\n",
       "    <tr style=\"text-align: right;\">\n",
       "      <th></th>\n",
       "      <th>acce_count</th>\n",
       "      <th>agg_break_count</th>\n",
       "      <th>agg_takeoff_count</th>\n",
       "      <th>decel_count</th>\n",
       "      <th>distance_driven</th>\n",
       "      <th>driving_hours</th>\n",
       "      <th>fuel_consumption</th>\n",
       "      <th>high_speed_percentage</th>\n",
       "      <th>mean_acce</th>\n",
       "      <th>mean_decel</th>\n",
       "      <th>...</th>\n",
       "      <th>entropy_last_month</th>\n",
       "      <th>long_distance_count</th>\n",
       "      <th>night_driving_hours</th>\n",
       "      <th>percent_am_peak</th>\n",
       "      <th>percent_long_distance</th>\n",
       "      <th>percent_night_driving</th>\n",
       "      <th>percent_pm_peak</th>\n",
       "      <th>pm_peak_hours</th>\n",
       "      <th>payment</th>\n",
       "      <th>tot_accidents</th>\n",
       "    </tr>\n",
       "  </thead>\n",
       "  <tbody>\n",
       "    <tr>\n",
       "      <th>0</th>\n",
       "      <td>0.0</td>\n",
       "      <td>2.0</td>\n",
       "      <td>0.0</td>\n",
       "      <td>2.0</td>\n",
       "      <td>38.0</td>\n",
       "      <td>1.694444</td>\n",
       "      <td>1.535503</td>\n",
       "      <td>0.0</td>\n",
       "      <td>0.399755</td>\n",
       "      <td>-0.379107</td>\n",
       "      <td>...</td>\n",
       "      <td>0.654252</td>\n",
       "      <td>2.0</td>\n",
       "      <td>1.169167</td>\n",
       "      <td>0.152846</td>\n",
       "      <td>0.007937</td>\n",
       "      <td>0.018098</td>\n",
       "      <td>0.013967</td>\n",
       "      <td>0.766944</td>\n",
       "      <td>0.0</td>\n",
       "      <td>0</td>\n",
       "    </tr>\n",
       "    <tr>\n",
       "      <th>1</th>\n",
       "      <td>0.0</td>\n",
       "      <td>1.0</td>\n",
       "      <td>0.0</td>\n",
       "      <td>1.0</td>\n",
       "      <td>11.0</td>\n",
       "      <td>1.406667</td>\n",
       "      <td>0.151815</td>\n",
       "      <td>0.0</td>\n",
       "      <td>0.286709</td>\n",
       "      <td>-0.258289</td>\n",
       "      <td>...</td>\n",
       "      <td>0.378577</td>\n",
       "      <td>0.0</td>\n",
       "      <td>0.000000</td>\n",
       "      <td>0.149385</td>\n",
       "      <td>0.000000</td>\n",
       "      <td>0.000000</td>\n",
       "      <td>0.040256</td>\n",
       "      <td>1.018333</td>\n",
       "      <td>50.0</td>\n",
       "      <td>1</td>\n",
       "    </tr>\n",
       "    <tr>\n",
       "      <th>2</th>\n",
       "      <td>0.0</td>\n",
       "      <td>0.0</td>\n",
       "      <td>0.0</td>\n",
       "      <td>0.0</td>\n",
       "      <td>20.0</td>\n",
       "      <td>0.881944</td>\n",
       "      <td>0.797743</td>\n",
       "      <td>0.0</td>\n",
       "      <td>0.366820</td>\n",
       "      <td>-0.356622</td>\n",
       "      <td>...</td>\n",
       "      <td>0.392016</td>\n",
       "      <td>0.0</td>\n",
       "      <td>3.611667</td>\n",
       "      <td>0.077001</td>\n",
       "      <td>0.000000</td>\n",
       "      <td>0.099558</td>\n",
       "      <td>0.052064</td>\n",
       "      <td>1.478889</td>\n",
       "      <td>0.0</td>\n",
       "      <td>0</td>\n",
       "    </tr>\n",
       "    <tr>\n",
       "      <th>3</th>\n",
       "      <td>0.0</td>\n",
       "      <td>3.0</td>\n",
       "      <td>0.0</td>\n",
       "      <td>3.0</td>\n",
       "      <td>54.0</td>\n",
       "      <td>2.094444</td>\n",
       "      <td>1.980575</td>\n",
       "      <td>0.0</td>\n",
       "      <td>0.360304</td>\n",
       "      <td>-0.342482</td>\n",
       "      <td>...</td>\n",
       "      <td>0.574436</td>\n",
       "      <td>0.0</td>\n",
       "      <td>0.993611</td>\n",
       "      <td>0.117424</td>\n",
       "      <td>0.000000</td>\n",
       "      <td>0.026452</td>\n",
       "      <td>0.006415</td>\n",
       "      <td>0.190833</td>\n",
       "      <td>0.0</td>\n",
       "      <td>0</td>\n",
       "    </tr>\n",
       "    <tr>\n",
       "      <th>4</th>\n",
       "      <td>0.0</td>\n",
       "      <td>2.0</td>\n",
       "      <td>0.0</td>\n",
       "      <td>2.0</td>\n",
       "      <td>44.0</td>\n",
       "      <td>1.441667</td>\n",
       "      <td>1.933524</td>\n",
       "      <td>0.0</td>\n",
       "      <td>0.371428</td>\n",
       "      <td>-0.378186</td>\n",
       "      <td>...</td>\n",
       "      <td>0.458581</td>\n",
       "      <td>0.0</td>\n",
       "      <td>3.176667</td>\n",
       "      <td>0.089208</td>\n",
       "      <td>0.000000</td>\n",
       "      <td>0.130130</td>\n",
       "      <td>0.000000</td>\n",
       "      <td>0.000000</td>\n",
       "      <td>0.0</td>\n",
       "      <td>0</td>\n",
       "    </tr>\n",
       "  </tbody>\n",
       "</table>\n",
       "<p>5 rows × 35 columns</p>\n",
       "</div>"
      ],
      "text/plain": [
       "   acce_count  agg_break_count  agg_takeoff_count  decel_count  \\\n",
       "0         0.0              2.0                0.0          2.0   \n",
       "1         0.0              1.0                0.0          1.0   \n",
       "2         0.0              0.0                0.0          0.0   \n",
       "3         0.0              3.0                0.0          3.0   \n",
       "4         0.0              2.0                0.0          2.0   \n",
       "\n",
       "   distance_driven  driving_hours  fuel_consumption  high_speed_percentage  \\\n",
       "0             38.0       1.694444          1.535503                    0.0   \n",
       "1             11.0       1.406667          0.151815                    0.0   \n",
       "2             20.0       0.881944          0.797743                    0.0   \n",
       "3             54.0       2.094444          1.980575                    0.0   \n",
       "4             44.0       1.441667          1.933524                    0.0   \n",
       "\n",
       "   mean_acce  mean_decel      ...        entropy_last_month  \\\n",
       "0   0.399755   -0.379107      ...                  0.654252   \n",
       "1   0.286709   -0.258289      ...                  0.378577   \n",
       "2   0.366820   -0.356622      ...                  0.392016   \n",
       "3   0.360304   -0.342482      ...                  0.574436   \n",
       "4   0.371428   -0.378186      ...                  0.458581   \n",
       "\n",
       "   long_distance_count  night_driving_hours  percent_am_peak  \\\n",
       "0                  2.0             1.169167         0.152846   \n",
       "1                  0.0             0.000000         0.149385   \n",
       "2                  0.0             3.611667         0.077001   \n",
       "3                  0.0             0.993611         0.117424   \n",
       "4                  0.0             3.176667         0.089208   \n",
       "\n",
       "   percent_long_distance  percent_night_driving  percent_pm_peak  \\\n",
       "0               0.007937               0.018098         0.013967   \n",
       "1               0.000000               0.000000         0.040256   \n",
       "2               0.000000               0.099558         0.052064   \n",
       "3               0.000000               0.026452         0.006415   \n",
       "4               0.000000               0.130130         0.000000   \n",
       "\n",
       "   pm_peak_hours  payment  tot_accidents  \n",
       "0       0.766944      0.0              0  \n",
       "1       1.018333     50.0              1  \n",
       "2       1.478889      0.0              0  \n",
       "3       0.190833      0.0              0  \n",
       "4       0.000000      0.0              0  \n",
       "\n",
       "[5 rows x 35 columns]"
      ]
     },
     "execution_count": 28,
     "metadata": {},
     "output_type": "execute_result"
    }
   ],
   "source": [
    "df_all.head()"
   ]
  },
  {
   "cell_type": "code",
   "execution_count": 29,
   "metadata": {},
   "outputs": [
    {
     "data": {
      "text/plain": [
       "acce_count               337\n",
       "agg_break_count          337\n",
       "agg_takeoff_count        337\n",
       "decel_count              337\n",
       "distance_driven          337\n",
       "driving_hours            337\n",
       "fuel_consumption         337\n",
       "high_speed_percentage    337\n",
       "mean_acce                337\n",
       "mean_decel               337\n",
       "mean_fuel_efficiency     337\n",
       "median_acce              337\n",
       "median_decel             337\n",
       "odo_end                  337\n",
       "speed_average            337\n",
       "speed_average_pos        337\n",
       "speed_max                337\n",
       "speeding_count10         337\n",
       "speeding_count20         337\n",
       "speeding_count30         337\n",
       "speeding_count40         337\n",
       "speeding_count40_plus    337\n",
       "turn_count               337\n",
       "am_peak_hours            337\n",
       "entropy                  337\n",
       "entropy_last_month       337\n",
       "long_distance_count      337\n",
       "night_driving_hours      337\n",
       "percent_am_peak          337\n",
       "percent_long_distance    337\n",
       "percent_night_driving    337\n",
       "percent_pm_peak          337\n",
       "pm_peak_hours            337\n",
       "payment                  337\n",
       "tot_accidents            337\n",
       "dtype: int64"
      ]
     },
     "execution_count": 29,
     "metadata": {},
     "output_type": "execute_result"
    }
   ],
   "source": [
    "df_all[df_all['tot_accidents']>0].count()"
   ]
  },
  {
   "cell_type": "code",
   "execution_count": 30,
   "metadata": {},
   "outputs": [],
   "source": [
    "df_all['tot_accidents'] = df_all['tot_accidents'].apply(lambda x: x if x <= 1 else 2)"
   ]
  },
  {
   "cell_type": "markdown",
   "metadata": {},
   "source": [
    "# Split into train and test"
   ]
  },
  {
   "cell_type": "code",
   "execution_count": 31,
   "metadata": {},
   "outputs": [
    {
     "data": {
      "text/plain": [
       "acce_count               1264\n",
       "agg_break_count          1264\n",
       "agg_takeoff_count        1264\n",
       "decel_count              1264\n",
       "distance_driven          1264\n",
       "driving_hours            1264\n",
       "fuel_consumption         1264\n",
       "high_speed_percentage    1264\n",
       "mean_acce                1264\n",
       "mean_decel               1264\n",
       "mean_fuel_efficiency     1264\n",
       "median_acce              1264\n",
       "median_decel             1264\n",
       "odo_end                  1264\n",
       "speed_average            1264\n",
       "speed_average_pos        1264\n",
       "speed_max                1264\n",
       "speeding_count10         1264\n",
       "speeding_count20         1264\n",
       "speeding_count30         1264\n",
       "speeding_count40         1264\n",
       "speeding_count40_plus    1264\n",
       "turn_count               1264\n",
       "am_peak_hours            1264\n",
       "entropy                  1264\n",
       "entropy_last_month       1264\n",
       "long_distance_count      1264\n",
       "night_driving_hours      1264\n",
       "percent_am_peak          1264\n",
       "percent_long_distance    1264\n",
       "percent_night_driving    1264\n",
       "percent_pm_peak          1264\n",
       "pm_peak_hours            1264\n",
       "payment                  1264\n",
       "tot_accidents            1264\n",
       "dtype: int64"
      ]
     },
     "execution_count": 31,
     "metadata": {},
     "output_type": "execute_result"
    }
   ],
   "source": [
    "from sklearn.model_selection import train_test_split\n",
    "train,test = train_test_split(df_all, test_size=0.2)\n",
    "train.count()"
   ]
  },
  {
   "cell_type": "code",
   "execution_count": 32,
   "metadata": {},
   "outputs": [
    {
     "data": {
      "text/plain": [
       "acce_count               317\n",
       "agg_break_count          317\n",
       "agg_takeoff_count        317\n",
       "decel_count              317\n",
       "distance_driven          317\n",
       "driving_hours            317\n",
       "fuel_consumption         317\n",
       "high_speed_percentage    317\n",
       "mean_acce                317\n",
       "mean_decel               317\n",
       "mean_fuel_efficiency     317\n",
       "median_acce              317\n",
       "median_decel             317\n",
       "odo_end                  317\n",
       "speed_average            317\n",
       "speed_average_pos        317\n",
       "speed_max                317\n",
       "speeding_count10         317\n",
       "speeding_count20         317\n",
       "speeding_count30         317\n",
       "speeding_count40         317\n",
       "speeding_count40_plus    317\n",
       "turn_count               317\n",
       "am_peak_hours            317\n",
       "entropy                  317\n",
       "entropy_last_month       317\n",
       "long_distance_count      317\n",
       "night_driving_hours      317\n",
       "percent_am_peak          317\n",
       "percent_long_distance    317\n",
       "percent_night_driving    317\n",
       "percent_pm_peak          317\n",
       "pm_peak_hours            317\n",
       "payment                  317\n",
       "tot_accidents            317\n",
       "dtype: int64"
      ]
     },
     "execution_count": 32,
     "metadata": {},
     "output_type": "execute_result"
    }
   ],
   "source": [
    "test.count()"
   ]
  },
  {
   "cell_type": "code",
   "execution_count": 33,
   "metadata": {},
   "outputs": [
    {
     "data": {
      "text/html": [
       "<div>\n",
       "<style scoped>\n",
       "    .dataframe tbody tr th:only-of-type {\n",
       "        vertical-align: middle;\n",
       "    }\n",
       "\n",
       "    .dataframe tbody tr th {\n",
       "        vertical-align: top;\n",
       "    }\n",
       "\n",
       "    .dataframe thead th {\n",
       "        text-align: right;\n",
       "    }\n",
       "</style>\n",
       "<table border=\"1\" class=\"dataframe\">\n",
       "  <thead>\n",
       "    <tr style=\"text-align: right;\">\n",
       "      <th></th>\n",
       "      <th>tot_accidents</th>\n",
       "    </tr>\n",
       "  </thead>\n",
       "  <tbody>\n",
       "    <tr>\n",
       "      <th>1311</th>\n",
       "      <td>0</td>\n",
       "    </tr>\n",
       "    <tr>\n",
       "      <th>1143</th>\n",
       "      <td>0</td>\n",
       "    </tr>\n",
       "  </tbody>\n",
       "</table>\n",
       "</div>"
      ],
      "text/plain": [
       "      tot_accidents\n",
       "1311              0\n",
       "1143              0"
      ]
     },
     "execution_count": 33,
     "metadata": {},
     "output_type": "execute_result"
    }
   ],
   "source": [
    "test.iloc[0:2,-1:]"
   ]
  },
  {
   "cell_type": "code",
   "execution_count": 34,
   "metadata": {},
   "outputs": [],
   "source": [
    "train.to_csv(\"train_data.csv\", header=True, index=False)"
   ]
  },
  {
   "cell_type": "code",
   "execution_count": 35,
   "metadata": {},
   "outputs": [
    {
     "data": {
      "text/plain": [
       "0    1000\n",
       "1     209\n",
       "2      55\n",
       "Name: tot_accidents, dtype: int64"
      ]
     },
     "execution_count": 35,
     "metadata": {},
     "output_type": "execute_result"
    }
   ],
   "source": [
    "train.tot_accidents.value_counts()"
   ]
  },
  {
   "cell_type": "code",
   "execution_count": 36,
   "metadata": {},
   "outputs": [
    {
     "data": {
      "text/html": [
       "<div>\n",
       "<style scoped>\n",
       "    .dataframe tbody tr th:only-of-type {\n",
       "        vertical-align: middle;\n",
       "    }\n",
       "\n",
       "    .dataframe tbody tr th {\n",
       "        vertical-align: top;\n",
       "    }\n",
       "\n",
       "    .dataframe thead th {\n",
       "        text-align: right;\n",
       "    }\n",
       "</style>\n",
       "<table border=\"1\" class=\"dataframe\">\n",
       "  <thead>\n",
       "    <tr style=\"text-align: right;\">\n",
       "      <th></th>\n",
       "      <th>acce_count</th>\n",
       "      <th>agg_break_count</th>\n",
       "      <th>agg_takeoff_count</th>\n",
       "      <th>decel_count</th>\n",
       "      <th>distance_driven</th>\n",
       "      <th>driving_hours</th>\n",
       "      <th>fuel_consumption</th>\n",
       "      <th>high_speed_percentage</th>\n",
       "      <th>mean_acce</th>\n",
       "      <th>mean_decel</th>\n",
       "      <th>...</th>\n",
       "      <th>entropy_last_month</th>\n",
       "      <th>long_distance_count</th>\n",
       "      <th>night_driving_hours</th>\n",
       "      <th>percent_am_peak</th>\n",
       "      <th>percent_long_distance</th>\n",
       "      <th>percent_night_driving</th>\n",
       "      <th>percent_pm_peak</th>\n",
       "      <th>pm_peak_hours</th>\n",
       "      <th>payment</th>\n",
       "      <th>tot_accidents</th>\n",
       "    </tr>\n",
       "  </thead>\n",
       "  <tbody>\n",
       "    <tr>\n",
       "      <th>1265</th>\n",
       "      <td>0.0</td>\n",
       "      <td>1.0</td>\n",
       "      <td>0.0</td>\n",
       "      <td>1.0</td>\n",
       "      <td>16.0</td>\n",
       "      <td>1.113889</td>\n",
       "      <td>0.318815</td>\n",
       "      <td>0.0</td>\n",
       "      <td>0.384005</td>\n",
       "      <td>-0.420867</td>\n",
       "      <td>...</td>\n",
       "      <td>0.479438</td>\n",
       "      <td>0.0</td>\n",
       "      <td>0.313333</td>\n",
       "      <td>0.073417</td>\n",
       "      <td>0.000000</td>\n",
       "      <td>0.011380</td>\n",
       "      <td>0.021320</td>\n",
       "      <td>0.362222</td>\n",
       "      <td>0.0</td>\n",
       "      <td>0</td>\n",
       "    </tr>\n",
       "    <tr>\n",
       "      <th>972</th>\n",
       "      <td>0.0</td>\n",
       "      <td>0.0</td>\n",
       "      <td>0.0</td>\n",
       "      <td>0.0</td>\n",
       "      <td>34.0</td>\n",
       "      <td>1.574306</td>\n",
       "      <td>1.261321</td>\n",
       "      <td>0.0</td>\n",
       "      <td>0.306734</td>\n",
       "      <td>-0.317562</td>\n",
       "      <td>...</td>\n",
       "      <td>0.479438</td>\n",
       "      <td>0.0</td>\n",
       "      <td>1.585556</td>\n",
       "      <td>0.171042</td>\n",
       "      <td>0.000000</td>\n",
       "      <td>0.045056</td>\n",
       "      <td>0.010276</td>\n",
       "      <td>0.443611</td>\n",
       "      <td>0.0</td>\n",
       "      <td>0</td>\n",
       "    </tr>\n",
       "    <tr>\n",
       "      <th>1359</th>\n",
       "      <td>3.0</td>\n",
       "      <td>21.5</td>\n",
       "      <td>0.0</td>\n",
       "      <td>22.0</td>\n",
       "      <td>73.5</td>\n",
       "      <td>3.121389</td>\n",
       "      <td>2.870692</td>\n",
       "      <td>0.0</td>\n",
       "      <td>0.487507</td>\n",
       "      <td>-0.443154</td>\n",
       "      <td>...</td>\n",
       "      <td>1.463530</td>\n",
       "      <td>2.0</td>\n",
       "      <td>0.000000</td>\n",
       "      <td>0.198127</td>\n",
       "      <td>0.006773</td>\n",
       "      <td>0.000000</td>\n",
       "      <td>0.002499</td>\n",
       "      <td>0.190556</td>\n",
       "      <td>0.0</td>\n",
       "      <td>0</td>\n",
       "    </tr>\n",
       "    <tr>\n",
       "      <th>902</th>\n",
       "      <td>0.0</td>\n",
       "      <td>2.0</td>\n",
       "      <td>0.0</td>\n",
       "      <td>2.0</td>\n",
       "      <td>35.0</td>\n",
       "      <td>2.439722</td>\n",
       "      <td>0.776555</td>\n",
       "      <td>0.0</td>\n",
       "      <td>0.372891</td>\n",
       "      <td>-0.360220</td>\n",
       "      <td>...</td>\n",
       "      <td>0.931518</td>\n",
       "      <td>0.0</td>\n",
       "      <td>0.068611</td>\n",
       "      <td>0.169752</td>\n",
       "      <td>0.000000</td>\n",
       "      <td>0.001791</td>\n",
       "      <td>0.038958</td>\n",
       "      <td>1.996944</td>\n",
       "      <td>2000.0</td>\n",
       "      <td>1</td>\n",
       "    </tr>\n",
       "    <tr>\n",
       "      <th>800</th>\n",
       "      <td>0.0</td>\n",
       "      <td>0.0</td>\n",
       "      <td>0.0</td>\n",
       "      <td>0.0</td>\n",
       "      <td>36.0</td>\n",
       "      <td>1.711111</td>\n",
       "      <td>1.193817</td>\n",
       "      <td>0.0</td>\n",
       "      <td>0.359494</td>\n",
       "      <td>-0.374479</td>\n",
       "      <td>...</td>\n",
       "      <td>0.781250</td>\n",
       "      <td>0.0</td>\n",
       "      <td>1.049167</td>\n",
       "      <td>0.123388</td>\n",
       "      <td>0.000000</td>\n",
       "      <td>0.026335</td>\n",
       "      <td>0.017860</td>\n",
       "      <td>0.555833</td>\n",
       "      <td>0.0</td>\n",
       "      <td>0</td>\n",
       "    </tr>\n",
       "  </tbody>\n",
       "</table>\n",
       "<p>5 rows × 35 columns</p>\n",
       "</div>"
      ],
      "text/plain": [
       "      acce_count  agg_break_count  agg_takeoff_count  decel_count  \\\n",
       "1265         0.0              1.0                0.0          1.0   \n",
       "972          0.0              0.0                0.0          0.0   \n",
       "1359         3.0             21.5                0.0         22.0   \n",
       "902          0.0              2.0                0.0          2.0   \n",
       "800          0.0              0.0                0.0          0.0   \n",
       "\n",
       "      distance_driven  driving_hours  fuel_consumption  high_speed_percentage  \\\n",
       "1265             16.0       1.113889          0.318815                    0.0   \n",
       "972              34.0       1.574306          1.261321                    0.0   \n",
       "1359             73.5       3.121389          2.870692                    0.0   \n",
       "902              35.0       2.439722          0.776555                    0.0   \n",
       "800              36.0       1.711111          1.193817                    0.0   \n",
       "\n",
       "      mean_acce  mean_decel      ...        entropy_last_month  \\\n",
       "1265   0.384005   -0.420867      ...                  0.479438   \n",
       "972    0.306734   -0.317562      ...                  0.479438   \n",
       "1359   0.487507   -0.443154      ...                  1.463530   \n",
       "902    0.372891   -0.360220      ...                  0.931518   \n",
       "800    0.359494   -0.374479      ...                  0.781250   \n",
       "\n",
       "      long_distance_count  night_driving_hours  percent_am_peak  \\\n",
       "1265                  0.0             0.313333         0.073417   \n",
       "972                   0.0             1.585556         0.171042   \n",
       "1359                  2.0             0.000000         0.198127   \n",
       "902                   0.0             0.068611         0.169752   \n",
       "800                   0.0             1.049167         0.123388   \n",
       "\n",
       "      percent_long_distance  percent_night_driving  percent_pm_peak  \\\n",
       "1265               0.000000               0.011380         0.021320   \n",
       "972                0.000000               0.045056         0.010276   \n",
       "1359               0.006773               0.000000         0.002499   \n",
       "902                0.000000               0.001791         0.038958   \n",
       "800                0.000000               0.026335         0.017860   \n",
       "\n",
       "      pm_peak_hours  payment  tot_accidents  \n",
       "1265       0.362222      0.0              0  \n",
       "972        0.443611      0.0              0  \n",
       "1359       0.190556      0.0              0  \n",
       "902        1.996944   2000.0              1  \n",
       "800        0.555833      0.0              0  \n",
       "\n",
       "[5 rows x 35 columns]"
      ]
     },
     "execution_count": 36,
     "metadata": {},
     "output_type": "execute_result"
    }
   ],
   "source": [
    "train.head()"
   ]
  },
  {
   "cell_type": "code",
   "execution_count": 39,
   "metadata": {},
   "outputs": [],
   "source": [
    "test.to_csv(\"test_data.csv\", header=True, index=False)"
   ]
  },
  {
   "cell_type": "code",
   "execution_count": 40,
   "metadata": {},
   "outputs": [
    {
     "data": {
      "text/plain": [
       "0    244\n",
       "1     57\n",
       "2     16\n",
       "Name: tot_accidents, dtype: int64"
      ]
     },
     "execution_count": 40,
     "metadata": {},
     "output_type": "execute_result"
    }
   ],
   "source": [
    "test.tot_accidents.value_counts()"
   ]
  },
  {
   "cell_type": "code",
   "execution_count": 41,
   "metadata": {},
   "outputs": [
    {
     "data": {
      "text/html": [
       "<div>\n",
       "<style scoped>\n",
       "    .dataframe tbody tr th:only-of-type {\n",
       "        vertical-align: middle;\n",
       "    }\n",
       "\n",
       "    .dataframe tbody tr th {\n",
       "        vertical-align: top;\n",
       "    }\n",
       "\n",
       "    .dataframe thead th {\n",
       "        text-align: right;\n",
       "    }\n",
       "</style>\n",
       "<table border=\"1\" class=\"dataframe\">\n",
       "  <thead>\n",
       "    <tr style=\"text-align: right;\">\n",
       "      <th></th>\n",
       "      <th>acce_count</th>\n",
       "      <th>agg_break_count</th>\n",
       "      <th>agg_takeoff_count</th>\n",
       "      <th>decel_count</th>\n",
       "      <th>distance_driven</th>\n",
       "      <th>driving_hours</th>\n",
       "      <th>fuel_consumption</th>\n",
       "      <th>high_speed_percentage</th>\n",
       "      <th>mean_acce</th>\n",
       "      <th>mean_decel</th>\n",
       "      <th>...</th>\n",
       "      <th>entropy_last_month</th>\n",
       "      <th>long_distance_count</th>\n",
       "      <th>night_driving_hours</th>\n",
       "      <th>percent_am_peak</th>\n",
       "      <th>percent_long_distance</th>\n",
       "      <th>percent_night_driving</th>\n",
       "      <th>percent_pm_peak</th>\n",
       "      <th>pm_peak_hours</th>\n",
       "      <th>payment</th>\n",
       "      <th>tot_accidents</th>\n",
       "    </tr>\n",
       "  </thead>\n",
       "  <tbody>\n",
       "    <tr>\n",
       "      <th>1311</th>\n",
       "      <td>0.0</td>\n",
       "      <td>3.0</td>\n",
       "      <td>0.0</td>\n",
       "      <td>3.0</td>\n",
       "      <td>97.0</td>\n",
       "      <td>3.349306</td>\n",
       "      <td>3.616083</td>\n",
       "      <td>0.0</td>\n",
       "      <td>0.328814</td>\n",
       "      <td>-0.333553</td>\n",
       "      <td>...</td>\n",
       "      <td>0.981378</td>\n",
       "      <td>5.0</td>\n",
       "      <td>0.282500</td>\n",
       "      <td>0.141555</td>\n",
       "      <td>0.035831</td>\n",
       "      <td>0.005848</td>\n",
       "      <td>0.029825</td>\n",
       "      <td>1.544861</td>\n",
       "      <td>0.00</td>\n",
       "      <td>0</td>\n",
       "    </tr>\n",
       "    <tr>\n",
       "      <th>1143</th>\n",
       "      <td>0.0</td>\n",
       "      <td>3.0</td>\n",
       "      <td>0.0</td>\n",
       "      <td>3.0</td>\n",
       "      <td>38.0</td>\n",
       "      <td>4.013056</td>\n",
       "      <td>0.647852</td>\n",
       "      <td>0.0</td>\n",
       "      <td>0.278591</td>\n",
       "      <td>-0.326828</td>\n",
       "      <td>...</td>\n",
       "      <td>0.799064</td>\n",
       "      <td>0.0</td>\n",
       "      <td>0.000000</td>\n",
       "      <td>0.218631</td>\n",
       "      <td>0.000000</td>\n",
       "      <td>0.000000</td>\n",
       "      <td>0.001740</td>\n",
       "      <td>0.090000</td>\n",
       "      <td>0.00</td>\n",
       "      <td>0</td>\n",
       "    </tr>\n",
       "    <tr>\n",
       "      <th>41</th>\n",
       "      <td>0.0</td>\n",
       "      <td>5.0</td>\n",
       "      <td>0.0</td>\n",
       "      <td>5.0</td>\n",
       "      <td>78.5</td>\n",
       "      <td>3.014306</td>\n",
       "      <td>2.770312</td>\n",
       "      <td>0.0</td>\n",
       "      <td>0.416316</td>\n",
       "      <td>-0.368895</td>\n",
       "      <td>...</td>\n",
       "      <td>0.981378</td>\n",
       "      <td>1.0</td>\n",
       "      <td>2.020000</td>\n",
       "      <td>0.168903</td>\n",
       "      <td>0.008132</td>\n",
       "      <td>0.030395</td>\n",
       "      <td>0.017716</td>\n",
       "      <td>1.458333</td>\n",
       "      <td>8748.00</td>\n",
       "      <td>1</td>\n",
       "    </tr>\n",
       "    <tr>\n",
       "      <th>1207</th>\n",
       "      <td>0.0</td>\n",
       "      <td>6.0</td>\n",
       "      <td>0.0</td>\n",
       "      <td>6.0</td>\n",
       "      <td>153.0</td>\n",
       "      <td>6.429167</td>\n",
       "      <td>4.264770</td>\n",
       "      <td>0.0</td>\n",
       "      <td>0.299314</td>\n",
       "      <td>-0.289014</td>\n",
       "      <td>...</td>\n",
       "      <td>1.219708</td>\n",
       "      <td>1.0</td>\n",
       "      <td>5.647778</td>\n",
       "      <td>0.149238</td>\n",
       "      <td>0.005291</td>\n",
       "      <td>0.044285</td>\n",
       "      <td>0.045387</td>\n",
       "      <td>5.083056</td>\n",
       "      <td>16670.17</td>\n",
       "      <td>2</td>\n",
       "    </tr>\n",
       "    <tr>\n",
       "      <th>769</th>\n",
       "      <td>0.0</td>\n",
       "      <td>3.0</td>\n",
       "      <td>0.0</td>\n",
       "      <td>3.0</td>\n",
       "      <td>115.0</td>\n",
       "      <td>3.263889</td>\n",
       "      <td>4.755124</td>\n",
       "      <td>0.0</td>\n",
       "      <td>0.355290</td>\n",
       "      <td>-0.346277</td>\n",
       "      <td>...</td>\n",
       "      <td>0.958877</td>\n",
       "      <td>2.0</td>\n",
       "      <td>0.000000</td>\n",
       "      <td>0.178065</td>\n",
       "      <td>0.007659</td>\n",
       "      <td>0.000000</td>\n",
       "      <td>0.021614</td>\n",
       "      <td>1.939167</td>\n",
       "      <td>14048.00</td>\n",
       "      <td>1</td>\n",
       "    </tr>\n",
       "  </tbody>\n",
       "</table>\n",
       "<p>5 rows × 35 columns</p>\n",
       "</div>"
      ],
      "text/plain": [
       "      acce_count  agg_break_count  agg_takeoff_count  decel_count  \\\n",
       "1311         0.0              3.0                0.0          3.0   \n",
       "1143         0.0              3.0                0.0          3.0   \n",
       "41           0.0              5.0                0.0          5.0   \n",
       "1207         0.0              6.0                0.0          6.0   \n",
       "769          0.0              3.0                0.0          3.0   \n",
       "\n",
       "      distance_driven  driving_hours  fuel_consumption  high_speed_percentage  \\\n",
       "1311             97.0       3.349306          3.616083                    0.0   \n",
       "1143             38.0       4.013056          0.647852                    0.0   \n",
       "41               78.5       3.014306          2.770312                    0.0   \n",
       "1207            153.0       6.429167          4.264770                    0.0   \n",
       "769             115.0       3.263889          4.755124                    0.0   \n",
       "\n",
       "      mean_acce  mean_decel      ...        entropy_last_month  \\\n",
       "1311   0.328814   -0.333553      ...                  0.981378   \n",
       "1143   0.278591   -0.326828      ...                  0.799064   \n",
       "41     0.416316   -0.368895      ...                  0.981378   \n",
       "1207   0.299314   -0.289014      ...                  1.219708   \n",
       "769    0.355290   -0.346277      ...                  0.958877   \n",
       "\n",
       "      long_distance_count  night_driving_hours  percent_am_peak  \\\n",
       "1311                  5.0             0.282500         0.141555   \n",
       "1143                  0.0             0.000000         0.218631   \n",
       "41                    1.0             2.020000         0.168903   \n",
       "1207                  1.0             5.647778         0.149238   \n",
       "769                   2.0             0.000000         0.178065   \n",
       "\n",
       "      percent_long_distance  percent_night_driving  percent_pm_peak  \\\n",
       "1311               0.035831               0.005848         0.029825   \n",
       "1143               0.000000               0.000000         0.001740   \n",
       "41                 0.008132               0.030395         0.017716   \n",
       "1207               0.005291               0.044285         0.045387   \n",
       "769                0.007659               0.000000         0.021614   \n",
       "\n",
       "      pm_peak_hours   payment  tot_accidents  \n",
       "1311       1.544861      0.00              0  \n",
       "1143       0.090000      0.00              0  \n",
       "41         1.458333   8748.00              1  \n",
       "1207       5.083056  16670.17              2  \n",
       "769        1.939167  14048.00              1  \n",
       "\n",
       "[5 rows x 35 columns]"
      ]
     },
     "execution_count": 41,
     "metadata": {},
     "output_type": "execute_result"
    }
   ],
   "source": [
    "test.head()"
   ]
  },
  {
   "cell_type": "markdown",
   "metadata": {},
   "source": [
    "# Up-sample Minority Class"
   ]
  },
  {
   "cell_type": "code",
   "execution_count": 43,
   "metadata": {},
   "outputs": [],
   "source": [
    "#import the resampling module from Scikit-Learn\n",
    "from sklearn.utils import resample"
   ]
  },
  {
   "cell_type": "code",
   "execution_count": 44,
   "metadata": {},
   "outputs": [],
   "source": [
    "# Separate majority and minority classes\n",
    "df_majority = train[train.tot_accidents==0]\n",
    "df_minority1 = train[train.tot_accidents==1]\n",
    "df_minority2 = train[train.tot_accidents==2]"
   ]
  },
  {
   "cell_type": "code",
   "execution_count": 45,
   "metadata": {},
   "outputs": [
    {
     "data": {
      "text/plain": [
       "0    1000\n",
       "1     209\n",
       "2      55\n",
       "Name: tot_accidents, dtype: int64"
      ]
     },
     "execution_count": 45,
     "metadata": {},
     "output_type": "execute_result"
    }
   ],
   "source": [
    "train.tot_accidents.value_counts()"
   ]
  },
  {
   "cell_type": "markdown",
   "metadata": {},
   "source": [
    "# Manually run"
   ]
  },
  {
   "cell_type": "code",
   "execution_count": 47,
   "metadata": {},
   "outputs": [],
   "source": [
    "# Upsample minority class\n",
    "df_minority_upsampled1 = resample(df_minority1, \n",
    "                                 replace=True,     # sample with replacement\n",
    "                                 n_samples=1000,    # to match majority class\n",
    "                                 random_state=123) # reproducible results"
   ]
  },
  {
   "cell_type": "code",
   "execution_count": 48,
   "metadata": {},
   "outputs": [],
   "source": [
    "# Upsample minority class\n",
    "df_minority_upsampled2 = resample(df_minority2, \n",
    "                                 replace=True,     # sample with replacement\n",
    "                                 n_samples=1000,    # to match majority class\n",
    "                                 random_state=123) # reproducible results"
   ]
  },
  {
   "cell_type": "code",
   "execution_count": 49,
   "metadata": {},
   "outputs": [],
   "source": [
    "df_upsampled = pd.concat([df_majority, df_minority_upsampled1, df_minority_upsampled2])"
   ]
  },
  {
   "cell_type": "code",
   "execution_count": 50,
   "metadata": {},
   "outputs": [
    {
     "data": {
      "text/plain": [
       "1    1000\n",
       "2    1000\n",
       "0    1000\n",
       "Name: tot_accidents, dtype: int64"
      ]
     },
     "execution_count": 50,
     "metadata": {},
     "output_type": "execute_result"
    }
   ],
   "source": [
    "df_upsampled.tot_accidents.value_counts()"
   ]
  },
  {
   "cell_type": "markdown",
   "metadata": {},
   "source": [
    "# Downsample test data "
   ]
  },
  {
   "cell_type": "code",
   "execution_count": 51,
   "metadata": {},
   "outputs": [],
   "source": [
    "# Separate majority and minority classes\n",
    "test_majority = test[test.tot_accidents==0]\n",
    "test_minority1 = test[test.tot_accidents==1]\n",
    "test_minority2 = test[test.tot_accidents==2]"
   ]
  },
  {
   "cell_type": "code",
   "execution_count": 52,
   "metadata": {},
   "outputs": [
    {
     "data": {
      "text/plain": [
       "0    244\n",
       "1     57\n",
       "2     16\n",
       "Name: tot_accidents, dtype: int64"
      ]
     },
     "execution_count": 52,
     "metadata": {},
     "output_type": "execute_result"
    }
   ],
   "source": [
    "test.tot_accidents.value_counts()"
   ]
  },
  {
   "cell_type": "code",
   "execution_count": 53,
   "metadata": {},
   "outputs": [],
   "source": [
    "# Downsample majority class\n",
    "test_majority_downsampled = resample(test_majority, \n",
    "                                 replace=False,    # sample without replacement\n",
    "                                 n_samples=57,     # to match minority class\n",
    "                                 random_state=123) # reproducible results"
   ]
  },
  {
   "cell_type": "code",
   "execution_count": 54,
   "metadata": {},
   "outputs": [],
   "source": [
    "# Combine minority class with downsampled majority class\n",
    "test_balanced = pd.concat([test_majority_downsampled, test_minority1, test_minority2])"
   ]
  },
  {
   "cell_type": "code",
   "execution_count": 55,
   "metadata": {},
   "outputs": [
    {
     "data": {
      "text/plain": [
       "1    57\n",
       "0    57\n",
       "2    16\n",
       "Name: tot_accidents, dtype: int64"
      ]
     },
     "execution_count": 55,
     "metadata": {},
     "output_type": "execute_result"
    }
   ],
   "source": [
    "# Display new class counts\n",
    "test_balanced.tot_accidents.value_counts()\n",
    "# 1    49\n",
    "# 0    49\n",
    "# Name: balance, dtype: int64"
   ]
  },
  {
   "cell_type": "markdown",
   "metadata": {},
   "source": [
    "# Separate input features (X) and target variable (y)"
   ]
  },
  {
   "cell_type": "code",
   "execution_count": 56,
   "metadata": {},
   "outputs": [],
   "source": [
    "y_new = df_upsampled.tot_accidents\n",
    "X_new = df_upsampled.drop('tot_accidents', axis=1)"
   ]
  },
  {
   "cell_type": "markdown",
   "metadata": {},
   "source": [
    "# Train logistic model on upsampled dataset"
   ]
  },
  {
   "cell_type": "code",
   "execution_count": 60,
   "metadata": {},
   "outputs": [
    {
     "name": "stdout",
     "output_type": "stream",
     "text": [
      "[0 1 2]\n"
     ]
    }
   ],
   "source": [
    "from sklearn.metrics import accuracy_score\n",
    "from sklearn.linear_model import LogisticRegression\n",
    "import numpy as np\n",
    "\n",
    "# Train model\n",
    "clf_3 = LogisticRegression(penalty='l1', C=0.5).fit(X_new, y_new)\n",
    " \n",
    "# Predict on test set\n",
    "pred_y_3 = clf_3.predict(test_balanced.iloc[:,:-1].values)\n",
    "\n",
    "# Is our model still predicting just one class?\n",
    "print( np.unique( pred_y_3 ) )"
   ]
  },
  {
   "cell_type": "code",
   "execution_count": 61,
   "metadata": {},
   "outputs": [
    {
     "name": "stdout",
     "output_type": "stream",
     "text": [
      "[[ 9.74136001e-01 -2.39784692e-02  0.00000000e+00 -3.16521770e-04\n",
      "  -1.65064366e-03  8.14663930e-02 -1.16980803e-02  0.00000000e+00\n",
      "   1.32459654e-02 -6.12699645e-02 -2.60379266e-03  1.90310182e-04\n",
      "  -8.29166595e-03 -2.60861276e-05 -6.15588255e-03 -2.88570880e-02\n",
      "   3.92047558e-02 -1.81848157e-03 -2.49004948e-03  1.58771130e-02\n",
      "  -1.99517420e-02  1.04146419e-03  0.00000000e+00 -8.06868399e-02\n",
      "  -5.74530445e-03 -6.23030240e-03  1.09962614e-01  9.44377639e-02\n",
      "   1.49935145e-03  0.00000000e+00  0.00000000e+00  0.00000000e+00\n",
      "  -1.45223354e-01 -8.35644973e-02]\n",
      " [-4.16948663e-01 -7.52572616e-01  0.00000000e+00  7.80658268e-01\n",
      "  -4.47076455e-02  0.00000000e+00  5.61262615e-01  0.00000000e+00\n",
      "   0.00000000e+00  3.31305488e-01 -3.91910335e-01  0.00000000e+00\n",
      "   0.00000000e+00  1.03444188e-05  1.54183488e-02  6.72757407e-02\n",
      "  -4.39785892e-03  1.09970989e-02 -5.59064751e-03 -4.02651013e-03\n",
      "  -3.95204395e-03 -1.35930421e-04  0.00000000e+00  1.15151851e-01\n",
      "  -8.01580582e-02  7.67902197e-02 -9.06697246e-02 -6.44648270e-03\n",
      "   0.00000000e+00  0.00000000e+00  0.00000000e+00  0.00000000e+00\n",
      "   4.73762128e-02  5.37957083e-06]\n",
      " [-5.04027589e-01  1.35178310e+00  0.00000000e+00 -1.16981290e+00\n",
      "   8.28728198e-02 -4.85364737e-01 -9.89230439e-01  0.00000000e+00\n",
      "   0.00000000e+00  0.00000000e+00  1.18413473e-01  0.00000000e+00\n",
      "   0.00000000e+00  2.77418366e-05 -9.25755677e-02 -7.24955441e-03\n",
      "  -1.70075874e-02 -6.88619298e-03  1.26746803e-02 -3.73577632e-03\n",
      "  -8.82515976e-03 -1.04031046e-03  0.00000000e+00 -1.75465187e-01\n",
      "   1.08842579e+00 -1.75319920e+00  1.01527692e-01  3.70782039e-02\n",
      "  -9.04231728e-02  0.00000000e+00  0.00000000e+00  0.00000000e+00\n",
      "  -1.66560354e-01  5.03903005e-05]]\n"
     ]
    }
   ],
   "source": [
    "print(clf_3.coef_)"
   ]
  },
  {
   "cell_type": "code",
   "execution_count": 62,
   "metadata": {},
   "outputs": [
    {
     "name": "stdout",
     "output_type": "stream",
     "text": [
      "0.6846153846153846\n"
     ]
    }
   ],
   "source": [
    "# How's our accuracy?\n",
    "print( accuracy_score(test_balanced.iloc[:,-1:].values, pred_y_3) )"
   ]
  },
  {
   "cell_type": "markdown",
   "metadata": {},
   "source": [
    "# Use ROC to evalute logistic regression performance after sampling"
   ]
  },
  {
   "cell_type": "code",
   "execution_count": 63,
   "metadata": {},
   "outputs": [
    {
     "name": "stderr",
     "output_type": "stream",
     "text": [
      "/usr/lib64/python2.7/site-packages/sklearn/linear_model/base.py:297: RuntimeWarning: overflow encountered in exp\n",
      "  np.exp(prob, prob)\n"
     ]
    }
   ],
   "source": [
    "# Predict class probabilities\n",
    "prob_y_3 = clf_3.predict_proba(test_balanced.iloc[:,:-1].values)"
   ]
  },
  {
   "cell_type": "code",
   "execution_count": 64,
   "metadata": {},
   "outputs": [
    {
     "data": {
      "text/plain": [
       "array([0, 1, 2])"
      ]
     },
     "execution_count": 64,
     "metadata": {},
     "output_type": "execute_result"
    }
   ],
   "source": [
    "clf_3.classes_"
   ]
  },
  {
   "cell_type": "code",
   "execution_count": 65,
   "metadata": {},
   "outputs": [
    {
     "name": "stdout",
     "output_type": "stream",
     "text": [
      "[[6.04038781e-001 2.10626454e-001 1.85334765e-001]\n",
      " [6.21099749e-001 3.53709771e-001 2.51904804e-002]\n",
      " [6.57912561e-001 2.33106333e-001 1.08981107e-001]\n",
      " [4.99426094e-001 5.00278159e-001 2.95747088e-004]\n",
      " [6.15775360e-001 1.95605232e-001 1.88619408e-001]\n",
      " [5.50788975e-001 2.77812271e-001 1.71398754e-001]\n",
      " [4.66216483e-001 1.11838618e-001 4.21944898e-001]\n",
      " [6.17431768e-001 3.31511666e-001 5.10565657e-002]\n",
      " [6.65879511e-001 2.92043854e-001 4.20766342e-002]\n",
      " [6.16705347e-001 2.92233847e-001 9.10608055e-002]\n",
      " [5.38817566e-001 2.30404724e-001 2.30777710e-001]\n",
      " [6.03234378e-001 1.26033499e-001 2.70732123e-001]\n",
      " [6.31656399e-001 3.30972193e-001 3.73714081e-002]\n",
      " [6.39507085e-001 3.05237994e-001 5.52549211e-002]\n",
      " [7.02640831e-001 1.90370675e-001 1.06988494e-001]\n",
      " [5.56952625e-001 2.02921946e-001 2.40125428e-001]\n",
      " [8.84844829e-001 7.58200836e-002 3.93350872e-002]\n",
      " [6.14407423e-001 6.01049832e-002 3.25487594e-001]\n",
      " [7.08221236e-001 2.85505127e-001 6.27363735e-003]\n",
      " [7.07965457e-001 2.88496855e-001 3.53768777e-003]\n",
      " [6.25699187e-001 3.20091691e-001 5.42091225e-002]\n",
      " [4.89376009e-001 1.41618070e-001 3.69005921e-001]\n",
      " [6.71725923e-001 2.97273141e-001 3.10009356e-002]\n",
      " [7.46851511e-001 1.90754893e-001 6.23935966e-002]\n",
      " [7.01688090e-001 2.21316612e-001 7.69952985e-002]\n",
      " [6.14447486e-001 2.90285499e-001 9.52670152e-002]\n",
      " [6.53654190e-001 2.88674295e-001 5.76715145e-002]\n",
      " [6.30113272e-001 2.50351338e-001 1.19535390e-001]\n",
      " [5.21556515e-001 2.15269765e-001 2.63173720e-001]\n",
      " [7.07740775e-001 2.57620831e-001 3.46383943e-002]\n",
      " [7.34634592e-001 1.90162941e-001 7.52024672e-002]\n",
      " [5.84472963e-001 1.73379262e-001 2.42147775e-001]\n",
      " [5.10080659e-001 2.00752149e-001 2.89167191e-001]\n",
      " [4.93134247e-001 4.35489688e-001 7.13760653e-002]\n",
      " [6.46234074e-001 2.52743711e-001 1.01022215e-001]\n",
      " [5.46163791e-001 3.86982262e-001 6.68539467e-002]\n",
      " [6.35272897e-001 3.40632617e-001 2.40944859e-002]\n",
      " [4.90639330e-001 2.22191352e-001 2.87169318e-001]\n",
      " [4.76628546e-001 2.63367261e-001 2.60004192e-001]\n",
      " [5.55859886e-001 3.32481328e-001 1.11658786e-001]\n",
      " [7.35538612e-001 2.53227311e-001 1.12340768e-002]\n",
      " [5.58284881e-001 1.95469726e-001 2.46245393e-001]\n",
      " [5.66018270e-001 2.70358317e-001 1.63623413e-001]\n",
      " [5.87233262e-001 1.35469825e-001 2.77296913e-001]\n",
      " [5.97907849e-001 7.41725425e-002 3.27919608e-001]\n",
      " [7.69008094e-001 1.60168357e-001 7.08235493e-002]\n",
      " [9.05889089e-001 8.30574373e-002 1.10534737e-002]\n",
      " [7.57545760e-001 2.17028478e-001 2.54257617e-002]\n",
      " [9.04396013e-001 9.52135174e-002 3.90469977e-004]\n",
      " [7.06609048e-001 1.58362123e-001 1.35028829e-001]\n",
      " [5.71679205e-001 2.71447622e-001 1.56873173e-001]\n",
      " [5.94944885e-001 3.01688675e-001 1.03366440e-001]\n",
      " [7.81640871e-001 1.38359999e-001 7.99991298e-002]\n",
      " [5.13531696e-001 3.59213645e-001 1.27254659e-001]\n",
      " [6.53254241e-001 2.50570434e-001 9.61753254e-002]\n",
      " [6.92666811e-001 2.48457418e-001 5.88757710e-002]\n",
      " [6.34139749e-001 2.21477309e-001 1.44382942e-001]\n",
      " [0.00000000e+000 4.24307420e-001 5.75692580e-001]\n",
      " [0.00000000e+000 5.99329309e-001 4.00670691e-001]\n",
      " [4.41175647e-072 2.79693940e-001 7.20306060e-001]\n",
      " [1.74429939e-176 7.05662969e-001 2.94337031e-001]\n",
      " [5.31879106e-001 1.79791023e-001 2.88329871e-001]\n",
      " [7.33255027e-011 9.45678183e-001 5.43218165e-002]\n",
      " [3.30240734e-099 3.74409590e-001 6.25590410e-001]\n",
      " [9.59861473e-107 5.69962738e-001 4.30037262e-001]\n",
      " [2.62472085e-092 3.26873907e-001 6.73126093e-001]\n",
      " [0.00000000e+000 4.15390911e-001 5.84609089e-001]\n",
      " [7.56336689e-047 5.55416718e-001 4.44583282e-001]\n",
      " [2.21455057e-145 6.06736917e-001 3.93263083e-001]\n",
      " [1.50669388e-100 4.19769444e-001 5.80230556e-001]\n",
      " [3.18660120e-057 3.37064679e-001 6.62935321e-001]\n",
      " [1.62303545e-008 3.02774515e-001 6.97225469e-001]\n",
      " [4.69750092e-283 7.37709252e-001 2.62290748e-001]\n",
      " [6.13686806e-001 1.91220603e-001 1.95092591e-001]\n",
      " [6.54931802e-072 4.23675455e-001 5.76324545e-001]\n",
      " [4.75036350e-001 2.32086170e-001 2.92877480e-001]\n",
      " [9.11293129e-143 8.52220812e-001 1.47779188e-001]\n",
      " [4.60179291e-295 3.96194971e-001 6.03805029e-001]\n",
      " [6.18417324e-193 3.83026506e-001 6.16973494e-001]\n",
      " [6.80419694e-001 3.08475385e-001 1.11049210e-002]\n",
      " [8.55619911e-077 8.68928768e-001 1.31071232e-001]\n",
      " [4.51920036e-265 5.08878222e-001 4.91121778e-001]\n",
      " [6.45947909e-076 5.29880100e-001 4.70119900e-001]\n",
      " [1.24123650e-072 3.42361725e-001 6.57638275e-001]\n",
      " [4.74101159e-001 4.18927967e-001 1.06970874e-001]\n",
      " [2.46411781e-053 4.97211798e-001 5.02788202e-001]\n",
      " [4.10918060e-047 8.62777347e-001 1.37222653e-001]\n",
      " [0.00000000e+000 3.62907642e-001 6.37092358e-001]\n",
      " [2.60090195e-062 5.27860712e-001 4.72139288e-001]\n",
      " [4.32004032e-001 2.69960366e-001 2.98035602e-001]\n",
      " [0.00000000e+000 2.87197401e-001 7.12802599e-001]\n",
      " [1.22663232e-029 3.32771805e-001 6.67228195e-001]\n",
      " [6.06643157e-001 1.51069202e-001 2.42287641e-001]\n",
      " [5.46151969e-001 2.00065053e-001 2.53782977e-001]\n",
      " [1.89226161e-072 3.95877470e-001 6.04122530e-001]\n",
      " [5.76058679e-001 3.50629445e-001 7.33118758e-002]\n",
      " [2.22089708e-057 5.06319400e-001 4.93680600e-001]\n",
      " [4.63405372e-067 4.66001798e-001 5.33998202e-001]\n",
      " [1.11122535e-035 8.52237278e-001 1.47762722e-001]\n",
      " [2.08794166e-132 4.15980482e-001 5.84019518e-001]\n",
      " [1.85480083e-034 5.60154687e-001 4.39845313e-001]\n",
      " [2.71659186e-069 5.95621147e-001 4.04378853e-001]\n",
      " [8.50711032e-181 8.46183110e-001 1.53816890e-001]\n",
      " [2.70496222e-069 2.83012568e-001 7.16987432e-001]\n",
      " [5.54115873e-001 1.93856353e-001 2.52027774e-001]\n",
      " [1.37351399e-101 3.98322780e-001 6.01677220e-001]\n",
      " [2.76933630e-086 3.12686579e-001 6.87313421e-001]\n",
      " [1.16364743e-062 6.39400707e-001 3.60599293e-001]\n",
      " [1.62965663e-025 5.45800576e-001 4.54199424e-001]\n",
      " [4.49796897e-001 2.16491640e-001 3.33711462e-001]\n",
      " [0.00000000e+000 5.96180257e-001 4.03819743e-001]\n",
      " [5.05597390e-072 2.87631361e-001 7.12368639e-001]\n",
      " [6.92796622e-208 2.99760045e-001 7.00239955e-001]\n",
      " [6.28939470e-072 2.41506551e-001 7.58493449e-001]\n",
      " [0.00000000e+000 2.35643353e-001 7.64356647e-001]\n",
      " [1.85720615e-120 4.14341159e-001 5.85658841e-001]\n",
      " [0.00000000e+000 1.85725965e-001 8.14274035e-001]\n",
      " [1.44186309e-190 3.82584564e-001 6.17415436e-001]\n",
      " [3.46728014e-107 3.48773396e-001 6.51226604e-001]\n",
      " [7.59610474e-180 8.15287541e-001 1.84712459e-001]\n",
      " [1.32575080e-164 2.76264748e-001 7.23735252e-001]\n",
      " [2.03045777e-284 3.69505459e-001 6.30494541e-001]\n",
      " [1.81826982e-074 3.11083421e-001 6.88916579e-001]\n",
      " [2.11980601e-142 3.73695631e-001 6.26304369e-001]\n",
      " [1.99178186e-132 3.12172111e-001 6.87827889e-001]\n",
      " [0.00000000e+000 2.59234483e-001 7.40765517e-001]\n",
      " [9.28393295e-054 5.36754546e-001 4.63245454e-001]\n",
      " [5.71156936e-167 3.67412320e-001 6.32587680e-001]\n",
      " [3.63553199e-097 7.64538268e-001 2.35461732e-001]\n",
      " [1.71670036e-163 5.33440072e-001 4.66559928e-001]]\n"
     ]
    }
   ],
   "source": [
    "print(prob_y_3)"
   ]
  },
  {
   "cell_type": "code",
   "execution_count": 66,
   "metadata": {},
   "outputs": [],
   "source": [
    "# Keep only the positive class\n",
    "prob_y_3 = [p[1] for p in prob_y_3]"
   ]
  },
  {
   "cell_type": "code",
   "execution_count": 67,
   "metadata": {},
   "outputs": [
    {
     "data": {
      "text/plain": [
       "[0.21062645392444787, 0.3537097706074008, 0.23310633277521972]"
      ]
     },
     "execution_count": 67,
     "metadata": {},
     "output_type": "execute_result"
    }
   ],
   "source": [
    "prob_y_3[:3] # Example"
   ]
  },
  {
   "cell_type": "code",
   "execution_count": 81,
   "metadata": {},
   "outputs": [
    {
     "name": "stdout",
     "output_type": "stream",
     "text": [
      "\n",
      "Logistic Regression\n"
     ]
    },
    {
     "ename": "TypeError",
     "evalue": "unhashable type: 'numpy.ndarray'",
     "output_type": "error",
     "traceback": [
      "\u001b[0;31m---------------------------------------------------------------------------\u001b[0m",
      "\u001b[0;31mTypeError\u001b[0m                                 Traceback (most recent call last)",
      "\u001b[0;32m<ipython-input-81-499c04c94612>\u001b[0m in \u001b[0;36m<module>\u001b[0;34m()\u001b[0m\n\u001b[1;32m     21\u001b[0m \u001b[0;31m# assuming your already have a list of actual_class and predicted_class from the logistic regression classifier\u001b[0m\u001b[0;34m\u001b[0m\u001b[0;34m\u001b[0m\u001b[0m\n\u001b[1;32m     22\u001b[0m lr_roc_auc_multiclass = roc_auc_score_multiclass(test_balanced.iloc[:,-1:].values, \n\u001b[0;32m---> 23\u001b[0;31m                                                 clf_3.predict(test_balanced.iloc[:,:-1].values))\n\u001b[0m\u001b[1;32m     24\u001b[0m \u001b[0;32mprint\u001b[0m\u001b[0;34m(\u001b[0m\u001b[0mlr_roc_auc_multiclass\u001b[0m\u001b[0;34m)\u001b[0m\u001b[0;34m\u001b[0m\u001b[0m\n",
      "\u001b[0;32m<ipython-input-81-499c04c94612>\u001b[0m in \u001b[0;36mroc_auc_score_multiclass\u001b[0;34m(actual_class, pred_class, average)\u001b[0m\n\u001b[1;32m      3\u001b[0m \u001b[0;34m\u001b[0m\u001b[0m\n\u001b[1;32m      4\u001b[0m   \u001b[0;31m#creating a set of all the unique classes using the actual class list\u001b[0m\u001b[0;34m\u001b[0m\u001b[0;34m\u001b[0m\u001b[0m\n\u001b[0;32m----> 5\u001b[0;31m     \u001b[0munique_class\u001b[0m \u001b[0;34m=\u001b[0m \u001b[0mset\u001b[0m\u001b[0;34m(\u001b[0m\u001b[0mactual_class\u001b[0m\u001b[0;34m)\u001b[0m\u001b[0;34m\u001b[0m\u001b[0m\n\u001b[0m\u001b[1;32m      6\u001b[0m     \u001b[0mroc_auc_dict\u001b[0m \u001b[0;34m=\u001b[0m \u001b[0;34m{\u001b[0m\u001b[0;34m}\u001b[0m\u001b[0;34m\u001b[0m\u001b[0m\n\u001b[1;32m      7\u001b[0m     \u001b[0;32mfor\u001b[0m \u001b[0mper_class\u001b[0m \u001b[0;32min\u001b[0m \u001b[0munique_class\u001b[0m\u001b[0;34m:\u001b[0m\u001b[0;34m\u001b[0m\u001b[0m\n",
      "\u001b[0;31mTypeError\u001b[0m: unhashable type: 'numpy.ndarray'"
     ]
    }
   ],
   "source": [
    "from sklearn.metrics import roc_auc_score\n",
    "def roc_auc_score_multiclass(actual_class, pred_class, average = \"macro\"):\n",
    "\n",
    "  #creating a set of all the unique classes using the actual class list\n",
    "    unique_class = set(actual_class)\n",
    "    roc_auc_dict = {}\n",
    "    for per_class in unique_class:\n",
    "        #creating a list of all the classes except the current class \n",
    "        other_class = [x for x in unique_class if x != per_class]\n",
    "\n",
    "        #marking the current class as 1 and all other classes as 0\n",
    "        new_actual_class = [0 if x in other_class else 1 for x in actual_class]\n",
    "        new_pred_class = [0 if x in other_class else 1 for x in pred_class]\n",
    "\n",
    "        #using the sklearn metrics method to calculate the roc_auc_score\n",
    "        roc_auc = roc_auc_score(new_actual_class, new_pred_class, average = average)\n",
    "        roc_auc_dict[per_class] = roc_auc\n",
    "        return roc_auc_dict\n",
    "\n",
    "print(\"\\nLogistic Regression\")\n",
    "# assuming your already have a list of actual_class and predicted_class from the logistic regression classifier\n",
    "lr_roc_auc_multiclass = roc_auc_score_multiclass(test_balanced.iloc[:,-1:].values, \n",
    "                                                clf_3.predict(test_balanced.iloc[:,:-1].values))\n",
    "print(lr_roc_auc_multiclass)"
   ]
  },
  {
   "cell_type": "code",
   "execution_count": 85,
   "metadata": {},
   "outputs": [
    {
     "ename": "TypeError",
     "evalue": "unhashable type: 'numpy.ndarray'",
     "output_type": "error",
     "traceback": [
      "\u001b[0;31m---------------------------------------------------------------------------\u001b[0m",
      "\u001b[0;31mTypeError\u001b[0m                                 Traceback (most recent call last)",
      "\u001b[0;32m<ipython-input-85-441834e7c997>\u001b[0m in \u001b[0;36m<module>\u001b[0;34m()\u001b[0m\n\u001b[1;32m     10\u001b[0m     \u001b[0;31m#using the sklearn metrics method to calculate the roc_auc_score\u001b[0m\u001b[0;34m\u001b[0m\u001b[0;34m\u001b[0m\u001b[0m\n\u001b[1;32m     11\u001b[0m     \u001b[0mroc_auc\u001b[0m \u001b[0;34m=\u001b[0m \u001b[0mroc_auc_score\u001b[0m\u001b[0;34m(\u001b[0m\u001b[0mnew_actual_class\u001b[0m\u001b[0;34m,\u001b[0m \u001b[0mnew_pred_class\u001b[0m\u001b[0;34m,\u001b[0m \u001b[0maverage\u001b[0m \u001b[0;34m=\u001b[0m \u001b[0;34m\"macro\"\u001b[0m\u001b[0;34m)\u001b[0m\u001b[0;34m\u001b[0m\u001b[0m\n\u001b[0;32m---> 12\u001b[0;31m     \u001b[0mroc_auc_dict\u001b[0m\u001b[0;34m[\u001b[0m\u001b[0mper_class\u001b[0m\u001b[0;34m]\u001b[0m \u001b[0;34m=\u001b[0m \u001b[0mroc_auc\u001b[0m\u001b[0;34m\u001b[0m\u001b[0m\n\u001b[0m",
      "\u001b[0;31mTypeError\u001b[0m: unhashable type: 'numpy.ndarray'"
     ]
    }
   ],
   "source": [
    "roc_auc_dict={}\n",
    "for per_class in test_balanced.iloc[:,-1:].values:\n",
    "    #creating a list of all the classes except the current class \n",
    "    other_class = [x for x in test_balanced.iloc[:,-1:].values if x != per_class]\n",
    "\n",
    "    #marking the current class as 1 and all other classes as 0\n",
    "    new_actual_class = [0 if x in other_class else 1 for x in test_balanced.iloc[:,-1:].values]\n",
    "    new_pred_class = [0 if x in other_class else 1 for x in clf_3.predict(test_balanced.iloc[:,:-1].values)]\n",
    "\n",
    "    #using the sklearn metrics method to calculate the roc_auc_score\n",
    "    roc_auc = roc_auc_score(new_actual_class, new_pred_class, average = \"macro\")\n",
    "    roc_auc_dict[per_class] = roc_auc"
   ]
  },
  {
   "cell_type": "code",
   "execution_count": 78,
   "metadata": {},
   "outputs": [
    {
     "name": "stdout",
     "output_type": "stream",
     "text": [
      "                       precision    recall  f1-score   support\n",
      "\n",
      "          no accident   0.835821  0.982456  0.903226        57\n",
      "           1 accident   0.807692  0.368421  0.506024        57\n",
      "more than 1 accidents   0.324324  0.750000  0.452830        16\n",
      "\n",
      "            micro avg   0.684615  0.684615  0.684615       130\n",
      "            macro avg   0.655946  0.700292  0.620693       130\n",
      "         weighted avg   0.760534  0.684615  0.673635       130\n",
      "\n"
     ]
    }
   ],
   "source": [
    "from sklearn.metrics import classification_report\n",
    "sk_report = classification_report(digits=6,\n",
    "                                  y_true=test_balanced.iloc[:,-1:].values,\n",
    "                                  y_pred=clf_3.predict(test_balanced.iloc[:,:-1].values),\n",
    "                                  target_names=['no accident','1 accident','more than 1 accidents'])\n",
    "print(sk_report)"
   ]
  },
  {
   "cell_type": "code",
   "execution_count": 77,
   "metadata": {},
   "outputs": [
    {
     "ename": "TypeError",
     "evalue": "classification_report() got an unexpected keyword argument 'y_score'",
     "output_type": "error",
     "traceback": [
      "\u001b[0;31m---------------------------------------------------------------------------\u001b[0m",
      "\u001b[0;31mTypeError\u001b[0m                                 Traceback (most recent call last)",
      "\u001b[0;32m<ipython-input-77-715ddd7413d6>\u001b[0m in \u001b[0;36m<module>\u001b[0;34m()\u001b[0m\n\u001b[1;32m      2\u001b[0m     \u001b[0my_true\u001b[0m\u001b[0;34m=\u001b[0m\u001b[0mtest_balanced\u001b[0m\u001b[0;34m.\u001b[0m\u001b[0miloc\u001b[0m\u001b[0;34m[\u001b[0m\u001b[0;34m:\u001b[0m\u001b[0;34m,\u001b[0m\u001b[0;34m-\u001b[0m\u001b[0;36m1\u001b[0m\u001b[0;34m:\u001b[0m\u001b[0;34m]\u001b[0m\u001b[0;34m.\u001b[0m\u001b[0mvalues\u001b[0m\u001b[0;34m,\u001b[0m\u001b[0;34m\u001b[0m\u001b[0m\n\u001b[1;32m      3\u001b[0m     \u001b[0my_pred\u001b[0m\u001b[0;34m=\u001b[0m\u001b[0mclf_3\u001b[0m\u001b[0;34m.\u001b[0m\u001b[0mpredict\u001b[0m\u001b[0;34m(\u001b[0m\u001b[0mtest_balanced\u001b[0m\u001b[0;34m.\u001b[0m\u001b[0miloc\u001b[0m\u001b[0;34m[\u001b[0m\u001b[0;34m:\u001b[0m\u001b[0;34m,\u001b[0m\u001b[0;34m:\u001b[0m\u001b[0;34m-\u001b[0m\u001b[0;36m1\u001b[0m\u001b[0;34m]\u001b[0m\u001b[0;34m.\u001b[0m\u001b[0mvalues\u001b[0m\u001b[0;34m)\u001b[0m\u001b[0;34m,\u001b[0m\u001b[0;34m\u001b[0m\u001b[0m\n\u001b[0;32m----> 4\u001b[0;31m     y_score=clf_3.predict_proba(test_balanced.iloc[:,:-1].values))\n\u001b[0m\u001b[1;32m      5\u001b[0m \u001b[0;34m\u001b[0m\u001b[0m\n\u001b[1;32m      6\u001b[0m \u001b[0;32mprint\u001b[0m\u001b[0;34m(\u001b[0m\u001b[0mreport_with_auc\u001b[0m\u001b[0;34m)\u001b[0m\u001b[0;34m\u001b[0m\u001b[0m\n",
      "\u001b[0;31mTypeError\u001b[0m: classification_report() got an unexpected keyword argument 'y_score'"
     ]
    }
   ],
   "source": [
    "report_with_auc = classification_report(\n",
    "    y_true=test_balanced.iloc[:,-1:].values, \n",
    "    y_pred=clf_3.predict(test_balanced.iloc[:,:-1].values), \n",
    "    y_score=clf_3.predict_proba(test_balanced.iloc[:,:-1].values))\n",
    "\n",
    "print(report_with_auc)"
   ]
  },
  {
   "cell_type": "code",
   "execution_count": 86,
   "metadata": {},
   "outputs": [
    {
     "data": {
      "image/png": "[encoded data removed]",
      "text/plain": [
       "<Figure size 432x288 with 2 Axes>"
      ]
     },
     "metadata": {},
     "output_type": "display_data"
    }
   ],
   "source": [
    "skplt.metrics.plot_confusion_matrix(test_balanced.iloc[:,-1:].values, clf_3.predict(test_balanced.iloc[:,:-1].values),\n",
    "                                    normalize=True)\n",
    "plt.show()"
   ]
  },
  {
   "cell_type": "code",
   "execution_count": 87,
   "metadata": {},
   "outputs": [
    {
     "name": "stderr",
     "output_type": "stream",
     "text": [
      "/usr/lib64/python2.7/site-packages/sklearn/utils/deprecation.py:77: DeprecationWarning: Function plot_roc_curve is deprecated; This will be removed in v0.5.0. Please use scikitplot.metrics.plot_roc instead.\n",
      "  warnings.warn(msg, category=DeprecationWarning)\n"
     ]
    },
    {
     "data": {
      "image/png": "[encoded data removed]",
      "text/plain": [
       "<Figure size 432x288 with 1 Axes>"
      ]
     },
     "metadata": {},
     "output_type": "display_data"
    }
   ],
   "source": [
    "import scikitplot as skplt\n",
    "import matplotlib.pyplot as plt\n",
    "\n",
    "skplt.metrics.plot_roc_curve(test.iloc[:,-1:].values, clf_3.predict_proba(test.iloc[:,:-1].values))\n",
    "plt.show()"
   ]
  },
  {
   "cell_type": "markdown",
   "metadata": {},
   "source": [
    "# Train SVM Model on new balanced dataset"
   ]
  },
  {
   "cell_type": "code",
   "execution_count": 88,
   "metadata": {},
   "outputs": [
    {
     "data": {
      "text/plain": [
       "SVC(C=2, cache_size=200, class_weight=None, coef0=0.0,\n",
       "  decision_function_shape='ovr', degree=3, gamma='scale', kernel='rbf',\n",
       "  max_iter=-1, probability=True, random_state=None, shrinking=True,\n",
       "  tol=0.001, verbose=False)"
      ]
     },
     "execution_count": 88,
     "metadata": {},
     "output_type": "execute_result"
    }
   ],
   "source": [
    "from sklearn import svm\n",
    "# create and configure model\n",
    "clf_4 = svm.SVC(C=2, gamma='scale', probability=True)\n",
    "# fit model\n",
    "clf_4.fit(X_new, y_new)"
   ]
  },
  {
   "cell_type": "code",
   "execution_count": 89,
   "metadata": {},
   "outputs": [
    {
     "name": "stdout",
     "output_type": "stream",
     "text": [
      "0.7538461538461538\n"
     ]
    }
   ],
   "source": [
    "# How's our accuracy?\n",
    "print( accuracy_score(test_balanced.iloc[:,-1:].values, clf_4.predict(test_balanced.iloc[:,:-1].values)) )"
   ]
  },
  {
   "cell_type": "code",
   "execution_count": 90,
   "metadata": {},
   "outputs": [
    {
     "data": {
      "image/png": "[encoded data removed]",
      "text/plain": [
       "<Figure size 432x288 with 2 Axes>"
      ]
     },
     "metadata": {},
     "output_type": "display_data"
    }
   ],
   "source": [
    "skplt.metrics.plot_confusion_matrix(test_balanced.iloc[:,-1:].values, clf_4.predict(test_balanced.iloc[:,:-1].values),\n",
    "                                    normalize=True)\n",
    "plt.show()"
   ]
  },
  {
   "cell_type": "markdown",
   "metadata": {},
   "source": [
    "# Use ROC to evalute SVM performance after sampling"
   ]
  },
  {
   "cell_type": "code",
   "execution_count": 91,
   "metadata": {},
   "outputs": [
    {
     "ename": "ValueError",
     "evalue": "multiclass format is not supported",
     "output_type": "error",
     "traceback": [
      "\u001b[0;31m---------------------------------------------------------------------------\u001b[0m",
      "\u001b[0;31mValueError\u001b[0m                                Traceback (most recent call last)",
      "\u001b[0;32m<ipython-input-91-a84f3d7071a4>\u001b[0m in \u001b[0;36m<module>\u001b[0;34m()\u001b[0m\n\u001b[1;32m      7\u001b[0m \u001b[0mprob_y_4\u001b[0m\u001b[0;34m[\u001b[0m\u001b[0;34m:\u001b[0m\u001b[0;36m5\u001b[0m\u001b[0;34m]\u001b[0m \u001b[0;31m# Example\u001b[0m\u001b[0;34m\u001b[0m\u001b[0m\n\u001b[1;32m      8\u001b[0m \u001b[0;34m\u001b[0m\u001b[0m\n\u001b[0;32m----> 9\u001b[0;31m \u001b[0;32mprint\u001b[0m\u001b[0;34m(\u001b[0m \u001b[0mroc_auc_score\u001b[0m\u001b[0;34m(\u001b[0m\u001b[0mtest_balanced\u001b[0m\u001b[0;34m.\u001b[0m\u001b[0miloc\u001b[0m\u001b[0;34m[\u001b[0m\u001b[0;34m:\u001b[0m\u001b[0;34m,\u001b[0m\u001b[0;34m-\u001b[0m\u001b[0;36m1\u001b[0m\u001b[0;34m:\u001b[0m\u001b[0;34m]\u001b[0m\u001b[0;34m.\u001b[0m\u001b[0mvalues\u001b[0m\u001b[0;34m,\u001b[0m \u001b[0mprob_y_4\u001b[0m\u001b[0;34m)\u001b[0m \u001b[0;34m)\u001b[0m\u001b[0;34m\u001b[0m\u001b[0m\n\u001b[0m",
      "\u001b[0;32m/usr/lib64/python2.7/site-packages/sklearn/metrics/ranking.pyc\u001b[0m in \u001b[0;36mroc_auc_score\u001b[0;34m(y_true, y_score, average, sample_weight, max_fpr)\u001b[0m\n\u001b[1;32m    354\u001b[0m     return _average_binary_score(\n\u001b[1;32m    355\u001b[0m         \u001b[0m_binary_roc_auc_score\u001b[0m\u001b[0;34m,\u001b[0m \u001b[0my_true\u001b[0m\u001b[0;34m,\u001b[0m \u001b[0my_score\u001b[0m\u001b[0;34m,\u001b[0m \u001b[0maverage\u001b[0m\u001b[0;34m,\u001b[0m\u001b[0;34m\u001b[0m\u001b[0m\n\u001b[0;32m--> 356\u001b[0;31m         sample_weight=sample_weight)\n\u001b[0m\u001b[1;32m    357\u001b[0m \u001b[0;34m\u001b[0m\u001b[0m\n\u001b[1;32m    358\u001b[0m \u001b[0;34m\u001b[0m\u001b[0m\n",
      "\u001b[0;32m/usr/lib64/python2.7/site-packages/sklearn/metrics/base.pyc\u001b[0m in \u001b[0;36m_average_binary_score\u001b[0;34m(binary_metric, y_true, y_score, average, sample_weight)\u001b[0m\n\u001b[1;32m     72\u001b[0m     \u001b[0my_type\u001b[0m \u001b[0;34m=\u001b[0m \u001b[0mtype_of_target\u001b[0m\u001b[0;34m(\u001b[0m\u001b[0my_true\u001b[0m\u001b[0;34m)\u001b[0m\u001b[0;34m\u001b[0m\u001b[0m\n\u001b[1;32m     73\u001b[0m     \u001b[0;32mif\u001b[0m \u001b[0my_type\u001b[0m \u001b[0;32mnot\u001b[0m \u001b[0;32min\u001b[0m \u001b[0;34m(\u001b[0m\u001b[0;34m\"binary\"\u001b[0m\u001b[0;34m,\u001b[0m \u001b[0;34m\"multilabel-indicator\"\u001b[0m\u001b[0;34m)\u001b[0m\u001b[0;34m:\u001b[0m\u001b[0;34m\u001b[0m\u001b[0m\n\u001b[0;32m---> 74\u001b[0;31m         \u001b[0;32mraise\u001b[0m \u001b[0mValueError\u001b[0m\u001b[0;34m(\u001b[0m\u001b[0;34m\"{0} format is not supported\"\u001b[0m\u001b[0;34m.\u001b[0m\u001b[0mformat\u001b[0m\u001b[0;34m(\u001b[0m\u001b[0my_type\u001b[0m\u001b[0;34m)\u001b[0m\u001b[0;34m)\u001b[0m\u001b[0;34m\u001b[0m\u001b[0m\n\u001b[0m\u001b[1;32m     75\u001b[0m \u001b[0;34m\u001b[0m\u001b[0m\n\u001b[1;32m     76\u001b[0m     \u001b[0;32mif\u001b[0m \u001b[0my_type\u001b[0m \u001b[0;34m==\u001b[0m \u001b[0;34m\"binary\"\u001b[0m\u001b[0;34m:\u001b[0m\u001b[0;34m\u001b[0m\u001b[0m\n",
      "\u001b[0;31mValueError\u001b[0m: multiclass format is not supported"
     ]
    }
   ],
   "source": [
    "# Predict class probabilities\n",
    "prob_y_4 = clf_4.predict_proba(test_balanced.iloc[:,:-1].values)\n",
    " \n",
    "# Keep only the positive class\n",
    "prob_y_4 = [p[1] for p in prob_y_4]\n",
    " \n",
    "prob_y_4[:5] # Example\n",
    "\n",
    "print( roc_auc_score(test_balanced.iloc[:,-1:].values, prob_y_4) )"
   ]
  },
  {
   "cell_type": "code",
   "execution_count": 92,
   "metadata": {},
   "outputs": [
    {
     "name": "stderr",
     "output_type": "stream",
     "text": [
      "/usr/lib64/python2.7/site-packages/sklearn/utils/deprecation.py:77: DeprecationWarning: Function plot_roc_curve is deprecated; This will be removed in v0.5.0. Please use scikitplot.metrics.plot_roc instead.\n",
      "  warnings.warn(msg, category=DeprecationWarning)\n"
     ]
    },
    {
     "data": {
      "image/png": "[encoded data removed]",
      "text/plain": [
       "<Figure size 432x288 with 1 Axes>"
      ]
     },
     "metadata": {},
     "output_type": "display_data"
    }
   ],
   "source": [
    "skplt.metrics.plot_roc_curve(test_balanced.iloc[:,-1:].values, clf_4.predict_proba(test_balanced.iloc[:,:-1].values))\n",
    "plt.show()"
   ]
  },
  {
   "cell_type": "markdown",
   "metadata": {},
   "source": [
    "# Use Tree-Based Algorithms"
   ]
  },
  {
   "cell_type": "code",
   "execution_count": 93,
   "metadata": {},
   "outputs": [],
   "source": [
    "from sklearn.ensemble import RandomForestClassifier\n",
    "y = test_balanced.tot_accidents\n",
    "X = test_balanced.drop('tot_accidents', axis=1)"
   ]
  },
  {
   "cell_type": "markdown",
   "metadata": {},
   "source": [
    "# Use a Random Forest on the original imbalanced dataset"
   ]
  },
  {
   "cell_type": "code",
   "execution_count": 96,
   "metadata": {},
   "outputs": [
    {
     "name": "stderr",
     "output_type": "stream",
     "text": [
      "/usr/lib64/python2.7/site-packages/sklearn/ensemble/forest.py:246: FutureWarning: The default value of n_estimators will change from 10 in version 0.20 to 100 in 0.22.\n",
      "  \"10 in version 0.20 to 100 in 0.22.\", FutureWarning)\n"
     ]
    },
    {
     "data": {
      "text/plain": [
       "RandomForestClassifier(bootstrap=True, class_weight=None, criterion='gini',\n",
       "            max_depth=2, max_features='auto', max_leaf_nodes=None,\n",
       "            min_impurity_decrease=0.0, min_impurity_split=None,\n",
       "            min_samples_leaf=1, min_samples_split=2,\n",
       "            min_weight_fraction_leaf=0.0, n_estimators=10, n_jobs=None,\n",
       "            oob_score=False, random_state=None, verbose=0,\n",
       "            warm_start=False)"
      ]
     },
     "execution_count": 96,
     "metadata": {},
     "output_type": "execute_result"
    }
   ],
   "source": [
    "# Train model\n",
    "clf_5 = RandomForestClassifier(max_depth=2)\n",
    "clf_5.fit(X_new, y_new)"
   ]
  },
  {
   "cell_type": "code",
   "execution_count": 97,
   "metadata": {},
   "outputs": [],
   "source": [
    "# Predict on test set\n",
    "pred_y_5 = clf_5.predict(test.iloc[:,:-1].values)"
   ]
  },
  {
   "cell_type": "code",
   "execution_count": 98,
   "metadata": {},
   "outputs": [
    {
     "name": "stdout",
     "output_type": "stream",
     "text": [
      "[0 1 2]\n"
     ]
    }
   ],
   "source": [
    "# Is our model predicting just one class?\n",
    "print( np.unique( pred_y_5 ) )\n",
    "# [0 1]"
   ]
  },
  {
   "cell_type": "code",
   "execution_count": 99,
   "metadata": {},
   "outputs": [
    {
     "name": "stdout",
     "output_type": "stream",
     "text": [
      "0.6908517350157729\n"
     ]
    }
   ],
   "source": [
    "# How's our accuracy?\n",
    "print( accuracy_score(test.iloc[:,-1:].values, pred_y_5) )"
   ]
  },
  {
   "cell_type": "code",
   "execution_count": 100,
   "metadata": {},
   "outputs": [
    {
     "ename": "ValueError",
     "evalue": "multiclass format is not supported",
     "output_type": "error",
     "traceback": [
      "\u001b[0;31m---------------------------------------------------------------------------\u001b[0m",
      "\u001b[0;31mValueError\u001b[0m                                Traceback (most recent call last)",
      "\u001b[0;32m<ipython-input-100-7990797d5101>\u001b[0m in \u001b[0;36m<module>\u001b[0;34m()\u001b[0m\n\u001b[1;32m      2\u001b[0m \u001b[0mprob_y_5\u001b[0m \u001b[0;34m=\u001b[0m \u001b[0mclf_5\u001b[0m\u001b[0;34m.\u001b[0m\u001b[0mpredict_proba\u001b[0m\u001b[0;34m(\u001b[0m\u001b[0mtest\u001b[0m\u001b[0;34m.\u001b[0m\u001b[0miloc\u001b[0m\u001b[0;34m[\u001b[0m\u001b[0;34m:\u001b[0m\u001b[0;34m,\u001b[0m\u001b[0;34m:\u001b[0m\u001b[0;34m-\u001b[0m\u001b[0;36m1\u001b[0m\u001b[0;34m]\u001b[0m\u001b[0;34m.\u001b[0m\u001b[0mvalues\u001b[0m\u001b[0;34m)\u001b[0m\u001b[0;34m\u001b[0m\u001b[0m\n\u001b[1;32m      3\u001b[0m \u001b[0mprob_y_5\u001b[0m \u001b[0;34m=\u001b[0m \u001b[0;34m[\u001b[0m\u001b[0mp\u001b[0m\u001b[0;34m[\u001b[0m\u001b[0;36m1\u001b[0m\u001b[0;34m]\u001b[0m \u001b[0;32mfor\u001b[0m \u001b[0mp\u001b[0m \u001b[0;32min\u001b[0m \u001b[0mprob_y_5\u001b[0m\u001b[0;34m]\u001b[0m\u001b[0;34m\u001b[0m\u001b[0m\n\u001b[0;32m----> 4\u001b[0;31m \u001b[0;32mprint\u001b[0m\u001b[0;34m(\u001b[0m \u001b[0mroc_auc_score\u001b[0m\u001b[0;34m(\u001b[0m\u001b[0mtest\u001b[0m\u001b[0;34m.\u001b[0m\u001b[0miloc\u001b[0m\u001b[0;34m[\u001b[0m\u001b[0;34m:\u001b[0m\u001b[0;34m,\u001b[0m\u001b[0;34m-\u001b[0m\u001b[0;36m1\u001b[0m\u001b[0;34m:\u001b[0m\u001b[0;34m]\u001b[0m\u001b[0;34m.\u001b[0m\u001b[0mvalues\u001b[0m\u001b[0;34m,\u001b[0m \u001b[0mprob_y_5\u001b[0m\u001b[0;34m)\u001b[0m \u001b[0;34m)\u001b[0m\u001b[0;34m\u001b[0m\u001b[0m\n\u001b[0m",
      "\u001b[0;32m/usr/lib64/python2.7/site-packages/sklearn/metrics/ranking.pyc\u001b[0m in \u001b[0;36mroc_auc_score\u001b[0;34m(y_true, y_score, average, sample_weight, max_fpr)\u001b[0m\n\u001b[1;32m    354\u001b[0m     return _average_binary_score(\n\u001b[1;32m    355\u001b[0m         \u001b[0m_binary_roc_auc_score\u001b[0m\u001b[0;34m,\u001b[0m \u001b[0my_true\u001b[0m\u001b[0;34m,\u001b[0m \u001b[0my_score\u001b[0m\u001b[0;34m,\u001b[0m \u001b[0maverage\u001b[0m\u001b[0;34m,\u001b[0m\u001b[0;34m\u001b[0m\u001b[0m\n\u001b[0;32m--> 356\u001b[0;31m         sample_weight=sample_weight)\n\u001b[0m\u001b[1;32m    357\u001b[0m \u001b[0;34m\u001b[0m\u001b[0m\n\u001b[1;32m    358\u001b[0m \u001b[0;34m\u001b[0m\u001b[0m\n",
      "\u001b[0;32m/usr/lib64/python2.7/site-packages/sklearn/metrics/base.pyc\u001b[0m in \u001b[0;36m_average_binary_score\u001b[0;34m(binary_metric, y_true, y_score, average, sample_weight)\u001b[0m\n\u001b[1;32m     72\u001b[0m     \u001b[0my_type\u001b[0m \u001b[0;34m=\u001b[0m \u001b[0mtype_of_target\u001b[0m\u001b[0;34m(\u001b[0m\u001b[0my_true\u001b[0m\u001b[0;34m)\u001b[0m\u001b[0;34m\u001b[0m\u001b[0m\n\u001b[1;32m     73\u001b[0m     \u001b[0;32mif\u001b[0m \u001b[0my_type\u001b[0m \u001b[0;32mnot\u001b[0m \u001b[0;32min\u001b[0m \u001b[0;34m(\u001b[0m\u001b[0;34m\"binary\"\u001b[0m\u001b[0;34m,\u001b[0m \u001b[0;34m\"multilabel-indicator\"\u001b[0m\u001b[0;34m)\u001b[0m\u001b[0;34m:\u001b[0m\u001b[0;34m\u001b[0m\u001b[0m\n\u001b[0;32m---> 74\u001b[0;31m         \u001b[0;32mraise\u001b[0m \u001b[0mValueError\u001b[0m\u001b[0;34m(\u001b[0m\u001b[0;34m\"{0} format is not supported\"\u001b[0m\u001b[0;34m.\u001b[0m\u001b[0mformat\u001b[0m\u001b[0;34m(\u001b[0m\u001b[0my_type\u001b[0m\u001b[0;34m)\u001b[0m\u001b[0;34m)\u001b[0m\u001b[0;34m\u001b[0m\u001b[0m\n\u001b[0m\u001b[1;32m     75\u001b[0m \u001b[0;34m\u001b[0m\u001b[0m\n\u001b[1;32m     76\u001b[0m     \u001b[0;32mif\u001b[0m \u001b[0my_type\u001b[0m \u001b[0;34m==\u001b[0m \u001b[0;34m\"binary\"\u001b[0m\u001b[0;34m:\u001b[0m\u001b[0;34m\u001b[0m\u001b[0m\n",
      "\u001b[0;31mValueError\u001b[0m: multiclass format is not supported"
     ]
    }
   ],
   "source": [
    "# What about AUROC?\n",
    "prob_y_5 = clf_5.predict_proba(test.iloc[:,:-1].values)\n",
    "prob_y_5 = [p[1] for p in prob_y_5]\n",
    "print( roc_auc_score(test.iloc[:,-1:].values, prob_y_5) )"
   ]
  },
  {
   "cell_type": "code",
   "execution_count": 101,
   "metadata": {},
   "outputs": [
    {
     "data": {
      "image/png": "[encoded data removed]",
      "text/plain": [
       "<Figure size 432x288 with 2 Axes>"
      ]
     },
     "metadata": {},
     "output_type": "display_data"
    }
   ],
   "source": [
    "skplt.metrics.plot_confusion_matrix(test.iloc[:,-1:].values, pred_y_5, normalize=True)\n",
    "plt.show()"
   ]
  },
  {
   "cell_type": "code",
   "execution_count": 102,
   "metadata": {},
   "outputs": [
    {
     "name": "stderr",
     "output_type": "stream",
     "text": [
      "/usr/lib64/python2.7/site-packages/sklearn/utils/deprecation.py:77: DeprecationWarning: Function plot_roc_curve is deprecated; This will be removed in v0.5.0. Please use scikitplot.metrics.plot_roc instead.\n",
      "  warnings.warn(msg, category=DeprecationWarning)\n"
     ]
    },
    {
     "data": {
      "image/png": "[encoded data removed]",
      "text/plain": [
       "<Figure size 432x288 with 1 Axes>"
      ]
     },
     "metadata": {},
     "output_type": "display_data"
    }
   ],
   "source": [
    "skplt.metrics.plot_roc_curve(test_balanced.iloc[:,-1:].values, clf_5.predict_proba(test_balanced.iloc[:,:-1].values))\n",
    "plt.show()"
   ]
  },
  {
   "cell_type": "markdown",
   "metadata": {},
   "source": [
    "# Use a Random Forest on the new balanced dataset"
   ]
  },
  {
   "cell_type": "code",
   "execution_count": 103,
   "metadata": {},
   "outputs": [
    {
     "data": {
      "text/plain": [
       "RandomForestClassifier(bootstrap=True, class_weight=None, criterion='gini',\n",
       "            max_depth=2, max_features='auto', max_leaf_nodes=None,\n",
       "            min_impurity_decrease=0.0, min_impurity_split=None,\n",
       "            min_samples_leaf=2, min_samples_split=2,\n",
       "            min_weight_fraction_leaf=0.0, n_estimators=10, n_jobs=None,\n",
       "            oob_score=False, random_state=None, verbose=0,\n",
       "            warm_start=False)"
      ]
     },
     "execution_count": 103,
     "metadata": {},
     "output_type": "execute_result"
    }
   ],
   "source": [
    "clf_6 = RandomForestClassifier(max_depth=2, min_samples_leaf=2)\n",
    "clf_6.fit(X_new, y_new)"
   ]
  },
  {
   "cell_type": "code",
   "execution_count": 104,
   "metadata": {},
   "outputs": [],
   "source": [
    "# Predict on test set\n",
    "pred_y_6 = clf_6.predict(test_balanced.iloc[:,:-1].values)"
   ]
  },
  {
   "cell_type": "code",
   "execution_count": 105,
   "metadata": {},
   "outputs": [
    {
     "name": "stdout",
     "output_type": "stream",
     "text": [
      "[0 1 2]\n"
     ]
    }
   ],
   "source": [
    "print( np.unique( pred_y_6 ) )\n",
    "# [0 1]"
   ]
  },
  {
   "cell_type": "code",
   "execution_count": 106,
   "metadata": {},
   "outputs": [
    {
     "name": "stdout",
     "output_type": "stream",
     "text": [
      "0.6846153846153846\n"
     ]
    }
   ],
   "source": [
    "# How's our accuracy?\n",
    "print( accuracy_score(test_balanced.iloc[:,-1:].values, pred_y_6) )"
   ]
  },
  {
   "cell_type": "code",
   "execution_count": 107,
   "metadata": {},
   "outputs": [
    {
     "ename": "ValueError",
     "evalue": "multiclass format is not supported",
     "output_type": "error",
     "traceback": [
      "\u001b[0;31m---------------------------------------------------------------------------\u001b[0m",
      "\u001b[0;31mValueError\u001b[0m                                Traceback (most recent call last)",
      "\u001b[0;32m<ipython-input-107-1f6b3bc7254b>\u001b[0m in \u001b[0;36m<module>\u001b[0;34m()\u001b[0m\n\u001b[1;32m      2\u001b[0m \u001b[0mprob_y_6\u001b[0m \u001b[0;34m=\u001b[0m \u001b[0mclf_6\u001b[0m\u001b[0;34m.\u001b[0m\u001b[0mpredict_proba\u001b[0m\u001b[0;34m(\u001b[0m\u001b[0mtest_balanced\u001b[0m\u001b[0;34m.\u001b[0m\u001b[0miloc\u001b[0m\u001b[0;34m[\u001b[0m\u001b[0;34m:\u001b[0m\u001b[0;34m,\u001b[0m\u001b[0;34m:\u001b[0m\u001b[0;34m-\u001b[0m\u001b[0;36m1\u001b[0m\u001b[0;34m]\u001b[0m\u001b[0;34m.\u001b[0m\u001b[0mvalues\u001b[0m\u001b[0;34m)\u001b[0m\u001b[0;34m\u001b[0m\u001b[0m\n\u001b[1;32m      3\u001b[0m \u001b[0mprob_y_6\u001b[0m \u001b[0;34m=\u001b[0m \u001b[0;34m[\u001b[0m\u001b[0mp\u001b[0m\u001b[0;34m[\u001b[0m\u001b[0;36m1\u001b[0m\u001b[0;34m]\u001b[0m \u001b[0;32mfor\u001b[0m \u001b[0mp\u001b[0m \u001b[0;32min\u001b[0m \u001b[0mprob_y_6\u001b[0m\u001b[0;34m]\u001b[0m\u001b[0;34m\u001b[0m\u001b[0m\n\u001b[0;32m----> 4\u001b[0;31m \u001b[0;32mprint\u001b[0m\u001b[0;34m(\u001b[0m \u001b[0mroc_auc_score\u001b[0m\u001b[0;34m(\u001b[0m\u001b[0mtest_balanced\u001b[0m\u001b[0;34m.\u001b[0m\u001b[0miloc\u001b[0m\u001b[0;34m[\u001b[0m\u001b[0;34m:\u001b[0m\u001b[0;34m,\u001b[0m\u001b[0;34m-\u001b[0m\u001b[0;36m1\u001b[0m\u001b[0;34m:\u001b[0m\u001b[0;34m]\u001b[0m\u001b[0;34m.\u001b[0m\u001b[0mvalues\u001b[0m\u001b[0;34m,\u001b[0m \u001b[0mprob_y_6\u001b[0m\u001b[0;34m)\u001b[0m \u001b[0;34m)\u001b[0m\u001b[0;34m\u001b[0m\u001b[0m\n\u001b[0m",
      "\u001b[0;32m/usr/lib64/python2.7/site-packages/sklearn/metrics/ranking.pyc\u001b[0m in \u001b[0;36mroc_auc_score\u001b[0;34m(y_true, y_score, average, sample_weight, max_fpr)\u001b[0m\n\u001b[1;32m    354\u001b[0m     return _average_binary_score(\n\u001b[1;32m    355\u001b[0m         \u001b[0m_binary_roc_auc_score\u001b[0m\u001b[0;34m,\u001b[0m \u001b[0my_true\u001b[0m\u001b[0;34m,\u001b[0m \u001b[0my_score\u001b[0m\u001b[0;34m,\u001b[0m \u001b[0maverage\u001b[0m\u001b[0;34m,\u001b[0m\u001b[0;34m\u001b[0m\u001b[0m\n\u001b[0;32m--> 356\u001b[0;31m         sample_weight=sample_weight)\n\u001b[0m\u001b[1;32m    357\u001b[0m \u001b[0;34m\u001b[0m\u001b[0m\n\u001b[1;32m    358\u001b[0m \u001b[0;34m\u001b[0m\u001b[0m\n",
      "\u001b[0;32m/usr/lib64/python2.7/site-packages/sklearn/metrics/base.pyc\u001b[0m in \u001b[0;36m_average_binary_score\u001b[0;34m(binary_metric, y_true, y_score, average, sample_weight)\u001b[0m\n\u001b[1;32m     72\u001b[0m     \u001b[0my_type\u001b[0m \u001b[0;34m=\u001b[0m \u001b[0mtype_of_target\u001b[0m\u001b[0;34m(\u001b[0m\u001b[0my_true\u001b[0m\u001b[0;34m)\u001b[0m\u001b[0;34m\u001b[0m\u001b[0m\n\u001b[1;32m     73\u001b[0m     \u001b[0;32mif\u001b[0m \u001b[0my_type\u001b[0m \u001b[0;32mnot\u001b[0m \u001b[0;32min\u001b[0m \u001b[0;34m(\u001b[0m\u001b[0;34m\"binary\"\u001b[0m\u001b[0;34m,\u001b[0m \u001b[0;34m\"multilabel-indicator\"\u001b[0m\u001b[0;34m)\u001b[0m\u001b[0;34m:\u001b[0m\u001b[0;34m\u001b[0m\u001b[0m\n\u001b[0;32m---> 74\u001b[0;31m         \u001b[0;32mraise\u001b[0m \u001b[0mValueError\u001b[0m\u001b[0;34m(\u001b[0m\u001b[0;34m\"{0} format is not supported\"\u001b[0m\u001b[0;34m.\u001b[0m\u001b[0mformat\u001b[0m\u001b[0;34m(\u001b[0m\u001b[0my_type\u001b[0m\u001b[0;34m)\u001b[0m\u001b[0;34m)\u001b[0m\u001b[0;34m\u001b[0m\u001b[0m\n\u001b[0m\u001b[1;32m     75\u001b[0m \u001b[0;34m\u001b[0m\u001b[0m\n\u001b[1;32m     76\u001b[0m     \u001b[0;32mif\u001b[0m \u001b[0my_type\u001b[0m \u001b[0;34m==\u001b[0m \u001b[0;34m\"binary\"\u001b[0m\u001b[0;34m:\u001b[0m\u001b[0;34m\u001b[0m\u001b[0m\n",
      "\u001b[0;31mValueError\u001b[0m: multiclass format is not supported"
     ]
    }
   ],
   "source": [
    "# What about AUROC?\n",
    "prob_y_6 = clf_6.predict_proba(test_balanced.iloc[:,:-1].values)\n",
    "prob_y_6 = [p[1] for p in prob_y_6]\n",
    "print( roc_auc_score(test_balanced.iloc[:,-1:].values, prob_y_6) )"
   ]
  },
  {
   "cell_type": "code",
   "execution_count": 108,
   "metadata": {},
   "outputs": [
    {
     "data": {
      "image/png": "[encoded data removed]",
      "text/plain": [
       "<Figure size 432x288 with 2 Axes>"
      ]
     },
     "metadata": {},
     "output_type": "display_data"
    }
   ],
   "source": [
    "skplt.metrics.plot_confusion_matrix(test_balanced.iloc[:,-1:].values, pred_y_6, normalize=True)\n",
    "plt.show()"
   ]
  },
  {
   "cell_type": "code",
   "execution_count": 109,
   "metadata": {},
   "outputs": [
    {
     "name": "stderr",
     "output_type": "stream",
     "text": [
      "/usr/lib64/python2.7/site-packages/sklearn/utils/deprecation.py:77: DeprecationWarning: Function plot_roc_curve is deprecated; This will be removed in v0.5.0. Please use scikitplot.metrics.plot_roc instead.\n",
      "  warnings.warn(msg, category=DeprecationWarning)\n"
     ]
    },
    {
     "data": {
      "image/png": "[encoded data removed]",
      "text/plain": [
       "<Figure size 432x288 with 1 Axes>"
      ]
     },
     "metadata": {},
     "output_type": "display_data"
    }
   ],
   "source": [
    "skplt.metrics.plot_roc_curve(test_balanced.iloc[:,-1:].values, clf_6.predict_proba(test_balanced.iloc[:,:-1].values))\n",
    "plt.show()"
   ]
  },
  {
   "cell_type": "code",
   "execution_count": 110,
   "metadata": {},
   "outputs": [
    {
     "name": "stdout",
     "output_type": "stream",
     "text": [
      "['acce_count', 'agg_break_count', 'agg_takeoff_count', 'decel_count', 'distance_driven', 'driving_hours', 'fuel_consumption', 'high_speed_percentage', 'mean_acce', 'mean_decel', 'mean_fuel_efficiency', 'median_acce', 'median_decel', 'odo_end', 'speed_average', 'speed_average_pos', 'speed_max', 'speeding_count10', 'speeding_count20', 'speeding_count30', 'speeding_count40', 'speeding_count40_plus', 'turn_count', 'am_peak_hours', 'entropy', 'entropy_last_month', 'long_distance_count', 'night_driving_hours', 'percent_am_peak', 'percent_long_distance', 'percent_night_driving', 'percent_pm_peak', 'pm_peak_hours', 'payment']\n"
     ]
    }
   ],
   "source": [
    "arr = list(X_new.columns.values)\n",
    "print(arr)"
   ]
  },
  {
   "cell_type": "code",
   "execution_count": 111,
   "metadata": {},
   "outputs": [
    {
     "name": "stdout",
     "output_type": "stream",
     "text": [
      "Feature ranking:\n",
      "1. feature 33 payment (0.193226)\n",
      "2. feature 24 entropy (0.183735)\n",
      "3. feature 13 odo_end (0.154932)\n",
      "4. feature 14 speed_average (0.101588)\n",
      "5. feature 15 speed_average_pos (0.081230)\n",
      "6. feature 10 mean_fuel_efficiency (0.067983)\n",
      "7. feature 23 am_peak_hours (0.060595)\n",
      "8. feature 18 speeding_count20 (0.047005)\n",
      "9. feature 16 speed_max (0.035673)\n",
      "10. feature 9 mean_decel (0.029666)\n",
      "11. feature 32 pm_peak_hours (0.024095)\n",
      "12. feature 6 fuel_consumption (0.018635)\n",
      "13. feature 25 entropy_last_month (0.001637)\n",
      "14. feature 11 median_acce (0.000000)\n",
      "15. feature 1 agg_break_count (0.000000)\n",
      "16. feature 2 agg_takeoff_count (0.000000)\n",
      "17. feature 3 decel_count (0.000000)\n",
      "18. feature 4 distance_driven (0.000000)\n",
      "19. feature 5 driving_hours (0.000000)\n",
      "20. feature 7 high_speed_percentage (0.000000)\n",
      "21. feature 8 mean_acce (0.000000)\n",
      "22. feature 31 percent_pm_peak (0.000000)\n",
      "23. feature 12 median_decel (0.000000)\n",
      "24. feature 26 long_distance_count (0.000000)\n",
      "25. feature 30 percent_night_driving (0.000000)\n",
      "26. feature 29 percent_long_distance (0.000000)\n",
      "27. feature 28 percent_am_peak (0.000000)\n",
      "28. feature 17 speeding_count10 (0.000000)\n",
      "29. feature 27 night_driving_hours (0.000000)\n",
      "30. feature 19 speeding_count30 (0.000000)\n",
      "31. feature 20 speeding_count40 (0.000000)\n",
      "32. feature 21 speeding_count40_plus (0.000000)\n",
      "33. feature 22 turn_count (0.000000)\n",
      "34. feature 0 acce_count (0.000000)\n"
     ]
    },
    {
     "data": {
      "image/png": "[encoded data removed]",
      "text/plain": [
       "<Figure size 432x288 with 1 Axes>"
      ]
     },
     "metadata": {},
     "output_type": "display_data"
    }
   ],
   "source": [
    "importances = clf_6.feature_importances_\n",
    "std = np.std([clf_6.feature_importances_ for tree in clf_6.estimators_],\n",
    "             axis=0)\n",
    "indices = np.argsort(importances)[::-1]\n",
    "\n",
    "# Print the feature ranking\n",
    "print(\"Feature ranking:\")\n",
    "\n",
    "for f in range(X_new.shape[1]):\n",
    "    print(\"%d. feature %d %s (%f)\" % (f + 1, indices[f], arr[indices[f]], importances[indices[f]]))\n",
    "\n",
    "# Plot the feature importances of the forest\n",
    "plt.figure()\n",
    "plt.title(\"Feature importances\")\n",
    "plt.bar(range(X_new.shape[1]), importances[indices],\n",
    "       color=\"r\", yerr=std[indices], align=\"center\")\n",
    "plt.xticks(range(X_new.shape[1]), indices)\n",
    "plt.xlim([-1, X_new.shape[1]])\n",
    "plt.show()"
   ]
  },
  {
   "cell_type": "markdown",
   "metadata": {},
   "source": [
    "# Neural Netwworks"
   ]
  },
  {
   "cell_type": "code",
   "execution_count": null,
   "metadata": {},
   "outputs": [],
   "source": [
    "from sklearn.neural_network import MLPClassifier\n",
    "clf7 = MLPClassifier(solver='lbfgs', alpha=1e-5, hidden_layer_sizes=(150, ), random_state=1)\n",
    "clf7.fit(X_new, y_new)   "
   ]
  },
  {
   "cell_type": "code",
   "execution_count": null,
   "metadata": {},
   "outputs": [],
   "source": [
    "pred_y_7=clf.predict(test_balanced.iloc[:,:-1].values)"
   ]
  },
  {
   "cell_type": "code",
   "execution_count": null,
   "metadata": {},
   "outputs": [],
   "source": [
    "[coef.shape for coef in clf7.coefs_]"
   ]
  },
  {
   "cell_type": "code",
   "execution_count": null,
   "metadata": {},
   "outputs": [],
   "source": [
    "clf7.classes_"
   ]
  },
  {
   "cell_type": "code",
   "execution_count": null,
   "metadata": {},
   "outputs": [],
   "source": [
    "clf7.predict_proba(test_balanced.iloc[:,:-1].values)  "
   ]
  },
  {
   "cell_type": "code",
   "execution_count": null,
   "metadata": {},
   "outputs": [],
   "source": [
    "# How's our accuracy?\n",
    "print( accuracy_score(test_balanced.iloc[:,-1:].values, pred_y_7) )"
   ]
  },
  {
   "cell_type": "code",
   "execution_count": null,
   "metadata": {},
   "outputs": [],
   "source": [
    "# What about AUROC?\n",
    "prob_y_7 = clf7.predict_proba(test_balanced.iloc[:,:-1].values)\n",
    "prob_y_7 = [p[1] for p in prob_y_7]\n",
    "print( roc_auc_score(test_balanced.iloc[:,-1:].values, prob_y_7) )"
   ]
  },
  {
   "cell_type": "code",
   "execution_count": null,
   "metadata": {},
   "outputs": [],
   "source": [
    "skplt.metrics.plot_confusion_matrix(test_balanced.iloc[:,-1:].values, pred_y_7, normalize=True)\n",
    "plt.show()"
   ]
  },
  {
   "cell_type": "code",
   "execution_count": null,
   "metadata": {},
   "outputs": [],
   "source": [
    "skplt.metrics.plot_roc_curve(test_balanced.iloc[:,-1:].values, clf7.predict_proba(test_balanced.iloc[:,:-1].values))\n",
    "plt.show()"
   ]
  },
  {
   "cell_type": "markdown",
   "metadata": {},
   "source": [
    "# Run model on trip_metrics"
   ]
  },
  {
   "cell_type": "code",
   "execution_count": null,
   "metadata": {},
   "outputs": [],
   "source": [
    "metrics_data = pd.read_csv(\"trip_metrics.csv\", header=0)\n",
    "metrics_data = metrics_data.drop([\"trip_metrics.vintype\", \"trip_metrics.subtype\", \"start_day\"], axis=1)\n",
    "\n",
    "metrics_data.fillna(0, inplace=True)\n",
    "\n",
    "print(metrics_data.shape)\n",
    "\n",
    "metrics_data.head()\n"
   ]
  },
  {
   "cell_type": "code",
   "execution_count": null,
   "metadata": {},
   "outputs": [],
   "source": [
    "metrics_data = metrics_data.groupby(\"vin\", as_index=False).median()\n",
    "\n",
    "print(metrics_data.shape)\n",
    "\n",
    "metrics_data.head()"
   ]
  },
  {
   "cell_type": "code",
   "execution_count": null,
   "metadata": {},
   "outputs": [],
   "source": [
    "df_trip = pd.merge(metrics_data, claim_new, on='vin', how='inner')\n",
    "\n",
    "print(df_trip.shape)\n",
    "\n",
    "df_trip.head()"
   ]
  },
  {
   "cell_type": "code",
   "execution_count": null,
   "metadata": {},
   "outputs": [],
   "source": [
    "df_trip.to_csv(\"metrics_and_claims.csv\", header=True, index=False)\n",
    "\n",
    "df_trip = df.drop(\"vin\", axis=1)\n",
    "\n",
    "df_trip.columns"
   ]
  },
  {
   "cell_type": "code",
   "execution_count": null,
   "metadata": {},
   "outputs": [],
   "source": [
    "df_trip.count()"
   ]
  },
  {
   "cell_type": "code",
   "execution_count": null,
   "metadata": {},
   "outputs": [],
   "source": [
    "df_trip[df_trip['tot_accidents']>0].count()"
   ]
  },
  {
   "cell_type": "code",
   "execution_count": null,
   "metadata": {},
   "outputs": [],
   "source": [
    "from sklearn.model_selection import train_test_split\n",
    "train_trip,test_trip = train_test_split(df_trip, test_size=0.2)\n",
    "train_trip.count()"
   ]
  },
  {
   "cell_type": "code",
   "execution_count": null,
   "metadata": {},
   "outputs": [],
   "source": [
    "test_trip.count()"
   ]
  },
  {
   "cell_type": "code",
   "execution_count": null,
   "metadata": {},
   "outputs": [],
   "source": [
    "test_trip.iloc[0:2,-1:]"
   ]
  },
  {
   "cell_type": "markdown",
   "metadata": {},
   "source": []
  },
  {
   "cell_type": "code",
   "execution_count": null,
   "metadata": {},
   "outputs": [],
   "source": [
    "from sklearn import svm\n",
    "clf = svm.SVC(gamma='scale')\n",
    "clf.fit(train_trip.iloc[:,:-1].values, train_trip.iloc[:,-1:].values)"
   ]
  },
  {
   "cell_type": "code",
   "execution_count": null,
   "metadata": {},
   "outputs": [],
   "source": [
    "from sklearn.metrics import accuracy_score\n",
    "pred = clf.predict(test_trip.iloc[:,:-1].values)\n",
    "accuracy_score(test_trip.iloc[:,-1:].values, pred)"
   ]
  },
  {
   "cell_type": "code",
   "execution_count": null,
   "metadata": {},
   "outputs": [],
   "source": [
    "from sklearn.metrics import confusion_matrix\n",
    "confusion_matrix(test_trip.iloc[:,-1:].values, pred)"
   ]
  },
  {
   "cell_type": "code",
   "execution_count": null,
   "metadata": {},
   "outputs": [],
   "source": [
    "from sklearn.metrics import classification_report\n",
    "target_names = {'Normal', 'Accident'}\n",
    "print(classification_report(test_trip.iloc[:,-1:].values, pred, target_names = target_names))"
   ]
  },
  {
   "cell_type": "code",
   "execution_count": null,
   "metadata": {},
   "outputs": [],
   "source": []
  }
 ],
 "metadata": {
  "kernelspec": {
   "display_name": "Python 2",
   "language": "python",
   "name": "python2"
  },
  "language_info": {
   "codemirror_mode": {
    "name": "ipython",
    "version": 2
   },
   "file_extension": ".py",
   "mimetype": "text/x-python",
   "name": "python",
   "nbconvert_exporter": "python",
   "pygments_lexer": "ipython2",
   "version": "2.7.5"
  }
 },
 "nbformat": 4,
 "nbformat_minor": 2
}
