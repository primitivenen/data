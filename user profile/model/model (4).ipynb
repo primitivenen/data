{
 "cells": [
  {
   "cell_type": "code",
   "execution_count": 1,
   "metadata": {
    "collapsed": false,
    "deletable": true,
    "editable": true
   },
   "outputs": [
    {
     "name": "stdout",
     "output_type": "stream",
     "text": [
      "(1789, 12)\n"
     ]
    },
    {
     "data": {
      "text/html": [
       "<div>\n",
       "<style scoped>\n",
       "    .dataframe tbody tr th:only-of-type {\n",
       "        vertical-align: middle;\n",
       "    }\n",
       "\n",
       "    .dataframe tbody tr th {\n",
       "        vertical-align: top;\n",
       "    }\n",
       "\n",
       "    .dataframe thead th {\n",
       "        text-align: right;\n",
       "    }\n",
       "</style>\n",
       "<table border=\"1\" class=\"dataframe\">\n",
       "  <thead>\n",
       "    <tr style=\"text-align: right;\">\n",
       "      <th></th>\n",
       "      <th>vin</th>\n",
       "      <th>policy_no</th>\n",
       "      <th>start_date</th>\n",
       "      <th>end_date</th>\n",
       "      <th>premium</th>\n",
       "      <th>report_no</th>\n",
       "      <th>registration_no</th>\n",
       "      <th>claim_no</th>\n",
       "      <th>paid</th>\n",
       "      <th>report_date</th>\n",
       "      <th>registration_date</th>\n",
       "      <th>accident_date</th>\n",
       "    </tr>\n",
       "  </thead>\n",
       "  <tbody>\n",
       "    <tr>\n",
       "      <th>0</th>\n",
       "      <td>LMGMS1G86H1S00121</td>\n",
       "      <td>301031714401900011126</td>\n",
       "      <td>11/15/2017</td>\n",
       "      <td>2/14/2018</td>\n",
       "      <td>766.36</td>\n",
       "      <td>NaN</td>\n",
       "      <td>NaN</td>\n",
       "      <td>NaN</td>\n",
       "      <td>NaN</td>\n",
       "      <td>NaN</td>\n",
       "      <td>NaN</td>\n",
       "      <td>NaN</td>\n",
       "    </tr>\n",
       "    <tr>\n",
       "      <th>1</th>\n",
       "      <td>LMGMS1G89H1S00128</td>\n",
       "      <td>301031714401900011139</td>\n",
       "      <td>11/15/2017</td>\n",
       "      <td>3/14/2018</td>\n",
       "      <td>999.59</td>\n",
       "      <td>NaN</td>\n",
       "      <td>NaN</td>\n",
       "      <td>NaN</td>\n",
       "      <td>NaN</td>\n",
       "      <td>NaN</td>\n",
       "      <td>NaN</td>\n",
       "      <td>NaN</td>\n",
       "    </tr>\n",
       "    <tr>\n",
       "      <th>2</th>\n",
       "      <td>LMGMS1G89H1S00131</td>\n",
       "      <td>301031714401900011197</td>\n",
       "      <td>11/21/2017</td>\n",
       "      <td>2/20/2018</td>\n",
       "      <td>1700.53</td>\n",
       "      <td>NaN</td>\n",
       "      <td>NaN</td>\n",
       "      <td>NaN</td>\n",
       "      <td>NaN</td>\n",
       "      <td>NaN</td>\n",
       "      <td>NaN</td>\n",
       "      <td>NaN</td>\n",
       "    </tr>\n",
       "    <tr>\n",
       "      <th>3</th>\n",
       "      <td>LMGMS1G81H1S00138</td>\n",
       "      <td>301031714401900011277</td>\n",
       "      <td>12/4/2017</td>\n",
       "      <td>3/3/2018</td>\n",
       "      <td>1802.87</td>\n",
       "      <td>NaN</td>\n",
       "      <td>NaN</td>\n",
       "      <td>NaN</td>\n",
       "      <td>NaN</td>\n",
       "      <td>NaN</td>\n",
       "      <td>NaN</td>\n",
       "      <td>NaN</td>\n",
       "    </tr>\n",
       "    <tr>\n",
       "      <th>4</th>\n",
       "      <td>LMGMS1G80H1S00163</td>\n",
       "      <td>301031714401900011280</td>\n",
       "      <td>11/24/2017</td>\n",
       "      <td>12/24/2017</td>\n",
       "      <td>573.78</td>\n",
       "      <td>NaN</td>\n",
       "      <td>NaN</td>\n",
       "      <td>NaN</td>\n",
       "      <td>NaN</td>\n",
       "      <td>NaN</td>\n",
       "      <td>NaN</td>\n",
       "      <td>NaN</td>\n",
       "    </tr>\n",
       "  </tbody>\n",
       "</table>\n",
       "</div>"
      ],
      "text/plain": [
       "                 vin              policy_no  start_date    end_date  premium  \\\n",
       "0  LMGMS1G86H1S00121  301031714401900011126  11/15/2017   2/14/2018   766.36   \n",
       "1  LMGMS1G89H1S00128  301031714401900011139  11/15/2017   3/14/2018   999.59   \n",
       "2  LMGMS1G89H1S00131  301031714401900011197  11/21/2017   2/20/2018  1700.53   \n",
       "3  LMGMS1G81H1S00138  301031714401900011277   12/4/2017    3/3/2018  1802.87   \n",
       "4  LMGMS1G80H1S00163  301031714401900011280  11/24/2017  12/24/2017   573.78   \n",
       "\n",
       "  report_no registration_no claim_no  paid report_date registration_date  \\\n",
       "0       NaN             NaN      NaN   NaN         NaN               NaN   \n",
       "1       NaN             NaN      NaN   NaN         NaN               NaN   \n",
       "2       NaN             NaN      NaN   NaN         NaN               NaN   \n",
       "3       NaN             NaN      NaN   NaN         NaN               NaN   \n",
       "4       NaN             NaN      NaN   NaN         NaN               NaN   \n",
       "\n",
       "  accident_date  \n",
       "0           NaN  \n",
       "1           NaN  \n",
       "2           NaN  \n",
       "3           NaN  \n",
       "4           NaN  "
      ]
     },
     "execution_count": 1,
     "metadata": {},
     "output_type": "execute_result"
    }
   ],
   "source": [
    "import pandas as pd\n",
    "import scikitplot as skplt\n",
    "import matplotlib.pyplot as plt\n",
    "\n",
    "claim_data = pd.read_csv(\"claim_data.csv\", header=0)\n",
    "\n",
    "print(claim_data.shape)\n",
    "\n",
    "claim_data.head()"
   ]
  },
  {
   "cell_type": "code",
   "execution_count": 2,
   "metadata": {
    "collapsed": false,
    "deletable": true,
    "editable": true
   },
   "outputs": [
    {
     "name": "stdout",
     "output_type": "stream",
     "text": [
      "(1789, 2)\n"
     ]
    },
    {
     "data": {
      "text/html": [
       "<div>\n",
       "<style scoped>\n",
       "    .dataframe tbody tr th:only-of-type {\n",
       "        vertical-align: middle;\n",
       "    }\n",
       "\n",
       "    .dataframe tbody tr th {\n",
       "        vertical-align: top;\n",
       "    }\n",
       "\n",
       "    .dataframe thead th {\n",
       "        text-align: right;\n",
       "    }\n",
       "</style>\n",
       "<table border=\"1\" class=\"dataframe\">\n",
       "  <thead>\n",
       "    <tr style=\"text-align: right;\">\n",
       "      <th></th>\n",
       "      <th>vin</th>\n",
       "      <th>accident_date</th>\n",
       "    </tr>\n",
       "  </thead>\n",
       "  <tbody>\n",
       "    <tr>\n",
       "      <th>0</th>\n",
       "      <td>LMGMS1G86H1S00121</td>\n",
       "      <td>NaN</td>\n",
       "    </tr>\n",
       "    <tr>\n",
       "      <th>1</th>\n",
       "      <td>LMGMS1G89H1S00128</td>\n",
       "      <td>NaN</td>\n",
       "    </tr>\n",
       "    <tr>\n",
       "      <th>2</th>\n",
       "      <td>LMGMS1G89H1S00131</td>\n",
       "      <td>NaN</td>\n",
       "    </tr>\n",
       "    <tr>\n",
       "      <th>3</th>\n",
       "      <td>LMGMS1G81H1S00138</td>\n",
       "      <td>NaN</td>\n",
       "    </tr>\n",
       "    <tr>\n",
       "      <th>4</th>\n",
       "      <td>LMGMS1G80H1S00163</td>\n",
       "      <td>NaN</td>\n",
       "    </tr>\n",
       "  </tbody>\n",
       "</table>\n",
       "</div>"
      ],
      "text/plain": [
       "                 vin accident_date\n",
       "0  LMGMS1G86H1S00121           NaN\n",
       "1  LMGMS1G89H1S00128           NaN\n",
       "2  LMGMS1G89H1S00131           NaN\n",
       "3  LMGMS1G81H1S00138           NaN\n",
       "4  LMGMS1G80H1S00163           NaN"
      ]
     },
     "execution_count": 2,
     "metadata": {},
     "output_type": "execute_result"
    }
   ],
   "source": [
    "claim_data = claim_data[[\"vin\", \"accident_date\"]]\n",
    "\n",
    "print(claim_data.shape)\n",
    "\n",
    "claim_data.head()"
   ]
  },
  {
   "cell_type": "code",
   "execution_count": 3,
   "metadata": {
    "collapsed": false,
    "deletable": true,
    "editable": true
   },
   "outputs": [
    {
     "name": "stdout",
     "output_type": "stream",
     "text": [
      "(1581, 2)\n"
     ]
    },
    {
     "data": {
      "text/html": [
       "<div>\n",
       "<style scoped>\n",
       "    .dataframe tbody tr th:only-of-type {\n",
       "        vertical-align: middle;\n",
       "    }\n",
       "\n",
       "    .dataframe tbody tr th {\n",
       "        vertical-align: top;\n",
       "    }\n",
       "\n",
       "    .dataframe thead th {\n",
       "        text-align: right;\n",
       "    }\n",
       "</style>\n",
       "<table border=\"1\" class=\"dataframe\">\n",
       "  <thead>\n",
       "    <tr style=\"text-align: right;\">\n",
       "      <th></th>\n",
       "      <th>vin</th>\n",
       "      <th>accident_date</th>\n",
       "    </tr>\n",
       "  </thead>\n",
       "  <tbody>\n",
       "    <tr>\n",
       "      <th>0</th>\n",
       "      <td>LMGMS1G80H1000349</td>\n",
       "      <td>0</td>\n",
       "    </tr>\n",
       "    <tr>\n",
       "      <th>1</th>\n",
       "      <td>LMGMS1G80H1000366</td>\n",
       "      <td>1</td>\n",
       "    </tr>\n",
       "    <tr>\n",
       "      <th>2</th>\n",
       "      <td>LMGMS1G80H1S00163</td>\n",
       "      <td>0</td>\n",
       "    </tr>\n",
       "    <tr>\n",
       "      <th>3</th>\n",
       "      <td>LMGMS1G80H1S00177</td>\n",
       "      <td>0</td>\n",
       "    </tr>\n",
       "    <tr>\n",
       "      <th>4</th>\n",
       "      <td>LMGMS1G80H1S00227</td>\n",
       "      <td>0</td>\n",
       "    </tr>\n",
       "  </tbody>\n",
       "</table>\n",
       "</div>"
      ],
      "text/plain": [
       "                 vin  accident_date\n",
       "0  LMGMS1G80H1000349              0\n",
       "1  LMGMS1G80H1000366              1\n",
       "2  LMGMS1G80H1S00163              0\n",
       "3  LMGMS1G80H1S00177              0\n",
       "4  LMGMS1G80H1S00227              0"
      ]
     },
     "execution_count": 3,
     "metadata": {},
     "output_type": "execute_result"
    }
   ],
   "source": [
    "claim_data = claim_data.groupby(\"vin\", as_index=False).count()\n",
    "\n",
    "print(claim_data.shape)\n",
    "\n",
    "claim_data.head()"
   ]
  },
  {
   "cell_type": "code",
   "execution_count": 4,
   "metadata": {
    "collapsed": false,
    "deletable": true,
    "editable": true
   },
   "outputs": [
    {
     "name": "stdout",
     "output_type": "stream",
     "text": [
      "(1581, 2)\n"
     ]
    },
    {
     "data": {
      "text/html": [
       "<div>\n",
       "<style scoped>\n",
       "    .dataframe tbody tr th:only-of-type {\n",
       "        vertical-align: middle;\n",
       "    }\n",
       "\n",
       "    .dataframe tbody tr th {\n",
       "        vertical-align: top;\n",
       "    }\n",
       "\n",
       "    .dataframe thead th {\n",
       "        text-align: right;\n",
       "    }\n",
       "</style>\n",
       "<table border=\"1\" class=\"dataframe\">\n",
       "  <thead>\n",
       "    <tr style=\"text-align: right;\">\n",
       "      <th></th>\n",
       "      <th>vin</th>\n",
       "      <th>accident_date</th>\n",
       "    </tr>\n",
       "  </thead>\n",
       "  <tbody>\n",
       "    <tr>\n",
       "      <th>0</th>\n",
       "      <td>LMGMS1G80H1000349</td>\n",
       "      <td>0</td>\n",
       "    </tr>\n",
       "    <tr>\n",
       "      <th>1</th>\n",
       "      <td>LMGMS1G80H1000366</td>\n",
       "      <td>1</td>\n",
       "    </tr>\n",
       "    <tr>\n",
       "      <th>2</th>\n",
       "      <td>LMGMS1G80H1S00163</td>\n",
       "      <td>0</td>\n",
       "    </tr>\n",
       "    <tr>\n",
       "      <th>3</th>\n",
       "      <td>LMGMS1G80H1S00177</td>\n",
       "      <td>0</td>\n",
       "    </tr>\n",
       "    <tr>\n",
       "      <th>4</th>\n",
       "      <td>LMGMS1G80H1S00227</td>\n",
       "      <td>0</td>\n",
       "    </tr>\n",
       "  </tbody>\n",
       "</table>\n",
       "</div>"
      ],
      "text/plain": [
       "                 vin  accident_date\n",
       "0  LMGMS1G80H1000349              0\n",
       "1  LMGMS1G80H1000366              1\n",
       "2  LMGMS1G80H1S00163              0\n",
       "3  LMGMS1G80H1S00177              0\n",
       "4  LMGMS1G80H1S00227              0"
      ]
     },
     "execution_count": 4,
     "metadata": {},
     "output_type": "execute_result"
    }
   ],
   "source": [
    "claim_new = claim_data.rename(columns={'accident_date': 'tot_accidents'})\n",
    "claim_new['tot_accidents'] = claim_new['tot_accidents'].apply(lambda x: x if x <= 0 else 1)\n",
    "\n",
    "print(claim_data.shape)\n",
    "\n",
    "claim_data.head()"
   ]
  },
  {
   "cell_type": "markdown",
   "metadata": {
    "deletable": true,
    "editable": true
   },
   "source": [
    "# Run model on ubi_stats"
   ]
  },
  {
   "cell_type": "code",
   "execution_count": 5,
   "metadata": {
    "collapsed": false,
    "deletable": true,
    "editable": true
   },
   "outputs": [
    {
     "data": {
      "text/html": [
       "<div>\n",
       "<style scoped>\n",
       "    .dataframe tbody tr th:only-of-type {\n",
       "        vertical-align: middle;\n",
       "    }\n",
       "\n",
       "    .dataframe tbody tr th {\n",
       "        vertical-align: top;\n",
       "    }\n",
       "\n",
       "    .dataframe thead th {\n",
       "        text-align: right;\n",
       "    }\n",
       "</style>\n",
       "<table border=\"1\" class=\"dataframe\">\n",
       "  <thead>\n",
       "    <tr style=\"text-align: right;\">\n",
       "      <th></th>\n",
       "      <th>ubi_stats.vin</th>\n",
       "      <th>ubi_stats.acce_count</th>\n",
       "      <th>ubi_stats.agg_break_count</th>\n",
       "      <th>ubi_stats.agg_takeoff_count</th>\n",
       "      <th>ubi_stats.decel_count</th>\n",
       "      <th>ubi_stats.distance_driven</th>\n",
       "      <th>ubi_stats.driving_hours</th>\n",
       "      <th>ubi_stats.fuel_consumption</th>\n",
       "      <th>ubi_stats.high_speed_percentage</th>\n",
       "      <th>ubi_stats.mean_acce</th>\n",
       "      <th>...</th>\n",
       "      <th>ubi_stats.entropy</th>\n",
       "      <th>ubi_stats.entropy_last_month</th>\n",
       "      <th>ubi_stats.long_distance_count</th>\n",
       "      <th>ubi_stats.night_driving_hours</th>\n",
       "      <th>ubi_stats.percent_am_peak</th>\n",
       "      <th>ubi_stats.percent_long_distance</th>\n",
       "      <th>ubi_stats.percent_night_driving</th>\n",
       "      <th>ubi_stats.percent_pm_peak</th>\n",
       "      <th>ubi_stats.pm_peak_hours</th>\n",
       "      <th>ubi_stats.day</th>\n",
       "    </tr>\n",
       "  </thead>\n",
       "  <tbody>\n",
       "    <tr>\n",
       "      <th>0</th>\n",
       "      <td>LMGMS1G86H1S00099</td>\n",
       "      <td>0.0</td>\n",
       "      <td>0.0</td>\n",
       "      <td>0.0</td>\n",
       "      <td>0.0</td>\n",
       "      <td>1.0</td>\n",
       "      <td>14.636111</td>\n",
       "      <td>0.000194</td>\n",
       "      <td>0.0</td>\n",
       "      <td>0.071335</td>\n",
       "      <td>...</td>\n",
       "      <td>0.943891</td>\n",
       "      <td>0.594390</td>\n",
       "      <td>0.0</td>\n",
       "      <td>0.0</td>\n",
       "      <td>0.263158</td>\n",
       "      <td>0.0</td>\n",
       "      <td>0.0</td>\n",
       "      <td>0.0</td>\n",
       "      <td>0.0</td>\n",
       "      <td>2017-09-26</td>\n",
       "    </tr>\n",
       "    <tr>\n",
       "      <th>1</th>\n",
       "      <td>LMGMS1G86H1S00099</td>\n",
       "      <td>0.0</td>\n",
       "      <td>0.0</td>\n",
       "      <td>0.0</td>\n",
       "      <td>0.0</td>\n",
       "      <td>0.0</td>\n",
       "      <td>6.831389</td>\n",
       "      <td>0.000000</td>\n",
       "      <td>0.0</td>\n",
       "      <td>0.066062</td>\n",
       "      <td>...</td>\n",
       "      <td>0.943891</td>\n",
       "      <td>0.489892</td>\n",
       "      <td>0.0</td>\n",
       "      <td>0.0</td>\n",
       "      <td>0.237658</td>\n",
       "      <td>0.0</td>\n",
       "      <td>0.0</td>\n",
       "      <td>0.0</td>\n",
       "      <td>0.0</td>\n",
       "      <td>2017-09-27</td>\n",
       "    </tr>\n",
       "    <tr>\n",
       "      <th>2</th>\n",
       "      <td>LMGMS1G86H1S00099</td>\n",
       "      <td>0.0</td>\n",
       "      <td>0.0</td>\n",
       "      <td>0.0</td>\n",
       "      <td>0.0</td>\n",
       "      <td>1.0</td>\n",
       "      <td>7.389444</td>\n",
       "      <td>0.000015</td>\n",
       "      <td>0.0</td>\n",
       "      <td>0.085359</td>\n",
       "      <td>...</td>\n",
       "      <td>0.943891</td>\n",
       "      <td>0.587585</td>\n",
       "      <td>0.0</td>\n",
       "      <td>0.0</td>\n",
       "      <td>0.229529</td>\n",
       "      <td>0.0</td>\n",
       "      <td>0.0</td>\n",
       "      <td>0.0</td>\n",
       "      <td>0.0</td>\n",
       "      <td>2017-09-28</td>\n",
       "    </tr>\n",
       "    <tr>\n",
       "      <th>3</th>\n",
       "      <td>LMGMS1G86H1S00099</td>\n",
       "      <td>0.0</td>\n",
       "      <td>0.0</td>\n",
       "      <td>0.0</td>\n",
       "      <td>0.0</td>\n",
       "      <td>0.0</td>\n",
       "      <td>5.529444</td>\n",
       "      <td>0.000000</td>\n",
       "      <td>0.0</td>\n",
       "      <td>0.081631</td>\n",
       "      <td>...</td>\n",
       "      <td>0.943891</td>\n",
       "      <td>0.528321</td>\n",
       "      <td>0.0</td>\n",
       "      <td>0.0</td>\n",
       "      <td>0.212777</td>\n",
       "      <td>0.0</td>\n",
       "      <td>0.0</td>\n",
       "      <td>0.0</td>\n",
       "      <td>0.0</td>\n",
       "      <td>2017-09-29</td>\n",
       "    </tr>\n",
       "    <tr>\n",
       "      <th>4</th>\n",
       "      <td>LMGMS1G89H1S00100</td>\n",
       "      <td>2.0</td>\n",
       "      <td>0.0</td>\n",
       "      <td>0.0</td>\n",
       "      <td>0.0</td>\n",
       "      <td>10.0</td>\n",
       "      <td>5.642500</td>\n",
       "      <td>0.028613</td>\n",
       "      <td>0.0</td>\n",
       "      <td>0.151694</td>\n",
       "      <td>...</td>\n",
       "      <td>8.304969</td>\n",
       "      <td>0.314494</td>\n",
       "      <td>0.0</td>\n",
       "      <td>0.0</td>\n",
       "      <td>0.408519</td>\n",
       "      <td>0.0</td>\n",
       "      <td>0.0</td>\n",
       "      <td>0.0</td>\n",
       "      <td>0.0</td>\n",
       "      <td>2017-09-30</td>\n",
       "    </tr>\n",
       "  </tbody>\n",
       "</table>\n",
       "<p>5 rows × 35 columns</p>\n",
       "</div>"
      ],
      "text/plain": [
       "       ubi_stats.vin  ubi_stats.acce_count  ubi_stats.agg_break_count  \\\n",
       "0  LMGMS1G86H1S00099                   0.0                        0.0   \n",
       "1  LMGMS1G86H1S00099                   0.0                        0.0   \n",
       "2  LMGMS1G86H1S00099                   0.0                        0.0   \n",
       "3  LMGMS1G86H1S00099                   0.0                        0.0   \n",
       "4  LMGMS1G89H1S00100                   2.0                        0.0   \n",
       "\n",
       "   ubi_stats.agg_takeoff_count  ubi_stats.decel_count  \\\n",
       "0                          0.0                    0.0   \n",
       "1                          0.0                    0.0   \n",
       "2                          0.0                    0.0   \n",
       "3                          0.0                    0.0   \n",
       "4                          0.0                    0.0   \n",
       "\n",
       "   ubi_stats.distance_driven  ubi_stats.driving_hours  \\\n",
       "0                        1.0                14.636111   \n",
       "1                        0.0                 6.831389   \n",
       "2                        1.0                 7.389444   \n",
       "3                        0.0                 5.529444   \n",
       "4                       10.0                 5.642500   \n",
       "\n",
       "   ubi_stats.fuel_consumption  ubi_stats.high_speed_percentage  \\\n",
       "0                    0.000194                              0.0   \n",
       "1                    0.000000                              0.0   \n",
       "2                    0.000015                              0.0   \n",
       "3                    0.000000                              0.0   \n",
       "4                    0.028613                              0.0   \n",
       "\n",
       "   ubi_stats.mean_acce      ...        ubi_stats.entropy  \\\n",
       "0             0.071335      ...                 0.943891   \n",
       "1             0.066062      ...                 0.943891   \n",
       "2             0.085359      ...                 0.943891   \n",
       "3             0.081631      ...                 0.943891   \n",
       "4             0.151694      ...                 8.304969   \n",
       "\n",
       "   ubi_stats.entropy_last_month  ubi_stats.long_distance_count  \\\n",
       "0                      0.594390                            0.0   \n",
       "1                      0.489892                            0.0   \n",
       "2                      0.587585                            0.0   \n",
       "3                      0.528321                            0.0   \n",
       "4                      0.314494                            0.0   \n",
       "\n",
       "   ubi_stats.night_driving_hours  ubi_stats.percent_am_peak  \\\n",
       "0                            0.0                   0.263158   \n",
       "1                            0.0                   0.237658   \n",
       "2                            0.0                   0.229529   \n",
       "3                            0.0                   0.212777   \n",
       "4                            0.0                   0.408519   \n",
       "\n",
       "   ubi_stats.percent_long_distance  ubi_stats.percent_night_driving  \\\n",
       "0                              0.0                              0.0   \n",
       "1                              0.0                              0.0   \n",
       "2                              0.0                              0.0   \n",
       "3                              0.0                              0.0   \n",
       "4                              0.0                              0.0   \n",
       "\n",
       "   ubi_stats.percent_pm_peak  ubi_stats.pm_peak_hours  ubi_stats.day  \n",
       "0                        0.0                      0.0     2017-09-26  \n",
       "1                        0.0                      0.0     2017-09-27  \n",
       "2                        0.0                      0.0     2017-09-28  \n",
       "3                        0.0                      0.0     2017-09-29  \n",
       "4                        0.0                      0.0     2017-09-30  \n",
       "\n",
       "[5 rows x 35 columns]"
      ]
     },
     "execution_count": 5,
     "metadata": {},
     "output_type": "execute_result"
    }
   ],
   "source": [
    "all_metrics_data = pd.read_csv(\"ubi_stat.csv\",sep='\\t',header=0)\n",
    "all_metrics_data.head()"
   ]
  },
  {
   "cell_type": "code",
   "execution_count": 6,
   "metadata": {
    "collapsed": false,
    "deletable": true,
    "editable": true
   },
   "outputs": [
    {
     "name": "stdout",
     "output_type": "stream",
     "text": [
      "(3047869, 34)\n"
     ]
    },
    {
     "data": {
      "text/html": [
       "<div>\n",
       "<style scoped>\n",
       "    .dataframe tbody tr th:only-of-type {\n",
       "        vertical-align: middle;\n",
       "    }\n",
       "\n",
       "    .dataframe tbody tr th {\n",
       "        vertical-align: top;\n",
       "    }\n",
       "\n",
       "    .dataframe thead th {\n",
       "        text-align: right;\n",
       "    }\n",
       "</style>\n",
       "<table border=\"1\" class=\"dataframe\">\n",
       "  <thead>\n",
       "    <tr style=\"text-align: right;\">\n",
       "      <th></th>\n",
       "      <th>ubi_stats.vin</th>\n",
       "      <th>ubi_stats.acce_count</th>\n",
       "      <th>ubi_stats.agg_break_count</th>\n",
       "      <th>ubi_stats.agg_takeoff_count</th>\n",
       "      <th>ubi_stats.decel_count</th>\n",
       "      <th>ubi_stats.distance_driven</th>\n",
       "      <th>ubi_stats.driving_hours</th>\n",
       "      <th>ubi_stats.fuel_consumption</th>\n",
       "      <th>ubi_stats.high_speed_percentage</th>\n",
       "      <th>ubi_stats.mean_acce</th>\n",
       "      <th>...</th>\n",
       "      <th>ubi_stats.am_peak_hours</th>\n",
       "      <th>ubi_stats.entropy</th>\n",
       "      <th>ubi_stats.entropy_last_month</th>\n",
       "      <th>ubi_stats.long_distance_count</th>\n",
       "      <th>ubi_stats.night_driving_hours</th>\n",
       "      <th>ubi_stats.percent_am_peak</th>\n",
       "      <th>ubi_stats.percent_long_distance</th>\n",
       "      <th>ubi_stats.percent_night_driving</th>\n",
       "      <th>ubi_stats.percent_pm_peak</th>\n",
       "      <th>ubi_stats.pm_peak_hours</th>\n",
       "    </tr>\n",
       "  </thead>\n",
       "  <tbody>\n",
       "    <tr>\n",
       "      <th>0</th>\n",
       "      <td>LMGMS1G86H1S00099</td>\n",
       "      <td>0.0</td>\n",
       "      <td>0.0</td>\n",
       "      <td>0.0</td>\n",
       "      <td>0.0</td>\n",
       "      <td>1.0</td>\n",
       "      <td>14.636111</td>\n",
       "      <td>0.000194</td>\n",
       "      <td>0.0</td>\n",
       "      <td>0.071335</td>\n",
       "      <td>...</td>\n",
       "      <td>0.906944</td>\n",
       "      <td>0.943891</td>\n",
       "      <td>0.594390</td>\n",
       "      <td>0.0</td>\n",
       "      <td>0.0</td>\n",
       "      <td>0.263158</td>\n",
       "      <td>0.0</td>\n",
       "      <td>0.0</td>\n",
       "      <td>0.0</td>\n",
       "      <td>0.0</td>\n",
       "    </tr>\n",
       "    <tr>\n",
       "      <th>1</th>\n",
       "      <td>LMGMS1G86H1S00099</td>\n",
       "      <td>0.0</td>\n",
       "      <td>0.0</td>\n",
       "      <td>0.0</td>\n",
       "      <td>0.0</td>\n",
       "      <td>0.0</td>\n",
       "      <td>6.831389</td>\n",
       "      <td>0.000000</td>\n",
       "      <td>0.0</td>\n",
       "      <td>0.066062</td>\n",
       "      <td>...</td>\n",
       "      <td>2.178333</td>\n",
       "      <td>0.943891</td>\n",
       "      <td>0.489892</td>\n",
       "      <td>0.0</td>\n",
       "      <td>0.0</td>\n",
       "      <td>0.237658</td>\n",
       "      <td>0.0</td>\n",
       "      <td>0.0</td>\n",
       "      <td>0.0</td>\n",
       "      <td>0.0</td>\n",
       "    </tr>\n",
       "    <tr>\n",
       "      <th>2</th>\n",
       "      <td>LMGMS1G86H1S00099</td>\n",
       "      <td>0.0</td>\n",
       "      <td>0.0</td>\n",
       "      <td>0.0</td>\n",
       "      <td>0.0</td>\n",
       "      <td>1.0</td>\n",
       "      <td>7.389444</td>\n",
       "      <td>0.000015</td>\n",
       "      <td>0.0</td>\n",
       "      <td>0.085359</td>\n",
       "      <td>...</td>\n",
       "      <td>3.551389</td>\n",
       "      <td>0.943891</td>\n",
       "      <td>0.587585</td>\n",
       "      <td>0.0</td>\n",
       "      <td>0.0</td>\n",
       "      <td>0.229529</td>\n",
       "      <td>0.0</td>\n",
       "      <td>0.0</td>\n",
       "      <td>0.0</td>\n",
       "      <td>0.0</td>\n",
       "    </tr>\n",
       "    <tr>\n",
       "      <th>3</th>\n",
       "      <td>LMGMS1G86H1S00099</td>\n",
       "      <td>0.0</td>\n",
       "      <td>0.0</td>\n",
       "      <td>0.0</td>\n",
       "      <td>0.0</td>\n",
       "      <td>0.0</td>\n",
       "      <td>5.529444</td>\n",
       "      <td>0.000000</td>\n",
       "      <td>0.0</td>\n",
       "      <td>0.081631</td>\n",
       "      <td>...</td>\n",
       "      <td>4.835000</td>\n",
       "      <td>0.943891</td>\n",
       "      <td>0.528321</td>\n",
       "      <td>0.0</td>\n",
       "      <td>0.0</td>\n",
       "      <td>0.212777</td>\n",
       "      <td>0.0</td>\n",
       "      <td>0.0</td>\n",
       "      <td>0.0</td>\n",
       "      <td>0.0</td>\n",
       "    </tr>\n",
       "    <tr>\n",
       "      <th>4</th>\n",
       "      <td>LMGMS1G89H1S00100</td>\n",
       "      <td>2.0</td>\n",
       "      <td>0.0</td>\n",
       "      <td>0.0</td>\n",
       "      <td>0.0</td>\n",
       "      <td>10.0</td>\n",
       "      <td>5.642500</td>\n",
       "      <td>0.028613</td>\n",
       "      <td>0.0</td>\n",
       "      <td>0.151694</td>\n",
       "      <td>...</td>\n",
       "      <td>1.955556</td>\n",
       "      <td>8.304969</td>\n",
       "      <td>0.314494</td>\n",
       "      <td>0.0</td>\n",
       "      <td>0.0</td>\n",
       "      <td>0.408519</td>\n",
       "      <td>0.0</td>\n",
       "      <td>0.0</td>\n",
       "      <td>0.0</td>\n",
       "      <td>0.0</td>\n",
       "    </tr>\n",
       "  </tbody>\n",
       "</table>\n",
       "<p>5 rows × 34 columns</p>\n",
       "</div>"
      ],
      "text/plain": [
       "       ubi_stats.vin  ubi_stats.acce_count  ubi_stats.agg_break_count  \\\n",
       "0  LMGMS1G86H1S00099                   0.0                        0.0   \n",
       "1  LMGMS1G86H1S00099                   0.0                        0.0   \n",
       "2  LMGMS1G86H1S00099                   0.0                        0.0   \n",
       "3  LMGMS1G86H1S00099                   0.0                        0.0   \n",
       "4  LMGMS1G89H1S00100                   2.0                        0.0   \n",
       "\n",
       "   ubi_stats.agg_takeoff_count  ubi_stats.decel_count  \\\n",
       "0                          0.0                    0.0   \n",
       "1                          0.0                    0.0   \n",
       "2                          0.0                    0.0   \n",
       "3                          0.0                    0.0   \n",
       "4                          0.0                    0.0   \n",
       "\n",
       "   ubi_stats.distance_driven  ubi_stats.driving_hours  \\\n",
       "0                        1.0                14.636111   \n",
       "1                        0.0                 6.831389   \n",
       "2                        1.0                 7.389444   \n",
       "3                        0.0                 5.529444   \n",
       "4                       10.0                 5.642500   \n",
       "\n",
       "   ubi_stats.fuel_consumption  ubi_stats.high_speed_percentage  \\\n",
       "0                    0.000194                              0.0   \n",
       "1                    0.000000                              0.0   \n",
       "2                    0.000015                              0.0   \n",
       "3                    0.000000                              0.0   \n",
       "4                    0.028613                              0.0   \n",
       "\n",
       "   ubi_stats.mean_acce           ...             ubi_stats.am_peak_hours  \\\n",
       "0             0.071335           ...                            0.906944   \n",
       "1             0.066062           ...                            2.178333   \n",
       "2             0.085359           ...                            3.551389   \n",
       "3             0.081631           ...                            4.835000   \n",
       "4             0.151694           ...                            1.955556   \n",
       "\n",
       "   ubi_stats.entropy  ubi_stats.entropy_last_month  \\\n",
       "0           0.943891                      0.594390   \n",
       "1           0.943891                      0.489892   \n",
       "2           0.943891                      0.587585   \n",
       "3           0.943891                      0.528321   \n",
       "4           8.304969                      0.314494   \n",
       "\n",
       "   ubi_stats.long_distance_count  ubi_stats.night_driving_hours  \\\n",
       "0                            0.0                            0.0   \n",
       "1                            0.0                            0.0   \n",
       "2                            0.0                            0.0   \n",
       "3                            0.0                            0.0   \n",
       "4                            0.0                            0.0   \n",
       "\n",
       "   ubi_stats.percent_am_peak  ubi_stats.percent_long_distance  \\\n",
       "0                   0.263158                              0.0   \n",
       "1                   0.237658                              0.0   \n",
       "2                   0.229529                              0.0   \n",
       "3                   0.212777                              0.0   \n",
       "4                   0.408519                              0.0   \n",
       "\n",
       "   ubi_stats.percent_night_driving  ubi_stats.percent_pm_peak  \\\n",
       "0                              0.0                        0.0   \n",
       "1                              0.0                        0.0   \n",
       "2                              0.0                        0.0   \n",
       "3                              0.0                        0.0   \n",
       "4                              0.0                        0.0   \n",
       "\n",
       "   ubi_stats.pm_peak_hours  \n",
       "0                      0.0  \n",
       "1                      0.0  \n",
       "2                      0.0  \n",
       "3                      0.0  \n",
       "4                      0.0  \n",
       "\n",
       "[5 rows x 34 columns]"
      ]
     },
     "execution_count": 6,
     "metadata": {},
     "output_type": "execute_result"
    }
   ],
   "source": [
    "all_metrics_data = all_metrics_data.drop([\"ubi_stats.day\"], axis=1)\n",
    "all_metrics_data.fillna(0, inplace=True)\n",
    "print(all_metrics_data.shape)\n",
    "all_metrics_data.head()"
   ]
  },
  {
   "cell_type": "code",
   "execution_count": 7,
   "metadata": {
    "collapsed": false,
    "deletable": true,
    "editable": true
   },
   "outputs": [
    {
     "name": "stdout",
     "output_type": "stream",
     "text": [
      "(27062, 34)\n"
     ]
    },
    {
     "data": {
      "text/html": [
       "<div>\n",
       "<style scoped>\n",
       "    .dataframe tbody tr th:only-of-type {\n",
       "        vertical-align: middle;\n",
       "    }\n",
       "\n",
       "    .dataframe tbody tr th {\n",
       "        vertical-align: top;\n",
       "    }\n",
       "\n",
       "    .dataframe thead th {\n",
       "        text-align: right;\n",
       "    }\n",
       "</style>\n",
       "<table border=\"1\" class=\"dataframe\">\n",
       "  <thead>\n",
       "    <tr style=\"text-align: right;\">\n",
       "      <th></th>\n",
       "      <th>ubi_stats.vin</th>\n",
       "      <th>ubi_stats.acce_count</th>\n",
       "      <th>ubi_stats.agg_break_count</th>\n",
       "      <th>ubi_stats.agg_takeoff_count</th>\n",
       "      <th>ubi_stats.decel_count</th>\n",
       "      <th>ubi_stats.distance_driven</th>\n",
       "      <th>ubi_stats.driving_hours</th>\n",
       "      <th>ubi_stats.fuel_consumption</th>\n",
       "      <th>ubi_stats.high_speed_percentage</th>\n",
       "      <th>ubi_stats.mean_acce</th>\n",
       "      <th>...</th>\n",
       "      <th>ubi_stats.am_peak_hours</th>\n",
       "      <th>ubi_stats.entropy</th>\n",
       "      <th>ubi_stats.entropy_last_month</th>\n",
       "      <th>ubi_stats.long_distance_count</th>\n",
       "      <th>ubi_stats.night_driving_hours</th>\n",
       "      <th>ubi_stats.percent_am_peak</th>\n",
       "      <th>ubi_stats.percent_long_distance</th>\n",
       "      <th>ubi_stats.percent_night_driving</th>\n",
       "      <th>ubi_stats.percent_pm_peak</th>\n",
       "      <th>ubi_stats.pm_peak_hours</th>\n",
       "    </tr>\n",
       "  </thead>\n",
       "  <tbody>\n",
       "    <tr>\n",
       "      <th>0</th>\n",
       "      <td>600VG3071H710001C</td>\n",
       "      <td>0.0</td>\n",
       "      <td>0.0</td>\n",
       "      <td>0.0</td>\n",
       "      <td>0.0</td>\n",
       "      <td>2.0</td>\n",
       "      <td>2.210694</td>\n",
       "      <td>0.000309</td>\n",
       "      <td>0.0</td>\n",
       "      <td>0.102446</td>\n",
       "      <td>...</td>\n",
       "      <td>2.333889</td>\n",
       "      <td>3.392147</td>\n",
       "      <td>0.463325</td>\n",
       "      <td>0.0</td>\n",
       "      <td>0.00</td>\n",
       "      <td>0.293058</td>\n",
       "      <td>0.000000</td>\n",
       "      <td>0.000000</td>\n",
       "      <td>0.000000</td>\n",
       "      <td>0.000000</td>\n",
       "    </tr>\n",
       "    <tr>\n",
       "      <th>1</th>\n",
       "      <td>845VG3071H5261289</td>\n",
       "      <td>0.0</td>\n",
       "      <td>0.0</td>\n",
       "      <td>0.0</td>\n",
       "      <td>0.0</td>\n",
       "      <td>1.0</td>\n",
       "      <td>1.898194</td>\n",
       "      <td>0.000103</td>\n",
       "      <td>0.0</td>\n",
       "      <td>0.132566</td>\n",
       "      <td>...</td>\n",
       "      <td>2.280000</td>\n",
       "      <td>3.100351</td>\n",
       "      <td>0.469000</td>\n",
       "      <td>0.0</td>\n",
       "      <td>0.00</td>\n",
       "      <td>0.198324</td>\n",
       "      <td>0.000000</td>\n",
       "      <td>0.000000</td>\n",
       "      <td>0.000000</td>\n",
       "      <td>0.000000</td>\n",
       "    </tr>\n",
       "    <tr>\n",
       "      <th>2</th>\n",
       "      <td>845VG3071J4190PB2</td>\n",
       "      <td>0.0</td>\n",
       "      <td>0.0</td>\n",
       "      <td>0.0</td>\n",
       "      <td>0.0</td>\n",
       "      <td>3.0</td>\n",
       "      <td>7.086944</td>\n",
       "      <td>0.003432</td>\n",
       "      <td>0.0</td>\n",
       "      <td>0.089097</td>\n",
       "      <td>...</td>\n",
       "      <td>0.560417</td>\n",
       "      <td>3.546594</td>\n",
       "      <td>1.488648</td>\n",
       "      <td>0.0</td>\n",
       "      <td>0.00</td>\n",
       "      <td>0.120585</td>\n",
       "      <td>0.000000</td>\n",
       "      <td>0.000000</td>\n",
       "      <td>0.000000</td>\n",
       "      <td>0.000000</td>\n",
       "    </tr>\n",
       "    <tr>\n",
       "      <th>3</th>\n",
       "      <td>LMGMS1G80H1000013</td>\n",
       "      <td>0.0</td>\n",
       "      <td>2.0</td>\n",
       "      <td>0.0</td>\n",
       "      <td>3.0</td>\n",
       "      <td>81.0</td>\n",
       "      <td>3.651944</td>\n",
       "      <td>2.866278</td>\n",
       "      <td>0.0</td>\n",
       "      <td>0.367570</td>\n",
       "      <td>...</td>\n",
       "      <td>13.996667</td>\n",
       "      <td>10.926558</td>\n",
       "      <td>1.222883</td>\n",
       "      <td>5.0</td>\n",
       "      <td>0.41</td>\n",
       "      <td>0.141939</td>\n",
       "      <td>0.018732</td>\n",
       "      <td>0.004991</td>\n",
       "      <td>0.044805</td>\n",
       "      <td>4.928333</td>\n",
       "    </tr>\n",
       "    <tr>\n",
       "      <th>4</th>\n",
       "      <td>LMGMS1G80H1000027</td>\n",
       "      <td>0.0</td>\n",
       "      <td>2.0</td>\n",
       "      <td>0.0</td>\n",
       "      <td>2.0</td>\n",
       "      <td>5.0</td>\n",
       "      <td>0.547778</td>\n",
       "      <td>0.171842</td>\n",
       "      <td>0.0</td>\n",
       "      <td>0.383548</td>\n",
       "      <td>...</td>\n",
       "      <td>2.928333</td>\n",
       "      <td>5.098957</td>\n",
       "      <td>0.260459</td>\n",
       "      <td>0.0</td>\n",
       "      <td>0.00</td>\n",
       "      <td>0.179932</td>\n",
       "      <td>0.000000</td>\n",
       "      <td>0.000000</td>\n",
       "      <td>0.000000</td>\n",
       "      <td>0.000000</td>\n",
       "    </tr>\n",
       "  </tbody>\n",
       "</table>\n",
       "<p>5 rows × 34 columns</p>\n",
       "</div>"
      ],
      "text/plain": [
       "       ubi_stats.vin  ubi_stats.acce_count  ubi_stats.agg_break_count  \\\n",
       "0  600VG3071H710001C                   0.0                        0.0   \n",
       "1  845VG3071H5261289                   0.0                        0.0   \n",
       "2  845VG3071J4190PB2                   0.0                        0.0   \n",
       "3  LMGMS1G80H1000013                   0.0                        2.0   \n",
       "4  LMGMS1G80H1000027                   0.0                        2.0   \n",
       "\n",
       "   ubi_stats.agg_takeoff_count  ubi_stats.decel_count  \\\n",
       "0                          0.0                    0.0   \n",
       "1                          0.0                    0.0   \n",
       "2                          0.0                    0.0   \n",
       "3                          0.0                    3.0   \n",
       "4                          0.0                    2.0   \n",
       "\n",
       "   ubi_stats.distance_driven  ubi_stats.driving_hours  \\\n",
       "0                        2.0                 2.210694   \n",
       "1                        1.0                 1.898194   \n",
       "2                        3.0                 7.086944   \n",
       "3                       81.0                 3.651944   \n",
       "4                        5.0                 0.547778   \n",
       "\n",
       "   ubi_stats.fuel_consumption  ubi_stats.high_speed_percentage  \\\n",
       "0                    0.000309                              0.0   \n",
       "1                    0.000103                              0.0   \n",
       "2                    0.003432                              0.0   \n",
       "3                    2.866278                              0.0   \n",
       "4                    0.171842                              0.0   \n",
       "\n",
       "   ubi_stats.mean_acce           ...             ubi_stats.am_peak_hours  \\\n",
       "0             0.102446           ...                            2.333889   \n",
       "1             0.132566           ...                            2.280000   \n",
       "2             0.089097           ...                            0.560417   \n",
       "3             0.367570           ...                           13.996667   \n",
       "4             0.383548           ...                            2.928333   \n",
       "\n",
       "   ubi_stats.entropy  ubi_stats.entropy_last_month  \\\n",
       "0           3.392147                      0.463325   \n",
       "1           3.100351                      0.469000   \n",
       "2           3.546594                      1.488648   \n",
       "3          10.926558                      1.222883   \n",
       "4           5.098957                      0.260459   \n",
       "\n",
       "   ubi_stats.long_distance_count  ubi_stats.night_driving_hours  \\\n",
       "0                            0.0                           0.00   \n",
       "1                            0.0                           0.00   \n",
       "2                            0.0                           0.00   \n",
       "3                            5.0                           0.41   \n",
       "4                            0.0                           0.00   \n",
       "\n",
       "   ubi_stats.percent_am_peak  ubi_stats.percent_long_distance  \\\n",
       "0                   0.293058                         0.000000   \n",
       "1                   0.198324                         0.000000   \n",
       "2                   0.120585                         0.000000   \n",
       "3                   0.141939                         0.018732   \n",
       "4                   0.179932                         0.000000   \n",
       "\n",
       "   ubi_stats.percent_night_driving  ubi_stats.percent_pm_peak  \\\n",
       "0                         0.000000                   0.000000   \n",
       "1                         0.000000                   0.000000   \n",
       "2                         0.000000                   0.000000   \n",
       "3                         0.004991                   0.044805   \n",
       "4                         0.000000                   0.000000   \n",
       "\n",
       "   ubi_stats.pm_peak_hours  \n",
       "0                 0.000000  \n",
       "1                 0.000000  \n",
       "2                 0.000000  \n",
       "3                 4.928333  \n",
       "4                 0.000000  \n",
       "\n",
       "[5 rows x 34 columns]"
      ]
     },
     "execution_count": 7,
     "metadata": {},
     "output_type": "execute_result"
    }
   ],
   "source": [
    "all_metrics_data = all_metrics_data.groupby(\"ubi_stats.vin\", as_index=False).median()\n",
    "\n",
    "print(all_metrics_data.shape)\n",
    "\n",
    "all_metrics_data.head()"
   ]
  },
  {
   "cell_type": "code",
   "execution_count": 8,
   "metadata": {
    "collapsed": false,
    "deletable": true,
    "editable": true
   },
   "outputs": [
    {
     "data": {
      "text/plain": [
       "Index([u'ubi_stats.vin', u'ubi_stats.acce_count', u'ubi_stats.agg_break_count',\n",
       "       u'ubi_stats.agg_takeoff_count', u'ubi_stats.decel_count',\n",
       "       u'ubi_stats.distance_driven', u'ubi_stats.driving_hours',\n",
       "       u'ubi_stats.fuel_consumption', u'ubi_stats.high_speed_percentage',\n",
       "       u'ubi_stats.mean_acce', u'ubi_stats.mean_decel',\n",
       "       u'ubi_stats.mean_fuel_efficiency', u'ubi_stats.median_acce',\n",
       "       u'ubi_stats.median_decel', u'ubi_stats.odo_end',\n",
       "       u'ubi_stats.speed_average', u'ubi_stats.speed_average_pos',\n",
       "       u'ubi_stats.speed_max', u'ubi_stats.speeding_count10',\n",
       "       u'ubi_stats.speeding_count20', u'ubi_stats.speeding_count30',\n",
       "       u'ubi_stats.speeding_count40', u'ubi_stats.speeding_count40_plus',\n",
       "       u'ubi_stats.turn_count', u'ubi_stats.am_peak_hours',\n",
       "       u'ubi_stats.entropy', u'ubi_stats.entropy_last_month',\n",
       "       u'ubi_stats.long_distance_count', u'ubi_stats.night_driving_hours',\n",
       "       u'ubi_stats.percent_am_peak', u'ubi_stats.percent_long_distance',\n",
       "       u'ubi_stats.percent_night_driving', u'ubi_stats.percent_pm_peak',\n",
       "       u'ubi_stats.pm_peak_hours'],\n",
       "      dtype='object')"
      ]
     },
     "execution_count": 8,
     "metadata": {},
     "output_type": "execute_result"
    }
   ],
   "source": [
    "all_metrics_data.columns"
   ]
  },
  {
   "cell_type": "markdown",
   "metadata": {
    "deletable": true,
    "editable": true
   },
   "source": [
    "# modfiy column name"
   ]
  },
  {
   "cell_type": "code",
   "execution_count": null,
   "metadata": {
    "collapsed": true,
    "deletable": true,
    "editable": true
   },
   "outputs": [],
   "source": [
    "\"\"\"\n",
    "new_columns = all_metrics_data.columns.values\n",
    "new_columns[0] = 'vin'\n",
    "all_metrics_data.columns = new_columns\n",
    "\"\"\"\n",
    "\"\"\"\n",
    "df.columns = df.columns.str.replace('$','')\n",
    "\"\"\""
   ]
  },
  {
   "cell_type": "code",
   "execution_count": 9,
   "metadata": {
    "collapsed": true,
    "deletable": true,
    "editable": true
   },
   "outputs": [],
   "source": [
    "#all_metrics_data.rename(columns={'oldName1': 'newName1', 'oldName2': 'newName2'}, inplace=True)\n",
    "all_metrics_data.rename(lambda x: x[10:], axis='columns', inplace=True)"
   ]
  },
  {
   "cell_type": "code",
   "execution_count": 10,
   "metadata": {
    "collapsed": false,
    "deletable": true,
    "editable": true
   },
   "outputs": [
    {
     "data": {
      "text/plain": [
       "Index([u'vin', u'acce_count', u'agg_break_count', u'agg_takeoff_count',\n",
       "       u'decel_count', u'distance_driven', u'driving_hours',\n",
       "       u'fuel_consumption', u'high_speed_percentage', u'mean_acce',\n",
       "       u'mean_decel', u'mean_fuel_efficiency', u'median_acce', u'median_decel',\n",
       "       u'odo_end', u'speed_average', u'speed_average_pos', u'speed_max',\n",
       "       u'speeding_count10', u'speeding_count20', u'speeding_count30',\n",
       "       u'speeding_count40', u'speeding_count40_plus', u'turn_count',\n",
       "       u'am_peak_hours', u'entropy', u'entropy_last_month',\n",
       "       u'long_distance_count', u'night_driving_hours', u'percent_am_peak',\n",
       "       u'percent_long_distance', u'percent_night_driving', u'percent_pm_peak',\n",
       "       u'pm_peak_hours'],\n",
       "      dtype='object')"
      ]
     },
     "execution_count": 10,
     "metadata": {},
     "output_type": "execute_result"
    }
   ],
   "source": [
    "all_metrics_data.columns"
   ]
  },
  {
   "cell_type": "code",
   "execution_count": 11,
   "metadata": {
    "collapsed": false,
    "deletable": true,
    "editable": true
   },
   "outputs": [
    {
     "name": "stdout",
     "output_type": "stream",
     "text": [
      "(1581, 35)\n"
     ]
    },
    {
     "data": {
      "text/html": [
       "<div>\n",
       "<style scoped>\n",
       "    .dataframe tbody tr th:only-of-type {\n",
       "        vertical-align: middle;\n",
       "    }\n",
       "\n",
       "    .dataframe tbody tr th {\n",
       "        vertical-align: top;\n",
       "    }\n",
       "\n",
       "    .dataframe thead th {\n",
       "        text-align: right;\n",
       "    }\n",
       "</style>\n",
       "<table border=\"1\" class=\"dataframe\">\n",
       "  <thead>\n",
       "    <tr style=\"text-align: right;\">\n",
       "      <th></th>\n",
       "      <th>vin</th>\n",
       "      <th>acce_count</th>\n",
       "      <th>agg_break_count</th>\n",
       "      <th>agg_takeoff_count</th>\n",
       "      <th>decel_count</th>\n",
       "      <th>distance_driven</th>\n",
       "      <th>driving_hours</th>\n",
       "      <th>fuel_consumption</th>\n",
       "      <th>high_speed_percentage</th>\n",
       "      <th>mean_acce</th>\n",
       "      <th>...</th>\n",
       "      <th>entropy</th>\n",
       "      <th>entropy_last_month</th>\n",
       "      <th>long_distance_count</th>\n",
       "      <th>night_driving_hours</th>\n",
       "      <th>percent_am_peak</th>\n",
       "      <th>percent_long_distance</th>\n",
       "      <th>percent_night_driving</th>\n",
       "      <th>percent_pm_peak</th>\n",
       "      <th>pm_peak_hours</th>\n",
       "      <th>tot_accidents</th>\n",
       "    </tr>\n",
       "  </thead>\n",
       "  <tbody>\n",
       "    <tr>\n",
       "      <th>0</th>\n",
       "      <td>LMGMS1G80H1000349</td>\n",
       "      <td>0.0</td>\n",
       "      <td>2.0</td>\n",
       "      <td>0.0</td>\n",
       "      <td>2.0</td>\n",
       "      <td>38.0</td>\n",
       "      <td>1.694444</td>\n",
       "      <td>1.535503</td>\n",
       "      <td>0.0</td>\n",
       "      <td>0.399755</td>\n",
       "      <td>...</td>\n",
       "      <td>9.693698</td>\n",
       "      <td>0.654252</td>\n",
       "      <td>2.0</td>\n",
       "      <td>1.169167</td>\n",
       "      <td>0.152846</td>\n",
       "      <td>0.007937</td>\n",
       "      <td>0.018098</td>\n",
       "      <td>0.013967</td>\n",
       "      <td>0.766944</td>\n",
       "      <td>0</td>\n",
       "    </tr>\n",
       "    <tr>\n",
       "      <th>1</th>\n",
       "      <td>LMGMS1G80H1000366</td>\n",
       "      <td>0.0</td>\n",
       "      <td>1.0</td>\n",
       "      <td>0.0</td>\n",
       "      <td>1.0</td>\n",
       "      <td>11.0</td>\n",
       "      <td>1.406667</td>\n",
       "      <td>0.151815</td>\n",
       "      <td>0.0</td>\n",
       "      <td>0.286709</td>\n",
       "      <td>...</td>\n",
       "      <td>8.890954</td>\n",
       "      <td>0.378577</td>\n",
       "      <td>0.0</td>\n",
       "      <td>0.000000</td>\n",
       "      <td>0.149385</td>\n",
       "      <td>0.000000</td>\n",
       "      <td>0.000000</td>\n",
       "      <td>0.040256</td>\n",
       "      <td>1.018333</td>\n",
       "      <td>1</td>\n",
       "    </tr>\n",
       "    <tr>\n",
       "      <th>2</th>\n",
       "      <td>LMGMS1G80H1S00163</td>\n",
       "      <td>0.0</td>\n",
       "      <td>0.0</td>\n",
       "      <td>0.0</td>\n",
       "      <td>0.0</td>\n",
       "      <td>20.0</td>\n",
       "      <td>0.881944</td>\n",
       "      <td>0.797743</td>\n",
       "      <td>0.0</td>\n",
       "      <td>0.366820</td>\n",
       "      <td>...</td>\n",
       "      <td>8.163081</td>\n",
       "      <td>0.392016</td>\n",
       "      <td>0.0</td>\n",
       "      <td>3.611667</td>\n",
       "      <td>0.077001</td>\n",
       "      <td>0.000000</td>\n",
       "      <td>0.099558</td>\n",
       "      <td>0.052064</td>\n",
       "      <td>1.478889</td>\n",
       "      <td>0</td>\n",
       "    </tr>\n",
       "    <tr>\n",
       "      <th>3</th>\n",
       "      <td>LMGMS1G80H1S00177</td>\n",
       "      <td>0.0</td>\n",
       "      <td>3.0</td>\n",
       "      <td>0.0</td>\n",
       "      <td>3.0</td>\n",
       "      <td>54.0</td>\n",
       "      <td>2.094444</td>\n",
       "      <td>1.980575</td>\n",
       "      <td>0.0</td>\n",
       "      <td>0.360304</td>\n",
       "      <td>...</td>\n",
       "      <td>9.279598</td>\n",
       "      <td>0.574436</td>\n",
       "      <td>0.0</td>\n",
       "      <td>0.993611</td>\n",
       "      <td>0.117424</td>\n",
       "      <td>0.000000</td>\n",
       "      <td>0.026452</td>\n",
       "      <td>0.006415</td>\n",
       "      <td>0.190833</td>\n",
       "      <td>0</td>\n",
       "    </tr>\n",
       "    <tr>\n",
       "      <th>4</th>\n",
       "      <td>LMGMS1G80H1S00227</td>\n",
       "      <td>0.0</td>\n",
       "      <td>2.0</td>\n",
       "      <td>0.0</td>\n",
       "      <td>2.0</td>\n",
       "      <td>44.0</td>\n",
       "      <td>1.441667</td>\n",
       "      <td>1.933524</td>\n",
       "      <td>0.0</td>\n",
       "      <td>0.371428</td>\n",
       "      <td>...</td>\n",
       "      <td>7.359179</td>\n",
       "      <td>0.458581</td>\n",
       "      <td>0.0</td>\n",
       "      <td>3.176667</td>\n",
       "      <td>0.089208</td>\n",
       "      <td>0.000000</td>\n",
       "      <td>0.130130</td>\n",
       "      <td>0.000000</td>\n",
       "      <td>0.000000</td>\n",
       "      <td>0</td>\n",
       "    </tr>\n",
       "  </tbody>\n",
       "</table>\n",
       "<p>5 rows × 35 columns</p>\n",
       "</div>"
      ],
      "text/plain": [
       "                 vin  acce_count  agg_break_count  agg_takeoff_count  \\\n",
       "0  LMGMS1G80H1000349         0.0              2.0                0.0   \n",
       "1  LMGMS1G80H1000366         0.0              1.0                0.0   \n",
       "2  LMGMS1G80H1S00163         0.0              0.0                0.0   \n",
       "3  LMGMS1G80H1S00177         0.0              3.0                0.0   \n",
       "4  LMGMS1G80H1S00227         0.0              2.0                0.0   \n",
       "\n",
       "   decel_count  distance_driven  driving_hours  fuel_consumption  \\\n",
       "0          2.0             38.0       1.694444          1.535503   \n",
       "1          1.0             11.0       1.406667          0.151815   \n",
       "2          0.0             20.0       0.881944          0.797743   \n",
       "3          3.0             54.0       2.094444          1.980575   \n",
       "4          2.0             44.0       1.441667          1.933524   \n",
       "\n",
       "   high_speed_percentage  mean_acce      ...         entropy  \\\n",
       "0                    0.0   0.399755      ...        9.693698   \n",
       "1                    0.0   0.286709      ...        8.890954   \n",
       "2                    0.0   0.366820      ...        8.163081   \n",
       "3                    0.0   0.360304      ...        9.279598   \n",
       "4                    0.0   0.371428      ...        7.359179   \n",
       "\n",
       "   entropy_last_month  long_distance_count  night_driving_hours  \\\n",
       "0            0.654252                  2.0             1.169167   \n",
       "1            0.378577                  0.0             0.000000   \n",
       "2            0.392016                  0.0             3.611667   \n",
       "3            0.574436                  0.0             0.993611   \n",
       "4            0.458581                  0.0             3.176667   \n",
       "\n",
       "   percent_am_peak  percent_long_distance  percent_night_driving  \\\n",
       "0         0.152846               0.007937               0.018098   \n",
       "1         0.149385               0.000000               0.000000   \n",
       "2         0.077001               0.000000               0.099558   \n",
       "3         0.117424               0.000000               0.026452   \n",
       "4         0.089208               0.000000               0.130130   \n",
       "\n",
       "   percent_pm_peak  pm_peak_hours  tot_accidents  \n",
       "0         0.013967       0.766944              0  \n",
       "1         0.040256       1.018333              1  \n",
       "2         0.052064       1.478889              0  \n",
       "3         0.006415       0.190833              0  \n",
       "4         0.000000       0.000000              0  \n",
       "\n",
       "[5 rows x 35 columns]"
      ]
     },
     "execution_count": 11,
     "metadata": {},
     "output_type": "execute_result"
    }
   ],
   "source": [
    "df_all = pd.merge(all_metrics_data, claim_new, on='vin', how='inner')\n",
    "\n",
    "print(df_all.shape)\n",
    "\n",
    "df_all.head()"
   ]
  },
  {
   "cell_type": "code",
   "execution_count": 12,
   "metadata": {
    "collapsed": false,
    "deletable": true,
    "editable": true
   },
   "outputs": [
    {
     "data": {
      "text/plain": [
       "Index([u'acce_count', u'agg_break_count', u'agg_takeoff_count', u'decel_count',\n",
       "       u'distance_driven', u'driving_hours', u'fuel_consumption',\n",
       "       u'high_speed_percentage', u'mean_acce', u'mean_decel',\n",
       "       u'mean_fuel_efficiency', u'median_acce', u'median_decel', u'odo_end',\n",
       "       u'speed_average', u'speed_average_pos', u'speed_max',\n",
       "       u'speeding_count10', u'speeding_count20', u'speeding_count30',\n",
       "       u'speeding_count40', u'speeding_count40_plus', u'turn_count',\n",
       "       u'am_peak_hours', u'entropy', u'entropy_last_month',\n",
       "       u'long_distance_count', u'night_driving_hours', u'percent_am_peak',\n",
       "       u'percent_long_distance', u'percent_night_driving', u'percent_pm_peak',\n",
       "       u'pm_peak_hours', u'tot_accidents'],\n",
       "      dtype='object')"
      ]
     },
     "execution_count": 12,
     "metadata": {},
     "output_type": "execute_result"
    }
   ],
   "source": [
    "df_all.to_csv(\"metrics_and_claims.csv\", header=True, index=False)\n",
    "\n",
    "df_all = df_all.drop(\"vin\", axis=1)\n",
    "\n",
    "df_all.columns"
   ]
  },
  {
   "cell_type": "code",
   "execution_count": 13,
   "metadata": {
    "collapsed": false,
    "deletable": true,
    "editable": true
   },
   "outputs": [
    {
     "data": {
      "text/plain": [
       "acce_count               1581\n",
       "agg_break_count          1581\n",
       "agg_takeoff_count        1581\n",
       "decel_count              1581\n",
       "distance_driven          1581\n",
       "driving_hours            1581\n",
       "fuel_consumption         1581\n",
       "high_speed_percentage    1581\n",
       "mean_acce                1581\n",
       "mean_decel               1581\n",
       "mean_fuel_efficiency     1581\n",
       "median_acce              1581\n",
       "median_decel             1581\n",
       "odo_end                  1581\n",
       "speed_average            1581\n",
       "speed_average_pos        1581\n",
       "speed_max                1581\n",
       "speeding_count10         1581\n",
       "speeding_count20         1581\n",
       "speeding_count30         1581\n",
       "speeding_count40         1581\n",
       "speeding_count40_plus    1581\n",
       "turn_count               1581\n",
       "am_peak_hours            1581\n",
       "entropy                  1581\n",
       "entropy_last_month       1581\n",
       "long_distance_count      1581\n",
       "night_driving_hours      1581\n",
       "percent_am_peak          1581\n",
       "percent_long_distance    1581\n",
       "percent_night_driving    1581\n",
       "percent_pm_peak          1581\n",
       "pm_peak_hours            1581\n",
       "tot_accidents            1581\n",
       "dtype: int64"
      ]
     },
     "execution_count": 13,
     "metadata": {},
     "output_type": "execute_result"
    }
   ],
   "source": [
    "df_all.count()"
   ]
  },
  {
   "cell_type": "code",
   "execution_count": 14,
   "metadata": {
    "collapsed": false,
    "deletable": true,
    "editable": true
   },
   "outputs": [
    {
     "data": {
      "text/plain": [
       "acce_count               337\n",
       "agg_break_count          337\n",
       "agg_takeoff_count        337\n",
       "decel_count              337\n",
       "distance_driven          337\n",
       "driving_hours            337\n",
       "fuel_consumption         337\n",
       "high_speed_percentage    337\n",
       "mean_acce                337\n",
       "mean_decel               337\n",
       "mean_fuel_efficiency     337\n",
       "median_acce              337\n",
       "median_decel             337\n",
       "odo_end                  337\n",
       "speed_average            337\n",
       "speed_average_pos        337\n",
       "speed_max                337\n",
       "speeding_count10         337\n",
       "speeding_count20         337\n",
       "speeding_count30         337\n",
       "speeding_count40         337\n",
       "speeding_count40_plus    337\n",
       "turn_count               337\n",
       "am_peak_hours            337\n",
       "entropy                  337\n",
       "entropy_last_month       337\n",
       "long_distance_count      337\n",
       "night_driving_hours      337\n",
       "percent_am_peak          337\n",
       "percent_long_distance    337\n",
       "percent_night_driving    337\n",
       "percent_pm_peak          337\n",
       "pm_peak_hours            337\n",
       "tot_accidents            337\n",
       "dtype: int64"
      ]
     },
     "execution_count": 14,
     "metadata": {},
     "output_type": "execute_result"
    }
   ],
   "source": [
    "df_all[df_all['tot_accidents']>0].count()"
   ]
  },
  {
   "cell_type": "markdown",
   "metadata": {
    "deletable": true,
    "editable": true
   },
   "source": [
    "# Split into train and test"
   ]
  },
  {
   "cell_type": "code",
   "execution_count": 15,
   "metadata": {
    "collapsed": false,
    "deletable": true,
    "editable": true
   },
   "outputs": [
    {
     "data": {
      "text/plain": [
       "acce_count               1264\n",
       "agg_break_count          1264\n",
       "agg_takeoff_count        1264\n",
       "decel_count              1264\n",
       "distance_driven          1264\n",
       "driving_hours            1264\n",
       "fuel_consumption         1264\n",
       "high_speed_percentage    1264\n",
       "mean_acce                1264\n",
       "mean_decel               1264\n",
       "mean_fuel_efficiency     1264\n",
       "median_acce              1264\n",
       "median_decel             1264\n",
       "odo_end                  1264\n",
       "speed_average            1264\n",
       "speed_average_pos        1264\n",
       "speed_max                1264\n",
       "speeding_count10         1264\n",
       "speeding_count20         1264\n",
       "speeding_count30         1264\n",
       "speeding_count40         1264\n",
       "speeding_count40_plus    1264\n",
       "turn_count               1264\n",
       "am_peak_hours            1264\n",
       "entropy                  1264\n",
       "entropy_last_month       1264\n",
       "long_distance_count      1264\n",
       "night_driving_hours      1264\n",
       "percent_am_peak          1264\n",
       "percent_long_distance    1264\n",
       "percent_night_driving    1264\n",
       "percent_pm_peak          1264\n",
       "pm_peak_hours            1264\n",
       "tot_accidents            1264\n",
       "dtype: int64"
      ]
     },
     "execution_count": 15,
     "metadata": {},
     "output_type": "execute_result"
    }
   ],
   "source": [
    "from sklearn.model_selection import train_test_split\n",
    "train,test = train_test_split(df_all, test_size=0.2)\n",
    "train.count()"
   ]
  },
  {
   "cell_type": "code",
   "execution_count": 16,
   "metadata": {
    "collapsed": false,
    "deletable": true,
    "editable": true
   },
   "outputs": [
    {
     "data": {
      "text/plain": [
       "acce_count               317\n",
       "agg_break_count          317\n",
       "agg_takeoff_count        317\n",
       "decel_count              317\n",
       "distance_driven          317\n",
       "driving_hours            317\n",
       "fuel_consumption         317\n",
       "high_speed_percentage    317\n",
       "mean_acce                317\n",
       "mean_decel               317\n",
       "mean_fuel_efficiency     317\n",
       "median_acce              317\n",
       "median_decel             317\n",
       "odo_end                  317\n",
       "speed_average            317\n",
       "speed_average_pos        317\n",
       "speed_max                317\n",
       "speeding_count10         317\n",
       "speeding_count20         317\n",
       "speeding_count30         317\n",
       "speeding_count40         317\n",
       "speeding_count40_plus    317\n",
       "turn_count               317\n",
       "am_peak_hours            317\n",
       "entropy                  317\n",
       "entropy_last_month       317\n",
       "long_distance_count      317\n",
       "night_driving_hours      317\n",
       "percent_am_peak          317\n",
       "percent_long_distance    317\n",
       "percent_night_driving    317\n",
       "percent_pm_peak          317\n",
       "pm_peak_hours            317\n",
       "tot_accidents            317\n",
       "dtype: int64"
      ]
     },
     "execution_count": 16,
     "metadata": {},
     "output_type": "execute_result"
    }
   ],
   "source": [
    "test.count()"
   ]
  },
  {
   "cell_type": "code",
   "execution_count": 17,
   "metadata": {
    "collapsed": false,
    "deletable": true,
    "editable": true
   },
   "outputs": [
    {
     "data": {
      "text/html": [
       "<div>\n",
       "<style scoped>\n",
       "    .dataframe tbody tr th:only-of-type {\n",
       "        vertical-align: middle;\n",
       "    }\n",
       "\n",
       "    .dataframe tbody tr th {\n",
       "        vertical-align: top;\n",
       "    }\n",
       "\n",
       "    .dataframe thead th {\n",
       "        text-align: right;\n",
       "    }\n",
       "</style>\n",
       "<table border=\"1\" class=\"dataframe\">\n",
       "  <thead>\n",
       "    <tr style=\"text-align: right;\">\n",
       "      <th></th>\n",
       "      <th>tot_accidents</th>\n",
       "    </tr>\n",
       "  </thead>\n",
       "  <tbody>\n",
       "    <tr>\n",
       "      <th>416</th>\n",
       "      <td>0</td>\n",
       "    </tr>\n",
       "    <tr>\n",
       "      <th>407</th>\n",
       "      <td>0</td>\n",
       "    </tr>\n",
       "  </tbody>\n",
       "</table>\n",
       "</div>"
      ],
      "text/plain": [
       "     tot_accidents\n",
       "416              0\n",
       "407              0"
      ]
     },
     "execution_count": 17,
     "metadata": {},
     "output_type": "execute_result"
    }
   ],
   "source": [
    "test.iloc[0:2,-1:]"
   ]
  },
  {
   "cell_type": "markdown",
   "metadata": {
    "deletable": true,
    "editable": true
   },
   "source": [
    "# SVM"
   ]
  },
  {
   "cell_type": "code",
   "execution_count": 18,
   "metadata": {
    "collapsed": false,
    "deletable": true,
    "editable": true
   },
   "outputs": [
    {
     "name": "stderr",
     "output_type": "stream",
     "text": [
      "/usr/lib64/python2.7/site-packages/sklearn/utils/validation.py:761: DataConversionWarning: A column-vector y was passed when a 1d array was expected. Please change the shape of y to (n_samples, ), for example using ravel().\n",
      "  y = column_or_1d(y, warn=True)\n"
     ]
    },
    {
     "data": {
      "text/plain": [
       "SVC(C=1.0, cache_size=200, class_weight=None, coef0=0.0,\n",
       "  decision_function_shape='ovr', degree=3, gamma='scale', kernel='rbf',\n",
       "  max_iter=-1, probability=True, random_state=None, shrinking=True,\n",
       "  tol=0.001, verbose=False)"
      ]
     },
     "execution_count": 18,
     "metadata": {},
     "output_type": "execute_result"
    }
   ],
   "source": [
    "from sklearn import svm\n",
    "clf = svm.SVC(gamma='scale',probability=True)\n",
    "clf.fit(train.iloc[:,:-1].values, train.iloc[:,-1:].values)  #before, row;after, column"
   ]
  },
  {
   "cell_type": "code",
   "execution_count": 19,
   "metadata": {
    "collapsed": false,
    "deletable": true,
    "editable": true
   },
   "outputs": [
    {
     "data": {
      "text/plain": [
       "0.7539432176656151"
      ]
     },
     "execution_count": 19,
     "metadata": {},
     "output_type": "execute_result"
    }
   ],
   "source": [
    "from sklearn.metrics import accuracy_score\n",
    "pred = clf.predict(test.iloc[:,:-1].values)\n",
    "accuracy_score(test.iloc[:,-1:].values, pred)"
   ]
  },
  {
   "cell_type": "code",
   "execution_count": 20,
   "metadata": {
    "collapsed": false,
    "deletable": true,
    "editable": true
   },
   "outputs": [
    {
     "data": {
      "image/png": "[encoded data removed]",
      "text/plain": [
       "<Figure size 432x288 with 2 Axes>"
      ]
     },
     "metadata": {},
     "output_type": "display_data"
    }
   ],
   "source": [
    "skplt.metrics.plot_confusion_matrix(test.iloc[:,-1:].values, clf.predict(test.iloc[:,:-1].values),\n",
    "                                    normalize=True)\n",
    "plt.show()"
   ]
  },
  {
   "cell_type": "code",
   "execution_count": 21,
   "metadata": {
    "collapsed": false,
    "deletable": true,
    "editable": true
   },
   "outputs": [
    {
     "data": {
      "text/plain": [
       "array([[239,   5],\n",
       "       [ 73,   0]])"
      ]
     },
     "execution_count": 21,
     "metadata": {},
     "output_type": "execute_result"
    }
   ],
   "source": [
    "from sklearn.metrics import confusion_matrix\n",
    "confusion_matrix(test.iloc[:,-1:].values, pred)"
   ]
  },
  {
   "cell_type": "code",
   "execution_count": 22,
   "metadata": {
    "collapsed": false,
    "deletable": true,
    "editable": true
   },
   "outputs": [
    {
     "name": "stdout",
     "output_type": "stream",
     "text": [
      "              precision    recall  f1-score   support\n",
      "\n",
      "    Accident       0.77      0.98      0.86       244\n",
      "      Normal       0.00      0.00      0.00        73\n",
      "\n",
      "   micro avg       0.75      0.75      0.75       317\n",
      "   macro avg       0.38      0.49      0.43       317\n",
      "weighted avg       0.59      0.75      0.66       317\n",
      "\n"
     ]
    }
   ],
   "source": [
    "from sklearn.metrics import classification_report\n",
    "target_names = {'Normal', 'Accident'}\n",
    "print(classification_report(test.iloc[:,-1:].values, pred, target_names = target_names))"
   ]
  },
  {
   "cell_type": "markdown",
   "metadata": {
    "deletable": true,
    "editable": true
   },
   "source": [
    "# Use ROC to evaluation SVM performance "
   ]
  },
  {
   "cell_type": "code",
   "execution_count": 23,
   "metadata": {
    "collapsed": true,
    "deletable": true,
    "editable": true
   },
   "outputs": [],
   "source": [
    "from sklearn.metrics import roc_auc_score"
   ]
  },
  {
   "cell_type": "code",
   "execution_count": 24,
   "metadata": {
    "collapsed": true,
    "deletable": true,
    "editable": true
   },
   "outputs": [],
   "source": [
    "prob_y = clf.predict_proba(test.iloc[:,:-1].values)"
   ]
  },
  {
   "cell_type": "code",
   "execution_count": 25,
   "metadata": {
    "collapsed": true,
    "deletable": true,
    "editable": true
   },
   "outputs": [],
   "source": [
    "# Keep only the positive class\n",
    "prob_y = [p[1] for p in prob_y]"
   ]
  },
  {
   "cell_type": "code",
   "execution_count": 26,
   "metadata": {
    "collapsed": false,
    "deletable": true,
    "editable": true
   },
   "outputs": [
    {
     "data": {
      "text/plain": [
       "[0.19599591242108858,\n",
       " 0.19796434281673744,\n",
       " 0.21479623296225328,\n",
       " 0.2010219375131164,\n",
       " 0.20086125974341987]"
      ]
     },
     "execution_count": 26,
     "metadata": {},
     "output_type": "execute_result"
    }
   ],
   "source": [
    "prob_y[:5] # Example"
   ]
  },
  {
   "cell_type": "code",
   "execution_count": 27,
   "metadata": {
    "collapsed": false,
    "deletable": true,
    "editable": true
   },
   "outputs": [
    {
     "name": "stdout",
     "output_type": "stream",
     "text": [
      "0.5382887940714125\n"
     ]
    }
   ],
   "source": [
    "print( roc_auc_score(test.iloc[:,-1:].values, prob_y) )"
   ]
  },
  {
   "cell_type": "code",
   "execution_count": 28,
   "metadata": {
    "collapsed": false,
    "deletable": true,
    "editable": true
   },
   "outputs": [
    {
     "name": "stderr",
     "output_type": "stream",
     "text": [
      "/usr/lib64/python2.7/site-packages/sklearn/utils/deprecation.py:77: DeprecationWarning: Function plot_roc_curve is deprecated; This will be removed in v0.5.0. Please use scikitplot.metrics.plot_roc instead.\n",
      "  warnings.warn(msg, category=DeprecationWarning)\n"
     ]
    },
    {
     "data": {
      "image/png": "[encoded data removed]",
      "text/plain": [
       "<Figure size 432x288 with 1 Axes>"
      ]
     },
     "metadata": {},
     "output_type": "display_data"
    }
   ],
   "source": [
    "\n",
    "\n",
    "#y_true = # ground truth labels\n",
    "#y_probas = # predicted probabilities generated by sklearn classifier\n",
    "skplt.metrics.plot_roc_curve(test.iloc[:,-1:].values, clf.predict_proba(test.iloc[:,:-1].values))\n",
    "plt.show()"
   ]
  },
  {
   "cell_type": "markdown",
   "metadata": {
    "deletable": true,
    "editable": true
   },
   "source": [
    "# Logistic regression"
   ]
  },
  {
   "cell_type": "code",
   "execution_count": 29,
   "metadata": {
    "collapsed": true,
    "deletable": true,
    "editable": true
   },
   "outputs": [],
   "source": [
    "from sklearn.metrics import accuracy_score\n",
    "from sklearn.linear_model import LogisticRegression"
   ]
  },
  {
   "cell_type": "code",
   "execution_count": 30,
   "metadata": {
    "collapsed": true,
    "deletable": true,
    "editable": true
   },
   "outputs": [],
   "source": [
    "#train,test = train_test_split(df_all, test_size=0.2)"
   ]
  },
  {
   "cell_type": "code",
   "execution_count": 31,
   "metadata": {
    "collapsed": false,
    "deletable": true,
    "editable": true
   },
   "outputs": [
    {
     "data": {
      "text/plain": [
       "0    1000\n",
       "1     264\n",
       "Name: tot_accidents, dtype: int64"
      ]
     },
     "execution_count": 31,
     "metadata": {},
     "output_type": "execute_result"
    }
   ],
   "source": [
    "train.tot_accidents.value_counts()"
   ]
  },
  {
   "cell_type": "code",
   "execution_count": 32,
   "metadata": {
    "collapsed": true,
    "deletable": true,
    "editable": true
   },
   "outputs": [],
   "source": [
    "# Separate input features (X) and target variable (y)\n",
    "y = train.tot_accidents \n",
    "X = train.drop('tot_accidents', axis=1)"
   ]
  },
  {
   "cell_type": "code",
   "execution_count": 33,
   "metadata": {
    "collapsed": true,
    "deletable": true,
    "editable": true
   },
   "outputs": [],
   "source": [
    "# Train model\n",
    "clf_2 = LogisticRegression(solver='liblinear').fit(X, y)"
   ]
  },
  {
   "cell_type": "code",
   "execution_count": 34,
   "metadata": {
    "collapsed": true,
    "deletable": true,
    "editable": true
   },
   "outputs": [],
   "source": [
    "# Predict on training set\n",
    "pred_y_2 = clf_2.predict(X)"
   ]
  },
  {
   "cell_type": "code",
   "execution_count": 35,
   "metadata": {
    "collapsed": false,
    "deletable": true,
    "editable": true
   },
   "outputs": [
    {
     "name": "stdout",
     "output_type": "stream",
     "text": [
      "0.7911392405063291\n"
     ]
    }
   ],
   "source": [
    "print( accuracy_score(pred_y_2, y) )"
   ]
  },
  {
   "cell_type": "code",
   "execution_count": 36,
   "metadata": {
    "collapsed": false,
    "deletable": true,
    "editable": true
   },
   "outputs": [
    {
     "name": "stdout",
     "output_type": "stream",
     "text": [
      "[0 1]\n"
     ]
    }
   ],
   "source": [
    "import numpy as np\n",
    "print( np.unique( pred_y_2 ) )"
   ]
  },
  {
   "cell_type": "code",
   "execution_count": 37,
   "metadata": {
    "collapsed": false,
    "deletable": true,
    "editable": true
   },
   "outputs": [
    {
     "data": {
      "image/png": "[encoded data removed]",
      "text/plain": [
       "<Figure size 432x288 with 2 Axes>"
      ]
     },
     "metadata": {},
     "output_type": "display_data"
    }
   ],
   "source": [
    "skplt.metrics.plot_confusion_matrix(test.iloc[:,-1:].values, clf_2.predict(test.iloc[:,:-1].values),\n",
    "                                    normalize=True)\n",
    "plt.show()"
   ]
  },
  {
   "cell_type": "markdown",
   "metadata": {
    "deletable": true,
    "editable": true
   },
   "source": [
    "# Use ROC to evaluate logistic model performance"
   ]
  },
  {
   "cell_type": "code",
   "execution_count": 38,
   "metadata": {
    "collapsed": true,
    "deletable": true,
    "editable": true
   },
   "outputs": [],
   "source": [
    "# Predict class probabilities\n",
    "prob_y_2 = clf_2.predict_proba(test.iloc[:,:-1].values)"
   ]
  },
  {
   "cell_type": "code",
   "execution_count": 39,
   "metadata": {
    "collapsed": true,
    "deletable": true,
    "editable": true
   },
   "outputs": [],
   "source": [
    "# Keep only the positive class\n",
    "prob_y_2 = [p[1] for p in prob_y_2]"
   ]
  },
  {
   "cell_type": "code",
   "execution_count": 40,
   "metadata": {
    "collapsed": false,
    "deletable": true,
    "editable": true
   },
   "outputs": [
    {
     "data": {
      "text/plain": [
       "[0.14673492080430472,\n",
       " 0.2769822101510677,\n",
       " 0.5364643422367146,\n",
       " 0.2709461646589637,\n",
       " 0.3362521376452663]"
      ]
     },
     "execution_count": 40,
     "metadata": {},
     "output_type": "execute_result"
    }
   ],
   "source": [
    "prob_y_2[:5] # Example"
   ]
  },
  {
   "cell_type": "code",
   "execution_count": 41,
   "metadata": {
    "collapsed": false,
    "deletable": true,
    "editable": true
   },
   "outputs": [
    {
     "name": "stdout",
     "output_type": "stream",
     "text": [
      "0.6845946552885694\n"
     ]
    }
   ],
   "source": [
    "print( roc_auc_score(test.iloc[:,-1:].values, prob_y_2) ) "
   ]
  },
  {
   "cell_type": "code",
   "execution_count": 42,
   "metadata": {
    "collapsed": false,
    "deletable": true,
    "editable": true
   },
   "outputs": [
    {
     "name": "stderr",
     "output_type": "stream",
     "text": [
      "/usr/lib64/python2.7/site-packages/sklearn/utils/deprecation.py:77: DeprecationWarning: Function plot_roc_curve is deprecated; This will be removed in v0.5.0. Please use scikitplot.metrics.plot_roc instead.\n",
      "  warnings.warn(msg, category=DeprecationWarning)\n"
     ]
    },
    {
     "data": {
      "image/png": "[encoded data removed]",
      "text/plain": [
       "<Figure size 432x288 with 1 Axes>"
      ]
     },
     "metadata": {},
     "output_type": "display_data"
    }
   ],
   "source": [
    "import scikitplot as skplt\n",
    "import matplotlib.pyplot as plt\n",
    "\n",
    "skplt.metrics.plot_roc_curve(test.iloc[:,-1:].values, clf_2.predict_proba(test.iloc[:,:-1].values))\n",
    "plt.show()"
   ]
  },
  {
   "cell_type": "markdown",
   "metadata": {
    "deletable": true,
    "editable": true
   },
   "source": [
    "# Up-sample Minority Class"
   ]
  },
  {
   "cell_type": "code",
   "execution_count": 43,
   "metadata": {
    "collapsed": true,
    "deletable": true,
    "editable": true
   },
   "outputs": [],
   "source": [
    "#import the resampling module from Scikit-Learn\n",
    "from sklearn.utils import resample"
   ]
  },
  {
   "cell_type": "code",
   "execution_count": 44,
   "metadata": {
    "collapsed": true,
    "deletable": true,
    "editable": true
   },
   "outputs": [],
   "source": [
    "# Separate majority and minority classes\n",
    "df_majority = train[train.tot_accidents==0]\n",
    "df_minority = train[train.tot_accidents==1]"
   ]
  },
  {
   "cell_type": "code",
   "execution_count": 45,
   "metadata": {
    "collapsed": false,
    "deletable": true,
    "editable": true
   },
   "outputs": [
    {
     "data": {
      "text/plain": [
       "0    1000\n",
       "1     264\n",
       "Name: tot_accidents, dtype: int64"
      ]
     },
     "execution_count": 45,
     "metadata": {},
     "output_type": "execute_result"
    }
   ],
   "source": [
    "train.tot_accidents.value_counts()"
   ]
  },
  {
   "cell_type": "markdown",
   "metadata": {
    "deletable": true,
    "editable": true
   },
   "source": [
    "# Manually run"
   ]
  },
  {
   "cell_type": "code",
   "execution_count": 46,
   "metadata": {
    "collapsed": true,
    "deletable": true,
    "editable": true
   },
   "outputs": [],
   "source": [
    "# Upsample minority class\n",
    "df_minority_upsampled = resample(df_minority, \n",
    "                                 replace=True,     # sample with replacement\n",
    "                                 n_samples=1000,    # to match majority class\n",
    "                                 random_state=123) # reproducible results"
   ]
  },
  {
   "cell_type": "code",
   "execution_count": 47,
   "metadata": {
    "collapsed": true,
    "deletable": true,
    "editable": true
   },
   "outputs": [],
   "source": [
    "df_upsampled = pd.concat([df_majority, df_minority_upsampled])"
   ]
  },
  {
   "cell_type": "code",
   "execution_count": 48,
   "metadata": {
    "collapsed": false,
    "deletable": true,
    "editable": true
   },
   "outputs": [
    {
     "data": {
      "text/plain": [
       "1    1000\n",
       "0    1000\n",
       "Name: tot_accidents, dtype: int64"
      ]
     },
     "execution_count": 48,
     "metadata": {},
     "output_type": "execute_result"
    }
   ],
   "source": [
    "df_upsampled.tot_accidents.value_counts()"
   ]
  },
  {
   "cell_type": "markdown",
   "metadata": {
    "deletable": true,
    "editable": true
   },
   "source": [
    "# Downsample test data "
   ]
  },
  {
   "cell_type": "code",
   "execution_count": 49,
   "metadata": {
    "collapsed": true,
    "deletable": true,
    "editable": true
   },
   "outputs": [],
   "source": [
    "# Separate majority and minority classes\n",
    "test_majority = test[test.tot_accidents==0]\n",
    "test_minority = test[test.tot_accidents==1]"
   ]
  },
  {
   "cell_type": "code",
   "execution_count": 50,
   "metadata": {
    "collapsed": false,
    "deletable": true,
    "editable": true
   },
   "outputs": [
    {
     "data": {
      "text/plain": [
       "0    244\n",
       "1     73\n",
       "Name: tot_accidents, dtype: int64"
      ]
     },
     "execution_count": 50,
     "metadata": {},
     "output_type": "execute_result"
    }
   ],
   "source": [
    "test.tot_accidents.value_counts()"
   ]
  },
  {
   "cell_type": "code",
   "execution_count": 51,
   "metadata": {
    "collapsed": true,
    "deletable": true,
    "editable": true
   },
   "outputs": [],
   "source": [
    "# Downsample majority class\n",
    "test_majority_downsampled = resample(test_majority, \n",
    "                                 replace=False,    # sample without replacement\n",
    "                                 n_samples=73,     # to match minority class\n",
    "                                 random_state=123) # reproducible results"
   ]
  },
  {
   "cell_type": "code",
   "execution_count": 52,
   "metadata": {
    "collapsed": true,
    "deletable": true,
    "editable": true
   },
   "outputs": [],
   "source": [
    "# Combine minority class with downsampled majority class\n",
    "test_balanced = pd.concat([test_majority_downsampled, test_minority])"
   ]
  },
  {
   "cell_type": "code",
   "execution_count": 53,
   "metadata": {
    "collapsed": false,
    "deletable": true,
    "editable": true
   },
   "outputs": [
    {
     "data": {
      "text/plain": [
       "1    73\n",
       "0    73\n",
       "Name: tot_accidents, dtype: int64"
      ]
     },
     "execution_count": 53,
     "metadata": {},
     "output_type": "execute_result"
    }
   ],
   "source": [
    "# Display new class counts\n",
    "test_balanced.tot_accidents.value_counts()\n",
    "# 1    49\n",
    "# 0    49\n",
    "# Name: balance, dtype: int64"
   ]
  },
  {
   "cell_type": "markdown",
   "metadata": {
    "deletable": true,
    "editable": true
   },
   "source": [
    "# Separate input features (X) and target variable (y)"
   ]
  },
  {
   "cell_type": "code",
   "execution_count": 54,
   "metadata": {
    "collapsed": true,
    "deletable": true,
    "editable": true
   },
   "outputs": [],
   "source": [
    "y_new = df_upsampled.tot_accidents\n",
    "X_new = df_upsampled.drop('tot_accidents', axis=1)"
   ]
  },
  {
   "cell_type": "markdown",
   "metadata": {
    "deletable": true,
    "editable": true
   },
   "source": [
    "# Train logistic model on upsampled dataset"
   ]
  },
  {
   "cell_type": "code",
   "execution_count": 55,
   "metadata": {
    "collapsed": false,
    "deletable": true,
    "editable": true
   },
   "outputs": [
    {
     "name": "stdout",
     "output_type": "stream",
     "text": [
      "[0 1]\n"
     ]
    },
    {
     "name": "stderr",
     "output_type": "stream",
     "text": [
      "/usr/lib64/python2.7/site-packages/sklearn/linear_model/logistic.py:433: FutureWarning: Default solver will be changed to 'lbfgs' in 0.22. Specify a solver to silence this warning.\n",
      "  FutureWarning)\n"
     ]
    }
   ],
   "source": [
    "# Train model\n",
    "clf_3 = LogisticRegression(penalty='l1', C=0.5).fit(X_new, y_new)\n",
    " \n",
    "# Predict on test set\n",
    "pred_y_3 = clf_3.predict(test_balanced.iloc[:,:-1].values)\n",
    "\n",
    "# Is our model still predicting just one class?\n",
    "print( np.unique( pred_y_3 ) )"
   ]
  },
  {
   "cell_type": "code",
   "execution_count": 56,
   "metadata": {
    "collapsed": false,
    "deletable": true,
    "editable": true
   },
   "outputs": [
    {
     "name": "stdout",
     "output_type": "stream",
     "text": [
      "[[-3.58098005e-01  2.61810985e-02  0.00000000e+00  1.07719537e-02\n",
      "  -6.19025363e-03  0.00000000e+00  5.51157028e-02  0.00000000e+00\n",
      "   0.00000000e+00  0.00000000e+00  7.08472847e-02  0.00000000e+00\n",
      "   0.00000000e+00  1.72117735e-05 -1.89679653e-02 -1.42689187e-02\n",
      "  -1.06218458e-02  4.03747149e-03  4.86040250e-03 -6.11088482e-03\n",
      "  -1.86656828e-03  1.99413834e-04  0.00000000e+00 -8.86560513e-03\n",
      "   5.11264853e-01 -1.42771401e+00  6.25032683e-02 -3.38605073e-02\n",
      "   0.00000000e+00  0.00000000e+00  0.00000000e+00  0.00000000e+00\n",
      "   6.28666722e-03]]\n"
     ]
    }
   ],
   "source": [
    "print(clf_3.coef_)"
   ]
  },
  {
   "cell_type": "code",
   "execution_count": 57,
   "metadata": {
    "collapsed": false,
    "deletable": true,
    "editable": true
   },
   "outputs": [
    {
     "name": "stdout",
     "output_type": "stream",
     "text": [
      "0.6712328767123288\n"
     ]
    }
   ],
   "source": [
    "# How's our accuracy?\n",
    "print( accuracy_score(test_balanced.iloc[:,-1:].values, pred_y_3) )"
   ]
  },
  {
   "cell_type": "markdown",
   "metadata": {
    "deletable": true,
    "editable": true
   },
   "source": [
    "# Use ROC to evalute logistic regression performance after sampling"
   ]
  },
  {
   "cell_type": "code",
   "execution_count": 58,
   "metadata": {
    "collapsed": true,
    "deletable": true,
    "editable": true
   },
   "outputs": [],
   "source": [
    "# Predict class probabilities\n",
    "prob_y_3 = clf_3.predict_proba(test_balanced.iloc[:,:-1].values)"
   ]
  },
  {
   "cell_type": "code",
   "execution_count": 59,
   "metadata": {
    "collapsed": false,
    "deletable": true,
    "editable": true
   },
   "outputs": [
    {
     "data": {
      "text/plain": [
       "array([0, 1])"
      ]
     },
     "execution_count": 59,
     "metadata": {},
     "output_type": "execute_result"
    }
   ],
   "source": [
    "clf_3.classes_"
   ]
  },
  {
   "cell_type": "code",
   "execution_count": 60,
   "metadata": {
    "collapsed": false,
    "deletable": true,
    "editable": true
   },
   "outputs": [
    {
     "name": "stdout",
     "output_type": "stream",
     "text": [
      "[[0.72776614 0.27223386]\n",
      " [0.62559617 0.37440383]\n",
      " [0.5443835  0.4556165 ]\n",
      " [0.77347119 0.22652881]\n",
      " [0.44165689 0.55834311]\n",
      " [0.6080424  0.3919576 ]\n",
      " [0.63707482 0.36292518]\n",
      " [0.31907642 0.68092358]\n",
      " [0.54056297 0.45943703]\n",
      " [0.45805453 0.54194547]\n",
      " [0.5745089  0.4254911 ]\n",
      " [0.70907123 0.29092877]\n",
      " [0.52858592 0.47141408]\n",
      " [0.16849592 0.83150408]\n",
      " [0.53289799 0.46710201]\n",
      " [0.83662484 0.16337516]\n",
      " [0.42085698 0.57914302]\n",
      " [0.47041133 0.52958867]\n",
      " [0.50756473 0.49243527]\n",
      " [0.70395556 0.29604444]\n",
      " [0.28318678 0.71681322]\n",
      " [0.76152112 0.23847888]\n",
      " [0.54453732 0.45546268]\n",
      " [0.43610107 0.56389893]\n",
      " [0.53276063 0.46723937]\n",
      " [0.63504833 0.36495167]\n",
      " [0.71207988 0.28792012]\n",
      " [0.53531376 0.46468624]\n",
      " [0.88002088 0.11997912]\n",
      " [0.72844316 0.27155684]\n",
      " [0.81004708 0.18995292]\n",
      " [0.46208629 0.53791371]\n",
      " [0.35636097 0.64363903]\n",
      " [0.8811901  0.1188099 ]\n",
      " [0.50158425 0.49841575]\n",
      " [0.49219796 0.50780204]\n",
      " [0.66834011 0.33165989]\n",
      " [0.52153526 0.47846474]\n",
      " [0.6055965  0.3944035 ]\n",
      " [0.62815374 0.37184626]\n",
      " [0.74064866 0.25935134]\n",
      " [0.46738594 0.53261406]\n",
      " [0.49706191 0.50293809]\n",
      " [0.474577   0.525423  ]\n",
      " [0.52727714 0.47272286]\n",
      " [0.72170401 0.27829599]\n",
      " [0.50769211 0.49230789]\n",
      " [0.54228653 0.45771347]\n",
      " [0.735417   0.264583  ]\n",
      " [0.65172974 0.34827026]\n",
      " [0.73559245 0.26440755]\n",
      " [0.46276739 0.53723261]\n",
      " [0.66557488 0.33442512]\n",
      " [0.24749721 0.75250279]\n",
      " [0.439121   0.560879  ]\n",
      " [0.49257286 0.50742714]\n",
      " [0.62283196 0.37716804]\n",
      " [0.43973568 0.56026432]\n",
      " [0.74249275 0.25750725]\n",
      " [0.63318174 0.36681826]\n",
      " [0.51875143 0.48124857]\n",
      " [0.57397101 0.42602899]\n",
      " [0.5875675  0.4124325 ]\n",
      " [0.3267709  0.6732291 ]\n",
      " [0.71205171 0.28794829]\n",
      " [0.43623703 0.56376297]\n",
      " [0.36150315 0.63849685]\n",
      " [0.77185027 0.22814973]\n",
      " [0.64208156 0.35791844]\n",
      " [0.56553372 0.43446628]\n",
      " [0.54104583 0.45895417]\n",
      " [0.55269684 0.44730316]\n",
      " [0.43113064 0.56886936]\n",
      " [0.33896664 0.66103336]\n",
      " [0.46829485 0.53170515]\n",
      " [0.35094941 0.64905059]\n",
      " [0.54226063 0.45773937]\n",
      " [0.55994019 0.44005981]\n",
      " [0.80594561 0.19405439]\n",
      " [0.38003239 0.61996761]\n",
      " [0.46932815 0.53067185]\n",
      " [0.33592854 0.66407146]\n",
      " [0.47974375 0.52025625]\n",
      " [0.40522816 0.59477184]\n",
      " [0.64451194 0.35548806]\n",
      " [0.34327424 0.65672576]\n",
      " [0.48139868 0.51860132]\n",
      " [0.52822656 0.47177344]\n",
      " [0.56330001 0.43669999]\n",
      " [0.46306371 0.53693629]\n",
      " [0.32031131 0.67968869]\n",
      " [0.13501271 0.86498729]\n",
      " [0.45417937 0.54582063]\n",
      " [0.53593879 0.46406121]\n",
      " [0.36867899 0.63132101]\n",
      " [0.39052447 0.60947553]\n",
      " [0.4801893  0.5198107 ]\n",
      " [0.47110039 0.52889961]\n",
      " [0.41480507 0.58519493]\n",
      " [0.3825596  0.6174404 ]\n",
      " [0.32492837 0.67507163]\n",
      " [0.72088059 0.27911941]\n",
      " [0.56426523 0.43573477]\n",
      " [0.57211382 0.42788618]\n",
      " [0.39727099 0.60272901]\n",
      " [0.36186107 0.63813893]\n",
      " [0.66686007 0.33313993]\n",
      " [0.28320056 0.71679944]\n",
      " [0.37607446 0.62392554]\n",
      " [0.34332198 0.65667802]\n",
      " [0.34543316 0.65456684]\n",
      " [0.58212728 0.41787272]\n",
      " [0.46710861 0.53289139]\n",
      " [0.54932573 0.45067427]\n",
      " [0.42072472 0.57927528]\n",
      " [0.23567898 0.76432102]\n",
      " [0.29143364 0.70856636]\n",
      " [0.50538166 0.49461834]\n",
      " [0.42631984 0.57368016]\n",
      " [0.41296695 0.58703305]\n",
      " [0.52015682 0.47984318]\n",
      " [0.32846482 0.67153518]\n",
      " [0.58889996 0.41110004]\n",
      " [0.30693667 0.69306333]\n",
      " [0.32414872 0.67585128]\n",
      " [0.47522931 0.52477069]\n",
      " [0.38381602 0.61618398]\n",
      " [0.4348478  0.5651522 ]\n",
      " [0.39897643 0.60102357]\n",
      " [0.63131555 0.36868445]\n",
      " [0.49737305 0.50262695]\n",
      " [0.53124464 0.46875536]\n",
      " [0.73134676 0.26865324]\n",
      " [0.38565852 0.61434148]\n",
      " [0.33047798 0.66952202]\n",
      " [0.45867572 0.54132428]\n",
      " [0.69078982 0.30921018]\n",
      " [0.55049891 0.44950109]\n",
      " [0.42623314 0.57376686]\n",
      " [0.52038949 0.47961051]\n",
      " [0.46857657 0.53142343]\n",
      " [0.4264333  0.5735667 ]\n",
      " [0.52160301 0.47839699]\n",
      " [0.46521281 0.53478719]\n",
      " [0.52330835 0.47669165]\n",
      " [0.63128834 0.36871166]]\n"
     ]
    }
   ],
   "source": [
    "print(prob_y_3)"
   ]
  },
  {
   "cell_type": "code",
   "execution_count": 61,
   "metadata": {
    "collapsed": true,
    "deletable": true,
    "editable": true
   },
   "outputs": [],
   "source": [
    "# Keep only the positive class\n",
    "prob_y_3 = [p[1] for p in prob_y_3]"
   ]
  },
  {
   "cell_type": "code",
   "execution_count": 62,
   "metadata": {
    "collapsed": false,
    "deletable": true,
    "editable": true
   },
   "outputs": [
    {
     "data": {
      "text/plain": [
       "[0.2722338564580923, 0.37440382644566345, 0.45561649546342026]"
      ]
     },
     "execution_count": 62,
     "metadata": {},
     "output_type": "execute_result"
    }
   ],
   "source": [
    "prob_y_3[:3] # Example"
   ]
  },
  {
   "cell_type": "code",
   "execution_count": 63,
   "metadata": {
    "collapsed": false,
    "deletable": true,
    "editable": true
   },
   "outputs": [
    {
     "name": "stdout",
     "output_type": "stream",
     "text": [
      "0.7232126102458247\n"
     ]
    }
   ],
   "source": [
    "print( roc_auc_score(test_balanced.iloc[:,-1:].values, prob_y_3) )"
   ]
  },
  {
   "cell_type": "code",
   "execution_count": 64,
   "metadata": {
    "collapsed": false,
    "deletable": true,
    "editable": true
   },
   "outputs": [
    {
     "data": {
      "image/png": "[encoded data removed]",
      "text/plain": [
       "<Figure size 432x288 with 2 Axes>"
      ]
     },
     "metadata": {},
     "output_type": "display_data"
    }
   ],
   "source": [
    "skplt.metrics.plot_confusion_matrix(test_balanced.iloc[:,-1:].values, clf_3.predict(test_balanced.iloc[:,:-1].values),\n",
    "                                    normalize=True)\n",
    "plt.show()"
   ]
  },
  {
   "cell_type": "code",
   "execution_count": 65,
   "metadata": {
    "collapsed": false,
    "deletable": true,
    "editable": true
   },
   "outputs": [
    {
     "name": "stderr",
     "output_type": "stream",
     "text": [
      "/usr/lib64/python2.7/site-packages/sklearn/utils/deprecation.py:77: DeprecationWarning: Function plot_roc_curve is deprecated; This will be removed in v0.5.0. Please use scikitplot.metrics.plot_roc instead.\n",
      "  warnings.warn(msg, category=DeprecationWarning)\n"
     ]
    },
    {
     "data": {
      "image/png": "[encoded data removed]",
      "text/plain": [
       "<Figure size 432x288 with 1 Axes>"
      ]
     },
     "metadata": {},
     "output_type": "display_data"
    }
   ],
   "source": [
    "import scikitplot as skplt\n",
    "import matplotlib.pyplot as plt\n",
    "\n",
    "skplt.metrics.plot_roc_curve(test.iloc[:,-1:].values, clf_3.predict_proba(test.iloc[:,:-1].values))\n",
    "plt.show()"
   ]
  },
  {
   "cell_type": "markdown",
   "metadata": {
    "deletable": true,
    "editable": true
   },
   "source": [
    "# Train SVM Model on new balanced dataset"
   ]
  },
  {
   "cell_type": "code",
   "execution_count": 72,
   "metadata": {
    "collapsed": false,
    "deletable": true,
    "editable": true
   },
   "outputs": [
    {
     "data": {
      "text/plain": [
       "SVC(C=2, cache_size=200, class_weight=None, coef0=0.0,\n",
       "  decision_function_shape='ovr', degree=3, gamma='scale', kernel='rbf',\n",
       "  max_iter=-1, probability=True, random_state=None, shrinking=True,\n",
       "  tol=0.001, verbose=False)"
      ]
     },
     "execution_count": 72,
     "metadata": {},
     "output_type": "execute_result"
    }
   ],
   "source": [
    "from sklearn import svm\n",
    "# create and configure model\n",
    "clf_4 = svm.SVC(C=2, gamma='scale', probability=True)\n",
    "# fit model\n",
    "clf_4.fit(X_new, y_new)"
   ]
  },
  {
   "cell_type": "code",
   "execution_count": 73,
   "metadata": {
    "collapsed": false,
    "deletable": true,
    "editable": true
   },
   "outputs": [
    {
     "name": "stdout",
     "output_type": "stream",
     "text": [
      "0.5136986301369864\n"
     ]
    }
   ],
   "source": [
    "# How's our accuracy?\n",
    "print( accuracy_score(test_balanced.iloc[:,-1:].values, clf_4.predict(test_balanced.iloc[:,:-1].values)) )"
   ]
  },
  {
   "cell_type": "code",
   "execution_count": 74,
   "metadata": {
    "collapsed": false,
    "deletable": true,
    "editable": true
   },
   "outputs": [
    {
     "data": {
      "image/png": "[encoded data removed]",
      "text/plain": [
       "<Figure size 432x288 with 2 Axes>"
      ]
     },
     "metadata": {},
     "output_type": "display_data"
    }
   ],
   "source": [
    "skplt.metrics.plot_confusion_matrix(test_balanced.iloc[:,-1:].values, clf_4.predict(test_balanced.iloc[:,:-1].values),\n",
    "                                    normalize=True)\n",
    "plt.show()"
   ]
  },
  {
   "cell_type": "markdown",
   "metadata": {
    "deletable": true,
    "editable": true
   },
   "source": [
    "# Use ROC to evalute SVM performance after sampling"
   ]
  },
  {
   "cell_type": "code",
   "execution_count": 75,
   "metadata": {
    "collapsed": false,
    "deletable": true,
    "editable": true
   },
   "outputs": [
    {
     "name": "stdout",
     "output_type": "stream",
     "text": [
      "0.5562019140551698\n"
     ]
    }
   ],
   "source": [
    "# Predict class probabilities\n",
    "prob_y_4 = clf_4.predict_proba(test_balanced.iloc[:,:-1].values)\n",
    " \n",
    "# Keep only the positive class\n",
    "prob_y_4 = [p[1] for p in prob_y_4]\n",
    " \n",
    "prob_y_4[:5] # Example\n",
    "\n",
    "print( roc_auc_score(test_balanced.iloc[:,-1:].values, prob_y_4) )"
   ]
  },
  {
   "cell_type": "code",
   "execution_count": 76,
   "metadata": {
    "collapsed": false,
    "deletable": true,
    "editable": true
   },
   "outputs": [
    {
     "name": "stderr",
     "output_type": "stream",
     "text": [
      "/usr/lib64/python2.7/site-packages/sklearn/utils/deprecation.py:77: DeprecationWarning: Function plot_roc_curve is deprecated; This will be removed in v0.5.0. Please use scikitplot.metrics.plot_roc instead.\n",
      "  warnings.warn(msg, category=DeprecationWarning)\n"
     ]
    },
    {
     "data": {
      "image/png": "[encoded data removed]",
      "text/plain": [
       "<Figure size 432x288 with 1 Axes>"
      ]
     },
     "metadata": {},
     "output_type": "display_data"
    }
   ],
   "source": [
    "skplt.metrics.plot_roc_curve(test_balanced.iloc[:,-1:].values, clf_4.predict_proba(test_balanced.iloc[:,:-1].values))\n",
    "plt.show()"
   ]
  },
  {
   "cell_type": "markdown",
   "metadata": {
    "deletable": true,
    "editable": true
   },
   "source": [
    "# Use Tree-Based Algorithms"
   ]
  },
  {
   "cell_type": "code",
   "execution_count": 77,
   "metadata": {
    "collapsed": true,
    "deletable": true,
    "editable": true
   },
   "outputs": [],
   "source": [
    "from sklearn.ensemble import RandomForestClassifier"
   ]
  },
  {
   "cell_type": "markdown",
   "metadata": {
    "deletable": true,
    "editable": true
   },
   "source": [
    "# Use a Random Forest on the original imbalanced dataset"
   ]
  },
  {
   "cell_type": "code",
   "execution_count": 78,
   "metadata": {
    "collapsed": false,
    "deletable": true,
    "editable": true
   },
   "outputs": [
    {
     "name": "stderr",
     "output_type": "stream",
     "text": [
      "/usr/lib64/python2.7/site-packages/sklearn/ensemble/forest.py:246: FutureWarning: The default value of n_estimators will change from 10 in version 0.20 to 100 in 0.22.\n",
      "  \"10 in version 0.20 to 100 in 0.22.\", FutureWarning)\n"
     ]
    },
    {
     "data": {
      "text/plain": [
       "RandomForestClassifier(bootstrap=True, class_weight=None, criterion='gini',\n",
       "            max_depth=2, max_features='auto', max_leaf_nodes=None,\n",
       "            min_impurity_decrease=0.0, min_impurity_split=None,\n",
       "            min_samples_leaf=1, min_samples_split=2,\n",
       "            min_weight_fraction_leaf=0.0, n_estimators=10, n_jobs=None,\n",
       "            oob_score=False, random_state=None, verbose=0,\n",
       "            warm_start=False)"
      ]
     },
     "execution_count": 78,
     "metadata": {},
     "output_type": "execute_result"
    }
   ],
   "source": [
    "# Train model\n",
    "clf_5 = RandomForestClassifier(max_depth=2)\n",
    "clf_5.fit(X, y)"
   ]
  },
  {
   "cell_type": "code",
   "execution_count": 79,
   "metadata": {
    "collapsed": true,
    "deletable": true,
    "editable": true
   },
   "outputs": [],
   "source": [
    "# Predict on test set\n",
    "pred_y_5 = clf_5.predict(test.iloc[:,:-1].values)"
   ]
  },
  {
   "cell_type": "code",
   "execution_count": 80,
   "metadata": {
    "collapsed": false,
    "deletable": true,
    "editable": true
   },
   "outputs": [
    {
     "name": "stdout",
     "output_type": "stream",
     "text": [
      "[0]\n"
     ]
    }
   ],
   "source": [
    "# Is our model predicting just one class?\n",
    "print( np.unique( pred_y_5 ) )\n",
    "# [0 1]"
   ]
  },
  {
   "cell_type": "code",
   "execution_count": 81,
   "metadata": {
    "collapsed": false,
    "deletable": true,
    "editable": true
   },
   "outputs": [
    {
     "name": "stdout",
     "output_type": "stream",
     "text": [
      "0.7697160883280757\n"
     ]
    }
   ],
   "source": [
    "# How's our accuracy?\n",
    "print( accuracy_score(test.iloc[:,-1:].values, pred_y_5) )"
   ]
  },
  {
   "cell_type": "code",
   "execution_count": 82,
   "metadata": {
    "collapsed": false,
    "deletable": true,
    "editable": true
   },
   "outputs": [
    {
     "name": "stdout",
     "output_type": "stream",
     "text": [
      "0.6575623175387378\n"
     ]
    }
   ],
   "source": [
    "# What about AUROC?\n",
    "prob_y_5 = clf_5.predict_proba(test.iloc[:,:-1].values)\n",
    "prob_y_5 = [p[1] for p in prob_y_5]\n",
    "print( roc_auc_score(test.iloc[:,-1:].values, prob_y_5) )"
   ]
  },
  {
   "cell_type": "code",
   "execution_count": 83,
   "metadata": {
    "collapsed": false,
    "deletable": true,
    "editable": true
   },
   "outputs": [
    {
     "data": {
      "image/png": "[encoded data removed]",
      "text/plain": [
       "<Figure size 432x288 with 2 Axes>"
      ]
     },
     "metadata": {},
     "output_type": "display_data"
    }
   ],
   "source": [
    "skplt.metrics.plot_confusion_matrix(test.iloc[:,-1:].values, pred_y_5, normalize=True)\n",
    "plt.show()"
   ]
  },
  {
   "cell_type": "code",
   "execution_count": 84,
   "metadata": {
    "collapsed": false,
    "deletable": true,
    "editable": true
   },
   "outputs": [
    {
     "name": "stderr",
     "output_type": "stream",
     "text": [
      "/usr/lib64/python2.7/site-packages/sklearn/utils/deprecation.py:77: DeprecationWarning: Function plot_roc_curve is deprecated; This will be removed in v0.5.0. Please use scikitplot.metrics.plot_roc instead.\n",
      "  warnings.warn(msg, category=DeprecationWarning)\n"
     ]
    },
    {
     "data": {
      "image/png": "[encoded data removed]",
      "text/plain": [
       "<Figure size 432x288 with 1 Axes>"
      ]
     },
     "metadata": {},
     "output_type": "display_data"
    }
   ],
   "source": [
    "skplt.metrics.plot_roc_curve(test_balanced.iloc[:,-1:].values, clf_5.predict_proba(test_balanced.iloc[:,:-1].values))\n",
    "plt.show()"
   ]
  },
  {
   "cell_type": "markdown",
   "metadata": {
    "deletable": true,
    "editable": true
   },
   "source": [
    "# Use a Random Forest on the new balanced dataset"
   ]
  },
  {
   "cell_type": "code",
   "execution_count": 85,
   "metadata": {
    "collapsed": false,
    "deletable": true,
    "editable": true
   },
   "outputs": [
    {
     "data": {
      "text/plain": [
       "RandomForestClassifier(bootstrap=True, class_weight=None, criterion='gini',\n",
       "            max_depth=2, max_features='auto', max_leaf_nodes=None,\n",
       "            min_impurity_decrease=0.0, min_impurity_split=None,\n",
       "            min_samples_leaf=2, min_samples_split=2,\n",
       "            min_weight_fraction_leaf=0.0, n_estimators=10, n_jobs=None,\n",
       "            oob_score=False, random_state=None, verbose=0,\n",
       "            warm_start=False)"
      ]
     },
     "execution_count": 85,
     "metadata": {},
     "output_type": "execute_result"
    }
   ],
   "source": [
    "clf_6 = RandomForestClassifier(max_depth=2, min_samples_leaf=2)\n",
    "clf_6.fit(X_new, y_new)"
   ]
  },
  {
   "cell_type": "code",
   "execution_count": 86,
   "metadata": {
    "collapsed": true,
    "deletable": true,
    "editable": true
   },
   "outputs": [],
   "source": [
    "# Predict on test set\n",
    "pred_y_6 = clf_6.predict(test_balanced.iloc[:,:-1].values)"
   ]
  },
  {
   "cell_type": "code",
   "execution_count": 87,
   "metadata": {
    "collapsed": false,
    "deletable": true,
    "editable": true
   },
   "outputs": [
    {
     "name": "stdout",
     "output_type": "stream",
     "text": [
      "[0 1]\n"
     ]
    }
   ],
   "source": [
    "print( np.unique( pred_y_6 ) )\n",
    "# [0 1]"
   ]
  },
  {
   "cell_type": "code",
   "execution_count": 88,
   "metadata": {
    "collapsed": false,
    "deletable": true,
    "editable": true
   },
   "outputs": [
    {
     "name": "stdout",
     "output_type": "stream",
     "text": [
      "0.678082191780822\n"
     ]
    }
   ],
   "source": [
    "# How's our accuracy?\n",
    "print( accuracy_score(test_balanced.iloc[:,-1:].values, pred_y_6) )"
   ]
  },
  {
   "cell_type": "code",
   "execution_count": 89,
   "metadata": {
    "collapsed": false,
    "deletable": true,
    "editable": true
   },
   "outputs": [
    {
     "name": "stdout",
     "output_type": "stream",
     "text": [
      "0.7298742728466879\n"
     ]
    }
   ],
   "source": [
    "# What about AUROC?\n",
    "prob_y_6 = clf_6.predict_proba(test_balanced.iloc[:,:-1].values)\n",
    "prob_y_6 = [p[1] for p in prob_y_6]\n",
    "print( roc_auc_score(test_balanced.iloc[:,-1:].values, prob_y_6) )"
   ]
  },
  {
   "cell_type": "code",
   "execution_count": 90,
   "metadata": {
    "collapsed": false,
    "deletable": true,
    "editable": true
   },
   "outputs": [
    {
     "data": {
      "image/png": "[encoded data removed]",
      "text/plain": [
       "<Figure size 432x288 with 2 Axes>"
      ]
     },
     "metadata": {},
     "output_type": "display_data"
    }
   ],
   "source": [
    "skplt.metrics.plot_confusion_matrix(test_balanced.iloc[:,-1:].values, pred_y_6, normalize=True)\n",
    "plt.show()"
   ]
  },
  {
   "cell_type": "code",
   "execution_count": 91,
   "metadata": {
    "collapsed": false,
    "deletable": true,
    "editable": true
   },
   "outputs": [
    {
     "name": "stderr",
     "output_type": "stream",
     "text": [
      "/usr/lib64/python2.7/site-packages/sklearn/utils/deprecation.py:77: DeprecationWarning: Function plot_roc_curve is deprecated; This will be removed in v0.5.0. Please use scikitplot.metrics.plot_roc instead.\n",
      "  warnings.warn(msg, category=DeprecationWarning)\n"
     ]
    },
    {
     "data": {
      "image/png": "[encoded data removed]",
      "text/plain": [
       "<Figure size 432x288 with 1 Axes>"
      ]
     },
     "metadata": {},
     "output_type": "display_data"
    }
   ],
   "source": [
    "skplt.metrics.plot_roc_curve(test_balanced.iloc[:,-1:].values, clf_6.predict_proba(test_balanced.iloc[:,:-1].values))\n",
    "plt.show()"
   ]
  },
  {
   "cell_type": "code",
   "execution_count": 92,
   "metadata": {
    "collapsed": false,
    "deletable": true,
    "editable": true
   },
   "outputs": [
    {
     "name": "stdout",
     "output_type": "stream",
     "text": [
      "['acce_count', 'agg_break_count', 'agg_takeoff_count', 'decel_count', 'distance_driven', 'driving_hours', 'fuel_consumption', 'high_speed_percentage', 'mean_acce', 'mean_decel', 'mean_fuel_efficiency', 'median_acce', 'median_decel', 'odo_end', 'speed_average', 'speed_average_pos', 'speed_max', 'speeding_count10', 'speeding_count20', 'speeding_count30', 'speeding_count40', 'speeding_count40_plus', 'turn_count', 'am_peak_hours', 'entropy', 'entropy_last_month', 'long_distance_count', 'night_driving_hours', 'percent_am_peak', 'percent_long_distance', 'percent_night_driving', 'percent_pm_peak', 'pm_peak_hours']\n"
     ]
    }
   ],
   "source": [
    "arr = list(X_new.columns.values)\n",
    "print(arr)"
   ]
  },
  {
   "cell_type": "code",
   "execution_count": 93,
   "metadata": {
    "collapsed": false,
    "deletable": true,
    "editable": true
   },
   "outputs": [
    {
     "name": "stdout",
     "output_type": "stream",
     "text": [
      "Feature ranking:\n",
      "1. feature 23 am_peak_hours (0.252330)\n",
      "2. feature 13 odo_end (0.242602)\n",
      "3. feature 24 entropy (0.171381)\n",
      "4. feature 32 pm_peak_hours (0.067362)\n",
      "5. feature 20 speeding_count40 (0.062832)\n",
      "6. feature 28 percent_am_peak (0.042758)\n",
      "7. feature 18 speeding_count20 (0.037179)\n",
      "8. feature 21 speeding_count40_plus (0.033079)\n",
      "9. feature 14 speed_average (0.026565)\n",
      "10. feature 3 decel_count (0.016926)\n",
      "11. feature 15 speed_average_pos (0.013780)\n",
      "12. feature 8 mean_acce (0.012466)\n",
      "13. feature 17 speeding_count10 (0.011651)\n",
      "14. feature 27 night_driving_hours (0.009090)\n",
      "15. feature 4 distance_driven (0.000000)\n",
      "16. feature 5 driving_hours (0.000000)\n",
      "17. feature 10 mean_fuel_efficiency (0.000000)\n",
      "18. feature 6 fuel_consumption (0.000000)\n",
      "19. feature 2 agg_takeoff_count (0.000000)\n",
      "20. feature 7 high_speed_percentage (0.000000)\n",
      "21. feature 1 agg_break_count (0.000000)\n",
      "22. feature 9 mean_decel (0.000000)\n",
      "23. feature 16 speed_max (0.000000)\n",
      "24. feature 11 median_acce (0.000000)\n",
      "25. feature 12 median_decel (0.000000)\n",
      "26. feature 31 percent_pm_peak (0.000000)\n",
      "27. feature 19 speeding_count30 (0.000000)\n",
      "28. feature 22 turn_count (0.000000)\n",
      "29. feature 25 entropy_last_month (0.000000)\n",
      "30. feature 26 long_distance_count (0.000000)\n",
      "31. feature 29 percent_long_distance (0.000000)\n",
      "32. feature 30 percent_night_driving (0.000000)\n",
      "33. feature 0 acce_count (0.000000)\n"
     ]
    },
    {
     "data": {
      "image/png": "[encoded data removed]",
      "text/plain": [
       "<Figure size 432x288 with 1 Axes>"
      ]
     },
     "metadata": {},
     "output_type": "display_data"
    }
   ],
   "source": [
    "importances = clf_6.feature_importances_\n",
    "std = np.std([clf_6.feature_importances_ for tree in clf_6.estimators_],\n",
    "             axis=0)\n",
    "indices = np.argsort(importances)[::-1]\n",
    "\n",
    "# Print the feature ranking\n",
    "print(\"Feature ranking:\")\n",
    "\n",
    "for f in range(X_new.shape[1]):\n",
    "    print(\"%d. feature %d %s (%f)\" % (f + 1, indices[f], arr[indices[f]], importances[indices[f]]))\n",
    "\n",
    "# Plot the feature importances of the forest\n",
    "plt.figure()\n",
    "plt.title(\"Feature importances\")\n",
    "plt.bar(range(X_new.shape[1]), importances[indices],\n",
    "       color=\"r\", yerr=std[indices], align=\"center\")\n",
    "plt.xticks(range(X_new.shape[1]), indices)\n",
    "plt.xlim([-1, X_new.shape[1]])\n",
    "plt.show()"
   ]
  },
  {
   "cell_type": "markdown",
   "metadata": {
    "deletable": true,
    "editable": true
   },
   "source": [
    "# Neural Netwworks"
   ]
  },
  {
   "cell_type": "code",
   "execution_count": 131,
   "metadata": {
    "collapsed": false,
    "deletable": true,
    "editable": true
   },
   "outputs": [
    {
     "data": {
      "text/plain": [
       "MLPClassifier(activation='relu', alpha=1e-05, batch_size='auto', beta_1=0.9,\n",
       "       beta_2=0.999, early_stopping=False, epsilon=1e-08,\n",
       "       hidden_layer_sizes=(150,), learning_rate='constant',\n",
       "       learning_rate_init=0.001, max_iter=200, momentum=0.9,\n",
       "       n_iter_no_change=10, nesterovs_momentum=True, power_t=0.5,\n",
       "       random_state=1, shuffle=True, solver='lbfgs', tol=0.0001,\n",
       "       validation_fraction=0.1, verbose=False, warm_start=False)"
      ]
     },
     "execution_count": 131,
     "metadata": {},
     "output_type": "execute_result"
    }
   ],
   "source": [
    "from sklearn.neural_network import MLPClassifier\n",
    "clf7 = MLPClassifier(solver='lbfgs', alpha=1e-5, hidden_layer_sizes=(150, ), random_state=1)\n",
    "clf7.fit(X_new, y_new)   "
   ]
  },
  {
   "cell_type": "code",
   "execution_count": 132,
   "metadata": {
    "collapsed": true,
    "deletable": true,
    "editable": true
   },
   "outputs": [],
   "source": [
    "pred_y_7=clf.predict(test_balanced.iloc[:,:-1].values)"
   ]
  },
  {
   "cell_type": "code",
   "execution_count": 133,
   "metadata": {
    "collapsed": false,
    "deletable": true,
    "editable": true
   },
   "outputs": [
    {
     "data": {
      "text/plain": [
       "[(33, 150), (150, 1)]"
      ]
     },
     "execution_count": 133,
     "metadata": {},
     "output_type": "execute_result"
    }
   ],
   "source": [
    "[coef.shape for coef in clf7.coefs_]"
   ]
  },
  {
   "cell_type": "code",
   "execution_count": null,
   "metadata": {
    "collapsed": true
   },
   "outputs": [],
   "source": [
    "clf7.classes_"
   ]
  },
  {
   "cell_type": "code",
   "execution_count": 134,
   "metadata": {
    "collapsed": false,
    "deletable": true,
    "editable": true
   },
   "outputs": [
    {
     "data": {
      "text/plain": [
       "array([[6.71129760e-01, 3.28870240e-01],\n",
       "       [4.01570907e-01, 5.98429093e-01],\n",
       "       [7.08628553e-01, 2.91371447e-01],\n",
       "       [3.70632018e-01, 6.29367982e-01],\n",
       "       [4.52453777e-01, 5.47546223e-01],\n",
       "       [1.00000000e+00, 7.91360882e-46],\n",
       "       [8.39352190e-01, 1.60647810e-01],\n",
       "       [4.79918311e-01, 5.20081689e-01],\n",
       "       [5.47873098e-01, 4.52126902e-01],\n",
       "       [4.10385657e-01, 5.89614343e-01],\n",
       "       [7.58326389e-01, 2.41673611e-01],\n",
       "       [4.40233038e-01, 5.59766962e-01],\n",
       "       [6.20320377e-01, 3.79679623e-01],\n",
       "       [9.29580486e-01, 7.04195142e-02],\n",
       "       [5.47761112e-01, 4.52238888e-01],\n",
       "       [6.12996981e-01, 3.87003019e-01],\n",
       "       [3.86681379e-01, 6.13318621e-01],\n",
       "       [4.31431871e-01, 5.68568129e-01],\n",
       "       [6.21581441e-01, 3.78418559e-01],\n",
       "       [6.72332798e-01, 3.27667202e-01],\n",
       "       [1.26223433e-01, 8.73776567e-01],\n",
       "       [8.75647507e-01, 1.24352493e-01],\n",
       "       [7.22354716e-01, 2.77645284e-01],\n",
       "       [4.43660150e-01, 5.56339850e-01],\n",
       "       [6.39603002e-01, 3.60396998e-01],\n",
       "       [7.94644892e-01, 2.05355108e-01],\n",
       "       [6.07851440e-01, 3.92148560e-01],\n",
       "       [5.43730048e-01, 4.56269952e-01],\n",
       "       [4.37070669e-01, 5.62929331e-01],\n",
       "       [5.32494569e-01, 4.67505431e-01],\n",
       "       [3.23715106e-01, 6.76284894e-01],\n",
       "       [5.80977171e-01, 4.19022829e-01],\n",
       "       [3.95344888e-01, 6.04655112e-01],\n",
       "       [9.39295268e-01, 6.07047324e-02],\n",
       "       [6.47020879e-01, 3.52979121e-01],\n",
       "       [5.94437777e-01, 4.05562223e-01],\n",
       "       [4.64368252e-01, 5.35631748e-01],\n",
       "       [5.98148768e-01, 4.01851232e-01],\n",
       "       [5.99820077e-01, 4.00179923e-01],\n",
       "       [5.07890480e-01, 4.92109520e-01],\n",
       "       [5.74447626e-01, 4.25552374e-01],\n",
       "       [6.05781266e-01, 3.94218734e-01],\n",
       "       [7.43653721e-01, 2.56346279e-01],\n",
       "       [5.36447641e-01, 4.63552359e-01],\n",
       "       [1.00000000e+00, 3.87823194e-14],\n",
       "       [5.99280534e-01, 4.00719466e-01],\n",
       "       [5.88487089e-01, 4.11512911e-01],\n",
       "       [5.08838929e-01, 4.91161071e-01],\n",
       "       [7.04287545e-01, 2.95712455e-01],\n",
       "       [2.36732180e-01, 7.63267820e-01],\n",
       "       [6.09532928e-01, 3.90467072e-01],\n",
       "       [6.20511847e-01, 3.79488153e-01],\n",
       "       [3.90559787e-01, 6.09440213e-01],\n",
       "       [5.00291687e-01, 4.99708313e-01],\n",
       "       [4.12042907e-01, 5.87957093e-01],\n",
       "       [3.01625415e-01, 6.98374585e-01],\n",
       "       [6.81272811e-01, 3.18727189e-01],\n",
       "       [5.25126105e-01, 4.74873895e-01],\n",
       "       [5.56001250e-01, 4.43998750e-01],\n",
       "       [8.36952347e-01, 1.63047653e-01],\n",
       "       [6.81697646e-01, 3.18302354e-01],\n",
       "       [6.27541433e-01, 3.72458567e-01],\n",
       "       [4.15937848e-01, 5.84062152e-01],\n",
       "       [2.59780537e-01, 7.40219463e-01],\n",
       "       [7.11070469e-01, 2.88929531e-01],\n",
       "       [4.84505832e-01, 5.15494168e-01],\n",
       "       [4.94166142e-01, 5.05833858e-01],\n",
       "       [4.89434677e-01, 5.10565323e-01],\n",
       "       [5.62301456e-01, 4.37698544e-01],\n",
       "       [4.98348814e-01, 5.01651186e-01],\n",
       "       [5.85930726e-01, 4.14069274e-01],\n",
       "       [3.77617263e-01, 6.22382737e-01],\n",
       "       [5.09244189e-01, 4.90755811e-01],\n",
       "       [6.68405437e-01, 3.31594563e-01],\n",
       "       [3.78428540e-01, 6.21571460e-01],\n",
       "       [5.60280354e-01, 4.39719646e-01],\n",
       "       [5.45213562e-01, 4.54786438e-01],\n",
       "       [5.27212604e-01, 4.72787396e-01],\n",
       "       [4.68938965e-01, 5.31061035e-01],\n",
       "       [5.81854676e-01, 4.18145324e-01],\n",
       "       [5.37780864e-01, 4.62219136e-01],\n",
       "       [2.99699714e-01, 7.00300286e-01],\n",
       "       [4.72343010e-01, 5.27656990e-01],\n",
       "       [4.53620882e-01, 5.46379118e-01],\n",
       "       [6.28566118e-01, 3.71433882e-01],\n",
       "       [5.18853522e-01, 4.81146478e-01],\n",
       "       [6.59669032e-01, 3.40330968e-01],\n",
       "       [6.27453724e-01, 3.72546276e-01],\n",
       "       [8.00687449e-01, 1.99312551e-01],\n",
       "       [4.88018817e-01, 5.11981183e-01],\n",
       "       [5.26829417e-01, 4.73170583e-01],\n",
       "       [3.18032537e-01, 6.81967463e-01],\n",
       "       [4.04680646e-01, 5.95319354e-01],\n",
       "       [5.71811869e-01, 4.28188131e-01],\n",
       "       [5.54741552e-01, 4.45258448e-01],\n",
       "       [3.52450487e-01, 6.47549513e-01],\n",
       "       [4.78905855e-01, 5.21094145e-01],\n",
       "       [7.83911461e-01, 2.16088539e-01],\n",
       "       [3.91637072e-01, 6.08362928e-01],\n",
       "       [2.63613405e-01, 7.36386595e-01],\n",
       "       [5.25220798e-01, 4.74779202e-01],\n",
       "       [5.06493477e-01, 4.93506523e-01],\n",
       "       [7.26075262e-01, 2.73924738e-01],\n",
       "       [6.22176292e-01, 3.77823708e-01],\n",
       "       [3.86348277e-01, 6.13651723e-01],\n",
       "       [6.43627935e-01, 3.56372065e-01],\n",
       "       [5.61855442e-01, 4.38144558e-01],\n",
       "       [3.39136368e-01, 6.60863632e-01],\n",
       "       [6.33376723e-01, 3.66623277e-01],\n",
       "       [5.56806551e-01, 4.43193449e-01],\n",
       "       [4.76059977e-01, 5.23940023e-01],\n",
       "       [6.44554862e-01, 3.55445138e-01],\n",
       "       [5.39056386e-01, 4.60943614e-01],\n",
       "       [7.33240310e-01, 2.66759690e-01],\n",
       "       [4.76182980e-01, 5.23817020e-01],\n",
       "       [1.46978828e-01, 8.53021172e-01],\n",
       "       [4.17251860e-01, 5.82748140e-01],\n",
       "       [3.88439727e-01, 6.11560273e-01],\n",
       "       [6.77411770e-01, 3.22588230e-01],\n",
       "       [5.53762989e-01, 4.46237011e-01],\n",
       "       [6.05643649e-01, 3.94356351e-01],\n",
       "       [7.26838845e-01, 2.73161155e-01],\n",
       "       [5.21633937e-01, 4.78366063e-01],\n",
       "       [2.76124277e-01, 7.23875723e-01],\n",
       "       [3.22975708e-01, 6.77024292e-01],\n",
       "       [4.89331668e-01, 5.10668332e-01],\n",
       "       [3.17955934e-01, 6.82044066e-01],\n",
       "       [6.34808453e-01, 3.65191547e-01],\n",
       "       [1.87874381e-01, 8.12125619e-01],\n",
       "       [5.29455919e-01, 4.70544081e-01],\n",
       "       [4.35495875e-01, 5.64504125e-01],\n",
       "       [4.38621347e-01, 5.61378653e-01],\n",
       "       [3.05356619e-01, 6.94643381e-01],\n",
       "       [4.32756224e-01, 5.67243776e-01],\n",
       "       [4.65119984e-01, 5.34880016e-01],\n",
       "       [1.80715622e-01, 8.19284378e-01],\n",
       "       [6.82676118e-01, 3.17323882e-01],\n",
       "       [4.24529182e-01, 5.75470818e-01],\n",
       "       [6.17606185e-01, 3.82393815e-01],\n",
       "       [7.98504772e-01, 2.01495228e-01],\n",
       "       [3.65316400e-01, 6.34683600e-01],\n",
       "       [7.21265106e-01, 2.78734894e-01],\n",
       "       [5.22439720e-01, 4.77560280e-01],\n",
       "       [5.13809163e-01, 4.86190837e-01],\n",
       "       [7.05520727e-01, 2.94479273e-01],\n",
       "       [6.78576508e-01, 3.21423492e-01]])"
      ]
     },
     "execution_count": 134,
     "metadata": {},
     "output_type": "execute_result"
    }
   ],
   "source": [
    "clf7.predict_proba(test_balanced.iloc[:,:-1].values)  "
   ]
  },
  {
   "cell_type": "code",
   "execution_count": 135,
   "metadata": {
    "collapsed": false,
    "deletable": true,
    "editable": true
   },
   "outputs": [
    {
     "name": "stdout",
     "output_type": "stream",
     "text": [
      "0.4863013698630137\n"
     ]
    }
   ],
   "source": [
    "# How's our accuracy?\n",
    "print( accuracy_score(test_balanced.iloc[:,-1:].values, pred_y_7) )"
   ]
  },
  {
   "cell_type": "code",
   "execution_count": 136,
   "metadata": {
    "collapsed": false,
    "deletable": true,
    "editable": true
   },
   "outputs": [
    {
     "name": "stdout",
     "output_type": "stream",
     "text": [
      "0.585100394070182\n"
     ]
    }
   ],
   "source": [
    "# What about AUROC?\n",
    "prob_y_7 = clf7.predict_proba(test_balanced.iloc[:,:-1].values)\n",
    "prob_y_7 = [p[1] for p in prob_y_7]\n",
    "print( roc_auc_score(test_balanced.iloc[:,-1:].values, prob_y_7) )"
   ]
  },
  {
   "cell_type": "code",
   "execution_count": 137,
   "metadata": {
    "collapsed": false,
    "deletable": true,
    "editable": true
   },
   "outputs": [
    {
     "data": {
      "image/png": "[encoded data removed]",
      "text/plain": [
       "<Figure size 432x288 with 2 Axes>"
      ]
     },
     "metadata": {},
     "output_type": "display_data"
    }
   ],
   "source": [
    "skplt.metrics.plot_confusion_matrix(test_balanced.iloc[:,-1:].values, pred_y_7, normalize=True)\n",
    "plt.show()"
   ]
  },
  {
   "cell_type": "code",
   "execution_count": 138,
   "metadata": {
    "collapsed": false,
    "deletable": true,
    "editable": true
   },
   "outputs": [
    {
     "name": "stderr",
     "output_type": "stream",
     "text": [
      "/usr/lib64/python2.7/site-packages/sklearn/utils/deprecation.py:77: DeprecationWarning: Function plot_roc_curve is deprecated; This will be removed in v0.5.0. Please use scikitplot.metrics.plot_roc instead.\n",
      "  warnings.warn(msg, category=DeprecationWarning)\n"
     ]
    },
    {
     "data": {
      "image/png": "[encoded data removed]",
      "text/plain": [
       "<Figure size 432x288 with 1 Axes>"
      ]
     },
     "metadata": {},
     "output_type": "display_data"
    }
   ],
   "source": [
    "skplt.metrics.plot_roc_curve(test_balanced.iloc[:,-1:].values, clf7.predict_proba(test_balanced.iloc[:,:-1].values))\n",
    "plt.show()"
   ]
  },
  {
   "cell_type": "markdown",
   "metadata": {
    "deletable": true,
    "editable": true
   },
   "source": [
    "# Run model on trip_metrics"
   ]
  },
  {
   "cell_type": "code",
   "execution_count": null,
   "metadata": {
    "collapsed": true,
    "deletable": true,
    "editable": true
   },
   "outputs": [],
   "source": [
    "metrics_data = pd.read_csv(\"trip_metrics.csv\", header=0)\n",
    "metrics_data = metrics_data.drop([\"trip_metrics.vintype\", \"trip_metrics.subtype\", \"start_day\"], axis=1)\n",
    "\n",
    "metrics_data.fillna(0, inplace=True)\n",
    "\n",
    "print(metrics_data.shape)\n",
    "\n",
    "metrics_data.head()\n"
   ]
  },
  {
   "cell_type": "code",
   "execution_count": null,
   "metadata": {
    "collapsed": true,
    "deletable": true,
    "editable": true
   },
   "outputs": [],
   "source": [
    "metrics_data = metrics_data.groupby(\"vin\", as_index=False).median()\n",
    "\n",
    "print(metrics_data.shape)\n",
    "\n",
    "metrics_data.head()"
   ]
  },
  {
   "cell_type": "code",
   "execution_count": null,
   "metadata": {
    "collapsed": true,
    "deletable": true,
    "editable": true
   },
   "outputs": [],
   "source": [
    "df_trip = pd.merge(metrics_data, claim_new, on='vin', how='inner')\n",
    "\n",
    "print(df_trip.shape)\n",
    "\n",
    "df_trip.head()"
   ]
  },
  {
   "cell_type": "code",
   "execution_count": null,
   "metadata": {
    "collapsed": true,
    "deletable": true,
    "editable": true
   },
   "outputs": [],
   "source": [
    "df_trip.to_csv(\"metrics_and_claims.csv\", header=True, index=False)\n",
    "\n",
    "df_trip = df.drop(\"vin\", axis=1)\n",
    "\n",
    "df_trip.columns"
   ]
  },
  {
   "cell_type": "code",
   "execution_count": null,
   "metadata": {
    "collapsed": true,
    "deletable": true,
    "editable": true
   },
   "outputs": [],
   "source": [
    "df_trip.count()"
   ]
  },
  {
   "cell_type": "code",
   "execution_count": null,
   "metadata": {
    "collapsed": true,
    "deletable": true,
    "editable": true
   },
   "outputs": [],
   "source": [
    "df_trip[df_trip['tot_accidents']>0].count()"
   ]
  },
  {
   "cell_type": "code",
   "execution_count": null,
   "metadata": {
    "collapsed": true,
    "deletable": true,
    "editable": true
   },
   "outputs": [],
   "source": [
    "from sklearn.model_selection import train_test_split\n",
    "train_trip,test_trip = train_test_split(df_trip, test_size=0.2)\n",
    "train_trip.count()"
   ]
  },
  {
   "cell_type": "code",
   "execution_count": null,
   "metadata": {
    "collapsed": true,
    "deletable": true,
    "editable": true
   },
   "outputs": [],
   "source": [
    "test_trip.count()"
   ]
  },
  {
   "cell_type": "code",
   "execution_count": null,
   "metadata": {
    "collapsed": true,
    "deletable": true,
    "editable": true
   },
   "outputs": [],
   "source": [
    "test_trip.iloc[0:2,-1:]"
   ]
  },
  {
   "cell_type": "markdown",
   "metadata": {
    "deletable": true,
    "editable": true
   },
   "source": []
  },
  {
   "cell_type": "code",
   "execution_count": null,
   "metadata": {
    "collapsed": true,
    "deletable": true,
    "editable": true
   },
   "outputs": [],
   "source": [
    "from sklearn import svm\n",
    "clf = svm.SVC(gamma='scale')\n",
    "clf.fit(train_trip.iloc[:,:-1].values, train_trip.iloc[:,-1:].values)"
   ]
  },
  {
   "cell_type": "code",
   "execution_count": null,
   "metadata": {
    "collapsed": true,
    "deletable": true,
    "editable": true
   },
   "outputs": [],
   "source": [
    "from sklearn.metrics import accuracy_score\n",
    "pred = clf.predict(test_trip.iloc[:,:-1].values)\n",
    "accuracy_score(test_trip.iloc[:,-1:].values, pred)"
   ]
  },
  {
   "cell_type": "code",
   "execution_count": null,
   "metadata": {
    "collapsed": true,
    "deletable": true,
    "editable": true
   },
   "outputs": [],
   "source": [
    "from sklearn.metrics import confusion_matrix\n",
    "confusion_matrix(test_trip.iloc[:,-1:].values, pred)"
   ]
  },
  {
   "cell_type": "code",
   "execution_count": null,
   "metadata": {
    "collapsed": true,
    "deletable": true,
    "editable": true
   },
   "outputs": [],
   "source": [
    "from sklearn.metrics import classification_report\n",
    "target_names = {'Normal', 'Accident'}\n",
    "print(classification_report(test_trip.iloc[:,-1:].values, pred, target_names = target_names))"
   ]
  },
  {
   "cell_type": "code",
   "execution_count": null,
   "metadata": {
    "collapsed": true,
    "deletable": true,
    "editable": true
   },
   "outputs": [],
   "source": []
  }
 ],
 "metadata": {
  "kernelspec": {
   "display_name": "Python 2",
   "language": "python",
   "name": "python2"
  },
  "language_info": {
   "codemirror_mode": {
    "name": "ipython",
    "version": 2
   },
   "file_extension": ".py",
   "mimetype": "text/x-python",
   "name": "python",
   "nbconvert_exporter": "python",
   "pygments_lexer": "ipython2",
   "version": "2.7.13"
  }
 },
 "nbformat": 4,
 "nbformat_minor": 2
}
