{
 "cells": [
  {
   "cell_type": "code",
   "execution_count": 1,
   "metadata": {},
   "outputs": [
    {
     "name": "stdout",
     "output_type": "stream",
     "text": [
      "(1789, 12)\n"
     ]
    },
    {
     "data": {
      "text/html": [
       "<div>\n",
       "<style scoped>\n",
       "    .dataframe tbody tr th:only-of-type {\n",
       "        vertical-align: middle;\n",
       "    }\n",
       "\n",
       "    .dataframe tbody tr th {\n",
       "        vertical-align: top;\n",
       "    }\n",
       "\n",
       "    .dataframe thead th {\n",
       "        text-align: right;\n",
       "    }\n",
       "</style>\n",
       "<table border=\"1\" class=\"dataframe\">\n",
       "  <thead>\n",
       "    <tr style=\"text-align: right;\">\n",
       "      <th></th>\n",
       "      <th>vin</th>\n",
       "      <th>policy_no</th>\n",
       "      <th>start_date</th>\n",
       "      <th>end_date</th>\n",
       "      <th>premium</th>\n",
       "      <th>report_no</th>\n",
       "      <th>registration_no</th>\n",
       "      <th>claim_no</th>\n",
       "      <th>paid</th>\n",
       "      <th>report_date</th>\n",
       "      <th>registration_date</th>\n",
       "      <th>accident_date</th>\n",
       "    </tr>\n",
       "  </thead>\n",
       "  <tbody>\n",
       "    <tr>\n",
       "      <th>0</th>\n",
       "      <td>LMGMS1G86H1S00121</td>\n",
       "      <td>301031714401900011126</td>\n",
       "      <td>11/15/2017</td>\n",
       "      <td>2/14/2018</td>\n",
       "      <td>766.36</td>\n",
       "      <td>NaN</td>\n",
       "      <td>NaN</td>\n",
       "      <td>NaN</td>\n",
       "      <td>NaN</td>\n",
       "      <td>NaN</td>\n",
       "      <td>NaN</td>\n",
       "      <td>NaN</td>\n",
       "    </tr>\n",
       "    <tr>\n",
       "      <th>1</th>\n",
       "      <td>LMGMS1G89H1S00128</td>\n",
       "      <td>301031714401900011139</td>\n",
       "      <td>11/15/2017</td>\n",
       "      <td>3/14/2018</td>\n",
       "      <td>999.59</td>\n",
       "      <td>NaN</td>\n",
       "      <td>NaN</td>\n",
       "      <td>NaN</td>\n",
       "      <td>NaN</td>\n",
       "      <td>NaN</td>\n",
       "      <td>NaN</td>\n",
       "      <td>NaN</td>\n",
       "    </tr>\n",
       "    <tr>\n",
       "      <th>2</th>\n",
       "      <td>LMGMS1G89H1S00131</td>\n",
       "      <td>301031714401900011197</td>\n",
       "      <td>11/21/2017</td>\n",
       "      <td>2/20/2018</td>\n",
       "      <td>1700.53</td>\n",
       "      <td>NaN</td>\n",
       "      <td>NaN</td>\n",
       "      <td>NaN</td>\n",
       "      <td>NaN</td>\n",
       "      <td>NaN</td>\n",
       "      <td>NaN</td>\n",
       "      <td>NaN</td>\n",
       "    </tr>\n",
       "    <tr>\n",
       "      <th>3</th>\n",
       "      <td>LMGMS1G81H1S00138</td>\n",
       "      <td>301031714401900011277</td>\n",
       "      <td>12/4/2017</td>\n",
       "      <td>3/3/2018</td>\n",
       "      <td>1802.87</td>\n",
       "      <td>NaN</td>\n",
       "      <td>NaN</td>\n",
       "      <td>NaN</td>\n",
       "      <td>NaN</td>\n",
       "      <td>NaN</td>\n",
       "      <td>NaN</td>\n",
       "      <td>NaN</td>\n",
       "    </tr>\n",
       "    <tr>\n",
       "      <th>4</th>\n",
       "      <td>LMGMS1G80H1S00163</td>\n",
       "      <td>301031714401900011280</td>\n",
       "      <td>11/24/2017</td>\n",
       "      <td>12/24/2017</td>\n",
       "      <td>573.78</td>\n",
       "      <td>NaN</td>\n",
       "      <td>NaN</td>\n",
       "      <td>NaN</td>\n",
       "      <td>NaN</td>\n",
       "      <td>NaN</td>\n",
       "      <td>NaN</td>\n",
       "      <td>NaN</td>\n",
       "    </tr>\n",
       "  </tbody>\n",
       "</table>\n",
       "</div>"
      ],
      "text/plain": [
       "                 vin              policy_no  start_date    end_date  premium  \\\n",
       "0  LMGMS1G86H1S00121  301031714401900011126  11/15/2017   2/14/2018   766.36   \n",
       "1  LMGMS1G89H1S00128  301031714401900011139  11/15/2017   3/14/2018   999.59   \n",
       "2  LMGMS1G89H1S00131  301031714401900011197  11/21/2017   2/20/2018  1700.53   \n",
       "3  LMGMS1G81H1S00138  301031714401900011277   12/4/2017    3/3/2018  1802.87   \n",
       "4  LMGMS1G80H1S00163  301031714401900011280  11/24/2017  12/24/2017   573.78   \n",
       "\n",
       "  report_no registration_no claim_no  paid report_date registration_date  \\\n",
       "0       NaN             NaN      NaN   NaN         NaN               NaN   \n",
       "1       NaN             NaN      NaN   NaN         NaN               NaN   \n",
       "2       NaN             NaN      NaN   NaN         NaN               NaN   \n",
       "3       NaN             NaN      NaN   NaN         NaN               NaN   \n",
       "4       NaN             NaN      NaN   NaN         NaN               NaN   \n",
       "\n",
       "  accident_date  \n",
       "0           NaN  \n",
       "1           NaN  \n",
       "2           NaN  \n",
       "3           NaN  \n",
       "4           NaN  "
      ]
     },
     "execution_count": 1,
     "metadata": {},
     "output_type": "execute_result"
    }
   ],
   "source": [
    "import pandas as pd\n",
    "import scikitplot as skplt\n",
    "import matplotlib.pyplot as plt\n",
    "\n",
    "claim_data = pd.read_csv(\"claim_data.csv\", header=0)\n",
    "\n",
    "print(claim_data.shape)\n",
    "\n",
    "claim_data.head()"
   ]
  },
  {
   "cell_type": "code",
   "execution_count": 2,
   "metadata": {},
   "outputs": [
    {
     "name": "stdout",
     "output_type": "stream",
     "text": [
      "(1789, 2)\n"
     ]
    },
    {
     "data": {
      "text/html": [
       "<div>\n",
       "<style scoped>\n",
       "    .dataframe tbody tr th:only-of-type {\n",
       "        vertical-align: middle;\n",
       "    }\n",
       "\n",
       "    .dataframe tbody tr th {\n",
       "        vertical-align: top;\n",
       "    }\n",
       "\n",
       "    .dataframe thead th {\n",
       "        text-align: right;\n",
       "    }\n",
       "</style>\n",
       "<table border=\"1\" class=\"dataframe\">\n",
       "  <thead>\n",
       "    <tr style=\"text-align: right;\">\n",
       "      <th></th>\n",
       "      <th>vin</th>\n",
       "      <th>accident_date</th>\n",
       "    </tr>\n",
       "  </thead>\n",
       "  <tbody>\n",
       "    <tr>\n",
       "      <th>0</th>\n",
       "      <td>LMGMS1G86H1S00121</td>\n",
       "      <td>NaN</td>\n",
       "    </tr>\n",
       "    <tr>\n",
       "      <th>1</th>\n",
       "      <td>LMGMS1G89H1S00128</td>\n",
       "      <td>NaN</td>\n",
       "    </tr>\n",
       "    <tr>\n",
       "      <th>2</th>\n",
       "      <td>LMGMS1G89H1S00131</td>\n",
       "      <td>NaN</td>\n",
       "    </tr>\n",
       "    <tr>\n",
       "      <th>3</th>\n",
       "      <td>LMGMS1G81H1S00138</td>\n",
       "      <td>NaN</td>\n",
       "    </tr>\n",
       "    <tr>\n",
       "      <th>4</th>\n",
       "      <td>LMGMS1G80H1S00163</td>\n",
       "      <td>NaN</td>\n",
       "    </tr>\n",
       "  </tbody>\n",
       "</table>\n",
       "</div>"
      ],
      "text/plain": [
       "                 vin accident_date\n",
       "0  LMGMS1G86H1S00121           NaN\n",
       "1  LMGMS1G89H1S00128           NaN\n",
       "2  LMGMS1G89H1S00131           NaN\n",
       "3  LMGMS1G81H1S00138           NaN\n",
       "4  LMGMS1G80H1S00163           NaN"
      ]
     },
     "execution_count": 2,
     "metadata": {},
     "output_type": "execute_result"
    }
   ],
   "source": [
    "claim_data = claim_data[[\"vin\", \"accident_date\"]]\n",
    "\n",
    "print(claim_data.shape)\n",
    "\n",
    "claim_data.head()"
   ]
  },
  {
   "cell_type": "code",
   "execution_count": 3,
   "metadata": {},
   "outputs": [
    {
     "name": "stdout",
     "output_type": "stream",
     "text": [
      "(1581, 2)\n"
     ]
    },
    {
     "data": {
      "text/html": [
       "<div>\n",
       "<style scoped>\n",
       "    .dataframe tbody tr th:only-of-type {\n",
       "        vertical-align: middle;\n",
       "    }\n",
       "\n",
       "    .dataframe tbody tr th {\n",
       "        vertical-align: top;\n",
       "    }\n",
       "\n",
       "    .dataframe thead th {\n",
       "        text-align: right;\n",
       "    }\n",
       "</style>\n",
       "<table border=\"1\" class=\"dataframe\">\n",
       "  <thead>\n",
       "    <tr style=\"text-align: right;\">\n",
       "      <th></th>\n",
       "      <th>vin</th>\n",
       "      <th>accident_date</th>\n",
       "    </tr>\n",
       "  </thead>\n",
       "  <tbody>\n",
       "    <tr>\n",
       "      <th>0</th>\n",
       "      <td>LMGMS1G80H1000349</td>\n",
       "      <td>0</td>\n",
       "    </tr>\n",
       "    <tr>\n",
       "      <th>1</th>\n",
       "      <td>LMGMS1G80H1000366</td>\n",
       "      <td>1</td>\n",
       "    </tr>\n",
       "    <tr>\n",
       "      <th>2</th>\n",
       "      <td>LMGMS1G80H1S00163</td>\n",
       "      <td>0</td>\n",
       "    </tr>\n",
       "    <tr>\n",
       "      <th>3</th>\n",
       "      <td>LMGMS1G80H1S00177</td>\n",
       "      <td>0</td>\n",
       "    </tr>\n",
       "    <tr>\n",
       "      <th>4</th>\n",
       "      <td>LMGMS1G80H1S00227</td>\n",
       "      <td>0</td>\n",
       "    </tr>\n",
       "  </tbody>\n",
       "</table>\n",
       "</div>"
      ],
      "text/plain": [
       "                 vin  accident_date\n",
       "0  LMGMS1G80H1000349              0\n",
       "1  LMGMS1G80H1000366              1\n",
       "2  LMGMS1G80H1S00163              0\n",
       "3  LMGMS1G80H1S00177              0\n",
       "4  LMGMS1G80H1S00227              0"
      ]
     },
     "execution_count": 3,
     "metadata": {},
     "output_type": "execute_result"
    }
   ],
   "source": [
    "claim_data = claim_data.groupby(\"vin\", as_index=False).count()\n",
    "\n",
    "print(claim_data.shape)\n",
    "\n",
    "claim_data.head()"
   ]
  },
  {
   "cell_type": "code",
   "execution_count": 4,
   "metadata": {},
   "outputs": [
    {
     "name": "stdout",
     "output_type": "stream",
     "text": [
      "(1581, 2)\n"
     ]
    },
    {
     "data": {
      "text/html": [
       "<div>\n",
       "<style scoped>\n",
       "    .dataframe tbody tr th:only-of-type {\n",
       "        vertical-align: middle;\n",
       "    }\n",
       "\n",
       "    .dataframe tbody tr th {\n",
       "        vertical-align: top;\n",
       "    }\n",
       "\n",
       "    .dataframe thead th {\n",
       "        text-align: right;\n",
       "    }\n",
       "</style>\n",
       "<table border=\"1\" class=\"dataframe\">\n",
       "  <thead>\n",
       "    <tr style=\"text-align: right;\">\n",
       "      <th></th>\n",
       "      <th>vin</th>\n",
       "      <th>accident_date</th>\n",
       "    </tr>\n",
       "  </thead>\n",
       "  <tbody>\n",
       "    <tr>\n",
       "      <th>0</th>\n",
       "      <td>LMGMS1G80H1000349</td>\n",
       "      <td>0</td>\n",
       "    </tr>\n",
       "    <tr>\n",
       "      <th>1</th>\n",
       "      <td>LMGMS1G80H1000366</td>\n",
       "      <td>1</td>\n",
       "    </tr>\n",
       "    <tr>\n",
       "      <th>2</th>\n",
       "      <td>LMGMS1G80H1S00163</td>\n",
       "      <td>0</td>\n",
       "    </tr>\n",
       "    <tr>\n",
       "      <th>3</th>\n",
       "      <td>LMGMS1G80H1S00177</td>\n",
       "      <td>0</td>\n",
       "    </tr>\n",
       "    <tr>\n",
       "      <th>4</th>\n",
       "      <td>LMGMS1G80H1S00227</td>\n",
       "      <td>0</td>\n",
       "    </tr>\n",
       "  </tbody>\n",
       "</table>\n",
       "</div>"
      ],
      "text/plain": [
       "                 vin  accident_date\n",
       "0  LMGMS1G80H1000349              0\n",
       "1  LMGMS1G80H1000366              1\n",
       "2  LMGMS1G80H1S00163              0\n",
       "3  LMGMS1G80H1S00177              0\n",
       "4  LMGMS1G80H1S00227              0"
      ]
     },
     "execution_count": 4,
     "metadata": {},
     "output_type": "execute_result"
    }
   ],
   "source": [
    "claim_new = claim_data.rename(columns={'accident_date': 'tot_accidents'})\n",
    "claim_new['tot_accidents'] = claim_new['tot_accidents'].apply(lambda x: x if x <= 0 else 1)\n",
    "\n",
    "print(claim_data.shape)\n",
    "\n",
    "claim_data.head()"
   ]
  },
  {
   "cell_type": "markdown",
   "metadata": {},
   "source": [
    "# Run model on ubi_stats"
   ]
  },
  {
   "cell_type": "code",
   "execution_count": 5,
   "metadata": {},
   "outputs": [
    {
     "data": {
      "text/html": [
       "<div>\n",
       "<style scoped>\n",
       "    .dataframe tbody tr th:only-of-type {\n",
       "        vertical-align: middle;\n",
       "    }\n",
       "\n",
       "    .dataframe tbody tr th {\n",
       "        vertical-align: top;\n",
       "    }\n",
       "\n",
       "    .dataframe thead th {\n",
       "        text-align: right;\n",
       "    }\n",
       "</style>\n",
       "<table border=\"1\" class=\"dataframe\">\n",
       "  <thead>\n",
       "    <tr style=\"text-align: right;\">\n",
       "      <th></th>\n",
       "      <th>ubi_stats.vin</th>\n",
       "      <th>ubi_stats.acce_count</th>\n",
       "      <th>ubi_stats.agg_break_count</th>\n",
       "      <th>ubi_stats.agg_takeoff_count</th>\n",
       "      <th>ubi_stats.decel_count</th>\n",
       "      <th>ubi_stats.distance_driven</th>\n",
       "      <th>ubi_stats.driving_hours</th>\n",
       "      <th>ubi_stats.fuel_consumption</th>\n",
       "      <th>ubi_stats.high_speed_percentage</th>\n",
       "      <th>ubi_stats.mean_acce</th>\n",
       "      <th>...</th>\n",
       "      <th>ubi_stats.entropy</th>\n",
       "      <th>ubi_stats.entropy_last_month</th>\n",
       "      <th>ubi_stats.long_distance_count</th>\n",
       "      <th>ubi_stats.night_driving_hours</th>\n",
       "      <th>ubi_stats.percent_am_peak</th>\n",
       "      <th>ubi_stats.percent_long_distance</th>\n",
       "      <th>ubi_stats.percent_night_driving</th>\n",
       "      <th>ubi_stats.percent_pm_peak</th>\n",
       "      <th>ubi_stats.pm_peak_hours</th>\n",
       "      <th>ubi_stats.day</th>\n",
       "    </tr>\n",
       "  </thead>\n",
       "  <tbody>\n",
       "    <tr>\n",
       "      <th>0</th>\n",
       "      <td>LMGMS1G86H1S00099</td>\n",
       "      <td>0.0</td>\n",
       "      <td>0.0</td>\n",
       "      <td>0.0</td>\n",
       "      <td>0.0</td>\n",
       "      <td>1.0</td>\n",
       "      <td>14.636111</td>\n",
       "      <td>0.000194</td>\n",
       "      <td>0.0</td>\n",
       "      <td>0.071335</td>\n",
       "      <td>...</td>\n",
       "      <td>0.943891</td>\n",
       "      <td>0.594390</td>\n",
       "      <td>0.0</td>\n",
       "      <td>0.0</td>\n",
       "      <td>0.263158</td>\n",
       "      <td>0.0</td>\n",
       "      <td>0.0</td>\n",
       "      <td>0.0</td>\n",
       "      <td>0.0</td>\n",
       "      <td>2017-09-26</td>\n",
       "    </tr>\n",
       "    <tr>\n",
       "      <th>1</th>\n",
       "      <td>LMGMS1G86H1S00099</td>\n",
       "      <td>0.0</td>\n",
       "      <td>0.0</td>\n",
       "      <td>0.0</td>\n",
       "      <td>0.0</td>\n",
       "      <td>0.0</td>\n",
       "      <td>6.831389</td>\n",
       "      <td>0.000000</td>\n",
       "      <td>0.0</td>\n",
       "      <td>0.066062</td>\n",
       "      <td>...</td>\n",
       "      <td>0.943891</td>\n",
       "      <td>0.489892</td>\n",
       "      <td>0.0</td>\n",
       "      <td>0.0</td>\n",
       "      <td>0.237658</td>\n",
       "      <td>0.0</td>\n",
       "      <td>0.0</td>\n",
       "      <td>0.0</td>\n",
       "      <td>0.0</td>\n",
       "      <td>2017-09-27</td>\n",
       "    </tr>\n",
       "    <tr>\n",
       "      <th>2</th>\n",
       "      <td>LMGMS1G86H1S00099</td>\n",
       "      <td>0.0</td>\n",
       "      <td>0.0</td>\n",
       "      <td>0.0</td>\n",
       "      <td>0.0</td>\n",
       "      <td>1.0</td>\n",
       "      <td>7.389444</td>\n",
       "      <td>0.000015</td>\n",
       "      <td>0.0</td>\n",
       "      <td>0.085359</td>\n",
       "      <td>...</td>\n",
       "      <td>0.943891</td>\n",
       "      <td>0.587585</td>\n",
       "      <td>0.0</td>\n",
       "      <td>0.0</td>\n",
       "      <td>0.229529</td>\n",
       "      <td>0.0</td>\n",
       "      <td>0.0</td>\n",
       "      <td>0.0</td>\n",
       "      <td>0.0</td>\n",
       "      <td>2017-09-28</td>\n",
       "    </tr>\n",
       "    <tr>\n",
       "      <th>3</th>\n",
       "      <td>LMGMS1G86H1S00099</td>\n",
       "      <td>0.0</td>\n",
       "      <td>0.0</td>\n",
       "      <td>0.0</td>\n",
       "      <td>0.0</td>\n",
       "      <td>0.0</td>\n",
       "      <td>5.529444</td>\n",
       "      <td>0.000000</td>\n",
       "      <td>0.0</td>\n",
       "      <td>0.081631</td>\n",
       "      <td>...</td>\n",
       "      <td>0.943891</td>\n",
       "      <td>0.528321</td>\n",
       "      <td>0.0</td>\n",
       "      <td>0.0</td>\n",
       "      <td>0.212777</td>\n",
       "      <td>0.0</td>\n",
       "      <td>0.0</td>\n",
       "      <td>0.0</td>\n",
       "      <td>0.0</td>\n",
       "      <td>2017-09-29</td>\n",
       "    </tr>\n",
       "    <tr>\n",
       "      <th>4</th>\n",
       "      <td>LMGMS1G89H1S00100</td>\n",
       "      <td>2.0</td>\n",
       "      <td>0.0</td>\n",
       "      <td>0.0</td>\n",
       "      <td>0.0</td>\n",
       "      <td>10.0</td>\n",
       "      <td>5.642500</td>\n",
       "      <td>0.028613</td>\n",
       "      <td>0.0</td>\n",
       "      <td>0.151694</td>\n",
       "      <td>...</td>\n",
       "      <td>8.304969</td>\n",
       "      <td>0.314494</td>\n",
       "      <td>0.0</td>\n",
       "      <td>0.0</td>\n",
       "      <td>0.408519</td>\n",
       "      <td>0.0</td>\n",
       "      <td>0.0</td>\n",
       "      <td>0.0</td>\n",
       "      <td>0.0</td>\n",
       "      <td>2017-09-30</td>\n",
       "    </tr>\n",
       "  </tbody>\n",
       "</table>\n",
       "<p>5 rows × 35 columns</p>\n",
       "</div>"
      ],
      "text/plain": [
       "       ubi_stats.vin  ubi_stats.acce_count  ubi_stats.agg_break_count  \\\n",
       "0  LMGMS1G86H1S00099                   0.0                        0.0   \n",
       "1  LMGMS1G86H1S00099                   0.0                        0.0   \n",
       "2  LMGMS1G86H1S00099                   0.0                        0.0   \n",
       "3  LMGMS1G86H1S00099                   0.0                        0.0   \n",
       "4  LMGMS1G89H1S00100                   2.0                        0.0   \n",
       "\n",
       "   ubi_stats.agg_takeoff_count  ubi_stats.decel_count  \\\n",
       "0                          0.0                    0.0   \n",
       "1                          0.0                    0.0   \n",
       "2                          0.0                    0.0   \n",
       "3                          0.0                    0.0   \n",
       "4                          0.0                    0.0   \n",
       "\n",
       "   ubi_stats.distance_driven  ubi_stats.driving_hours  \\\n",
       "0                        1.0                14.636111   \n",
       "1                        0.0                 6.831389   \n",
       "2                        1.0                 7.389444   \n",
       "3                        0.0                 5.529444   \n",
       "4                       10.0                 5.642500   \n",
       "\n",
       "   ubi_stats.fuel_consumption  ubi_stats.high_speed_percentage  \\\n",
       "0                    0.000194                              0.0   \n",
       "1                    0.000000                              0.0   \n",
       "2                    0.000015                              0.0   \n",
       "3                    0.000000                              0.0   \n",
       "4                    0.028613                              0.0   \n",
       "\n",
       "   ubi_stats.mean_acce      ...        ubi_stats.entropy  \\\n",
       "0             0.071335      ...                 0.943891   \n",
       "1             0.066062      ...                 0.943891   \n",
       "2             0.085359      ...                 0.943891   \n",
       "3             0.081631      ...                 0.943891   \n",
       "4             0.151694      ...                 8.304969   \n",
       "\n",
       "   ubi_stats.entropy_last_month  ubi_stats.long_distance_count  \\\n",
       "0                      0.594390                            0.0   \n",
       "1                      0.489892                            0.0   \n",
       "2                      0.587585                            0.0   \n",
       "3                      0.528321                            0.0   \n",
       "4                      0.314494                            0.0   \n",
       "\n",
       "   ubi_stats.night_driving_hours  ubi_stats.percent_am_peak  \\\n",
       "0                            0.0                   0.263158   \n",
       "1                            0.0                   0.237658   \n",
       "2                            0.0                   0.229529   \n",
       "3                            0.0                   0.212777   \n",
       "4                            0.0                   0.408519   \n",
       "\n",
       "   ubi_stats.percent_long_distance  ubi_stats.percent_night_driving  \\\n",
       "0                              0.0                              0.0   \n",
       "1                              0.0                              0.0   \n",
       "2                              0.0                              0.0   \n",
       "3                              0.0                              0.0   \n",
       "4                              0.0                              0.0   \n",
       "\n",
       "   ubi_stats.percent_pm_peak  ubi_stats.pm_peak_hours  ubi_stats.day  \n",
       "0                        0.0                      0.0     2017-09-26  \n",
       "1                        0.0                      0.0     2017-09-27  \n",
       "2                        0.0                      0.0     2017-09-28  \n",
       "3                        0.0                      0.0     2017-09-29  \n",
       "4                        0.0                      0.0     2017-09-30  \n",
       "\n",
       "[5 rows x 35 columns]"
      ]
     },
     "execution_count": 5,
     "metadata": {},
     "output_type": "execute_result"
    }
   ],
   "source": [
    "all_metrics_data = pd.read_csv(\"ubi_stat.csv\",sep='\\t',header=0)\n",
    "all_metrics_data.head()"
   ]
  },
  {
   "cell_type": "code",
   "execution_count": 6,
   "metadata": {},
   "outputs": [
    {
     "name": "stdout",
     "output_type": "stream",
     "text": [
      "(3047869, 34)\n"
     ]
    },
    {
     "data": {
      "text/html": [
       "<div>\n",
       "<style scoped>\n",
       "    .dataframe tbody tr th:only-of-type {\n",
       "        vertical-align: middle;\n",
       "    }\n",
       "\n",
       "    .dataframe tbody tr th {\n",
       "        vertical-align: top;\n",
       "    }\n",
       "\n",
       "    .dataframe thead th {\n",
       "        text-align: right;\n",
       "    }\n",
       "</style>\n",
       "<table border=\"1\" class=\"dataframe\">\n",
       "  <thead>\n",
       "    <tr style=\"text-align: right;\">\n",
       "      <th></th>\n",
       "      <th>ubi_stats.vin</th>\n",
       "      <th>ubi_stats.acce_count</th>\n",
       "      <th>ubi_stats.agg_break_count</th>\n",
       "      <th>ubi_stats.agg_takeoff_count</th>\n",
       "      <th>ubi_stats.decel_count</th>\n",
       "      <th>ubi_stats.distance_driven</th>\n",
       "      <th>ubi_stats.driving_hours</th>\n",
       "      <th>ubi_stats.fuel_consumption</th>\n",
       "      <th>ubi_stats.high_speed_percentage</th>\n",
       "      <th>ubi_stats.mean_acce</th>\n",
       "      <th>...</th>\n",
       "      <th>ubi_stats.am_peak_hours</th>\n",
       "      <th>ubi_stats.entropy</th>\n",
       "      <th>ubi_stats.entropy_last_month</th>\n",
       "      <th>ubi_stats.long_distance_count</th>\n",
       "      <th>ubi_stats.night_driving_hours</th>\n",
       "      <th>ubi_stats.percent_am_peak</th>\n",
       "      <th>ubi_stats.percent_long_distance</th>\n",
       "      <th>ubi_stats.percent_night_driving</th>\n",
       "      <th>ubi_stats.percent_pm_peak</th>\n",
       "      <th>ubi_stats.pm_peak_hours</th>\n",
       "    </tr>\n",
       "  </thead>\n",
       "  <tbody>\n",
       "    <tr>\n",
       "      <th>0</th>\n",
       "      <td>LMGMS1G86H1S00099</td>\n",
       "      <td>0.0</td>\n",
       "      <td>0.0</td>\n",
       "      <td>0.0</td>\n",
       "      <td>0.0</td>\n",
       "      <td>1.0</td>\n",
       "      <td>14.636111</td>\n",
       "      <td>0.000194</td>\n",
       "      <td>0.0</td>\n",
       "      <td>0.071335</td>\n",
       "      <td>...</td>\n",
       "      <td>0.906944</td>\n",
       "      <td>0.943891</td>\n",
       "      <td>0.594390</td>\n",
       "      <td>0.0</td>\n",
       "      <td>0.0</td>\n",
       "      <td>0.263158</td>\n",
       "      <td>0.0</td>\n",
       "      <td>0.0</td>\n",
       "      <td>0.0</td>\n",
       "      <td>0.0</td>\n",
       "    </tr>\n",
       "    <tr>\n",
       "      <th>1</th>\n",
       "      <td>LMGMS1G86H1S00099</td>\n",
       "      <td>0.0</td>\n",
       "      <td>0.0</td>\n",
       "      <td>0.0</td>\n",
       "      <td>0.0</td>\n",
       "      <td>0.0</td>\n",
       "      <td>6.831389</td>\n",
       "      <td>0.000000</td>\n",
       "      <td>0.0</td>\n",
       "      <td>0.066062</td>\n",
       "      <td>...</td>\n",
       "      <td>2.178333</td>\n",
       "      <td>0.943891</td>\n",
       "      <td>0.489892</td>\n",
       "      <td>0.0</td>\n",
       "      <td>0.0</td>\n",
       "      <td>0.237658</td>\n",
       "      <td>0.0</td>\n",
       "      <td>0.0</td>\n",
       "      <td>0.0</td>\n",
       "      <td>0.0</td>\n",
       "    </tr>\n",
       "    <tr>\n",
       "      <th>2</th>\n",
       "      <td>LMGMS1G86H1S00099</td>\n",
       "      <td>0.0</td>\n",
       "      <td>0.0</td>\n",
       "      <td>0.0</td>\n",
       "      <td>0.0</td>\n",
       "      <td>1.0</td>\n",
       "      <td>7.389444</td>\n",
       "      <td>0.000015</td>\n",
       "      <td>0.0</td>\n",
       "      <td>0.085359</td>\n",
       "      <td>...</td>\n",
       "      <td>3.551389</td>\n",
       "      <td>0.943891</td>\n",
       "      <td>0.587585</td>\n",
       "      <td>0.0</td>\n",
       "      <td>0.0</td>\n",
       "      <td>0.229529</td>\n",
       "      <td>0.0</td>\n",
       "      <td>0.0</td>\n",
       "      <td>0.0</td>\n",
       "      <td>0.0</td>\n",
       "    </tr>\n",
       "    <tr>\n",
       "      <th>3</th>\n",
       "      <td>LMGMS1G86H1S00099</td>\n",
       "      <td>0.0</td>\n",
       "      <td>0.0</td>\n",
       "      <td>0.0</td>\n",
       "      <td>0.0</td>\n",
       "      <td>0.0</td>\n",
       "      <td>5.529444</td>\n",
       "      <td>0.000000</td>\n",
       "      <td>0.0</td>\n",
       "      <td>0.081631</td>\n",
       "      <td>...</td>\n",
       "      <td>4.835000</td>\n",
       "      <td>0.943891</td>\n",
       "      <td>0.528321</td>\n",
       "      <td>0.0</td>\n",
       "      <td>0.0</td>\n",
       "      <td>0.212777</td>\n",
       "      <td>0.0</td>\n",
       "      <td>0.0</td>\n",
       "      <td>0.0</td>\n",
       "      <td>0.0</td>\n",
       "    </tr>\n",
       "    <tr>\n",
       "      <th>4</th>\n",
       "      <td>LMGMS1G89H1S00100</td>\n",
       "      <td>2.0</td>\n",
       "      <td>0.0</td>\n",
       "      <td>0.0</td>\n",
       "      <td>0.0</td>\n",
       "      <td>10.0</td>\n",
       "      <td>5.642500</td>\n",
       "      <td>0.028613</td>\n",
       "      <td>0.0</td>\n",
       "      <td>0.151694</td>\n",
       "      <td>...</td>\n",
       "      <td>1.955556</td>\n",
       "      <td>8.304969</td>\n",
       "      <td>0.314494</td>\n",
       "      <td>0.0</td>\n",
       "      <td>0.0</td>\n",
       "      <td>0.408519</td>\n",
       "      <td>0.0</td>\n",
       "      <td>0.0</td>\n",
       "      <td>0.0</td>\n",
       "      <td>0.0</td>\n",
       "    </tr>\n",
       "  </tbody>\n",
       "</table>\n",
       "<p>5 rows × 34 columns</p>\n",
       "</div>"
      ],
      "text/plain": [
       "       ubi_stats.vin  ubi_stats.acce_count  ubi_stats.agg_break_count  \\\n",
       "0  LMGMS1G86H1S00099                   0.0                        0.0   \n",
       "1  LMGMS1G86H1S00099                   0.0                        0.0   \n",
       "2  LMGMS1G86H1S00099                   0.0                        0.0   \n",
       "3  LMGMS1G86H1S00099                   0.0                        0.0   \n",
       "4  LMGMS1G89H1S00100                   2.0                        0.0   \n",
       "\n",
       "   ubi_stats.agg_takeoff_count  ubi_stats.decel_count  \\\n",
       "0                          0.0                    0.0   \n",
       "1                          0.0                    0.0   \n",
       "2                          0.0                    0.0   \n",
       "3                          0.0                    0.0   \n",
       "4                          0.0                    0.0   \n",
       "\n",
       "   ubi_stats.distance_driven  ubi_stats.driving_hours  \\\n",
       "0                        1.0                14.636111   \n",
       "1                        0.0                 6.831389   \n",
       "2                        1.0                 7.389444   \n",
       "3                        0.0                 5.529444   \n",
       "4                       10.0                 5.642500   \n",
       "\n",
       "   ubi_stats.fuel_consumption  ubi_stats.high_speed_percentage  \\\n",
       "0                    0.000194                              0.0   \n",
       "1                    0.000000                              0.0   \n",
       "2                    0.000015                              0.0   \n",
       "3                    0.000000                              0.0   \n",
       "4                    0.028613                              0.0   \n",
       "\n",
       "   ubi_stats.mean_acce           ...             ubi_stats.am_peak_hours  \\\n",
       "0             0.071335           ...                            0.906944   \n",
       "1             0.066062           ...                            2.178333   \n",
       "2             0.085359           ...                            3.551389   \n",
       "3             0.081631           ...                            4.835000   \n",
       "4             0.151694           ...                            1.955556   \n",
       "\n",
       "   ubi_stats.entropy  ubi_stats.entropy_last_month  \\\n",
       "0           0.943891                      0.594390   \n",
       "1           0.943891                      0.489892   \n",
       "2           0.943891                      0.587585   \n",
       "3           0.943891                      0.528321   \n",
       "4           8.304969                      0.314494   \n",
       "\n",
       "   ubi_stats.long_distance_count  ubi_stats.night_driving_hours  \\\n",
       "0                            0.0                            0.0   \n",
       "1                            0.0                            0.0   \n",
       "2                            0.0                            0.0   \n",
       "3                            0.0                            0.0   \n",
       "4                            0.0                            0.0   \n",
       "\n",
       "   ubi_stats.percent_am_peak  ubi_stats.percent_long_distance  \\\n",
       "0                   0.263158                              0.0   \n",
       "1                   0.237658                              0.0   \n",
       "2                   0.229529                              0.0   \n",
       "3                   0.212777                              0.0   \n",
       "4                   0.408519                              0.0   \n",
       "\n",
       "   ubi_stats.percent_night_driving  ubi_stats.percent_pm_peak  \\\n",
       "0                              0.0                        0.0   \n",
       "1                              0.0                        0.0   \n",
       "2                              0.0                        0.0   \n",
       "3                              0.0                        0.0   \n",
       "4                              0.0                        0.0   \n",
       "\n",
       "   ubi_stats.pm_peak_hours  \n",
       "0                      0.0  \n",
       "1                      0.0  \n",
       "2                      0.0  \n",
       "3                      0.0  \n",
       "4                      0.0  \n",
       "\n",
       "[5 rows x 34 columns]"
      ]
     },
     "execution_count": 6,
     "metadata": {},
     "output_type": "execute_result"
    }
   ],
   "source": [
    "all_metrics_data = all_metrics_data.drop([\"ubi_stats.day\"], axis=1)\n",
    "all_metrics_data.fillna(0, inplace=True)\n",
    "print(all_metrics_data.shape)\n",
    "all_metrics_data.head()"
   ]
  },
  {
   "cell_type": "code",
   "execution_count": 7,
   "metadata": {},
   "outputs": [
    {
     "name": "stdout",
     "output_type": "stream",
     "text": [
      "(27062, 34)\n"
     ]
    },
    {
     "data": {
      "text/html": [
       "<div>\n",
       "<style scoped>\n",
       "    .dataframe tbody tr th:only-of-type {\n",
       "        vertical-align: middle;\n",
       "    }\n",
       "\n",
       "    .dataframe tbody tr th {\n",
       "        vertical-align: top;\n",
       "    }\n",
       "\n",
       "    .dataframe thead th {\n",
       "        text-align: right;\n",
       "    }\n",
       "</style>\n",
       "<table border=\"1\" class=\"dataframe\">\n",
       "  <thead>\n",
       "    <tr style=\"text-align: right;\">\n",
       "      <th></th>\n",
       "      <th>ubi_stats.vin</th>\n",
       "      <th>ubi_stats.acce_count</th>\n",
       "      <th>ubi_stats.agg_break_count</th>\n",
       "      <th>ubi_stats.agg_takeoff_count</th>\n",
       "      <th>ubi_stats.decel_count</th>\n",
       "      <th>ubi_stats.distance_driven</th>\n",
       "      <th>ubi_stats.driving_hours</th>\n",
       "      <th>ubi_stats.fuel_consumption</th>\n",
       "      <th>ubi_stats.high_speed_percentage</th>\n",
       "      <th>ubi_stats.mean_acce</th>\n",
       "      <th>...</th>\n",
       "      <th>ubi_stats.am_peak_hours</th>\n",
       "      <th>ubi_stats.entropy</th>\n",
       "      <th>ubi_stats.entropy_last_month</th>\n",
       "      <th>ubi_stats.long_distance_count</th>\n",
       "      <th>ubi_stats.night_driving_hours</th>\n",
       "      <th>ubi_stats.percent_am_peak</th>\n",
       "      <th>ubi_stats.percent_long_distance</th>\n",
       "      <th>ubi_stats.percent_night_driving</th>\n",
       "      <th>ubi_stats.percent_pm_peak</th>\n",
       "      <th>ubi_stats.pm_peak_hours</th>\n",
       "    </tr>\n",
       "  </thead>\n",
       "  <tbody>\n",
       "    <tr>\n",
       "      <th>0</th>\n",
       "      <td>600VG3071H710001C</td>\n",
       "      <td>0.0</td>\n",
       "      <td>0.0</td>\n",
       "      <td>0.0</td>\n",
       "      <td>0.0</td>\n",
       "      <td>2.0</td>\n",
       "      <td>2.210694</td>\n",
       "      <td>0.000309</td>\n",
       "      <td>0.0</td>\n",
       "      <td>0.102446</td>\n",
       "      <td>...</td>\n",
       "      <td>2.333889</td>\n",
       "      <td>3.392147</td>\n",
       "      <td>0.463325</td>\n",
       "      <td>0.0</td>\n",
       "      <td>0.00</td>\n",
       "      <td>0.293058</td>\n",
       "      <td>0.000000</td>\n",
       "      <td>0.000000</td>\n",
       "      <td>0.000000</td>\n",
       "      <td>0.000000</td>\n",
       "    </tr>\n",
       "    <tr>\n",
       "      <th>1</th>\n",
       "      <td>845VG3071H5261289</td>\n",
       "      <td>0.0</td>\n",
       "      <td>0.0</td>\n",
       "      <td>0.0</td>\n",
       "      <td>0.0</td>\n",
       "      <td>1.0</td>\n",
       "      <td>1.898194</td>\n",
       "      <td>0.000103</td>\n",
       "      <td>0.0</td>\n",
       "      <td>0.132566</td>\n",
       "      <td>...</td>\n",
       "      <td>2.280000</td>\n",
       "      <td>3.100351</td>\n",
       "      <td>0.469000</td>\n",
       "      <td>0.0</td>\n",
       "      <td>0.00</td>\n",
       "      <td>0.198324</td>\n",
       "      <td>0.000000</td>\n",
       "      <td>0.000000</td>\n",
       "      <td>0.000000</td>\n",
       "      <td>0.000000</td>\n",
       "    </tr>\n",
       "    <tr>\n",
       "      <th>2</th>\n",
       "      <td>845VG3071J4190PB2</td>\n",
       "      <td>0.0</td>\n",
       "      <td>0.0</td>\n",
       "      <td>0.0</td>\n",
       "      <td>0.0</td>\n",
       "      <td>3.0</td>\n",
       "      <td>7.086944</td>\n",
       "      <td>0.003432</td>\n",
       "      <td>0.0</td>\n",
       "      <td>0.089097</td>\n",
       "      <td>...</td>\n",
       "      <td>0.560417</td>\n",
       "      <td>3.546594</td>\n",
       "      <td>1.488648</td>\n",
       "      <td>0.0</td>\n",
       "      <td>0.00</td>\n",
       "      <td>0.120585</td>\n",
       "      <td>0.000000</td>\n",
       "      <td>0.000000</td>\n",
       "      <td>0.000000</td>\n",
       "      <td>0.000000</td>\n",
       "    </tr>\n",
       "    <tr>\n",
       "      <th>3</th>\n",
       "      <td>LMGMS1G80H1000013</td>\n",
       "      <td>0.0</td>\n",
       "      <td>2.0</td>\n",
       "      <td>0.0</td>\n",
       "      <td>3.0</td>\n",
       "      <td>81.0</td>\n",
       "      <td>3.651944</td>\n",
       "      <td>2.866278</td>\n",
       "      <td>0.0</td>\n",
       "      <td>0.367570</td>\n",
       "      <td>...</td>\n",
       "      <td>13.996667</td>\n",
       "      <td>10.926558</td>\n",
       "      <td>1.222883</td>\n",
       "      <td>5.0</td>\n",
       "      <td>0.41</td>\n",
       "      <td>0.141939</td>\n",
       "      <td>0.018732</td>\n",
       "      <td>0.004991</td>\n",
       "      <td>0.044805</td>\n",
       "      <td>4.928333</td>\n",
       "    </tr>\n",
       "    <tr>\n",
       "      <th>4</th>\n",
       "      <td>LMGMS1G80H1000027</td>\n",
       "      <td>0.0</td>\n",
       "      <td>2.0</td>\n",
       "      <td>0.0</td>\n",
       "      <td>2.0</td>\n",
       "      <td>5.0</td>\n",
       "      <td>0.547778</td>\n",
       "      <td>0.171842</td>\n",
       "      <td>0.0</td>\n",
       "      <td>0.383548</td>\n",
       "      <td>...</td>\n",
       "      <td>2.928333</td>\n",
       "      <td>5.098957</td>\n",
       "      <td>0.260459</td>\n",
       "      <td>0.0</td>\n",
       "      <td>0.00</td>\n",
       "      <td>0.179932</td>\n",
       "      <td>0.000000</td>\n",
       "      <td>0.000000</td>\n",
       "      <td>0.000000</td>\n",
       "      <td>0.000000</td>\n",
       "    </tr>\n",
       "  </tbody>\n",
       "</table>\n",
       "<p>5 rows × 34 columns</p>\n",
       "</div>"
      ],
      "text/plain": [
       "       ubi_stats.vin  ubi_stats.acce_count  ubi_stats.agg_break_count  \\\n",
       "0  600VG3071H710001C                   0.0                        0.0   \n",
       "1  845VG3071H5261289                   0.0                        0.0   \n",
       "2  845VG3071J4190PB2                   0.0                        0.0   \n",
       "3  LMGMS1G80H1000013                   0.0                        2.0   \n",
       "4  LMGMS1G80H1000027                   0.0                        2.0   \n",
       "\n",
       "   ubi_stats.agg_takeoff_count  ubi_stats.decel_count  \\\n",
       "0                          0.0                    0.0   \n",
       "1                          0.0                    0.0   \n",
       "2                          0.0                    0.0   \n",
       "3                          0.0                    3.0   \n",
       "4                          0.0                    2.0   \n",
       "\n",
       "   ubi_stats.distance_driven  ubi_stats.driving_hours  \\\n",
       "0                        2.0                 2.210694   \n",
       "1                        1.0                 1.898194   \n",
       "2                        3.0                 7.086944   \n",
       "3                       81.0                 3.651944   \n",
       "4                        5.0                 0.547778   \n",
       "\n",
       "   ubi_stats.fuel_consumption  ubi_stats.high_speed_percentage  \\\n",
       "0                    0.000309                              0.0   \n",
       "1                    0.000103                              0.0   \n",
       "2                    0.003432                              0.0   \n",
       "3                    2.866278                              0.0   \n",
       "4                    0.171842                              0.0   \n",
       "\n",
       "   ubi_stats.mean_acce           ...             ubi_stats.am_peak_hours  \\\n",
       "0             0.102446           ...                            2.333889   \n",
       "1             0.132566           ...                            2.280000   \n",
       "2             0.089097           ...                            0.560417   \n",
       "3             0.367570           ...                           13.996667   \n",
       "4             0.383548           ...                            2.928333   \n",
       "\n",
       "   ubi_stats.entropy  ubi_stats.entropy_last_month  \\\n",
       "0           3.392147                      0.463325   \n",
       "1           3.100351                      0.469000   \n",
       "2           3.546594                      1.488648   \n",
       "3          10.926558                      1.222883   \n",
       "4           5.098957                      0.260459   \n",
       "\n",
       "   ubi_stats.long_distance_count  ubi_stats.night_driving_hours  \\\n",
       "0                            0.0                           0.00   \n",
       "1                            0.0                           0.00   \n",
       "2                            0.0                           0.00   \n",
       "3                            5.0                           0.41   \n",
       "4                            0.0                           0.00   \n",
       "\n",
       "   ubi_stats.percent_am_peak  ubi_stats.percent_long_distance  \\\n",
       "0                   0.293058                         0.000000   \n",
       "1                   0.198324                         0.000000   \n",
       "2                   0.120585                         0.000000   \n",
       "3                   0.141939                         0.018732   \n",
       "4                   0.179932                         0.000000   \n",
       "\n",
       "   ubi_stats.percent_night_driving  ubi_stats.percent_pm_peak  \\\n",
       "0                         0.000000                   0.000000   \n",
       "1                         0.000000                   0.000000   \n",
       "2                         0.000000                   0.000000   \n",
       "3                         0.004991                   0.044805   \n",
       "4                         0.000000                   0.000000   \n",
       "\n",
       "   ubi_stats.pm_peak_hours  \n",
       "0                 0.000000  \n",
       "1                 0.000000  \n",
       "2                 0.000000  \n",
       "3                 4.928333  \n",
       "4                 0.000000  \n",
       "\n",
       "[5 rows x 34 columns]"
      ]
     },
     "execution_count": 7,
     "metadata": {},
     "output_type": "execute_result"
    }
   ],
   "source": [
    "all_metrics_data = all_metrics_data.groupby(\"ubi_stats.vin\", as_index=False).median()\n",
    "\n",
    "print(all_metrics_data.shape)\n",
    "\n",
    "all_metrics_data.head()"
   ]
  },
  {
   "cell_type": "code",
   "execution_count": 8,
   "metadata": {},
   "outputs": [
    {
     "data": {
      "text/plain": [
       "Index([u'ubi_stats.vin', u'ubi_stats.acce_count', u'ubi_stats.agg_break_count',\n",
       "       u'ubi_stats.agg_takeoff_count', u'ubi_stats.decel_count',\n",
       "       u'ubi_stats.distance_driven', u'ubi_stats.driving_hours',\n",
       "       u'ubi_stats.fuel_consumption', u'ubi_stats.high_speed_percentage',\n",
       "       u'ubi_stats.mean_acce', u'ubi_stats.mean_decel',\n",
       "       u'ubi_stats.mean_fuel_efficiency', u'ubi_stats.median_acce',\n",
       "       u'ubi_stats.median_decel', u'ubi_stats.odo_end',\n",
       "       u'ubi_stats.speed_average', u'ubi_stats.speed_average_pos',\n",
       "       u'ubi_stats.speed_max', u'ubi_stats.speeding_count10',\n",
       "       u'ubi_stats.speeding_count20', u'ubi_stats.speeding_count30',\n",
       "       u'ubi_stats.speeding_count40', u'ubi_stats.speeding_count40_plus',\n",
       "       u'ubi_stats.turn_count', u'ubi_stats.am_peak_hours',\n",
       "       u'ubi_stats.entropy', u'ubi_stats.entropy_last_month',\n",
       "       u'ubi_stats.long_distance_count', u'ubi_stats.night_driving_hours',\n",
       "       u'ubi_stats.percent_am_peak', u'ubi_stats.percent_long_distance',\n",
       "       u'ubi_stats.percent_night_driving', u'ubi_stats.percent_pm_peak',\n",
       "       u'ubi_stats.pm_peak_hours'],\n",
       "      dtype='object')"
      ]
     },
     "execution_count": 8,
     "metadata": {},
     "output_type": "execute_result"
    }
   ],
   "source": [
    "all_metrics_data.columns"
   ]
  },
  {
   "cell_type": "markdown",
   "metadata": {},
   "source": [
    "# modfiy column name"
   ]
  },
  {
   "cell_type": "code",
   "execution_count": 9,
   "metadata": {},
   "outputs": [
    {
     "data": {
      "text/plain": [
       "\"\\ndf.columns = df.columns.str.replace('$','')\\n\""
      ]
     },
     "execution_count": 9,
     "metadata": {},
     "output_type": "execute_result"
    }
   ],
   "source": [
    "\"\"\"\n",
    "new_columns = all_metrics_data.columns.values\n",
    "new_columns[0] = 'vin'\n",
    "all_metrics_data.columns = new_columns\n",
    "\"\"\"\n",
    "\"\"\"\n",
    "df.columns = df.columns.str.replace('$','')\n",
    "\"\"\""
   ]
  },
  {
   "cell_type": "code",
   "execution_count": 10,
   "metadata": {},
   "outputs": [],
   "source": [
    "#all_metrics_data.rename(columns={'oldName1': 'newName1', 'oldName2': 'newName2'}, inplace=True)\n",
    "all_metrics_data.rename(lambda x: x[10:], axis='columns', inplace=True)"
   ]
  },
  {
   "cell_type": "code",
   "execution_count": 11,
   "metadata": {},
   "outputs": [
    {
     "data": {
      "text/plain": [
       "Index([u'vin', u'acce_count', u'agg_break_count', u'agg_takeoff_count',\n",
       "       u'decel_count', u'distance_driven', u'driving_hours',\n",
       "       u'fuel_consumption', u'high_speed_percentage', u'mean_acce',\n",
       "       u'mean_decel', u'mean_fuel_efficiency', u'median_acce', u'median_decel',\n",
       "       u'odo_end', u'speed_average', u'speed_average_pos', u'speed_max',\n",
       "       u'speeding_count10', u'speeding_count20', u'speeding_count30',\n",
       "       u'speeding_count40', u'speeding_count40_plus', u'turn_count',\n",
       "       u'am_peak_hours', u'entropy', u'entropy_last_month',\n",
       "       u'long_distance_count', u'night_driving_hours', u'percent_am_peak',\n",
       "       u'percent_long_distance', u'percent_night_driving', u'percent_pm_peak',\n",
       "       u'pm_peak_hours'],\n",
       "      dtype='object')"
      ]
     },
     "execution_count": 11,
     "metadata": {},
     "output_type": "execute_result"
    }
   ],
   "source": [
    "all_metrics_data.columns"
   ]
  },
  {
   "cell_type": "code",
   "execution_count": 12,
   "metadata": {},
   "outputs": [
    {
     "name": "stdout",
     "output_type": "stream",
     "text": [
      "(1581, 35)\n"
     ]
    },
    {
     "data": {
      "text/html": [
       "<div>\n",
       "<style scoped>\n",
       "    .dataframe tbody tr th:only-of-type {\n",
       "        vertical-align: middle;\n",
       "    }\n",
       "\n",
       "    .dataframe tbody tr th {\n",
       "        vertical-align: top;\n",
       "    }\n",
       "\n",
       "    .dataframe thead th {\n",
       "        text-align: right;\n",
       "    }\n",
       "</style>\n",
       "<table border=\"1\" class=\"dataframe\">\n",
       "  <thead>\n",
       "    <tr style=\"text-align: right;\">\n",
       "      <th></th>\n",
       "      <th>vin</th>\n",
       "      <th>acce_count</th>\n",
       "      <th>agg_break_count</th>\n",
       "      <th>agg_takeoff_count</th>\n",
       "      <th>decel_count</th>\n",
       "      <th>distance_driven</th>\n",
       "      <th>driving_hours</th>\n",
       "      <th>fuel_consumption</th>\n",
       "      <th>high_speed_percentage</th>\n",
       "      <th>mean_acce</th>\n",
       "      <th>...</th>\n",
       "      <th>entropy</th>\n",
       "      <th>entropy_last_month</th>\n",
       "      <th>long_distance_count</th>\n",
       "      <th>night_driving_hours</th>\n",
       "      <th>percent_am_peak</th>\n",
       "      <th>percent_long_distance</th>\n",
       "      <th>percent_night_driving</th>\n",
       "      <th>percent_pm_peak</th>\n",
       "      <th>pm_peak_hours</th>\n",
       "      <th>tot_accidents</th>\n",
       "    </tr>\n",
       "  </thead>\n",
       "  <tbody>\n",
       "    <tr>\n",
       "      <th>0</th>\n",
       "      <td>LMGMS1G80H1000349</td>\n",
       "      <td>0.0</td>\n",
       "      <td>2.0</td>\n",
       "      <td>0.0</td>\n",
       "      <td>2.0</td>\n",
       "      <td>38.0</td>\n",
       "      <td>1.694444</td>\n",
       "      <td>1.535503</td>\n",
       "      <td>0.0</td>\n",
       "      <td>0.399755</td>\n",
       "      <td>...</td>\n",
       "      <td>9.693698</td>\n",
       "      <td>0.654252</td>\n",
       "      <td>2.0</td>\n",
       "      <td>1.169167</td>\n",
       "      <td>0.152846</td>\n",
       "      <td>0.007937</td>\n",
       "      <td>0.018098</td>\n",
       "      <td>0.013967</td>\n",
       "      <td>0.766944</td>\n",
       "      <td>0</td>\n",
       "    </tr>\n",
       "    <tr>\n",
       "      <th>1</th>\n",
       "      <td>LMGMS1G80H1000366</td>\n",
       "      <td>0.0</td>\n",
       "      <td>1.0</td>\n",
       "      <td>0.0</td>\n",
       "      <td>1.0</td>\n",
       "      <td>11.0</td>\n",
       "      <td>1.406667</td>\n",
       "      <td>0.151815</td>\n",
       "      <td>0.0</td>\n",
       "      <td>0.286709</td>\n",
       "      <td>...</td>\n",
       "      <td>8.890954</td>\n",
       "      <td>0.378577</td>\n",
       "      <td>0.0</td>\n",
       "      <td>0.000000</td>\n",
       "      <td>0.149385</td>\n",
       "      <td>0.000000</td>\n",
       "      <td>0.000000</td>\n",
       "      <td>0.040256</td>\n",
       "      <td>1.018333</td>\n",
       "      <td>1</td>\n",
       "    </tr>\n",
       "    <tr>\n",
       "      <th>2</th>\n",
       "      <td>LMGMS1G80H1S00163</td>\n",
       "      <td>0.0</td>\n",
       "      <td>0.0</td>\n",
       "      <td>0.0</td>\n",
       "      <td>0.0</td>\n",
       "      <td>20.0</td>\n",
       "      <td>0.881944</td>\n",
       "      <td>0.797743</td>\n",
       "      <td>0.0</td>\n",
       "      <td>0.366820</td>\n",
       "      <td>...</td>\n",
       "      <td>8.163081</td>\n",
       "      <td>0.392016</td>\n",
       "      <td>0.0</td>\n",
       "      <td>3.611667</td>\n",
       "      <td>0.077001</td>\n",
       "      <td>0.000000</td>\n",
       "      <td>0.099558</td>\n",
       "      <td>0.052064</td>\n",
       "      <td>1.478889</td>\n",
       "      <td>0</td>\n",
       "    </tr>\n",
       "    <tr>\n",
       "      <th>3</th>\n",
       "      <td>LMGMS1G80H1S00177</td>\n",
       "      <td>0.0</td>\n",
       "      <td>3.0</td>\n",
       "      <td>0.0</td>\n",
       "      <td>3.0</td>\n",
       "      <td>54.0</td>\n",
       "      <td>2.094444</td>\n",
       "      <td>1.980575</td>\n",
       "      <td>0.0</td>\n",
       "      <td>0.360304</td>\n",
       "      <td>...</td>\n",
       "      <td>9.279598</td>\n",
       "      <td>0.574436</td>\n",
       "      <td>0.0</td>\n",
       "      <td>0.993611</td>\n",
       "      <td>0.117424</td>\n",
       "      <td>0.000000</td>\n",
       "      <td>0.026452</td>\n",
       "      <td>0.006415</td>\n",
       "      <td>0.190833</td>\n",
       "      <td>0</td>\n",
       "    </tr>\n",
       "    <tr>\n",
       "      <th>4</th>\n",
       "      <td>LMGMS1G80H1S00227</td>\n",
       "      <td>0.0</td>\n",
       "      <td>2.0</td>\n",
       "      <td>0.0</td>\n",
       "      <td>2.0</td>\n",
       "      <td>44.0</td>\n",
       "      <td>1.441667</td>\n",
       "      <td>1.933524</td>\n",
       "      <td>0.0</td>\n",
       "      <td>0.371428</td>\n",
       "      <td>...</td>\n",
       "      <td>7.359179</td>\n",
       "      <td>0.458581</td>\n",
       "      <td>0.0</td>\n",
       "      <td>3.176667</td>\n",
       "      <td>0.089208</td>\n",
       "      <td>0.000000</td>\n",
       "      <td>0.130130</td>\n",
       "      <td>0.000000</td>\n",
       "      <td>0.000000</td>\n",
       "      <td>0</td>\n",
       "    </tr>\n",
       "  </tbody>\n",
       "</table>\n",
       "<p>5 rows × 35 columns</p>\n",
       "</div>"
      ],
      "text/plain": [
       "                 vin  acce_count  agg_break_count  agg_takeoff_count  \\\n",
       "0  LMGMS1G80H1000349         0.0              2.0                0.0   \n",
       "1  LMGMS1G80H1000366         0.0              1.0                0.0   \n",
       "2  LMGMS1G80H1S00163         0.0              0.0                0.0   \n",
       "3  LMGMS1G80H1S00177         0.0              3.0                0.0   \n",
       "4  LMGMS1G80H1S00227         0.0              2.0                0.0   \n",
       "\n",
       "   decel_count  distance_driven  driving_hours  fuel_consumption  \\\n",
       "0          2.0             38.0       1.694444          1.535503   \n",
       "1          1.0             11.0       1.406667          0.151815   \n",
       "2          0.0             20.0       0.881944          0.797743   \n",
       "3          3.0             54.0       2.094444          1.980575   \n",
       "4          2.0             44.0       1.441667          1.933524   \n",
       "\n",
       "   high_speed_percentage  mean_acce      ...         entropy  \\\n",
       "0                    0.0   0.399755      ...        9.693698   \n",
       "1                    0.0   0.286709      ...        8.890954   \n",
       "2                    0.0   0.366820      ...        8.163081   \n",
       "3                    0.0   0.360304      ...        9.279598   \n",
       "4                    0.0   0.371428      ...        7.359179   \n",
       "\n",
       "   entropy_last_month  long_distance_count  night_driving_hours  \\\n",
       "0            0.654252                  2.0             1.169167   \n",
       "1            0.378577                  0.0             0.000000   \n",
       "2            0.392016                  0.0             3.611667   \n",
       "3            0.574436                  0.0             0.993611   \n",
       "4            0.458581                  0.0             3.176667   \n",
       "\n",
       "   percent_am_peak  percent_long_distance  percent_night_driving  \\\n",
       "0         0.152846               0.007937               0.018098   \n",
       "1         0.149385               0.000000               0.000000   \n",
       "2         0.077001               0.000000               0.099558   \n",
       "3         0.117424               0.000000               0.026452   \n",
       "4         0.089208               0.000000               0.130130   \n",
       "\n",
       "   percent_pm_peak  pm_peak_hours  tot_accidents  \n",
       "0         0.013967       0.766944              0  \n",
       "1         0.040256       1.018333              1  \n",
       "2         0.052064       1.478889              0  \n",
       "3         0.006415       0.190833              0  \n",
       "4         0.000000       0.000000              0  \n",
       "\n",
       "[5 rows x 35 columns]"
      ]
     },
     "execution_count": 12,
     "metadata": {},
     "output_type": "execute_result"
    }
   ],
   "source": [
    "df_all = pd.merge(all_metrics_data, claim_new, on='vin', how='inner')\n",
    "\n",
    "print(df_all.shape)\n",
    "\n",
    "df_all.head()"
   ]
  },
  {
   "cell_type": "code",
   "execution_count": 13,
   "metadata": {},
   "outputs": [
    {
     "data": {
      "text/plain": [
       "Index([u'acce_count', u'agg_break_count', u'agg_takeoff_count', u'decel_count',\n",
       "       u'distance_driven', u'driving_hours', u'fuel_consumption',\n",
       "       u'high_speed_percentage', u'mean_acce', u'mean_decel',\n",
       "       u'mean_fuel_efficiency', u'median_acce', u'median_decel', u'odo_end',\n",
       "       u'speed_average', u'speed_average_pos', u'speed_max',\n",
       "       u'speeding_count10', u'speeding_count20', u'speeding_count30',\n",
       "       u'speeding_count40', u'speeding_count40_plus', u'turn_count',\n",
       "       u'am_peak_hours', u'entropy', u'entropy_last_month',\n",
       "       u'long_distance_count', u'night_driving_hours', u'percent_am_peak',\n",
       "       u'percent_long_distance', u'percent_night_driving', u'percent_pm_peak',\n",
       "       u'pm_peak_hours', u'tot_accidents'],\n",
       "      dtype='object')"
      ]
     },
     "execution_count": 13,
     "metadata": {},
     "output_type": "execute_result"
    }
   ],
   "source": [
    "df_all.to_csv(\"metrics_and_claims.csv\", header=True, index=False)\n",
    "\n",
    "df_all = df_all.drop(\"vin\", axis=1)\n",
    "\n",
    "df_all.columns"
   ]
  },
  {
   "cell_type": "code",
   "execution_count": 14,
   "metadata": {},
   "outputs": [
    {
     "data": {
      "text/plain": [
       "acce_count               1581\n",
       "agg_break_count          1581\n",
       "agg_takeoff_count        1581\n",
       "decel_count              1581\n",
       "distance_driven          1581\n",
       "driving_hours            1581\n",
       "fuel_consumption         1581\n",
       "high_speed_percentage    1581\n",
       "mean_acce                1581\n",
       "mean_decel               1581\n",
       "mean_fuel_efficiency     1581\n",
       "median_acce              1581\n",
       "median_decel             1581\n",
       "odo_end                  1581\n",
       "speed_average            1581\n",
       "speed_average_pos        1581\n",
       "speed_max                1581\n",
       "speeding_count10         1581\n",
       "speeding_count20         1581\n",
       "speeding_count30         1581\n",
       "speeding_count40         1581\n",
       "speeding_count40_plus    1581\n",
       "turn_count               1581\n",
       "am_peak_hours            1581\n",
       "entropy                  1581\n",
       "entropy_last_month       1581\n",
       "long_distance_count      1581\n",
       "night_driving_hours      1581\n",
       "percent_am_peak          1581\n",
       "percent_long_distance    1581\n",
       "percent_night_driving    1581\n",
       "percent_pm_peak          1581\n",
       "pm_peak_hours            1581\n",
       "tot_accidents            1581\n",
       "dtype: int64"
      ]
     },
     "execution_count": 14,
     "metadata": {},
     "output_type": "execute_result"
    }
   ],
   "source": [
    "df_all.count()"
   ]
  },
  {
   "cell_type": "code",
   "execution_count": 15,
   "metadata": {},
   "outputs": [
    {
     "data": {
      "text/plain": [
       "acce_count               337\n",
       "agg_break_count          337\n",
       "agg_takeoff_count        337\n",
       "decel_count              337\n",
       "distance_driven          337\n",
       "driving_hours            337\n",
       "fuel_consumption         337\n",
       "high_speed_percentage    337\n",
       "mean_acce                337\n",
       "mean_decel               337\n",
       "mean_fuel_efficiency     337\n",
       "median_acce              337\n",
       "median_decel             337\n",
       "odo_end                  337\n",
       "speed_average            337\n",
       "speed_average_pos        337\n",
       "speed_max                337\n",
       "speeding_count10         337\n",
       "speeding_count20         337\n",
       "speeding_count30         337\n",
       "speeding_count40         337\n",
       "speeding_count40_plus    337\n",
       "turn_count               337\n",
       "am_peak_hours            337\n",
       "entropy                  337\n",
       "entropy_last_month       337\n",
       "long_distance_count      337\n",
       "night_driving_hours      337\n",
       "percent_am_peak          337\n",
       "percent_long_distance    337\n",
       "percent_night_driving    337\n",
       "percent_pm_peak          337\n",
       "pm_peak_hours            337\n",
       "tot_accidents            337\n",
       "dtype: int64"
      ]
     },
     "execution_count": 15,
     "metadata": {},
     "output_type": "execute_result"
    }
   ],
   "source": [
    "df_all[df_all['tot_accidents']>0].count()"
   ]
  },
  {
   "cell_type": "markdown",
   "metadata": {},
   "source": [
    "# Split into train and test"
   ]
  },
  {
   "cell_type": "code",
   "execution_count": 16,
   "metadata": {},
   "outputs": [
    {
     "data": {
      "text/plain": [
       "acce_count               1264\n",
       "agg_break_count          1264\n",
       "agg_takeoff_count        1264\n",
       "decel_count              1264\n",
       "distance_driven          1264\n",
       "driving_hours            1264\n",
       "fuel_consumption         1264\n",
       "high_speed_percentage    1264\n",
       "mean_acce                1264\n",
       "mean_decel               1264\n",
       "mean_fuel_efficiency     1264\n",
       "median_acce              1264\n",
       "median_decel             1264\n",
       "odo_end                  1264\n",
       "speed_average            1264\n",
       "speed_average_pos        1264\n",
       "speed_max                1264\n",
       "speeding_count10         1264\n",
       "speeding_count20         1264\n",
       "speeding_count30         1264\n",
       "speeding_count40         1264\n",
       "speeding_count40_plus    1264\n",
       "turn_count               1264\n",
       "am_peak_hours            1264\n",
       "entropy                  1264\n",
       "entropy_last_month       1264\n",
       "long_distance_count      1264\n",
       "night_driving_hours      1264\n",
       "percent_am_peak          1264\n",
       "percent_long_distance    1264\n",
       "percent_night_driving    1264\n",
       "percent_pm_peak          1264\n",
       "pm_peak_hours            1264\n",
       "tot_accidents            1264\n",
       "dtype: int64"
      ]
     },
     "execution_count": 16,
     "metadata": {},
     "output_type": "execute_result"
    }
   ],
   "source": [
    "from sklearn.model_selection import train_test_split\n",
    "train,test = train_test_split(df_all, test_size=0.2)\n",
    "train.count()"
   ]
  },
  {
   "cell_type": "code",
   "execution_count": 17,
   "metadata": {},
   "outputs": [
    {
     "data": {
      "text/plain": [
       "acce_count               317\n",
       "agg_break_count          317\n",
       "agg_takeoff_count        317\n",
       "decel_count              317\n",
       "distance_driven          317\n",
       "driving_hours            317\n",
       "fuel_consumption         317\n",
       "high_speed_percentage    317\n",
       "mean_acce                317\n",
       "mean_decel               317\n",
       "mean_fuel_efficiency     317\n",
       "median_acce              317\n",
       "median_decel             317\n",
       "odo_end                  317\n",
       "speed_average            317\n",
       "speed_average_pos        317\n",
       "speed_max                317\n",
       "speeding_count10         317\n",
       "speeding_count20         317\n",
       "speeding_count30         317\n",
       "speeding_count40         317\n",
       "speeding_count40_plus    317\n",
       "turn_count               317\n",
       "am_peak_hours            317\n",
       "entropy                  317\n",
       "entropy_last_month       317\n",
       "long_distance_count      317\n",
       "night_driving_hours      317\n",
       "percent_am_peak          317\n",
       "percent_long_distance    317\n",
       "percent_night_driving    317\n",
       "percent_pm_peak          317\n",
       "pm_peak_hours            317\n",
       "tot_accidents            317\n",
       "dtype: int64"
      ]
     },
     "execution_count": 17,
     "metadata": {},
     "output_type": "execute_result"
    }
   ],
   "source": [
    "test.count()"
   ]
  },
  {
   "cell_type": "code",
   "execution_count": 18,
   "metadata": {},
   "outputs": [
    {
     "data": {
      "text/html": [
       "<div>\n",
       "<style scoped>\n",
       "    .dataframe tbody tr th:only-of-type {\n",
       "        vertical-align: middle;\n",
       "    }\n",
       "\n",
       "    .dataframe tbody tr th {\n",
       "        vertical-align: top;\n",
       "    }\n",
       "\n",
       "    .dataframe thead th {\n",
       "        text-align: right;\n",
       "    }\n",
       "</style>\n",
       "<table border=\"1\" class=\"dataframe\">\n",
       "  <thead>\n",
       "    <tr style=\"text-align: right;\">\n",
       "      <th></th>\n",
       "      <th>tot_accidents</th>\n",
       "    </tr>\n",
       "  </thead>\n",
       "  <tbody>\n",
       "    <tr>\n",
       "      <th>1065</th>\n",
       "      <td>0</td>\n",
       "    </tr>\n",
       "    <tr>\n",
       "      <th>905</th>\n",
       "      <td>0</td>\n",
       "    </tr>\n",
       "  </tbody>\n",
       "</table>\n",
       "</div>"
      ],
      "text/plain": [
       "      tot_accidents\n",
       "1065              0\n",
       "905               0"
      ]
     },
     "execution_count": 18,
     "metadata": {},
     "output_type": "execute_result"
    }
   ],
   "source": [
    "test.iloc[0:2,-1:]"
   ]
  },
  {
   "cell_type": "markdown",
   "metadata": {},
   "source": [
    "# SVM"
   ]
  },
  {
   "cell_type": "code",
   "execution_count": 19,
   "metadata": {},
   "outputs": [
    {
     "name": "stderr",
     "output_type": "stream",
     "text": [
      "/usr/lib64/python2.7/site-packages/sklearn/utils/validation.py:761: DataConversionWarning: A column-vector y was passed when a 1d array was expected. Please change the shape of y to (n_samples, ), for example using ravel().\n",
      "  y = column_or_1d(y, warn=True)\n"
     ]
    },
    {
     "data": {
      "text/plain": [
       "SVC(C=1.0, cache_size=200, class_weight=None, coef0=0.0,\n",
       "  decision_function_shape='ovr', degree=3, gamma='scale', kernel='rbf',\n",
       "  max_iter=-1, probability=True, random_state=None, shrinking=True,\n",
       "  tol=0.001, verbose=False)"
      ]
     },
     "execution_count": 19,
     "metadata": {},
     "output_type": "execute_result"
    }
   ],
   "source": [
    "from sklearn import svm\n",
    "clf = svm.SVC(gamma='scale',probability=True)\n",
    "clf.fit(train.iloc[:,:-1].values, train.iloc[:,-1:].values)  #before, row;after, column"
   ]
  },
  {
   "cell_type": "code",
   "execution_count": 20,
   "metadata": {},
   "outputs": [
    {
     "data": {
      "text/plain": [
       "0.7539432176656151"
      ]
     },
     "execution_count": 20,
     "metadata": {},
     "output_type": "execute_result"
    }
   ],
   "source": [
    "from sklearn.metrics import accuracy_score\n",
    "pred = clf.predict(test.iloc[:,:-1].values)\n",
    "accuracy_score(test.iloc[:,-1:].values, pred)"
   ]
  },
  {
   "cell_type": "code",
   "execution_count": 21,
   "metadata": {},
   "outputs": [
    {
     "data": {
      "image/png": "[encoded data removed]",
      "text/plain": [
       "<Figure size 432x288 with 2 Axes>"
      ]
     },
     "metadata": {},
     "output_type": "display_data"
    }
   ],
   "source": [
    "skplt.metrics.plot_confusion_matrix(test.iloc[:,-1:].values, clf.predict(test.iloc[:,:-1].values),\n",
    "                                    normalize=True)\n",
    "plt.show()"
   ]
  },
  {
   "cell_type": "code",
   "execution_count": 22,
   "metadata": {},
   "outputs": [
    {
     "data": {
      "text/plain": [
       "array([[238,   3],\n",
       "       [ 75,   1]])"
      ]
     },
     "execution_count": 22,
     "metadata": {},
     "output_type": "execute_result"
    }
   ],
   "source": [
    "from sklearn.metrics import confusion_matrix\n",
    "confusion_matrix(test.iloc[:,-1:].values, pred)"
   ]
  },
  {
   "cell_type": "code",
   "execution_count": 23,
   "metadata": {},
   "outputs": [
    {
     "name": "stdout",
     "output_type": "stream",
     "text": [
      "              precision    recall  f1-score   support\n",
      "\n",
      "    Accident       0.76      0.99      0.86       241\n",
      "      Normal       0.25      0.01      0.03        76\n",
      "\n",
      "   micro avg       0.75      0.75      0.75       317\n",
      "   macro avg       0.51      0.50      0.44       317\n",
      "weighted avg       0.64      0.75      0.66       317\n",
      "\n"
     ]
    }
   ],
   "source": [
    "from sklearn.metrics import classification_report\n",
    "target_names = {'Normal', 'Accident'}\n",
    "print(classification_report(test.iloc[:,-1:].values, pred, target_names = target_names))"
   ]
  },
  {
   "cell_type": "markdown",
   "metadata": {},
   "source": [
    "# Use ROC to evaluation SVM performance "
   ]
  },
  {
   "cell_type": "code",
   "execution_count": 24,
   "metadata": {},
   "outputs": [],
   "source": [
    "from sklearn.metrics import roc_auc_score"
   ]
  },
  {
   "cell_type": "code",
   "execution_count": 25,
   "metadata": {},
   "outputs": [],
   "source": [
    "prob_y = clf.predict_proba(test.iloc[:,:-1].values)"
   ]
  },
  {
   "cell_type": "code",
   "execution_count": 26,
   "metadata": {},
   "outputs": [],
   "source": [
    "# Keep only the positive class\n",
    "prob_y = [p[1] for p in prob_y]"
   ]
  },
  {
   "cell_type": "code",
   "execution_count": 27,
   "metadata": {},
   "outputs": [
    {
     "data": {
      "text/plain": [
       "[0.29260748161294653,\n",
       " 0.19938369351577048,\n",
       " 0.23151455621400666,\n",
       " 0.20533054819052057,\n",
       " 0.20066180337247613]"
      ]
     },
     "execution_count": 27,
     "metadata": {},
     "output_type": "execute_result"
    }
   ],
   "source": [
    "prob_y[:5] # Example"
   ]
  },
  {
   "cell_type": "code",
   "execution_count": 28,
   "metadata": {},
   "outputs": [
    {
     "name": "stdout",
     "output_type": "stream",
     "text": [
      "0.6006224066390041\n"
     ]
    }
   ],
   "source": [
    "print( roc_auc_score(test.iloc[:,-1:].values, prob_y) )"
   ]
  },
  {
   "cell_type": "code",
   "execution_count": 29,
   "metadata": {},
   "outputs": [
    {
     "name": "stderr",
     "output_type": "stream",
     "text": [
      "/usr/lib64/python2.7/site-packages/sklearn/utils/deprecation.py:77: DeprecationWarning: Function plot_roc_curve is deprecated; This will be removed in v0.5.0. Please use scikitplot.metrics.plot_roc instead.\n",
      "  warnings.warn(msg, category=DeprecationWarning)\n"
     ]
    },
    {
     "data": {
      "image/png": "[encoded data removed]",
      "text/plain": [
       "<Figure size 432x288 with 1 Axes>"
      ]
     },
     "metadata": {},
     "output_type": "display_data"
    }
   ],
   "source": [
    "\n",
    "\n",
    "#y_true = # ground truth labels\n",
    "#y_probas = # predicted probabilities generated by sklearn classifier\n",
    "skplt.metrics.plot_roc_curve(test.iloc[:,-1:].values, clf.predict_proba(test.iloc[:,:-1].values))\n",
    "plt.show()"
   ]
  },
  {
   "cell_type": "markdown",
   "metadata": {},
   "source": [
    "# Logistic regression"
   ]
  },
  {
   "cell_type": "code",
   "execution_count": 30,
   "metadata": {},
   "outputs": [],
   "source": [
    "from sklearn.metrics import accuracy_score\n",
    "from sklearn.linear_model import LogisticRegression"
   ]
  },
  {
   "cell_type": "code",
   "execution_count": 31,
   "metadata": {},
   "outputs": [],
   "source": [
    "#train,test = train_test_split(df_all, test_size=0.2)"
   ]
  },
  {
   "cell_type": "code",
   "execution_count": 32,
   "metadata": {},
   "outputs": [
    {
     "data": {
      "text/plain": [
       "0    1003\n",
       "1     261\n",
       "Name: tot_accidents, dtype: int64"
      ]
     },
     "execution_count": 32,
     "metadata": {},
     "output_type": "execute_result"
    }
   ],
   "source": [
    "train.tot_accidents.value_counts()"
   ]
  },
  {
   "cell_type": "code",
   "execution_count": 33,
   "metadata": {},
   "outputs": [],
   "source": [
    "# Separate input features (X) and target variable (y)\n",
    "y = train.tot_accidents \n",
    "X = train.drop('tot_accidents', axis=1)"
   ]
  },
  {
   "cell_type": "code",
   "execution_count": 34,
   "metadata": {},
   "outputs": [],
   "source": [
    "# Train model\n",
    "clf_2 = LogisticRegression(solver='liblinear').fit(X, y)"
   ]
  },
  {
   "cell_type": "code",
   "execution_count": 35,
   "metadata": {},
   "outputs": [],
   "source": [
    "# Predict on training set\n",
    "pred_y_2 = clf_2.predict(X)"
   ]
  },
  {
   "cell_type": "code",
   "execution_count": 36,
   "metadata": {},
   "outputs": [
    {
     "name": "stdout",
     "output_type": "stream",
     "text": [
      "0.7927215189873418\n"
     ]
    }
   ],
   "source": [
    "print( accuracy_score(pred_y_2, y) )"
   ]
  },
  {
   "cell_type": "code",
   "execution_count": 37,
   "metadata": {},
   "outputs": [
    {
     "name": "stdout",
     "output_type": "stream",
     "text": [
      "[0 1]\n"
     ]
    }
   ],
   "source": [
    "import numpy as np\n",
    "print( np.unique( pred_y_2 ) )"
   ]
  },
  {
   "cell_type": "code",
   "execution_count": 38,
   "metadata": {},
   "outputs": [
    {
     "data": {
      "image/png": "[encoded data removed]",
      "text/plain": [
       "<Figure size 432x288 with 2 Axes>"
      ]
     },
     "metadata": {},
     "output_type": "display_data"
    }
   ],
   "source": [
    "skplt.metrics.plot_confusion_matrix(test.iloc[:,-1:].values, clf_2.predict(test.iloc[:,:-1].values),\n",
    "                                    normalize=True)\n",
    "plt.show()"
   ]
  },
  {
   "cell_type": "markdown",
   "metadata": {},
   "source": [
    "# Use ROC to evaluate logistic model performance"
   ]
  },
  {
   "cell_type": "code",
   "execution_count": 39,
   "metadata": {},
   "outputs": [],
   "source": [
    "# Predict class probabilities\n",
    "prob_y_2 = clf_2.predict_proba(test.iloc[:,:-1].values)"
   ]
  },
  {
   "cell_type": "code",
   "execution_count": 40,
   "metadata": {},
   "outputs": [],
   "source": [
    "# Keep only the positive class\n",
    "prob_y_2 = [p[1] for p in prob_y_2]"
   ]
  },
  {
   "cell_type": "code",
   "execution_count": 41,
   "metadata": {},
   "outputs": [
    {
     "data": {
      "text/plain": [
       "[0.36279041242988086,\n",
       " 0.26454838774793743,\n",
       " 0.1607333182937889,\n",
       " 0.1871532656476149,\n",
       " 0.18644539493701887]"
      ]
     },
     "execution_count": 41,
     "metadata": {},
     "output_type": "execute_result"
    }
   ],
   "source": [
    "prob_y_2[:5] # Example"
   ]
  },
  {
   "cell_type": "code",
   "execution_count": 42,
   "metadata": {},
   "outputs": [
    {
     "name": "stdout",
     "output_type": "stream",
     "text": [
      "0.7041930552522385\n"
     ]
    }
   ],
   "source": [
    "print( roc_auc_score(test.iloc[:,-1:].values, prob_y_2) ) "
   ]
  },
  {
   "cell_type": "code",
   "execution_count": 43,
   "metadata": {},
   "outputs": [
    {
     "name": "stderr",
     "output_type": "stream",
     "text": [
      "/usr/lib64/python2.7/site-packages/sklearn/utils/deprecation.py:77: DeprecationWarning: Function plot_roc_curve is deprecated; This will be removed in v0.5.0. Please use scikitplot.metrics.plot_roc instead.\n",
      "  warnings.warn(msg, category=DeprecationWarning)\n"
     ]
    },
    {
     "data": {
      "image/png": "[encoded data removed]",
      "text/plain": [
       "<Figure size 432x288 with 1 Axes>"
      ]
     },
     "metadata": {},
     "output_type": "display_data"
    }
   ],
   "source": [
    "import scikitplot as skplt\n",
    "import matplotlib.pyplot as plt\n",
    "\n",
    "skplt.metrics.plot_roc_curve(test.iloc[:,-1:].values, clf_2.predict_proba(test.iloc[:,:-1].values))\n",
    "plt.show()"
   ]
  },
  {
   "cell_type": "markdown",
   "metadata": {},
   "source": [
    "# Up-sample Minority Class"
   ]
  },
  {
   "cell_type": "code",
   "execution_count": 44,
   "metadata": {},
   "outputs": [],
   "source": [
    "#import the resampling module from Scikit-Learn\n",
    "from sklearn.utils import resample"
   ]
  },
  {
   "cell_type": "code",
   "execution_count": 45,
   "metadata": {},
   "outputs": [],
   "source": [
    "# Separate majority and minority classes\n",
    "df_majority = train[train.tot_accidents==0]\n",
    "df_minority = train[train.tot_accidents==1]"
   ]
  },
  {
   "cell_type": "code",
   "execution_count": 46,
   "metadata": {},
   "outputs": [
    {
     "data": {
      "text/plain": [
       "0    1003\n",
       "1     261\n",
       "Name: tot_accidents, dtype: int64"
      ]
     },
     "execution_count": 46,
     "metadata": {},
     "output_type": "execute_result"
    }
   ],
   "source": [
    "train.tot_accidents.value_counts()"
   ]
  },
  {
   "cell_type": "markdown",
   "metadata": {},
   "source": [
    "# Manually run"
   ]
  },
  {
   "cell_type": "code",
   "execution_count": 47,
   "metadata": {},
   "outputs": [],
   "source": [
    "# Upsample minority class\n",
    "df_minority_upsampled = resample(df_minority, \n",
    "                                 replace=True,     # sample with replacement\n",
    "                                 n_samples=1003,    # to match majority class\n",
    "                                 random_state=123) # reproducible results"
   ]
  },
  {
   "cell_type": "code",
   "execution_count": 48,
   "metadata": {},
   "outputs": [],
   "source": [
    "df_upsampled = pd.concat([df_majority, df_minority_upsampled])"
   ]
  },
  {
   "cell_type": "code",
   "execution_count": 49,
   "metadata": {},
   "outputs": [
    {
     "data": {
      "text/plain": [
       "1    1003\n",
       "0    1003\n",
       "Name: tot_accidents, dtype: int64"
      ]
     },
     "execution_count": 49,
     "metadata": {},
     "output_type": "execute_result"
    }
   ],
   "source": [
    "df_upsampled.tot_accidents.value_counts()"
   ]
  },
  {
   "cell_type": "markdown",
   "metadata": {},
   "source": [
    "# Downsample test data "
   ]
  },
  {
   "cell_type": "code",
   "execution_count": 50,
   "metadata": {},
   "outputs": [],
   "source": [
    "# Separate majority and minority classes\n",
    "test_majority = test[test.tot_accidents==0]\n",
    "test_minority = test[test.tot_accidents==1]"
   ]
  },
  {
   "cell_type": "code",
   "execution_count": 51,
   "metadata": {},
   "outputs": [
    {
     "data": {
      "text/plain": [
       "0    241\n",
       "1     76\n",
       "Name: tot_accidents, dtype: int64"
      ]
     },
     "execution_count": 51,
     "metadata": {},
     "output_type": "execute_result"
    }
   ],
   "source": [
    "test.tot_accidents.value_counts()"
   ]
  },
  {
   "cell_type": "code",
   "execution_count": 53,
   "metadata": {},
   "outputs": [],
   "source": [
    "# Downsample majority class\n",
    "test_majority_downsampled = resample(test_majority, \n",
    "                                 replace=False,    # sample without replacement\n",
    "                                 n_samples=76,     # to match minority class\n",
    "                                 random_state=123) # reproducible results"
   ]
  },
  {
   "cell_type": "code",
   "execution_count": 54,
   "metadata": {},
   "outputs": [],
   "source": [
    "# Combine minority class with downsampled majority class\n",
    "test_balanced = pd.concat([test_majority_downsampled, test_minority])"
   ]
  },
  {
   "cell_type": "code",
   "execution_count": 55,
   "metadata": {},
   "outputs": [
    {
     "data": {
      "text/plain": [
       "1    76\n",
       "0    76\n",
       "Name: tot_accidents, dtype: int64"
      ]
     },
     "execution_count": 55,
     "metadata": {},
     "output_type": "execute_result"
    }
   ],
   "source": [
    "# Display new class counts\n",
    "test_balanced.tot_accidents.value_counts()\n",
    "# 1    49\n",
    "# 0    49\n",
    "# Name: balance, dtype: int64"
   ]
  },
  {
   "cell_type": "markdown",
   "metadata": {},
   "source": [
    "# Separate input features (X) and target variable (y)"
   ]
  },
  {
   "cell_type": "code",
   "execution_count": 56,
   "metadata": {},
   "outputs": [],
   "source": [
    "y_new = df_upsampled.tot_accidents\n",
    "X_new = df_upsampled.drop('tot_accidents', axis=1)"
   ]
  },
  {
   "cell_type": "markdown",
   "metadata": {},
   "source": [
    "# Train logistic model on upsampled dataset"
   ]
  },
  {
   "cell_type": "code",
   "execution_count": 57,
   "metadata": {},
   "outputs": [
    {
     "name": "stdout",
     "output_type": "stream",
     "text": [
      "[0 1]\n"
     ]
    },
    {
     "name": "stderr",
     "output_type": "stream",
     "text": [
      "/usr/lib64/python2.7/site-packages/sklearn/linear_model/logistic.py:433: FutureWarning: Default solver will be changed to 'lbfgs' in 0.22. Specify a solver to silence this warning.\n",
      "  FutureWarning)\n"
     ]
    }
   ],
   "source": [
    "# Train model\n",
    "clf_3 = LogisticRegression(penalty='l1', C=0.5).fit(X_new, y_new)\n",
    " \n",
    "# Predict on test set\n",
    "pred_y_3 = clf_3.predict(test_balanced.iloc[:,:-1].values)\n",
    "\n",
    "# Is our model still predicting just one class?\n",
    "print( np.unique( pred_y_3 ) )"
   ]
  },
  {
   "cell_type": "code",
   "execution_count": 59,
   "metadata": {},
   "outputs": [
    {
     "name": "stdout",
     "output_type": "stream",
     "text": [
      "[[-4.26062764e-01  0.00000000e+00  0.00000000e+00  1.58559526e-02\n",
      "  -5.56792997e-03 -3.20516030e-03  0.00000000e+00  0.00000000e+00\n",
      "   0.00000000e+00  1.26075064e+00  1.85283150e-01  0.00000000e+00\n",
      "   0.00000000e+00  1.44891499e-05 -1.13380834e-01  5.40348094e-02\n",
      "   7.25060602e-03  5.79614946e-03  3.60904997e-03 -7.75285946e-03\n",
      "  -9.51644237e-04  2.33550348e-04  0.00000000e+00 -1.61640826e-02\n",
      "   4.69445974e-01 -1.26390823e+00  0.00000000e+00  3.25723505e-02\n",
      "   0.00000000e+00  0.00000000e+00  0.00000000e+00  0.00000000e+00\n",
      "   8.34811911e-02]]\n"
     ]
    }
   ],
   "source": [
    "print(clf_3.coef_)"
   ]
  },
  {
   "cell_type": "code",
   "execution_count": 58,
   "metadata": {},
   "outputs": [
    {
     "name": "stdout",
     "output_type": "stream",
     "text": [
      "0.6447368421052632\n"
     ]
    }
   ],
   "source": [
    "# How's our accuracy?\n",
    "print( accuracy_score(test_balanced.iloc[:,-1:].values, pred_y_3) )"
   ]
  },
  {
   "cell_type": "markdown",
   "metadata": {},
   "source": [
    "# Use ROC to evalute logistic regression performance after sampling"
   ]
  },
  {
   "cell_type": "code",
   "execution_count": 72,
   "metadata": {},
   "outputs": [],
   "source": [
    "# Predict class probabilities\n",
    "prob_y_3 = clf_3.predict_proba(test_balanced.iloc[:,:-1].values)"
   ]
  },
  {
   "cell_type": "code",
   "execution_count": 73,
   "metadata": {},
   "outputs": [
    {
     "data": {
      "text/plain": [
       "array([0, 1])"
      ]
     },
     "execution_count": 73,
     "metadata": {},
     "output_type": "execute_result"
    }
   ],
   "source": [
    "clf_3.classes_"
   ]
  },
  {
   "cell_type": "code",
   "execution_count": 74,
   "metadata": {},
   "outputs": [
    {
     "name": "stdout",
     "output_type": "stream",
     "text": [
      "[[0.61566271 0.38433729]\n",
      " [0.57608178 0.42391822]\n",
      " [0.65203053 0.34796947]\n",
      " [0.42102484 0.57897516]\n",
      " [0.5589204  0.4410796 ]\n",
      " [0.41150809 0.58849191]\n",
      " [0.34292094 0.65707906]\n",
      " [0.86846262 0.13153738]\n",
      " [0.44280484 0.55719516]\n",
      " [0.72518259 0.27481741]\n",
      " [0.36864193 0.63135807]\n",
      " [0.50619291 0.49380709]\n",
      " [0.65920022 0.34079978]\n",
      " [0.62833661 0.37166339]\n",
      " [0.55863571 0.44136429]\n",
      " [0.67306303 0.32693697]\n",
      " [0.72513269 0.27486731]\n",
      " [0.62562453 0.37437547]\n",
      " [0.84731536 0.15268464]\n",
      " [0.54682661 0.45317339]\n",
      " [0.86013371 0.13986629]\n",
      " [0.46707149 0.53292851]\n",
      " [0.38230808 0.61769192]\n",
      " [0.50740375 0.49259625]\n",
      " [0.5644309  0.4355691 ]\n",
      " [0.30000395 0.69999605]\n",
      " [0.65306009 0.34693991]\n",
      " [0.43543465 0.56456535]\n",
      " [0.87326998 0.12673002]\n",
      " [0.67144187 0.32855813]\n",
      " [0.40222323 0.59777677]\n",
      " [0.34200695 0.65799305]\n",
      " [0.70685785 0.29314215]\n",
      " [0.5437818  0.4562182 ]\n",
      " [0.43124577 0.56875423]\n",
      " [0.49271971 0.50728029]\n",
      " [0.66321717 0.33678283]\n",
      " [0.65723371 0.34276629]\n",
      " [0.48277739 0.51722261]\n",
      " [0.47759434 0.52240566]\n",
      " [0.43158632 0.56841368]\n",
      " [0.35148477 0.64851523]\n",
      " [0.82422089 0.17577911]\n",
      " [0.67260462 0.32739538]\n",
      " [0.4525277  0.5474723 ]\n",
      " [0.82002425 0.17997575]\n",
      " [0.45334998 0.54665002]\n",
      " [0.47594775 0.52405225]\n",
      " [0.51489467 0.48510533]\n",
      " [0.40400511 0.59599489]\n",
      " [0.71087255 0.28912745]\n",
      " [0.62736884 0.37263116]\n",
      " [0.80791005 0.19208995]\n",
      " [0.48948987 0.51051013]\n",
      " [0.5296418  0.4703582 ]\n",
      " [0.69020802 0.30979198]\n",
      " [0.22064808 0.77935192]\n",
      " [0.58127915 0.41872085]\n",
      " [0.74057505 0.25942495]\n",
      " [0.79827828 0.20172172]\n",
      " [0.42715755 0.57284245]\n",
      " [0.72803624 0.27196376]\n",
      " [0.66110704 0.33889296]\n",
      " [0.39077579 0.60922421]\n",
      " [0.62863187 0.37136813]\n",
      " [0.83062413 0.16937587]\n",
      " [0.59707381 0.40292619]\n",
      " [0.62396367 0.37603633]\n",
      " [0.52343117 0.47656883]\n",
      " [0.45601025 0.54398975]\n",
      " [0.60689534 0.39310466]\n",
      " [0.59338981 0.40661019]\n",
      " [0.57010666 0.42989334]\n",
      " [0.60827994 0.39172006]\n",
      " [0.59098612 0.40901388]\n",
      " [0.78194705 0.21805295]\n",
      " [0.51096222 0.48903778]\n",
      " [0.80254547 0.19745453]\n",
      " [0.53038381 0.46961619]\n",
      " [0.61152238 0.38847762]\n",
      " [0.39783285 0.60216715]\n",
      " [0.18609646 0.81390354]\n",
      " [0.56741532 0.43258468]\n",
      " [0.27032179 0.72967821]\n",
      " [0.86587626 0.13412374]\n",
      " [0.49492921 0.50507079]\n",
      " [0.26816956 0.73183044]\n",
      " [0.44929827 0.55070173]\n",
      " [0.41498849 0.58501151]\n",
      " [0.31905292 0.68094708]\n",
      " [0.5279179  0.4720821 ]\n",
      " [0.56494889 0.43505111]\n",
      " [0.33180895 0.66819105]\n",
      " [0.2568135  0.7431865 ]\n",
      " [0.43200731 0.56799269]\n",
      " [0.51956189 0.48043811]\n",
      " [0.31512676 0.68487324]\n",
      " [0.47881646 0.52118354]\n",
      " [0.54714033 0.45285967]\n",
      " [0.24405161 0.75594839]\n",
      " [0.39594458 0.60405542]\n",
      " [0.36793289 0.63206711]\n",
      " [0.39559696 0.60440304]\n",
      " [0.32277574 0.67722426]\n",
      " [0.47288865 0.52711135]\n",
      " [0.51352609 0.48647391]\n",
      " [0.29413998 0.70586002]\n",
      " [0.68019956 0.31980044]\n",
      " [0.36212746 0.63787254]\n",
      " [0.40236889 0.59763111]\n",
      " [0.58574226 0.41425774]\n",
      " [0.32673428 0.67326572]\n",
      " [0.30322277 0.69677723]\n",
      " [0.18106282 0.81893718]\n",
      " [0.63954055 0.36045945]\n",
      " [0.24168242 0.75831758]\n",
      " [0.60440352 0.39559648]\n",
      " [0.33448847 0.66551153]\n",
      " [0.14722724 0.85277276]\n",
      " [0.85051212 0.14948788]\n",
      " [0.44123348 0.55876652]\n",
      " [0.4369914  0.5630086 ]\n",
      " [0.80813362 0.19186638]\n",
      " [0.39701398 0.60298602]\n",
      " [0.55695223 0.44304777]\n",
      " [0.43119494 0.56880506]\n",
      " [0.57321245 0.42678755]\n",
      " [0.39075852 0.60924148]\n",
      " [0.54164593 0.45835407]\n",
      " [0.37463568 0.62536432]\n",
      " [0.59104523 0.40895477]\n",
      " [0.49932382 0.50067618]\n",
      " [0.40090028 0.59909972]\n",
      " [0.37977916 0.62022084]\n",
      " [0.41583142 0.58416858]\n",
      " [0.54133463 0.45866537]\n",
      " [0.46478163 0.53521837]\n",
      " [0.41781705 0.58218295]\n",
      " [0.50301941 0.49698059]\n",
      " [0.33432199 0.66567801]\n",
      " [0.41483065 0.58516935]\n",
      " [0.80985695 0.19014305]\n",
      " [0.43279236 0.56720764]\n",
      " [0.61816933 0.38183067]\n",
      " [0.60111856 0.39888144]\n",
      " [0.50823535 0.49176465]\n",
      " [0.33705599 0.66294401]\n",
      " [0.30303829 0.69696171]\n",
      " [0.43991921 0.56008079]\n",
      " [0.47450785 0.52549215]\n",
      " [0.87292428 0.12707572]\n",
      " [0.42429762 0.57570238]]\n"
     ]
    }
   ],
   "source": [
    "print(prob_y_3)"
   ]
  },
  {
   "cell_type": "code",
   "execution_count": 62,
   "metadata": {},
   "outputs": [],
   "source": [
    "# Keep only the positive class\n",
    "prob_y_3 = [p[1] for p in prob_y_3]"
   ]
  },
  {
   "cell_type": "code",
   "execution_count": 63,
   "metadata": {},
   "outputs": [
    {
     "data": {
      "text/plain": [
       "[0.38433729415726403, 0.4239182227983585, 0.3479694674836868]"
      ]
     },
     "execution_count": 63,
     "metadata": {},
     "output_type": "execute_result"
    }
   ],
   "source": [
    "prob_y_3[:3] # Example"
   ]
  },
  {
   "cell_type": "code",
   "execution_count": 64,
   "metadata": {},
   "outputs": [
    {
     "name": "stdout",
     "output_type": "stream",
     "text": [
      "0.7176246537396122\n"
     ]
    }
   ],
   "source": [
    "print( roc_auc_score(test_balanced.iloc[:,-1:].values, prob_y_3) )"
   ]
  },
  {
   "cell_type": "code",
   "execution_count": 65,
   "metadata": {},
   "outputs": [
    {
     "data": {
      "image/png": "[encoded data removed]",
      "text/plain": [
       "<Figure size 432x288 with 2 Axes>"
      ]
     },
     "metadata": {},
     "output_type": "display_data"
    }
   ],
   "source": [
    "skplt.metrics.plot_confusion_matrix(test_balanced.iloc[:,-1:].values, clf_3.predict(test_balanced.iloc[:,:-1].values),\n",
    "                                    normalize=True)\n",
    "plt.show()"
   ]
  },
  {
   "cell_type": "code",
   "execution_count": 66,
   "metadata": {},
   "outputs": [
    {
     "name": "stderr",
     "output_type": "stream",
     "text": [
      "/usr/lib64/python2.7/site-packages/sklearn/utils/deprecation.py:77: DeprecationWarning: Function plot_roc_curve is deprecated; This will be removed in v0.5.0. Please use scikitplot.metrics.plot_roc instead.\n",
      "  warnings.warn(msg, category=DeprecationWarning)\n"
     ]
    },
    {
     "data": {
      "image/png": "[encoded data removed]",
      "text/plain": [
       "<Figure size 432x288 with 1 Axes>"
      ]
     },
     "metadata": {},
     "output_type": "display_data"
    }
   ],
   "source": [
    "import scikitplot as skplt\n",
    "import matplotlib.pyplot as plt\n",
    "\n",
    "skplt.metrics.plot_roc_curve(test.iloc[:,-1:].values, clf_3.predict_proba(test.iloc[:,:-1].values))\n",
    "plt.show()"
   ]
  },
  {
   "cell_type": "markdown",
   "metadata": {},
   "source": [
    "# Train SVM Model on new balanced dataset"
   ]
  },
  {
   "cell_type": "code",
   "execution_count": 75,
   "metadata": {},
   "outputs": [
    {
     "data": {
      "text/plain": [
       "SVC(C=2, cache_size=200, class_weight=None, coef0=0.0,\n",
       "  decision_function_shape='ovr', degree=3, gamma='scale', kernel='rbf',\n",
       "  max_iter=-1, probability=True, random_state=None, shrinking=True,\n",
       "  tol=0.001, verbose=False)"
      ]
     },
     "execution_count": 75,
     "metadata": {},
     "output_type": "execute_result"
    }
   ],
   "source": [
    "from sklearn import svm\n",
    "# create and configure model\n",
    "clf_4 = svm.SVC(C=2, gamma='scale', probability=True)\n",
    "# fit model\n",
    "clf_4.fit(X, y)"
   ]
  },
  {
   "cell_type": "code",
   "execution_count": 76,
   "metadata": {},
   "outputs": [
    {
     "name": "stdout",
     "output_type": "stream",
     "text": [
      "0.5131578947368421\n"
     ]
    }
   ],
   "source": [
    "# How's our accuracy?\n",
    "print( accuracy_score(test_balanced.iloc[:,-1:].values, clf_4.predict(test_balanced.iloc[:,:-1].values)) )"
   ]
  },
  {
   "cell_type": "code",
   "execution_count": 77,
   "metadata": {},
   "outputs": [
    {
     "data": {
      "image/png": "[encoded data removed]",
      "text/plain": [
       "<Figure size 432x288 with 2 Axes>"
      ]
     },
     "metadata": {},
     "output_type": "display_data"
    }
   ],
   "source": [
    "skplt.metrics.plot_confusion_matrix(test_balanced.iloc[:,-1:].values, clf_4.predict(test_balanced.iloc[:,:-1].values),\n",
    "                                    normalize=True)\n",
    "plt.show()"
   ]
  },
  {
   "cell_type": "markdown",
   "metadata": {},
   "source": [
    "# Use ROC to evalute SVM performance after sampling"
   ]
  },
  {
   "cell_type": "code",
   "execution_count": 78,
   "metadata": {},
   "outputs": [
    {
     "name": "stdout",
     "output_type": "stream",
     "text": [
      "0.643005540166205\n"
     ]
    }
   ],
   "source": [
    "# Predict class probabilities\n",
    "prob_y_4 = clf_4.predict_proba(test_balanced.iloc[:,:-1].values)\n",
    " \n",
    "# Keep only the positive class\n",
    "prob_y_4 = [p[1] for p in prob_y_4]\n",
    " \n",
    "prob_y_4[:5] # Example\n",
    "\n",
    "print( roc_auc_score(test_balanced.iloc[:,-1:].values, prob_y_4) )"
   ]
  },
  {
   "cell_type": "code",
   "execution_count": 79,
   "metadata": {},
   "outputs": [
    {
     "name": "stderr",
     "output_type": "stream",
     "text": [
      "/usr/lib64/python2.7/site-packages/sklearn/utils/deprecation.py:77: DeprecationWarning: Function plot_roc_curve is deprecated; This will be removed in v0.5.0. Please use scikitplot.metrics.plot_roc instead.\n",
      "  warnings.warn(msg, category=DeprecationWarning)\n"
     ]
    },
    {
     "data": {
      "image/png": "[encoded data removed]",
      "text/plain": [
       "<Figure size 432x288 with 1 Axes>"
      ]
     },
     "metadata": {},
     "output_type": "display_data"
    }
   ],
   "source": [
    "skplt.metrics.plot_roc_curve(test_balanced.iloc[:,-1:].values, clf_4.predict_proba(test_balanced.iloc[:,:-1].values))\n",
    "plt.show()"
   ]
  },
  {
   "cell_type": "markdown",
   "metadata": {},
   "source": [
    "# Use Tree-Based Algorithms"
   ]
  },
  {
   "cell_type": "code",
   "execution_count": 80,
   "metadata": {},
   "outputs": [],
   "source": [
    "from sklearn.ensemble import RandomForestClassifier"
   ]
  },
  {
   "cell_type": "markdown",
   "metadata": {},
   "source": [
    "# Use a Random Forest on the original imbalanced dataset"
   ]
  },
  {
   "cell_type": "code",
   "execution_count": 81,
   "metadata": {},
   "outputs": [
    {
     "name": "stderr",
     "output_type": "stream",
     "text": [
      "/usr/lib64/python2.7/site-packages/sklearn/ensemble/forest.py:246: FutureWarning: The default value of n_estimators will change from 10 in version 0.20 to 100 in 0.22.\n",
      "  \"10 in version 0.20 to 100 in 0.22.\", FutureWarning)\n"
     ]
    },
    {
     "data": {
      "text/plain": [
       "RandomForestClassifier(bootstrap=True, class_weight=None, criterion='gini',\n",
       "            max_depth=2, max_features='auto', max_leaf_nodes=None,\n",
       "            min_impurity_decrease=0.0, min_impurity_split=None,\n",
       "            min_samples_leaf=1, min_samples_split=2,\n",
       "            min_weight_fraction_leaf=0.0, n_estimators=10, n_jobs=None,\n",
       "            oob_score=False, random_state=None, verbose=0,\n",
       "            warm_start=False)"
      ]
     },
     "execution_count": 81,
     "metadata": {},
     "output_type": "execute_result"
    }
   ],
   "source": [
    "# Train model\n",
    "clf_5 = RandomForestClassifier(max_depth=2)\n",
    "clf_5.fit(X, y)"
   ]
  },
  {
   "cell_type": "code",
   "execution_count": 82,
   "metadata": {},
   "outputs": [],
   "source": [
    "# Predict on test set\n",
    "pred_y_5 = clf_5.predict(test.iloc[:,:-1].values)"
   ]
  },
  {
   "cell_type": "code",
   "execution_count": 83,
   "metadata": {},
   "outputs": [
    {
     "name": "stdout",
     "output_type": "stream",
     "text": [
      "[0]\n"
     ]
    }
   ],
   "source": [
    "# Is our model predicting just one class?\n",
    "print( np.unique( pred_y_5 ) )\n",
    "# [0 1]"
   ]
  },
  {
   "cell_type": "code",
   "execution_count": 84,
   "metadata": {},
   "outputs": [
    {
     "name": "stdout",
     "output_type": "stream",
     "text": [
      "0.7602523659305994\n"
     ]
    }
   ],
   "source": [
    "# How's our accuracy?\n",
    "print( accuracy_score(test.iloc[:,-1:].values, pred_y_5) )"
   ]
  },
  {
   "cell_type": "code",
   "execution_count": 85,
   "metadata": {},
   "outputs": [
    {
     "name": "stdout",
     "output_type": "stream",
     "text": [
      "0.6649650578728981\n"
     ]
    }
   ],
   "source": [
    "# What about AUROC?\n",
    "prob_y_5 = clf_5.predict_proba(test.iloc[:,:-1].values)\n",
    "prob_y_5 = [p[1] for p in prob_y_5]\n",
    "print( roc_auc_score(test.iloc[:,-1:].values, prob_y_5) )"
   ]
  },
  {
   "cell_type": "code",
   "execution_count": 86,
   "metadata": {},
   "outputs": [
    {
     "data": {
      "image/png": "[encoded data removed]",
      "text/plain": [
       "<Figure size 432x288 with 2 Axes>"
      ]
     },
     "metadata": {},
     "output_type": "display_data"
    }
   ],
   "source": [
    "skplt.metrics.plot_confusion_matrix(test.iloc[:,-1:].values, pred_y_5, normalize=True)\n",
    "plt.show()"
   ]
  },
  {
   "cell_type": "code",
   "execution_count": 87,
   "metadata": {},
   "outputs": [
    {
     "name": "stderr",
     "output_type": "stream",
     "text": [
      "/usr/lib64/python2.7/site-packages/sklearn/utils/deprecation.py:77: DeprecationWarning: Function plot_roc_curve is deprecated; This will be removed in v0.5.0. Please use scikitplot.metrics.plot_roc instead.\n",
      "  warnings.warn(msg, category=DeprecationWarning)\n"
     ]
    },
    {
     "data": {
      "image/png": "[encoded data removed]",
      "text/plain": [
       "<Figure size 432x288 with 1 Axes>"
      ]
     },
     "metadata": {},
     "output_type": "display_data"
    }
   ],
   "source": [
    "skplt.metrics.plot_roc_curve(test_balanced.iloc[:,-1:].values, clf_5.predict_proba(test_balanced.iloc[:,:-1].values))\n",
    "plt.show()"
   ]
  },
  {
   "cell_type": "markdown",
   "metadata": {},
   "source": [
    "# Use a Random Forest on the new balanced dataset"
   ]
  },
  {
   "cell_type": "code",
   "execution_count": 88,
   "metadata": {},
   "outputs": [
    {
     "data": {
      "text/plain": [
       "RandomForestClassifier(bootstrap=True, class_weight=None, criterion='gini',\n",
       "            max_depth=2, max_features='auto', max_leaf_nodes=None,\n",
       "            min_impurity_decrease=0.0, min_impurity_split=None,\n",
       "            min_samples_leaf=2, min_samples_split=2,\n",
       "            min_weight_fraction_leaf=0.0, n_estimators=10, n_jobs=None,\n",
       "            oob_score=False, random_state=None, verbose=0,\n",
       "            warm_start=False)"
      ]
     },
     "execution_count": 88,
     "metadata": {},
     "output_type": "execute_result"
    }
   ],
   "source": [
    "clf_6 = RandomForestClassifier(max_depth=2, min_samples_leaf=2)\n",
    "clf_6.fit(X_new, y_new)"
   ]
  },
  {
   "cell_type": "code",
   "execution_count": 89,
   "metadata": {},
   "outputs": [],
   "source": [
    "# Predict on test set\n",
    "pred_y_6 = clf_6.predict(test_balanced.iloc[:,:-1].values)"
   ]
  },
  {
   "cell_type": "code",
   "execution_count": 90,
   "metadata": {},
   "outputs": [
    {
     "name": "stdout",
     "output_type": "stream",
     "text": [
      "[0 1]\n"
     ]
    }
   ],
   "source": [
    "print( np.unique( pred_y_6 ) )\n",
    "# [0 1]"
   ]
  },
  {
   "cell_type": "code",
   "execution_count": 91,
   "metadata": {},
   "outputs": [
    {
     "name": "stdout",
     "output_type": "stream",
     "text": [
      "0.7105263157894737\n"
     ]
    }
   ],
   "source": [
    "# How's our accuracy?\n",
    "print( accuracy_score(test_balanced.iloc[:,-1:].values, pred_y_6) )"
   ]
  },
  {
   "cell_type": "code",
   "execution_count": 92,
   "metadata": {},
   "outputs": [
    {
     "name": "stdout",
     "output_type": "stream",
     "text": [
      "0.7208275623268697\n"
     ]
    }
   ],
   "source": [
    "# What about AUROC?\n",
    "prob_y_6 = clf_6.predict_proba(test_balanced.iloc[:,:-1].values)\n",
    "prob_y_6 = [p[1] for p in prob_y_6]\n",
    "print( roc_auc_score(test_balanced.iloc[:,-1:].values, prob_y_6) )"
   ]
  },
  {
   "cell_type": "code",
   "execution_count": 93,
   "metadata": {},
   "outputs": [
    {
     "data": {
      "image/png": "[encoded data removed]",
      "text/plain": [
       "<Figure size 432x288 with 2 Axes>"
      ]
     },
     "metadata": {},
     "output_type": "display_data"
    }
   ],
   "source": [
    "skplt.metrics.plot_confusion_matrix(test_balanced.iloc[:,-1:].values, pred_y_6, normalize=True)\n",
    "plt.show()"
   ]
  },
  {
   "cell_type": "code",
   "execution_count": 94,
   "metadata": {},
   "outputs": [
    {
     "name": "stderr",
     "output_type": "stream",
     "text": [
      "/usr/lib64/python2.7/site-packages/sklearn/utils/deprecation.py:77: DeprecationWarning: Function plot_roc_curve is deprecated; This will be removed in v0.5.0. Please use scikitplot.metrics.plot_roc instead.\n",
      "  warnings.warn(msg, category=DeprecationWarning)\n"
     ]
    },
    {
     "data": {
      "image/png": "[encoded data removed]",
      "text/plain": [
       "<Figure size 432x288 with 1 Axes>"
      ]
     },
     "metadata": {},
     "output_type": "display_data"
    }
   ],
   "source": [
    "skplt.metrics.plot_roc_curve(test_balanced.iloc[:,-1:].values, clf_6.predict_proba(test_balanced.iloc[:,:-1].values))\n",
    "plt.show()"
   ]
  },
  {
   "cell_type": "code",
   "execution_count": 113,
   "metadata": {},
   "outputs": [
    {
     "name": "stdout",
     "output_type": "stream",
     "text": [
      "['acce_count', 'agg_break_count', 'agg_takeoff_count', 'decel_count', 'distance_driven', 'driving_hours', 'fuel_consumption', 'high_speed_percentage', 'mean_acce', 'mean_decel', 'mean_fuel_efficiency', 'median_acce', 'median_decel', 'odo_end', 'speed_average', 'speed_average_pos', 'speed_max', 'speeding_count10', 'speeding_count20', 'speeding_count30', 'speeding_count40', 'speeding_count40_plus', 'turn_count', 'am_peak_hours', 'entropy', 'entropy_last_month', 'long_distance_count', 'night_driving_hours', 'percent_am_peak', 'percent_long_distance', 'percent_night_driving', 'percent_pm_peak', 'pm_peak_hours']\n"
     ]
    }
   ],
   "source": [
    "arr = list(X_new.columns.values)\n",
    "print(arr)"
   ]
  },
  {
   "cell_type": "code",
   "execution_count": 114,
   "metadata": {},
   "outputs": [
    {
     "name": "stdout",
     "output_type": "stream",
     "text": [
      "Feature ranking:\n",
      "1. feature 24 entropy (0.294750)\n",
      "2. feature 13 odo_end (0.219772)\n",
      "3. feature 32 pm_peak_hours (0.111823)\n",
      "4. feature 17 speeding_count10 (0.084458)\n",
      "5. feature 10 mean_fuel_efficiency (0.062570)\n",
      "6. feature 28 percent_am_peak (0.052435)\n",
      "7. feature 18 speeding_count20 (0.039537)\n",
      "8. feature 14 speed_average (0.031904)\n",
      "9. feature 15 speed_average_pos (0.025488)\n",
      "10. feature 27 night_driving_hours (0.016155)\n",
      "11. feature 9 mean_decel (0.016126)\n",
      "12. feature 30 percent_night_driving (0.012765)\n",
      "13. feature 1 agg_break_count (0.012631)\n",
      "14. feature 23 am_peak_hours (0.010158)\n",
      "15. feature 16 speed_max (0.009428)\n",
      "16. feature 19 speeding_count30 (0.000000)\n",
      "17. feature 31 percent_pm_peak (0.000000)\n",
      "18. feature 29 percent_long_distance (0.000000)\n",
      "19. feature 2 agg_takeoff_count (0.000000)\n",
      "20. feature 3 decel_count (0.000000)\n",
      "21. feature 4 distance_driven (0.000000)\n",
      "22. feature 5 driving_hours (0.000000)\n",
      "23. feature 6 fuel_consumption (0.000000)\n",
      "24. feature 7 high_speed_percentage (0.000000)\n",
      "25. feature 8 mean_acce (0.000000)\n",
      "26. feature 26 long_distance_count (0.000000)\n",
      "27. feature 25 entropy_last_month (0.000000)\n",
      "28. feature 11 median_acce (0.000000)\n",
      "29. feature 12 median_decel (0.000000)\n",
      "30. feature 22 turn_count (0.000000)\n",
      "31. feature 21 speeding_count40_plus (0.000000)\n",
      "32. feature 20 speeding_count40 (0.000000)\n",
      "33. feature 0 acce_count (0.000000)\n"
     ]
    },
    {
     "data": {
      "image/png": "[encoded data removed]",
      "text/plain": [
       "<Figure size 432x288 with 1 Axes>"
      ]
     },
     "metadata": {},
     "output_type": "display_data"
    }
   ],
   "source": [
    "importances = clf_6.feature_importances_\n",
    "std = np.std([clf_6.feature_importances_ for tree in clf_6.estimators_],\n",
    "             axis=0)\n",
    "indices = np.argsort(importances)[::-1]\n",
    "\n",
    "# Print the feature ranking\n",
    "print(\"Feature ranking:\")\n",
    "\n",
    "for f in range(X_new.shape[1]):\n",
    "    print(\"%d. feature %d %s (%f)\" % (f + 1, indices[f], arr[indices[f]], importances[indices[f]]))\n",
    "\n",
    "# Plot the feature importances of the forest\n",
    "plt.figure()\n",
    "plt.title(\"Feature importances\")\n",
    "plt.bar(range(X_new.shape[1]), importances[indices],\n",
    "       color=\"r\", yerr=std[indices], align=\"center\")\n",
    "plt.xticks(range(X_new.shape[1]), indices)\n",
    "plt.xlim([-1, X_new.shape[1]])\n",
    "plt.show()"
   ]
  },
  {
   "cell_type": "markdown",
   "metadata": {},
   "source": [
    "# Run model on trip_metrics"
   ]
  },
  {
   "cell_type": "code",
   "execution_count": null,
   "metadata": {},
   "outputs": [],
   "source": [
    "metrics_data = pd.read_csv(\"trip_metrics.csv\", header=0)\n",
    "metrics_data = metrics_data.drop([\"trip_metrics.vintype\", \"trip_metrics.subtype\", \"start_day\"], axis=1)\n",
    "\n",
    "metrics_data.fillna(0, inplace=True)\n",
    "\n",
    "print(metrics_data.shape)\n",
    "\n",
    "metrics_data.head()\n"
   ]
  },
  {
   "cell_type": "code",
   "execution_count": null,
   "metadata": {},
   "outputs": [],
   "source": [
    "metrics_data = metrics_data.groupby(\"vin\", as_index=False).median()\n",
    "\n",
    "print(metrics_data.shape)\n",
    "\n",
    "metrics_data.head()"
   ]
  },
  {
   "cell_type": "code",
   "execution_count": null,
   "metadata": {},
   "outputs": [],
   "source": [
    "df_trip = pd.merge(metrics_data, claim_new, on='vin', how='inner')\n",
    "\n",
    "print(df_trip.shape)\n",
    "\n",
    "df_trip.head()"
   ]
  },
  {
   "cell_type": "code",
   "execution_count": null,
   "metadata": {},
   "outputs": [],
   "source": [
    "df_trip.to_csv(\"metrics_and_claims.csv\", header=True, index=False)\n",
    "\n",
    "df_trip = df.drop(\"vin\", axis=1)\n",
    "\n",
    "df_trip.columns"
   ]
  },
  {
   "cell_type": "code",
   "execution_count": null,
   "metadata": {},
   "outputs": [],
   "source": [
    "df_trip.count()"
   ]
  },
  {
   "cell_type": "code",
   "execution_count": null,
   "metadata": {},
   "outputs": [],
   "source": [
    "df_trip[df_trip['tot_accidents']>0].count()"
   ]
  },
  {
   "cell_type": "code",
   "execution_count": null,
   "metadata": {},
   "outputs": [],
   "source": [
    "from sklearn.model_selection import train_test_split\n",
    "train_trip,test_trip = train_test_split(df_trip, test_size=0.2)\n",
    "train_trip.count()"
   ]
  },
  {
   "cell_type": "code",
   "execution_count": null,
   "metadata": {},
   "outputs": [],
   "source": [
    "test_trip.count()"
   ]
  },
  {
   "cell_type": "code",
   "execution_count": null,
   "metadata": {},
   "outputs": [],
   "source": [
    "test_trip.iloc[0:2,-1:]"
   ]
  },
  {
   "cell_type": "markdown",
   "metadata": {},
   "source": []
  },
  {
   "cell_type": "code",
   "execution_count": null,
   "metadata": {},
   "outputs": [],
   "source": [
    "from sklearn import svm\n",
    "clf = svm.SVC(gamma='scale')\n",
    "clf.fit(train_trip.iloc[:,:-1].values, train_trip.iloc[:,-1:].values)"
   ]
  },
  {
   "cell_type": "code",
   "execution_count": null,
   "metadata": {},
   "outputs": [],
   "source": [
    "from sklearn.metrics import accuracy_score\n",
    "pred = clf.predict(test_trip.iloc[:,:-1].values)\n",
    "accuracy_score(test_trip.iloc[:,-1:].values, pred)"
   ]
  },
  {
   "cell_type": "code",
   "execution_count": null,
   "metadata": {},
   "outputs": [],
   "source": [
    "from sklearn.metrics import confusion_matrix\n",
    "confusion_matrix(test_trip.iloc[:,-1:].values, pred)"
   ]
  },
  {
   "cell_type": "code",
   "execution_count": null,
   "metadata": {},
   "outputs": [],
   "source": [
    "from sklearn.metrics import classification_report\n",
    "target_names = {'Normal', 'Accident'}\n",
    "print(classification_report(test_trip.iloc[:,-1:].values, pred, target_names = target_names))"
   ]
  },
  {
   "cell_type": "code",
   "execution_count": null,
   "metadata": {},
   "outputs": [],
   "source": []
  }
 ],
 "metadata": {
  "kernelspec": {
   "display_name": "Python 2",
   "language": "python",
   "name": "python2"
  },
  "language_info": {
   "codemirror_mode": {
    "name": "ipython",
    "version": 2
   },
   "file_extension": ".py",
   "mimetype": "text/x-python",
   "name": "python",
   "nbconvert_exporter": "python",
   "pygments_lexer": "ipython2",
   "version": "2.7.5"
  }
 },
 "nbformat": 4,
 "nbformat_minor": 2
}
