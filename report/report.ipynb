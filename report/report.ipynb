{
 "cells": [
  {
   "cell_type": "code",
   "execution_count": 1,
   "metadata": {},
   "outputs": [],
   "source": [
    "import findspark\n",
    "findspark.init('/usr/hdp/current/spark2-client')\n",
    "\n",
    "import pyspark\n",
    "from pyspark.sql.functions import lit, col, instr, expr, pow, round, bround, corr, count, mean, stddev_pop, min, max\n",
    "from pyspark.sql.functions import monotonically_increasing_id, initcap, lower, upper, ltrim, rtrim, rpad, lpad, trim\n",
    "from pyspark.sql.functions import regexp_replace, translate, regexp_extract, current_date, current_timestamp, struct\n",
    "from pyspark.sql.functions import date_add, date_sub, datediff, months_between, to_date, to_timestamp, coalesce, split, size\n",
    "from pyspark.sql.functions import array_contains, explode, udf\n",
    "from pyspark.sql import HiveContext\n",
    "from pyspark.sql import SparkSession\n",
    "from pyspark.sql.types import *\n",
    "from pyspark.sql.functions import col, when\n",
    "\n",
    "from pyspark.sql.types import StructField, StructType, StringType, IntegerType, DoubleType, FloatType, LongType\n",
    "\n",
    "from datetime import datetime"
   ]
  },
  {
   "cell_type": "code",
   "execution_count": 2,
   "metadata": {},
   "outputs": [],
   "source": [
    "def get_Spark():\n",
    "\n",
    "    conf = pyspark.SparkConf().setAll([\n",
    "        ('spark.submit.deployMode', 'client'), # deploy in yarn-client or yarn-cluster\n",
    "        ('spark.executor.memory', '8g'),       # memory allocated for each executor\n",
    "        ('spark.executor.cores', '3'),         # number of cores for each executor\n",
    "        ('spark.executor.instances', '20'),    # number of executors in total\n",
    "        ('spark.yarn.am.memory', '20g')])      # memory for spark driver (application master)\n",
    "    spark = SparkSession.builder \\\n",
    "    .master(\"yarn\") \\\n",
    "    .appName(\"result\") \\\n",
    "    .enableHiveSupport() \\\n",
    "    .config(conf = conf) \\\n",
    "    .getOrCreate()\n",
    "\n",
    "    return spark\n",
    "\n",
    "spark = get_Spark()\n",
    "spark_context = spark.sparkContext\n",
    "hc = HiveContext(spark_context)"
   ]
  },
  {
   "cell_type": "markdown",
   "metadata": {},
   "source": [
    "# Import taxi data from csv to Hive "
   ]
  },
  {
   "cell_type": "code",
   "execution_count": null,
   "metadata": {},
   "outputs": [],
   "source": [
    "import pandas as pd\n",
    "data = pd.read_csv(\"taxi.csv\")"
   ]
  },
  {
   "cell_type": "code",
   "execution_count": null,
   "metadata": {},
   "outputs": [],
   "source": [
    "data.head()"
   ]
  },
  {
   "cell_type": "code",
   "execution_count": null,
   "metadata": {},
   "outputs": [],
   "source": [
    "from pyspark.sql.types import *\n",
    "\n",
    "mySchema = StructType([ StructField(\"id\", IntegerType(), True)\\\n",
    "                       ,StructField(\"vin\", StringType(), True)\\\n",
    "                       ,StructField(\"beginning_date\", StringType(), True)])"
   ]
  },
  {
   "cell_type": "code",
   "execution_count": null,
   "metadata": {},
   "outputs": [],
   "source": [
    "df = spark.createDataFrame(data,schema=mySchema)\n",
    "type(df)"
   ]
  },
  {
   "cell_type": "code",
   "execution_count": null,
   "metadata": {},
   "outputs": [],
   "source": [
    "df.registerTempTable('update_dataframe')\n",
    "sql_cmd = \"\"\"CREATE TABLE guobiao_tsp_tbls.taxi_list AS SELECT vin,beginning_date FROM update_dataframe\"\"\"\n",
    "print(sql_cmd)\n",
    "hc.sql(sql_cmd)\n",
    "print('Table guobiao_tsp_tbls.taxi_list creation done.')"
   ]
  },
  {
   "cell_type": "markdown",
   "metadata": {},
   "source": [
    "# Import Daily Stats from Hive to Spark dataframe"
   ]
  },
  {
   "cell_type": "code",
   "execution_count": 3,
   "metadata": {},
   "outputs": [],
   "source": [
    "def hive2spark(hc, query):\n",
    "    spark_df = hc.sql(\"\"\"{}\"\"\".format(query))\n",
    "    return spark_df"
   ]
  },
  {
   "cell_type": "code",
   "execution_count": 4,
   "metadata": {},
   "outputs": [],
   "source": [
    "query = \"\"\"select t1.*, t2.vintype from guobiao_tsp_tbls.daily_stats t1 left outer join guobiao_tsp_tbls.vintypes t2\n",
    "on t1.vin = t2.vin\n",
    "where vintype='A5HEV' or vintype='A75' or vintype='A2APHEV'\n",
    "\"\"\""
   ]
  },
  {
   "cell_type": "code",
   "execution_count": 5,
   "metadata": {},
   "outputs": [],
   "source": [
    "df_daily_stats = hive2spark(hc, query)"
   ]
  },
  {
   "cell_type": "code",
   "execution_count": null,
   "metadata": {},
   "outputs": [],
   "source": [
    "df_daily_stats.head()"
   ]
  },
  {
   "cell_type": "code",
   "execution_count": null,
   "metadata": {},
   "outputs": [],
   "source": [
    "df_daily_stats.show(1)"
   ]
  },
  {
   "cell_type": "markdown",
   "metadata": {},
   "source": [
    "# Calculate unique VIN"
   ]
  },
  {
   "cell_type": "code",
   "execution_count": null,
   "metadata": {},
   "outputs": [],
   "source": [
    "resfile = '/home/wchen/ne/res.csv'"
   ]
  },
  {
   "cell_type": "code",
   "execution_count": null,
   "metadata": {},
   "outputs": [],
   "source": [
    "from datetime import datetime, date\n",
    "end_date = date.today()\n",
    "start_date = date(2017, 8, 5)\n",
    "print(end_date)"
   ]
  },
  {
   "cell_type": "code",
   "execution_count": null,
   "metadata": {},
   "outputs": [],
   "source": [
    "from datetime import timedelta\n",
    "dates = []\n",
    "def daterange(start_date, end_date):\n",
    "    for n in range(int((end_date - start_date).days + 1)):\n",
    "        yield start_date + timedelta(n)\n",
    "for single_date in daterange(start_date, end_date):\n",
    "    dates.append(single_date.strftime('%Y-%m-%d'))"
   ]
  },
  {
   "cell_type": "code",
   "execution_count": null,
   "metadata": {},
   "outputs": [],
   "source": [
    "from pyspark.sql.functions import col\n",
    "vins = df_daily_stats.filter(df_daily_stats.day=='2018-11-08').select(\"vin\").collect()\n",
    "print(vins) #df to list"
   ]
  },
  {
   "cell_type": "code",
   "execution_count": null,
   "metadata": {},
   "outputs": [],
   "source": [
    "type(vins)"
   ]
  },
  {
   "cell_type": "code",
   "execution_count": null,
   "metadata": {},
   "outputs": [],
   "source": [
    "vins = []"
   ]
  },
  {
   "cell_type": "code",
   "execution_count": null,
   "metadata": {},
   "outputs": [],
   "source": [
    "type(vins)"
   ]
  },
  {
   "cell_type": "code",
   "execution_count": null,
   "metadata": {},
   "outputs": [],
   "source": [
    "with open(resfile, \"a\") as myfile:\n",
    "    vinset = set()\n",
    "    for day in dates:\n",
    "        vins = df_daily_stats.filter(df_daily_stats.day==day).select(\"vin\").collect()\n",
    "        print(len(vins))\n",
    "        vinset.update(vins)\n",
    "        \n",
    "        myfile.write(day + ',' + str(len(vinset)) + '\\n')\n",
    "        print(day + ',' + str(len(vinset)) + '\\n')\n",
    "myfile.close()"
   ]
  },
  {
   "cell_type": "code",
   "execution_count": null,
   "metadata": {},
   "outputs": [],
   "source": [
    "import pandas as pd \n",
    "data = pd.read_csv(\"res.csv\") "
   ]
  },
  {
   "cell_type": "code",
   "execution_count": null,
   "metadata": {},
   "outputs": [],
   "source": [
    "data.head()"
   ]
  },
  {
   "cell_type": "code",
   "execution_count": null,
   "metadata": {},
   "outputs": [],
   "source": [
    "data.dtypes"
   ]
  },
  {
   "cell_type": "code",
   "execution_count": null,
   "metadata": {},
   "outputs": [],
   "source": [
    "pd.to_datetime(data.day, format='%Y-%m-%d')"
   ]
  },
  {
   "cell_type": "code",
   "execution_count": null,
   "metadata": {},
   "outputs": [],
   "source": [
    "%matplotlib inline\n",
    "import matplotlib.pyplot as plt\n",
    "import seaborn as sns\n",
    "data = data.set_index(data.day)\n",
    "#data.reset_index(inplace=True)"
   ]
  },
  {
   "cell_type": "code",
   "execution_count": null,
   "metadata": {},
   "outputs": [],
   "source": [
    "data.columns"
   ]
  },
  {
   "cell_type": "code",
   "execution_count": null,
   "metadata": {},
   "outputs": [],
   "source": [
    "type(data.day)"
   ]
  },
  {
   "cell_type": "code",
   "execution_count": null,
   "metadata": {},
   "outputs": [],
   "source": [
    "data.index"
   ]
  },
  {
   "cell_type": "code",
   "execution_count": null,
   "metadata": {},
   "outputs": [],
   "source": [
    "sns.tsplot([data.count])\n",
    "plt.show()"
   ]
  },
  {
   "cell_type": "markdown",
   "metadata": {},
   "source": [
    "# Create histogram from spark dataframe"
   ]
  },
  {
   "cell_type": "code",
   "execution_count": null,
   "metadata": {},
   "outputs": [],
   "source": [
    "from pyspark.sql import functions as F\n",
    "\n",
    "update_func = (F.when(F.col('vintype') == 'A5HEV', 'GE3').when(F.col('vintype') == 'A75', 'GE3-530')\n",
    "                .when(F.col('vintype') == 'A2APHEV', 'GS4-PHEV').otherwise(F.col('vintype')))\n",
    "df_test = df_daily_stats.withColumn('new_vintype', update_func)"
   ]
  },
  {
   "cell_type": "code",
   "execution_count": null,
   "metadata": {},
   "outputs": [],
   "source": [
    "df_test.select('vintype').distinct().show()"
   ]
  },
  {
   "cell_type": "code",
   "execution_count": null,
   "metadata": {},
   "outputs": [],
   "source": [
    "from pyspark.sql import functions as func\n",
    "df1=df_daily_stats.filter(col(\"vintype\").isin(['A5HEV'])).groupBy(\"vin\").agg(func.sum(\"kwh_charged_plugin\").alias('Total kwh charged'),func.max(\"odometer_reading_end\").alias('End odo reading'))\n",
    "df2=df_daily_stats.filter(col(\"vintype\").isin(['A2APHEV'])).groupBy(\"vin\").agg(func.sum(\"kwh_charged_plugin\").alias('Total kwh charged'),func.max(\"odometer_reading_end\").alias('End odo reading'))\n",
    "df3=df_daily_stats.filter(col(\"vintype\").isin(['A75'])).groupBy(\"vin\").agg(func.sum(\"kwh_charged_plugin\").alias('Total kwh charged'),func.max(\"odometer_reading_end\").alias('End odo reading'))"
   ]
  },
  {
   "cell_type": "code",
   "execution_count": null,
   "metadata": {},
   "outputs": [],
   "source": [
    "df3_new=df3.withColumn(\"Energy Efficiency\", df3[\"Total kwh charged\"]/df3[\"End odo reading\"]*100)"
   ]
  },
  {
   "cell_type": "code",
   "execution_count": null,
   "metadata": {},
   "outputs": [],
   "source": [
    "df3_new=df3_new.filter(df3_new[\"Energy Efficiency\"]>2)"
   ]
  },
  {
   "cell_type": "code",
   "execution_count": null,
   "metadata": {},
   "outputs": [],
   "source": [
    "df1_new=df1.withColumn(\"Energy Efficiency\", df1[\"Total kwh charged\"]/df1[\"End odo reading\"]*100)"
   ]
  },
  {
   "cell_type": "code",
   "execution_count": null,
   "metadata": {},
   "outputs": [],
   "source": [
    "df1_new=df1_new.filter(df1_new[\"Energy Efficiency\"]>2)"
   ]
  },
  {
   "cell_type": "code",
   "execution_count": null,
   "metadata": {},
   "outputs": [],
   "source": [
    "df3_new.show(5)"
   ]
  },
  {
   "cell_type": "code",
   "execution_count": null,
   "metadata": {},
   "outputs": [],
   "source": [
    "df3_pd_new = df3_new.toPandas()  "
   ]
  },
  {
   "cell_type": "code",
   "execution_count": null,
   "metadata": {},
   "outputs": [],
   "source": [
    "df1_pd_new = df1_new.toPandas()  "
   ]
  },
  {
   "cell_type": "code",
   "execution_count": null,
   "metadata": {},
   "outputs": [],
   "source": [
    "df3_pd_new.head()"
   ]
  },
  {
   "cell_type": "code",
   "execution_count": null,
   "metadata": {},
   "outputs": [],
   "source": [
    "#print(df3_pd_new['Energy Efficiency'])"
   ]
  },
  {
   "cell_type": "code",
   "execution_count": null,
   "metadata": {},
   "outputs": [],
   "source": [
    "import seaborn as sns\n",
    "sns.distplot(df3_pd_new['Energy Efficiency'].dropna())"
   ]
  },
  {
   "cell_type": "code",
   "execution_count": null,
   "metadata": {},
   "outputs": [],
   "source": [
    "import numpy as np\n",
    "import matplotlib.pyplot as plt\n",
    "sns.set(rc={\"figure.figsize\": (13, 4)})\n",
    "sns.set_context('talk')\n",
    "bins = np.linspace(5, 35, 20)\n",
    "y = df1_pd_new[df3_pd_new['Energy Efficiency']>2]['Energy Efficiency'].dropna()\n",
    "ax = plt.hist(y, bins=bins)\n",
    "plt.xlabel('Kwh/100km')\n",
    "plt.ylabel('Frequency')\n",
    "plt.title('GE3 Energy Efficiency')\n",
    "#ax = sns.distplot(x, bins=bins)\n",
    "#ax.set_title('A75 Energy Efficiency')\n",
    "#ax.set_xlabel('Kwh/100km')\n",
    "#ax.set_xlim(0,100)"
   ]
  },
  {
   "cell_type": "code",
   "execution_count": null,
   "metadata": {},
   "outputs": [],
   "source": [
    "import numpy as np\n",
    "import matplotlib.pyplot as plt\n",
    "sns.set(rc={\"figure.figsize\": (13, 4)})\n",
    "sns.set_context('talk')\n",
    "bins = np.linspace(5, 35, 20)\n",
    "x = df3_pd_new[df3_pd_new['Energy Efficiency']>2]['Energy Efficiency'].dropna()\n",
    "ax = plt.hist(x, bins=bins)\n",
    "plt.xlabel('Kwh/100km')\n",
    "plt.ylabel('Frequency')\n",
    "plt.title('GE3-530 Energy Efficiency')\n",
    "#ax = sns.distplot(x, bins=bins)\n",
    "#ax.set_title('A75 Energy Efficiency')\n",
    "#ax.set_xlabel('Kwh/100km')\n",
    "#ax.set_xlim((5,35))"
   ]
  },
  {
   "cell_type": "code",
   "execution_count": null,
   "metadata": {},
   "outputs": [],
   "source": [
    "df1_pd = df1.toPandas()  \n",
    "df2_pd = df2.toPandas()  \n",
    "df3_pd = df3.toPandas()  "
   ]
  },
  {
   "cell_type": "code",
   "execution_count": null,
   "metadata": {},
   "outputs": [],
   "source": [
    "import seaborn as sns\n",
    "import matplotlib.pyplot as plt\n",
    "import numpy as np\n",
    "sns.set(rc={\"figure.figsize\": (15, 10)})\n",
    "sns.set_context('talk')\n",
    "\n",
    "\n",
    "bins = np.linspace(0, 100000, 20)\n",
    "\n",
    "fig, axs = plt.subplots(2)\n",
    "\n",
    "axs[0].hist(df1_pd['End odo reading'], label='GE3', bins=bins, alpha=0.5)\n",
    "axs[0].hist(df2_pd['End odo reading'], label='GS4-PHEV', bins=bins, alpha=0.5)\n",
    "axs[0].hist(df3_pd['End odo reading'], label='GE3-530', bins=bins, alpha=0.5)\n",
    "\n",
    "for ax in axs:\n",
    "    ax.set_ylabel('Number of Vehicles')\n",
    "    ax.legend(loc=0)\n",
    "\n",
    "axs[1].set_xlabel('End odo reading(in km)')\n",
    "sns.despine()"
   ]
  },
  {
   "cell_type": "code",
   "execution_count": null,
   "metadata": {},
   "outputs": [],
   "source": [
    "import seaborn as sns\n",
    "import matplotlib.pyplot as plt\n",
    "import numpy as np\n",
    "sns.set(rc={\"figure.figsize\": (15, 10)})\n",
    "sns.set_context('talk')\n",
    "\n",
    "\n",
    "bins = np.linspace(0, 3000, 20)\n",
    "\n",
    "fig, axs = plt.subplots(2)\n",
    "\n",
    "axs[0].hist(df1_pd['Total kwh charged'], label='GE3', bins=bins, alpha=0.5)\n",
    "axs[0].hist(df2_pd['Total kwh charged'], label='GS4-PHEV', bins=bins, alpha=0.5)\n",
    "axs[0].hist(df3_pd['Total kwh charged'], label='GE3-530', bins=bins, alpha=0.5)\n",
    "\n",
    "for ax in axs:\n",
    "    ax.set_ylabel('Number of Vehicles')\n",
    "    ax.legend(loc=0)\n",
    "\n",
    "axs[1].set_xlabel('Total charge (in kwh)')\n",
    "sns.despine()"
   ]
  },
  {
   "cell_type": "code",
   "execution_count": null,
   "metadata": {},
   "outputs": [],
   "source": [
    "from pyspark.sql import functions as func\n",
    "d1=df_daily_stats.filter(col(\"vintype\").isin(['A5HEV'])).groupBy(\"vin\").agg(func.mean(\"kwh_efficiency\").alias('Energy Efficiency'))\n",
    "d2=df_daily_stats.filter(col(\"vintype\").isin(['A2APHEV'])).groupBy(\"vin\").agg(func.mean(\"kwh_efficiency\").alias('Energy Efficiency'))\n",
    "d3=df_daily_stats.filter(col(\"vintype\").isin(['A75'])).groupBy(\"vin\").agg(func.mean(\"kwh_efficiency\").alias('Energy Efficiency'))"
   ]
  },
  {
   "cell_type": "code",
   "execution_count": null,
   "metadata": {},
   "outputs": [],
   "source": [
    "df1.show(5)"
   ]
  },
  {
   "cell_type": "code",
   "execution_count": null,
   "metadata": {},
   "outputs": [],
   "source": [
    "d1_pd = d1.toPandas()  \n",
    "d2_pd = d2.toPandas()  \n",
    "d3_pd = d3.toPandas()  "
   ]
  },
  {
   "cell_type": "code",
   "execution_count": null,
   "metadata": {},
   "outputs": [],
   "source": [
    "import matplotlib.pyplot as plt\n",
    "plt.figure()\n",
    "#df1_pd.plot.hist(color='darkgreen', alpha=0.75, bins = 400,  range=[0, 60000])\n",
    "#df2_pd.plot.hist(color='darkred', alpha=0.75, bins = 400,  range=[0, 10000])\n",
    "#legend=['A5HEV', 'A2APHEV', 'A75']\n",
    "legend=['GE3', 'GS4-PHEV', 'GE3-530']\n",
    "colors = ['#E69F00', '#56B4E9', '#F0E442']\n",
    "#plt.hist([df1_pd['Total kwh charged'], df2_pd['Total kwh charged'], df3_pd['Total kwh charged']], color=colors, \n",
    "#         bins=20, range=[0, 3000], stacked=True)\n",
    "plt.hist([df1_pd['Total kwh charged'], df2_pd['Total kwh charged'], df3_pd['Total kwh charged']], color=colors, \n",
    "         bins=20, range=[0, 3000], histtype='bar')\n",
    "plt.xlabel('Kwh Charged')\n",
    "plt.legend(legend)\n",
    "plt.ylim((0,8500))\n",
    "plt.xlabel('Total charge (in kwh)')\n",
    "plt.ylabel('Number of Vehicles')\n",
    "plt.show()"
   ]
  },
  {
   "cell_type": "code",
   "execution_count": null,
   "metadata": {},
   "outputs": [],
   "source": [
    "import matplotlib.pyplot as plt\n",
    "plt.figure()\n",
    "#df1_pd.plot.hist(color='darkgreen', alpha=0.75, bins = 400,  range=[0, 60000])\n",
    "#df2_pd.plot.hist(color='darkred', alpha=0.75, bins = 400,  range=[0, 10000])\n",
    "#legend=['A5HEV', 'A2APHEV', 'A75']\n",
    "legend=['GE3', 'GS4-PHEV', 'GE3-530']\n",
    "colors = ['#E69F00', '#56B4E9', '#F0E442']\n",
    "plt.hist([df1_pd['End odo reading'], df2_pd['End odo reading'], df3_pd['End odo reading']], color=colors, \n",
    "         bins=20, range=[0, 100000], stacked=True)\n",
    "plt.xlabel('End odo reading')\n",
    "plt.legend(legend)\n",
    "plt.ylim((0,15000))\n",
    "plt.xlabel('End odo reading (in km)')\n",
    "plt.ylabel('Number of Vehicles')\n",
    "plt.show()"
   ]
  },
  {
   "cell_type": "code",
   "execution_count": null,
   "metadata": {},
   "outputs": [],
   "source": [
    "import seaborn as sns\n",
    "sns.distplot([df1_pd['Total kwh charged'], df2_pd['Total kwh charged'], df3_pd['Total kwh charged']], hist=True, kde=False, \n",
    "             bins=100, color = 'blue',\n",
    "             hist_kws={'edgecolor':'black'})"
   ]
  },
  {
   "cell_type": "markdown",
   "metadata": {},
   "source": [
    "# Create new hive table for taxi"
   ]
  },
  {
   "cell_type": "code",
   "execution_count": null,
   "metadata": {},
   "outputs": [],
   "source": [
    "query = \"\"\"create table guobiao_tsp_tbls.temp as \n",
    "select t1.*, t2.vintype from guobiao_tsp_tbls.daily_stats t1 left outer join guobiao_tsp_tbls.vintypes t2\n",
    "on t1.vin = t2.vin\n",
    "where vintype='A5HEV' or vintype='A75' or vintype='A2APHEV'\n",
    "\"\"\"\n",
    "hc.sql(query) "
   ]
  },
  {
   "cell_type": "code",
   "execution_count": null,
   "metadata": {},
   "outputs": [],
   "source": [
    "query = \"\"\"create table guobiao_tsp_tbls.is_taxi as \n",
    "select vintypes.vin as vin, vintypes.vintype as vintype, 1 as is_taxi from guobiao_tsp_tbls.vintypes \n",
    "where vin in (select vin from guobiao_tsp_tbls.taxi_list) \n",
    "union all \n",
    "select vintypes.vin as vin, vintypes.vintype as vintype, 0 as is_taxi from guobiao_tsp_tbls.vintypes \n",
    "where vin not in (select vin from guobiao_tsp_tbls.taxi_list) \"\"\"\n",
    "hc.sql(query) "
   ]
  },
  {
   "cell_type": "code",
   "execution_count": null,
   "metadata": {},
   "outputs": [],
   "source": [
    "query = \"\"\"create table guobiao_tsp_tbls.n1_report as select a.vin, a.vintype, a.timestamp_beginning, a.timestamp_end, a.odometer_reading_end,\n",
    "a.kwh_charged_plugin, a.kwh_efficiency,\n",
    "a.fuel_efficiency_mean, a.fuel_consumption, a.kwh_consumption, is_taxi.is_taxi from \n",
    "guobiao_tsp_tbls.temp a left join guobiao_tsp_tbls.is_taxi\n",
    "on a.vin = is_taxi.vin\n",
    "\"\"\"\n",
    "hc.sql(query) "
   ]
  },
  {
   "cell_type": "markdown",
   "metadata": {},
   "source": [
    "# Taxi table join"
   ]
  },
  {
   "cell_type": "code",
   "execution_count": 6,
   "metadata": {},
   "outputs": [],
   "source": [
    "query = \"\"\"select * from guobiao_tsp_tbls.is_taxi\"\"\""
   ]
  },
  {
   "cell_type": "code",
   "execution_count": 7,
   "metadata": {},
   "outputs": [],
   "source": [
    "df_taxi = hive2spark(hc, query)"
   ]
  },
  {
   "cell_type": "code",
   "execution_count": 8,
   "metadata": {},
   "outputs": [
    {
     "data": {
      "text/plain": [
       "Row(vin=u'LMWHP1S20J1000285', vintype=u'A5HEV', is_taxi=1)"
      ]
     },
     "execution_count": 8,
     "metadata": {},
     "output_type": "execute_result"
    }
   ],
   "source": [
    "df_taxi.head()"
   ]
  },
  {
   "cell_type": "code",
   "execution_count": 9,
   "metadata": {},
   "outputs": [],
   "source": [
    "df_ge3=df_daily_stats.filter(col(\"vintype\").isin(['A5HEV']))"
   ]
  },
  {
   "cell_type": "code",
   "execution_count": 10,
   "metadata": {},
   "outputs": [
    {
     "data": {
      "text/plain": [
       "Row(acce_pedal_count=4248, acce_pedal_max=46.0, acce_pedal_mean=4.086864406779661, acce_pedal_min=0.0, acce_pedal_p1=0.0, acce_pedal_p50=0.0, acce_pedal_p99=32.0, acce_pedal_std=7.730828190127751, ah_charged_plugin=117.63599201667883, ah_charged_regen=22.783400493549493, ah_consumption=117.56234654671539, ah_discharged=140.34574704026488, battery_temp_count=169920, battery_temp_max=27.0, battery_temp_mean=19.52264595103578, battery_temp_min=11.0, battery_temp_p1=11.0, battery_temp_p50=21.0, battery_temp_p99=26.0, battery_temp_std=4.470181890625779, battery_volt_count=4248, battery_volt_max=376.0, battery_volt_mean=344.6982109227872, battery_volt_min=319.0, battery_volt_p1=323.0, battery_volt_p50=343.0, battery_volt_p99=374.0, battery_volt_std=14.652887510981193, brake_pedal_count=4248, brake_pedal_max=79.0, brake_pedal_mean=12.42231638418079, brake_pedal_min=0.0, brake_pedal_p1=1.0, brake_pedal_p50=5.0, brake_pedal_p99=52.0, brake_pedal_std=14.680237957409743, cell_volt_diff_charge_plugin_count=606, cell_volt_diff_charge_plugin_max=0.038000000000000256, cell_volt_diff_charge_plugin_mean=0.02673102310231024, cell_volt_diff_charge_plugin_min=0.01399999999999979, cell_volt_diff_charge_plugin_p1=0.015000000000000124, cell_volt_diff_charge_plugin_p50=0.025000000000000355, cell_volt_diff_charge_plugin_p99=0.03695, cell_volt_diff_charge_plugin_std=0.00517194542192772, cell_volt_diff_charge_regen_count=788, cell_volt_diff_charge_regen_max=0.09799999999999986, cell_volt_diff_charge_regen_mean=0.019267766497461935, cell_volt_diff_charge_regen_min=0.005999999999999339, cell_volt_diff_charge_regen_p1=0.008000000000000007, cell_volt_diff_charge_regen_p50=0.018000000000000238, cell_volt_diff_charge_regen_p99=0.05012999999999986, cell_volt_diff_charge_regen_std=0.008233296306303407, cell_volt_diff_discharge_count=2769, cell_volt_diff_discharge_max=0.15300000000000002, cell_volt_diff_discharge_mean=0.01896388587937884, cell_volt_diff_discharge_min=0.005999999999999339, cell_volt_diff_discharge_p1=0.007999999999999563, cell_volt_diff_discharge_p50=0.018000000000000238, cell_volt_diff_discharge_p99=0.04832000000000031, cell_volt_diff_discharge_std=0.007953449931906387, charging_hours=1.6861111111111111, distance_driven=230.0, distance_on_battery=230.0, distance_on_fuel=0.0, driving_hours=10.11111111111111, fuel_consumption=None, fuel_efficiency_count=0, fuel_efficiency_max=None, fuel_efficiency_mean=None, fuel_efficiency_min=None, fuel_efficiency_p1=None, fuel_efficiency_p50=None, fuel_efficiency_p99=None, fuel_efficiency_std=None, kwh_charged_plugin=41.88224334942507, kwh_charged_regen=7.786520763439852, kwh_consumption=39.76937194889576, kwh_discharged=47.55589271233561, kwh_efficiency=17.291031282128593, odometer_offset=0.0, odometer_reading_beginning=25511.0, odometer_reading_end=25741.0, soc_count=4248, soc_max=99.0, soc_mean=66.75376647834275, soc_min=35.0, soc_p1=37.0, soc_p50=66.0, soc_p99=99.0, soc_std=17.0744325440215, speed_average=23.32986827033219, speed_count=3492, speed_max=91.7, timestamp_beginning=u'2018-11-11 06:23:15', timestamp_end=u'2018-11-11 20:15:55', vin=u'LMGHP1S59J1002428', day=datetime.date(2018, 11, 11), vintype=u'A5HEV')"
      ]
     },
     "execution_count": 10,
     "metadata": {},
     "output_type": "execute_result"
    }
   ],
   "source": [
    "df_ge3.head()"
   ]
  },
  {
   "cell_type": "code",
   "execution_count": 11,
   "metadata": {},
   "outputs": [],
   "source": [
    "df = df_ge3.join(df_taxi.select(\"vin\",\"is_taxi\"), [\"vin\"], \"inner\")"
   ]
  },
  {
   "cell_type": "code",
   "execution_count": null,
   "metadata": {},
   "outputs": [],
   "source": [
    "df.head()"
   ]
  },
  {
   "cell_type": "code",
   "execution_count": null,
   "metadata": {},
   "outputs": [],
   "source": [
    "df.show(1)"
   ]
  },
  {
   "cell_type": "code",
   "execution_count": 12,
   "metadata": {},
   "outputs": [],
   "source": [
    "df=df.select(\"vin\",\"distance_driven\",\"driving_hours\",\"kwh_consumption\",\"kwh_charged_plugin\",\"is_taxi\",\"charging_hours\")"
   ]
  },
  {
   "cell_type": "code",
   "execution_count": 13,
   "metadata": {},
   "outputs": [],
   "source": [
    "df_taxi=df.where(df.is_taxi==1).select(\"distance_driven\", \"driving_hours\", \"kwh_consumption\", \"kwh_charged_plugin\",\n",
    "                                       \"charging_hours\")"
   ]
  },
  {
   "cell_type": "code",
   "execution_count": 14,
   "metadata": {},
   "outputs": [
    {
     "data": {
      "text/plain": [
       "Row(distance_driven=416.0, driving_hours=14.427777777777777, kwh_consumption=64.88148583138174, kwh_charged_plugin=44.02000234222531, charging_hours=1.9527777777777777)"
      ]
     },
     "execution_count": 14,
     "metadata": {},
     "output_type": "execute_result"
    }
   ],
   "source": [
    "df_taxi.head()"
   ]
  },
  {
   "cell_type": "code",
   "execution_count": 15,
   "metadata": {},
   "outputs": [],
   "source": [
    "df_n_taxi=df.where(df.is_taxi==0).select(\"distance_driven\", \"driving_hours\", \"kwh_consumption\", \"kwh_charged_plugin\",\n",
    "                                       \"charging_hours\")"
   ]
  },
  {
   "cell_type": "code",
   "execution_count": 16,
   "metadata": {},
   "outputs": [
    {
     "data": {
      "text/plain": [
       "Row(distance_driven=230.0, driving_hours=10.11111111111111, kwh_consumption=39.76937194889576, kwh_charged_plugin=41.88224334942507, charging_hours=1.6861111111111111)"
      ]
     },
     "execution_count": 16,
     "metadata": {},
     "output_type": "execute_result"
    }
   ],
   "source": [
    "df_n_taxi.head()"
   ]
  },
  {
   "cell_type": "code",
   "execution_count": null,
   "metadata": {},
   "outputs": [],
   "source": [
    "df_n_taxi.show()"
   ]
  },
  {
   "cell_type": "code",
   "execution_count": 17,
   "metadata": {},
   "outputs": [],
   "source": [
    "pd1 = df_taxi.toPandas() "
   ]
  },
  {
   "cell_type": "code",
   "execution_count": 18,
   "metadata": {},
   "outputs": [],
   "source": [
    "pd2 = df_n_taxi.toPandas() "
   ]
  },
  {
   "cell_type": "code",
   "execution_count": 40,
   "metadata": {},
   "outputs": [
    {
     "data": {
      "image/png": "[encoded data removed]",
      "text/plain": [
       "<Figure size 1080x720 with 1 Axes>"
      ]
     },
     "metadata": {},
     "output_type": "display_data"
    }
   ],
   "source": [
    "import seaborn as sns\n",
    "sns.set(rc={\"figure.figsize\": (15, 10)})\n",
    "sns.set_context('talk')\n",
    "import matplotlib.pyplot as plt\n",
    "plt.figure()\n",
    "legend=['taxi', 'not taxi']\n",
    "colors = ['#E69F00', '#56B4E9']\n",
    "plt.yscale('log', nonposy='clip') \n",
    "plt.hist([pd1['kwh_charged_plugin'], pd2['kwh_charged_plugin']], color=colors, \n",
    "         bins=20, range=[0, 100], histtype='bar')  #add log=True\n",
    "plt.legend(legend)\n",
    "plt.ylim((0,1000000))\n",
    "plt.xlabel('Daily Charge (in kwh)')\n",
    "plt.ylabel('log(Frequency)')\n",
    "plt.title(\"Daily Charge for GE3 Vehicles\")\n",
    "plt.show()"
   ]
  },
  {
   "cell_type": "code",
   "execution_count": 50,
   "metadata": {},
   "outputs": [
    {
     "data": {
      "image/png": "[encoded data removed]",
      "text/plain": [
       "<Figure size 1080x720 with 1 Axes>"
      ]
     },
     "metadata": {},
     "output_type": "display_data"
    }
   ],
   "source": [
    "import seaborn as sns\n",
    "sns.set(rc={\"figure.figsize\": (15, 10)})\n",
    "sns.set_context('talk')\n",
    "import matplotlib.pyplot as plt\n",
    "plt.figure()\n",
    "legend=['taxi', 'not taxi']\n",
    "colors = ['#E69F00', '#56B4E9']\n",
    "plt.yscale('log', nonposy='clip') \n",
    "plt.hist([pd1['kwh_consumption'], pd2['kwh_consumption']], color=colors, \n",
    "         bins=20, range=[0, 60], histtype='bar')\n",
    "plt.legend(legend)\n",
    "plt.ylim((0,650000))\n",
    "plt.xlabel('Energy Consumption (in kwh)')\n",
    "plt.ylabel('log(Frequency)')\n",
    "plt.title(\"Daily Energy Consumption for GE3 Vehicles\")\n",
    "plt.show()"
   ]
  },
  {
   "cell_type": "code",
   "execution_count": 51,
   "metadata": {},
   "outputs": [
    {
     "data": {
      "image/png": "[encoded data removed]",
      "text/plain": [
       "<Figure size 1080x720 with 1 Axes>"
      ]
     },
     "metadata": {},
     "output_type": "display_data"
    }
   ],
   "source": [
    "import seaborn as sns\n",
    "sns.set(rc={\"figure.figsize\": (15, 10)})\n",
    "sns.set_context('talk')\n",
    "import matplotlib.pyplot as plt\n",
    "plt.figure()\n",
    "legend=['taxi', 'not taxi']\n",
    "colors = ['#E69F00', '#56B4E9']\n",
    "plt.yscale('log', nonposy='clip') \n",
    "plt.hist([pd1['driving_hours'], pd2['driving_hours']], color=colors, \n",
    "         bins=20, range=[0, 15], histtype='bar')\n",
    "plt.legend(legend)\n",
    "plt.ylim((0,350000))\n",
    "plt.xlabel('Driving Time (in hr)')\n",
    "plt.ylabel('log(Frequency)')\n",
    "plt.title(\"Daily Driving Hours for GE3 Vehicles\")\n",
    "plt.show()"
   ]
  },
  {
   "cell_type": "code",
   "execution_count": 53,
   "metadata": {},
   "outputs": [
    {
     "data": {
      "image/png": "[encoded data removed]",
      "text/plain": [
       "<Figure size 1080x720 with 1 Axes>"
      ]
     },
     "metadata": {},
     "output_type": "display_data"
    }
   ],
   "source": [
    "import seaborn as sns\n",
    "sns.set(rc={\"figure.figsize\": (15, 10)})\n",
    "sns.set_context('talk')\n",
    "import matplotlib.pyplot as plt\n",
    "plt.figure()\n",
    "legend=['taxi', 'not taxi']\n",
    "colors = ['#E69F00', '#56B4E9']\n",
    "plt.yscale('log', nonposy='clip') \n",
    "plt.hist([pd1['charging_hours'], pd2['charging_hours']], color=colors, \n",
    "         bins=20, range=[0, 24], histtype='bar')\n",
    "plt.legend(legend)\n",
    "plt.ylim((0,150000))\n",
    "plt.xlabel('Charging Time (in hr)')\n",
    "plt.ylabel('log(Frequency)')\n",
    "plt.title(\"Daily Charging Hours for GE3 Vehicles\")\n",
    "plt.show()"
   ]
  },
  {
   "cell_type": "code",
   "execution_count": 56,
   "metadata": {},
   "outputs": [
    {
     "data": {
      "image/png": "[encoded data removed]",
      "text/plain": [
       "<Figure size 1080x720 with 1 Axes>"
      ]
     },
     "metadata": {},
     "output_type": "display_data"
    }
   ],
   "source": [
    "import seaborn as sns\n",
    "sns.set(rc={\"figure.figsize\": (15, 10)})\n",
    "sns.set_context('talk')\n",
    "import matplotlib.pyplot as plt\n",
    "plt.figure()\n",
    "legend=['taxi', 'not taxi']\n",
    "colors = ['#E69F00', '#56B4E9']\n",
    "plt.yscale('log', nonposy='clip') \n",
    "plt.hist([pd1['distance_driven'], pd2['distance_driven']], color=colors, \n",
    "         bins=20, range=[0, 1000], histtype='bar')\n",
    "plt.legend(legend)\n",
    "plt.ylim((0,1000000))\n",
    "plt.xlabel('Distance Driven (in km)')\n",
    "plt.ylabel('log(Frequency)')\n",
    "plt.title(\"Daily Distance Driven for GE3 Vehicles\")\n",
    "plt.show()"
   ]
  },
  {
   "cell_type": "code",
   "execution_count": null,
   "metadata": {},
   "outputs": [],
   "source": [
    "from pyspark.sql import functions as func\n",
    "df_t=df.filter(df.is_taxi==1).groupBy(\"vin\").agg(func.sum(\"distance_driven\").alias('Distance Driven'),\n",
    "    func.sum(\"driving_hours\").alias('Driving Hours'),func.sum(\"kwh_consumption\").alias('kwh consumption'),\n",
    "    func.sum(\"kwh_charged_plugin\").alias('kwh_charged_plugin'),func.sum(\"charging_hours\").alias('charging hours'),\n",
    "                                                 count(\"*\").alias(\"cnt\"))"
   ]
  },
  {
   "cell_type": "code",
   "execution_count": null,
   "metadata": {},
   "outputs": [],
   "source": [
    "df_n=df.filter(df.is_taxi==0).groupBy(\"vin\").agg(func.sum(\"distance_driven\").alias('Distance Driven'),\n",
    "    func.sum(\"driving_hours\").alias('Driving Hours'),func.sum(\"kwh_consumption\").alias('kwh consumption'),\n",
    "    func.sum(\"kwh_charged_plugin\").alias('kwh_charged_plugin'),func.sum(\"charging_hours\").alias('charging hours'),\n",
    "                                                 count(\"*\").alias(\"cnt\"))"
   ]
  },
  {
   "cell_type": "code",
   "execution_count": null,
   "metadata": {},
   "outputs": [],
   "source": [
    "df_t.show(1)"
   ]
  },
  {
   "cell_type": "code",
   "execution_count": null,
   "metadata": {},
   "outputs": [],
   "source": [
    "df_t=df_t.withColumn(\"Distance Driven\",df_t[\"Distance Driven\"]/df_t[\"cnt\"])\n",
    "df_t=df_t.withColumn(\"Driving Hours\",df_t[\"Driving Hours\"]/df_t[\"cnt\"])\n",
    "df_t=df_t.withColumn(\"kwh consumption\",df_t[\"kwh consumption\"]/df_t[\"cnt\"])\n",
    "df_t=df_t.withColumn(\"kwh_charged_plugin\",df_t[\"kwh_charged_plugin\"]/df_t[\"cnt\"])\n",
    "df_t=df_t.withColumn(\"charging hours\",df_t[\"charging hours\"]/df_t[\"cnt\"])"
   ]
  },
  {
   "cell_type": "code",
   "execution_count": null,
   "metadata": {},
   "outputs": [],
   "source": [
    "df_n.head()"
   ]
  },
  {
   "cell_type": "code",
   "execution_count": null,
   "metadata": {},
   "outputs": [],
   "source": [
    "df_n=df_n.withColumn(\"Distance Driven\",df_n[\"Distance Driven\"]/df_n[\"cnt\"])\n",
    "df_n=df_n.withColumn(\"Driving Hours\",df_n[\"Driving Hours\"]/df_n[\"cnt\"])\n",
    "df_n=df_n.withColumn(\"kwh consumption\",df_n[\"kwh consumption\"]/df_n[\"cnt\"])\n",
    "df_n=df_n.withColumn(\"kwh_charged_plugin\",df_n[\"kwh_charged_plugin\"]/df_n[\"cnt\"])\n",
    "df_n=df_n.withColumn(\"charging hours\",df_n[\"charging hours\"]/df_n[\"cnt\"])"
   ]
  },
  {
   "cell_type": "code",
   "execution_count": null,
   "metadata": {},
   "outputs": [],
   "source": [
    "pd_t = df_t.toPandas() "
   ]
  },
  {
   "cell_type": "code",
   "execution_count": null,
   "metadata": {},
   "outputs": [],
   "source": [
    "pd_n = df_n.toPandas() "
   ]
  },
  {
   "cell_type": "code",
   "execution_count": null,
   "metadata": {},
   "outputs": [],
   "source": [
    "pd_n.head()"
   ]
  },
  {
   "cell_type": "code",
   "execution_count": null,
   "metadata": {},
   "outputs": [],
   "source": [
    "pd_t.head()"
   ]
  },
  {
   "cell_type": "code",
   "execution_count": null,
   "metadata": {},
   "outputs": [],
   "source": [
    "import seaborn as sns\n",
    "sns.set(rc={\"figure.figsize\": (15, 10)})\n",
    "sns.set_context('talk')\n",
    "import matplotlib.pyplot as plt\n",
    "plt.figure()\n",
    "legend=['taxi', 'not taxi']\n",
    "colors = ['#E69F00', '#56B4E9']\n",
    "plt.hist([pd_t['Distance Driven'], pd_n['Distance Driven']], color=colors, \n",
    "         bins=20, range=[0, 500], histtype='bar')\n",
    "plt.legend(legend)\n",
    "plt.ylim((0,2000))\n",
    "plt.xlabel('Distance Driven (in km)')\n",
    "plt.ylabel('Number of Vehicles')\n",
    "plt.title(\"Average Daily Distance Driven for GE3 Vehicles\")\n",
    "plt.show()"
   ]
  },
  {
   "cell_type": "code",
   "execution_count": null,
   "metadata": {},
   "outputs": [],
   "source": [
    "import seaborn as sns\n",
    "sns.set(rc={\"figure.figsize\": (15, 10)})\n",
    "sns.set_context('talk')\n",
    "import matplotlib.pyplot as plt\n",
    "plt.figure()\n",
    "legend=['taxi', 'not taxi']\n",
    "colors = ['#E69F00', '#56B4E9']\n",
    "plt.hist([pd_t['charging hours'], pd_n['charging hours']], color=colors, \n",
    "         bins=20, range=[0, 8], histtype='bar')\n",
    "plt.legend(legend)\n",
    "plt.ylim((0,1000))\n",
    "plt.xlabel('charging time (in hr)')\n",
    "plt.ylabel('Number of Vehicles')\n",
    "plt.title(\"Average Daily Charging Hours for GE3 Vehicles\")\n",
    "plt.show()"
   ]
  },
  {
   "cell_type": "code",
   "execution_count": null,
   "metadata": {},
   "outputs": [],
   "source": [
    "import seaborn as sns\n",
    "sns.set(rc={\"figure.figsize\": (15, 10)})\n",
    "sns.set_context('talk')\n",
    "import matplotlib.pyplot as plt\n",
    "plt.figure()\n",
    "legend=['taxi', 'not taxi']\n",
    "colors = ['#E69F00', '#56B4E9']\n",
    "plt.hist([pd_t['Driving Hours'], pd_n['Driving Hours']], color=colors, \n",
    "         bins=20, range=[0, 15], histtype='bar')\n",
    "plt.legend(legend)\n",
    "plt.ylim((0,2000))\n",
    "plt.xlabel('Driving Hours (in hr)')\n",
    "plt.ylabel('Number of Vehicles')\n",
    "plt.title(\"Average Daily Driving Hours for GE3 Vehicles\")\n",
    "plt.show()"
   ]
  },
  {
   "cell_type": "code",
   "execution_count": null,
   "metadata": {},
   "outputs": [],
   "source": [
    "import seaborn as sns\n",
    "sns.set(rc={\"figure.figsize\": (15, 10)})\n",
    "sns.set_context('talk')\n",
    "import matplotlib.pyplot as plt\n",
    "plt.figure()\n",
    "legend=['taxi', 'not taxi']\n",
    "colors = ['#E69F00', '#56B4E9']\n",
    "plt.hist([pd_t['kwh consumption'], pd_n['kwh consumption']], color=colors, \n",
    "         bins=20, range=[0, 70], histtype='bar')\n",
    "plt.legend(legend)\n",
    "plt.ylim((0,1600))\n",
    "plt.xlabel('energy consumption (in kwh)')\n",
    "plt.ylabel('Number of Vehicles')\n",
    "plt.title(\"Average Daily Energy Consumption for GE3 Vehicles\")\n",
    "plt.show()"
   ]
  },
  {
   "cell_type": "code",
   "execution_count": null,
   "metadata": {},
   "outputs": [],
   "source": [
    "import seaborn as sns\n",
    "sns.set(rc={\"figure.figsize\": (15, 10)})\n",
    "sns.set_context('talk')\n",
    "import matplotlib.pyplot as plt\n",
    "plt.figure()\n",
    "legend=['taxi', 'not taxi']\n",
    "colors = ['#E69F00', '#56B4E9']\n",
    "plt.hist([pd_t['kwh_charged_plugin'], pd_n['kwh_charged_plugin']], color=colors, \n",
    "         bins=20, range=[0, 70], histtype='bar')\n",
    "plt.legend(legend)\n",
    "plt.ylim((0,1600))\n",
    "plt.xlabel('Daily Charge (in kwh)')\n",
    "plt.ylabel('Number of Vehicles')\n",
    "plt.title(\"Average Daily Charge for GE3 Vehicles\")\n",
    "plt.show()"
   ]
  },
  {
   "cell_type": "code",
   "execution_count": null,
   "metadata": {},
   "outputs": [],
   "source": []
  }
 ],
 "metadata": {
  "kernelspec": {
   "display_name": "Python 2",
   "language": "python",
   "name": "python2"
  },
  "language_info": {
   "codemirror_mode": {
    "name": "ipython",
    "version": 2
   },
   "file_extension": ".py",
   "mimetype": "text/x-python",
   "name": "python",
   "nbconvert_exporter": "python",
   "pygments_lexer": "ipython2",
   "version": "2.7.5"
  }
 },
 "nbformat": 4,
 "nbformat_minor": 2
}
